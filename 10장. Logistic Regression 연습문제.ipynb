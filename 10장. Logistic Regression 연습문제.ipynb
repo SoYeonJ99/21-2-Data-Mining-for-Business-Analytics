{
 "cells": [
  {
   "cell_type": "code",
   "execution_count": 1,
   "metadata": {},
   "outputs": [],
   "source": [
    "%matplotlib inline\n",
    "\n",
    "from pathlib import Path\n",
    "\n",
    "import numpy as np\n",
    "import pandas as pd\n",
    "from sklearn.linear_model import LogisticRegression, LogisticRegressionCV\n",
    "from sklearn.model_selection import train_test_split\n",
    "import statsmodels.api as sm\n",
    "from mord import LogisticIT\n",
    "import matplotlib.pylab as plt\n",
    "import seaborn as sns\n",
    "from dmba import classificationSummary, gainsChart, liftChart\n",
    "from dmba.metric import AIC_score\n"
   ]
  },
  {
   "cell_type": "markdown",
   "metadata": {},
   "source": [
    "## 10.1"
   ]
  },
  {
   "cell_type": "code",
   "execution_count": 7,
   "metadata": {},
   "outputs": [],
   "source": [
    "bank_df = pd.read_csv('D:/숙탯 2기/dmba-datasets/banks.csv')\n",
    "bank_df.columns = [c.replace(' ', '_') for c in bank_df.columns]"
   ]
  },
  {
   "cell_type": "code",
   "execution_count": 8,
   "metadata": {},
   "outputs": [
    {
     "data": {
      "text/html": [
       "<div>\n",
       "<style scoped>\n",
       "    .dataframe tbody tr th:only-of-type {\n",
       "        vertical-align: middle;\n",
       "    }\n",
       "\n",
       "    .dataframe tbody tr th {\n",
       "        vertical-align: top;\n",
       "    }\n",
       "\n",
       "    .dataframe thead th {\n",
       "        text-align: right;\n",
       "    }\n",
       "</style>\n",
       "<table border=\"1\" class=\"dataframe\">\n",
       "  <thead>\n",
       "    <tr style=\"text-align: right;\">\n",
       "      <th></th>\n",
       "      <th>Obs</th>\n",
       "      <th>Financial_Condition</th>\n",
       "      <th>TotCap/Assets</th>\n",
       "      <th>TotExp/Assets</th>\n",
       "      <th>TotLns&amp;Lses/Assets</th>\n",
       "    </tr>\n",
       "  </thead>\n",
       "  <tbody>\n",
       "    <tr>\n",
       "      <th>0</th>\n",
       "      <td>1</td>\n",
       "      <td>1</td>\n",
       "      <td>9.7</td>\n",
       "      <td>0.12</td>\n",
       "      <td>0.65</td>\n",
       "    </tr>\n",
       "    <tr>\n",
       "      <th>1</th>\n",
       "      <td>2</td>\n",
       "      <td>1</td>\n",
       "      <td>1.0</td>\n",
       "      <td>0.11</td>\n",
       "      <td>0.62</td>\n",
       "    </tr>\n",
       "    <tr>\n",
       "      <th>2</th>\n",
       "      <td>3</td>\n",
       "      <td>1</td>\n",
       "      <td>6.9</td>\n",
       "      <td>0.09</td>\n",
       "      <td>1.02</td>\n",
       "    </tr>\n",
       "    <tr>\n",
       "      <th>3</th>\n",
       "      <td>4</td>\n",
       "      <td>1</td>\n",
       "      <td>5.8</td>\n",
       "      <td>0.10</td>\n",
       "      <td>0.67</td>\n",
       "    </tr>\n",
       "    <tr>\n",
       "      <th>4</th>\n",
       "      <td>5</td>\n",
       "      <td>1</td>\n",
       "      <td>4.3</td>\n",
       "      <td>0.11</td>\n",
       "      <td>0.69</td>\n",
       "    </tr>\n",
       "    <tr>\n",
       "      <th>5</th>\n",
       "      <td>6</td>\n",
       "      <td>1</td>\n",
       "      <td>9.1</td>\n",
       "      <td>0.13</td>\n",
       "      <td>0.74</td>\n",
       "    </tr>\n",
       "    <tr>\n",
       "      <th>6</th>\n",
       "      <td>7</td>\n",
       "      <td>1</td>\n",
       "      <td>11.9</td>\n",
       "      <td>0.10</td>\n",
       "      <td>0.79</td>\n",
       "    </tr>\n",
       "    <tr>\n",
       "      <th>7</th>\n",
       "      <td>8</td>\n",
       "      <td>1</td>\n",
       "      <td>8.1</td>\n",
       "      <td>0.13</td>\n",
       "      <td>0.63</td>\n",
       "    </tr>\n",
       "    <tr>\n",
       "      <th>8</th>\n",
       "      <td>9</td>\n",
       "      <td>1</td>\n",
       "      <td>9.3</td>\n",
       "      <td>0.16</td>\n",
       "      <td>0.72</td>\n",
       "    </tr>\n",
       "    <tr>\n",
       "      <th>9</th>\n",
       "      <td>10</td>\n",
       "      <td>1</td>\n",
       "      <td>1.1</td>\n",
       "      <td>0.16</td>\n",
       "      <td>0.57</td>\n",
       "    </tr>\n",
       "    <tr>\n",
       "      <th>10</th>\n",
       "      <td>11</td>\n",
       "      <td>0</td>\n",
       "      <td>11.1</td>\n",
       "      <td>0.08</td>\n",
       "      <td>0.43</td>\n",
       "    </tr>\n",
       "    <tr>\n",
       "      <th>11</th>\n",
       "      <td>12</td>\n",
       "      <td>0</td>\n",
       "      <td>20.5</td>\n",
       "      <td>0.12</td>\n",
       "      <td>0.80</td>\n",
       "    </tr>\n",
       "    <tr>\n",
       "      <th>12</th>\n",
       "      <td>13</td>\n",
       "      <td>0</td>\n",
       "      <td>9.8</td>\n",
       "      <td>0.07</td>\n",
       "      <td>0.69</td>\n",
       "    </tr>\n",
       "    <tr>\n",
       "      <th>13</th>\n",
       "      <td>14</td>\n",
       "      <td>0</td>\n",
       "      <td>7.9</td>\n",
       "      <td>0.08</td>\n",
       "      <td>0.53</td>\n",
       "    </tr>\n",
       "    <tr>\n",
       "      <th>14</th>\n",
       "      <td>15</td>\n",
       "      <td>0</td>\n",
       "      <td>9.6</td>\n",
       "      <td>0.09</td>\n",
       "      <td>0.73</td>\n",
       "    </tr>\n",
       "    <tr>\n",
       "      <th>15</th>\n",
       "      <td>16</td>\n",
       "      <td>0</td>\n",
       "      <td>12.5</td>\n",
       "      <td>0.09</td>\n",
       "      <td>0.30</td>\n",
       "    </tr>\n",
       "    <tr>\n",
       "      <th>16</th>\n",
       "      <td>17</td>\n",
       "      <td>0</td>\n",
       "      <td>18.3</td>\n",
       "      <td>0.08</td>\n",
       "      <td>0.49</td>\n",
       "    </tr>\n",
       "    <tr>\n",
       "      <th>17</th>\n",
       "      <td>18</td>\n",
       "      <td>0</td>\n",
       "      <td>7.2</td>\n",
       "      <td>0.11</td>\n",
       "      <td>0.55</td>\n",
       "    </tr>\n",
       "    <tr>\n",
       "      <th>18</th>\n",
       "      <td>19</td>\n",
       "      <td>0</td>\n",
       "      <td>14.0</td>\n",
       "      <td>0.08</td>\n",
       "      <td>0.44</td>\n",
       "    </tr>\n",
       "    <tr>\n",
       "      <th>19</th>\n",
       "      <td>20</td>\n",
       "      <td>0</td>\n",
       "      <td>8.3</td>\n",
       "      <td>0.08</td>\n",
       "      <td>0.51</td>\n",
       "    </tr>\n",
       "  </tbody>\n",
       "</table>\n",
       "</div>"
      ],
      "text/plain": [
       "    Obs  Financial_Condition  TotCap/Assets  TotExp/Assets  TotLns&Lses/Assets\n",
       "0     1                    1            9.7           0.12                0.65\n",
       "1     2                    1            1.0           0.11                0.62\n",
       "2     3                    1            6.9           0.09                1.02\n",
       "3     4                    1            5.8           0.10                0.67\n",
       "4     5                    1            4.3           0.11                0.69\n",
       "5     6                    1            9.1           0.13                0.74\n",
       "6     7                    1           11.9           0.10                0.79\n",
       "7     8                    1            8.1           0.13                0.63\n",
       "8     9                    1            9.3           0.16                0.72\n",
       "9    10                    1            1.1           0.16                0.57\n",
       "10   11                    0           11.1           0.08                0.43\n",
       "11   12                    0           20.5           0.12                0.80\n",
       "12   13                    0            9.8           0.07                0.69\n",
       "13   14                    0            7.9           0.08                0.53\n",
       "14   15                    0            9.6           0.09                0.73\n",
       "15   16                    0           12.5           0.09                0.30\n",
       "16   17                    0           18.3           0.08                0.49\n",
       "17   18                    0            7.2           0.11                0.55\n",
       "18   19                    0           14.0           0.08                0.44\n",
       "19   20                    0            8.3           0.08                0.51"
      ]
     },
     "execution_count": 8,
     "metadata": {},
     "output_type": "execute_result"
    }
   ],
   "source": [
    "bank_df"
   ]
  },
  {
   "cell_type": "code",
   "execution_count": 9,
   "metadata": {},
   "outputs": [
    {
     "name": "stdout",
     "output_type": "stream",
     "text": [
      "intercept  -1115.834670153129\n",
      "             TotLns&Lses/Assets  TotExp/Assets\n",
      "coefficient         -922.752711   15397.963729\n",
      "\n",
      "AIC 26.942987497308877\n"
     ]
    }
   ],
   "source": [
    "predictors = ['TotLns&Lses/Assets', 'TotExp/Assets']\n",
    "outcome = 'Financial_Condition'\n",
    "\n",
    "y = bank_df[outcome]\n",
    "X = bank_df[predictors]\n",
    "\n",
    "train_X, valid_X, train_y, valid_y = train_test_split(X, y, test_size=0.4, random_state=1)\n",
    "\n",
    "logit_reg = LogisticRegression(penalty=\"l2\", C=1e42, solver='liblinear')\n",
    "logit_reg.fit(train_X, train_y)\n",
    "\n",
    "print('intercept ', logit_reg.intercept_[0])\n",
    "print(pd.DataFrame({'coefficient': logit_reg.coef_[0]}, index=X.columns).transpose())\n",
    "print()\n",
    "print('AIC', AIC_score(valid_y, logit_reg.predict(valid_X), df = len(train_X.columns) + 1))"
   ]
  },
  {
   "cell_type": "markdown",
   "metadata": {},
   "source": [
    "### a."
   ]
  },
  {
   "cell_type": "markdown",
   "metadata": {},
   "source": [
    "i. 로짓 = -1115.834670153129 + -922.752711*TotLns&Lses/Assets + 15397.963729*TotExp/Assets"
   ]
  },
  {
   "cell_type": "markdown",
   "metadata": {},
   "source": [
    "ii. 오즈 = e^로짓"
   ]
  },
  {
   "cell_type": "markdown",
   "metadata": {},
   "source": [
    "iii. p = 1 / {1+e^(-로짓)} = 오즈/(1+오즈)"
   ]
  },
  {
   "cell_type": "markdown",
   "metadata": {},
   "source": [
    "### b."
   ]
  },
  {
   "cell_type": "code",
   "execution_count": 17,
   "metadata": {},
   "outputs": [
    {
     "data": {
      "text/plain": [
       "24.2897"
      ]
     },
     "execution_count": 17,
     "metadata": {},
     "output_type": "execute_result"
    }
   ],
   "source": [
    "# 로짓\n",
    "round(-1115.834670153129 + -922.752711*0.6 + 15397.963729*0.11, 4)"
   ]
  },
  {
   "cell_type": "code",
   "execution_count": 18,
   "metadata": {},
   "outputs": [
    {
     "data": {
      "text/plain": [
       "35390647839.9497"
      ]
     },
     "execution_count": 18,
     "metadata": {},
     "output_type": "execute_result"
    }
   ],
   "source": [
    "# 오즈\n",
    "round(np.exp(-1115.834670153129 + -922.752711*0.6 + 15397.963729*0.11), 4)"
   ]
  },
  {
   "cell_type": "code",
   "execution_count": 22,
   "metadata": {},
   "outputs": [
    {
     "data": {
      "text/plain": [
       "1.0"
      ]
     },
     "execution_count": 22,
     "metadata": {},
     "output_type": "execute_result"
    }
   ],
   "source": [
    "# 확률\n",
    "round(np.exp(-1115.834670153129 + -922.752711*0.6 + 15397.963729*0.11) /\n",
    "      (1 + np.exp(-1115.834670153129 + -922.752711*0.6 + 15397.963729*0.11)), 4)"
   ]
  },
  {
   "cell_type": "markdown",
   "metadata": {},
   "source": [
    "확률>0.5이므로 클래스 1에 속함"
   ]
  },
  {
   "cell_type": "markdown",
   "metadata": {},
   "source": [
    "### c."
   ]
  },
  {
   "cell_type": "code",
   "execution_count": 23,
   "metadata": {},
   "outputs": [
    {
     "data": {
      "text/plain": [
       "1.0"
      ]
     },
     "execution_count": 23,
     "metadata": {},
     "output_type": "execute_result"
    }
   ],
   "source": [
    "# 오즈의 임계값\n",
    "0.5/(1-0.5)"
   ]
  },
  {
   "cell_type": "code",
   "execution_count": 25,
   "metadata": {},
   "outputs": [
    {
     "data": {
      "text/plain": [
       "0.0"
      ]
     },
     "execution_count": 25,
     "metadata": {},
     "output_type": "execute_result"
    }
   ],
   "source": [
    "# 로짓의 임계값\n",
    "np.log(1.0)"
   ]
  },
  {
   "cell_type": "markdown",
   "metadata": {},
   "source": [
    "### d."
   ]
  },
  {
   "cell_type": "markdown",
   "metadata": {},
   "source": [
    "TotLns&Lses/Assets이 한 단위 증가하면 재정적으로 약할 오즈가 e^(-922.752711)만큼 감소한다."
   ]
  },
  {
   "cell_type": "markdown",
   "metadata": {},
   "source": [
    "### e."
   ]
  },
  {
   "cell_type": "code",
   "execution_count": 27,
   "metadata": {},
   "outputs": [
    {
     "name": "stdout",
     "output_type": "stream",
     "text": [
      "Confusion Matrix (Accuracy 1.0000)\n",
      "\n",
      "       Prediction\n",
      "Actual 0 1\n",
      "     0 6 0\n",
      "     1 0 6\n",
      "Confusion Matrix (Accuracy 0.3750)\n",
      "\n",
      "       Prediction\n",
      "Actual 0 1\n",
      "     0 3 1\n",
      "     1 4 0\n"
     ]
    }
   ],
   "source": [
    "classificationSummary(train_y, logit_reg.predict(train_X))\n",
    "classificationSummary(valid_y, logit_reg.predict(valid_X))"
   ]
  },
  {
   "cell_type": "markdown",
   "metadata": {},
   "source": [
    "재정상태가 열악한 은행이 파산할 경우 매우 큰 손실이 발생하므로 재정상태가 열악한 은행에 대한 분류의 정확도를 높여야 오분류 비용이 감소한다.  \n",
    "따라서 컷오프 값을 증가시켜야 한다."
   ]
  },
  {
   "cell_type": "markdown",
   "metadata": {},
   "source": [
    "## 10.2"
   ]
  },
  {
   "cell_type": "code",
   "execution_count": 56,
   "metadata": {},
   "outputs": [
    {
     "data": {
      "text/html": [
       "<div>\n",
       "<style scoped>\n",
       "    .dataframe tbody tr th:only-of-type {\n",
       "        vertical-align: middle;\n",
       "    }\n",
       "\n",
       "    .dataframe tbody tr th {\n",
       "        vertical-align: top;\n",
       "    }\n",
       "\n",
       "    .dataframe thead th {\n",
       "        text-align: right;\n",
       "    }\n",
       "</style>\n",
       "<table border=\"1\" class=\"dataframe\">\n",
       "  <thead>\n",
       "    <tr style=\"text-align: right;\">\n",
       "      <th></th>\n",
       "      <th>Experience</th>\n",
       "      <th>Training</th>\n",
       "      <th>Completed_task</th>\n",
       "    </tr>\n",
       "  </thead>\n",
       "  <tbody>\n",
       "    <tr>\n",
       "      <th>0</th>\n",
       "      <td>10.9</td>\n",
       "      <td>4</td>\n",
       "      <td>Yes</td>\n",
       "    </tr>\n",
       "    <tr>\n",
       "      <th>1</th>\n",
       "      <td>9.9</td>\n",
       "      <td>4</td>\n",
       "      <td>Yes</td>\n",
       "    </tr>\n",
       "    <tr>\n",
       "      <th>2</th>\n",
       "      <td>10.4</td>\n",
       "      <td>6</td>\n",
       "      <td>Yes</td>\n",
       "    </tr>\n",
       "    <tr>\n",
       "      <th>3</th>\n",
       "      <td>13.7</td>\n",
       "      <td>6</td>\n",
       "      <td>Yes</td>\n",
       "    </tr>\n",
       "    <tr>\n",
       "      <th>4</th>\n",
       "      <td>9.4</td>\n",
       "      <td>8</td>\n",
       "      <td>Yes</td>\n",
       "    </tr>\n",
       "    <tr>\n",
       "      <th>...</th>\n",
       "      <td>...</td>\n",
       "      <td>...</td>\n",
       "      <td>...</td>\n",
       "    </tr>\n",
       "    <tr>\n",
       "      <th>70</th>\n",
       "      <td>5.6</td>\n",
       "      <td>4</td>\n",
       "      <td>No</td>\n",
       "    </tr>\n",
       "    <tr>\n",
       "      <th>71</th>\n",
       "      <td>5.9</td>\n",
       "      <td>8</td>\n",
       "      <td>No</td>\n",
       "    </tr>\n",
       "    <tr>\n",
       "      <th>72</th>\n",
       "      <td>6.4</td>\n",
       "      <td>6</td>\n",
       "      <td>No</td>\n",
       "    </tr>\n",
       "    <tr>\n",
       "      <th>73</th>\n",
       "      <td>3.8</td>\n",
       "      <td>4</td>\n",
       "      <td>No</td>\n",
       "    </tr>\n",
       "    <tr>\n",
       "      <th>74</th>\n",
       "      <td>5.3</td>\n",
       "      <td>4</td>\n",
       "      <td>No</td>\n",
       "    </tr>\n",
       "  </tbody>\n",
       "</table>\n",
       "<p>75 rows × 3 columns</p>\n",
       "</div>"
      ],
      "text/plain": [
       "    Experience  Training Completed_task\n",
       "0         10.9         4            Yes\n",
       "1          9.9         4            Yes\n",
       "2         10.4         6            Yes\n",
       "3         13.7         6            Yes\n",
       "4          9.4         8            Yes\n",
       "..         ...       ...            ...\n",
       "70         5.6         4             No\n",
       "71         5.9         8             No\n",
       "72         6.4         6             No\n",
       "73         3.8         4             No\n",
       "74         5.3         4             No\n",
       "\n",
       "[75 rows x 3 columns]"
      ]
     },
     "execution_count": 56,
     "metadata": {},
     "output_type": "execute_result"
    }
   ],
   "source": [
    "admst_df = pd.read_csv('D:/숙탯 2기/dmba-datasets/SystemAdministrators.csv')\n",
    "admst_df.columns = [c.replace(' ', '_') for c in admst_df.columns]\n",
    "admst_df"
   ]
  },
  {
   "cell_type": "markdown",
   "metadata": {},
   "source": [
    "### a."
   ]
  },
  {
   "cell_type": "code",
   "execution_count": 33,
   "metadata": {},
   "outputs": [
    {
     "data": {
      "text/plain": [
       "<AxesSubplot:xlabel='Experience', ylabel='Training'>"
      ]
     },
     "execution_count": 33,
     "metadata": {},
     "output_type": "execute_result"
    },
    {
     "data": {
      "image/png": "[encoded data removed]",
      "text/plain": [
       "<Figure size 432x288 with 1 Axes>"
      ]
     },
     "metadata": {
      "needs_background": "light"
     },
     "output_type": "display_data"
    }
   ],
   "source": [
    "admst_df.plot.scatter(x='Experience', y='Training', c=['C0' if c == 'Yes' else 'C1' for c in admst_df.Completed_task])"
   ]
  },
  {
   "cell_type": "code",
   "execution_count": 57,
   "metadata": {},
   "outputs": [
    {
     "data": {
      "image/png": "[encoded data removed]",
      "text/plain": [
       "<Figure size 432x288 with 1 Axes>"
      ]
     },
     "metadata": {
      "needs_background": "light"
     },
     "output_type": "display_data"
    }
   ],
   "source": [
    "_, ax = plt.subplots()\n",
    "for completedValue, color in ('Yes', 'C0'), ('No', 'C1'):\n",
    "    subset_df = admst_df[admst_df.Completed_task == completedValue]\n",
    "    ax.scatter(subset_df.Experience, subset_df.Training, color='none', edgecolor=color)\n",
    "ax.set_xlabel('Experience')\n",
    "ax.set_ylabel('Training')\n",
    "ax.legend([\"Completed task : Yes\", \"Completed task : No\"])\n",
    "\n",
    "plt.show()"
   ]
  },
  {
   "cell_type": "markdown",
   "metadata": {},
   "source": [
    "경험이 많을수록 주로 시간 내에 완료하고 경험이 적을수록 대체로 시간 내에 완료하지 못하는 것으로 나타나므로 Experience 변수가 유용하다.  \n",
    "Training 변수로는 딱히 분류되지 않음."
   ]
  },
  {
   "cell_type": "markdown",
   "metadata": {},
   "source": [
    "### b."
   ]
  },
  {
   "cell_type": "code",
   "execution_count": 42,
   "metadata": {},
   "outputs": [
    {
     "name": "stdout",
     "output_type": "stream",
     "text": [
      "intercept  -15.646119443605366\n",
      "             Experience  Training\n",
      "coefficient    1.835234  0.118728\n",
      "\n",
      "AIC 24.058759202458987\n"
     ]
    }
   ],
   "source": [
    "change_value_dict = {'No':0, 'Yes':1}\n",
    "admst_df.replace({'Completed_task':change_value_dict}, inplace=True)\n",
    "\n",
    "predictors = ['Experience', 'Training']\n",
    "outcome = 'Completed_task'\n",
    "\n",
    "X = admst_df[predictors]\n",
    "y = admst_df[outcome]\n",
    "\n",
    "\n",
    "train_X, valid_X, train_y, valid_y = train_test_split(X, y, test_size=0.4, random_state=1)\n",
    "\n",
    "logit_reg = LogisticRegression(penalty=\"l2\", C=1e42, solver='liblinear')\n",
    "logit_reg.fit(train_X, train_y)\n",
    "\n",
    "print('intercept ', logit_reg.intercept_[0])\n",
    "print(pd.DataFrame({'coefficient': logit_reg.coef_[0]}, index=X.columns).transpose())\n",
    "print()\n",
    "print('AIC', AIC_score(valid_y, logit_reg.predict(valid_X), df = len(train_X.columns) + 1))"
   ]
  },
  {
   "cell_type": "code",
   "execution_count": 43,
   "metadata": {},
   "outputs": [
    {
     "name": "stdout",
     "output_type": "stream",
     "text": [
      "Confusion Matrix (Accuracy 0.9111)\n",
      "\n",
      "       Prediction\n",
      "Actual  0  1\n",
      "     0 31  1\n",
      "     1  3 10\n"
     ]
    }
   ],
   "source": [
    "classificationSummary(train_y, logit_reg.predict(train_X))"
   ]
  },
  {
   "cell_type": "code",
   "execution_count": 45,
   "metadata": {},
   "outputs": [
    {
     "data": {
      "text/plain": [
       "0.23076923076923078"
      ]
     },
     "execution_count": 45,
     "metadata": {},
     "output_type": "execute_result"
    }
   ],
   "source": [
    "3/13"
   ]
  },
  {
   "cell_type": "markdown",
   "metadata": {},
   "source": [
    "약 23% 오분류되었다."
   ]
  },
  {
   "cell_type": "markdown",
   "metadata": {},
   "source": [
    "### c."
   ]
  },
  {
   "cell_type": "markdown",
   "metadata": {},
   "source": [
    "컷오프값을 증가시켜야 업무를 완료했다고 분류되는 관리자의 비율이 높아진다(=업무 완료 클래스에 대한 오분류율이 감소한다.)"
   ]
  },
  {
   "cell_type": "markdown",
   "metadata": {},
   "source": [
    "### d."
   ]
  },
  {
   "cell_type": "markdown",
   "metadata": {},
   "source": [
    "p > 0.5  \n",
    "<=> Odds > 1.0  \n",
    "<=> log(Odds) > 0  \n",
    "<=> -15.646119443605366 + 1.835234*x + 0.118728 ** 4 > 0"
   ]
  },
  {
   "cell_type": "code",
   "execution_count": 47,
   "metadata": {},
   "outputs": [
    {
     "data": {
      "text/plain": [
       "8.266633815418288"
      ]
     },
     "execution_count": 47,
     "metadata": {},
     "output_type": "execute_result"
    }
   ],
   "source": [
    "(15.646119443605366 - 0.118728 * 4)/1.835234"
   ]
  },
  {
   "cell_type": "markdown",
   "metadata": {},
   "source": [
    "약 8.3주 이상의 경험이 필요"
   ]
  },
  {
   "cell_type": "markdown",
   "metadata": {},
   "source": [
    "## 10.3"
   ]
  },
  {
   "cell_type": "code",
   "execution_count": 71,
   "metadata": {},
   "outputs": [
    {
     "data": {
      "text/html": [
       "<div>\n",
       "<style scoped>\n",
       "    .dataframe tbody tr th:only-of-type {\n",
       "        vertical-align: middle;\n",
       "    }\n",
       "\n",
       "    .dataframe tbody tr th {\n",
       "        vertical-align: top;\n",
       "    }\n",
       "\n",
       "    .dataframe thead th {\n",
       "        text-align: right;\n",
       "    }\n",
       "</style>\n",
       "<table border=\"1\" class=\"dataframe\">\n",
       "  <thead>\n",
       "    <tr style=\"text-align: right;\">\n",
       "      <th></th>\n",
       "      <th>Income</th>\n",
       "      <th>Lot_Size</th>\n",
       "      <th>Ownership</th>\n",
       "    </tr>\n",
       "  </thead>\n",
       "  <tbody>\n",
       "    <tr>\n",
       "      <th>0</th>\n",
       "      <td>60.0</td>\n",
       "      <td>18.4</td>\n",
       "      <td>Owner</td>\n",
       "    </tr>\n",
       "    <tr>\n",
       "      <th>1</th>\n",
       "      <td>85.5</td>\n",
       "      <td>16.8</td>\n",
       "      <td>Owner</td>\n",
       "    </tr>\n",
       "    <tr>\n",
       "      <th>2</th>\n",
       "      <td>64.8</td>\n",
       "      <td>21.6</td>\n",
       "      <td>Owner</td>\n",
       "    </tr>\n",
       "    <tr>\n",
       "      <th>3</th>\n",
       "      <td>61.5</td>\n",
       "      <td>20.8</td>\n",
       "      <td>Owner</td>\n",
       "    </tr>\n",
       "    <tr>\n",
       "      <th>4</th>\n",
       "      <td>87.0</td>\n",
       "      <td>23.6</td>\n",
       "      <td>Owner</td>\n",
       "    </tr>\n",
       "    <tr>\n",
       "      <th>5</th>\n",
       "      <td>110.1</td>\n",
       "      <td>19.2</td>\n",
       "      <td>Owner</td>\n",
       "    </tr>\n",
       "    <tr>\n",
       "      <th>6</th>\n",
       "      <td>108.0</td>\n",
       "      <td>17.6</td>\n",
       "      <td>Owner</td>\n",
       "    </tr>\n",
       "    <tr>\n",
       "      <th>7</th>\n",
       "      <td>82.8</td>\n",
       "      <td>22.4</td>\n",
       "      <td>Owner</td>\n",
       "    </tr>\n",
       "    <tr>\n",
       "      <th>8</th>\n",
       "      <td>69.0</td>\n",
       "      <td>20.0</td>\n",
       "      <td>Owner</td>\n",
       "    </tr>\n",
       "    <tr>\n",
       "      <th>9</th>\n",
       "      <td>93.0</td>\n",
       "      <td>20.8</td>\n",
       "      <td>Owner</td>\n",
       "    </tr>\n",
       "    <tr>\n",
       "      <th>10</th>\n",
       "      <td>51.0</td>\n",
       "      <td>22.0</td>\n",
       "      <td>Owner</td>\n",
       "    </tr>\n",
       "    <tr>\n",
       "      <th>11</th>\n",
       "      <td>81.0</td>\n",
       "      <td>20.0</td>\n",
       "      <td>Owner</td>\n",
       "    </tr>\n",
       "    <tr>\n",
       "      <th>12</th>\n",
       "      <td>75.0</td>\n",
       "      <td>19.6</td>\n",
       "      <td>Nonowner</td>\n",
       "    </tr>\n",
       "    <tr>\n",
       "      <th>13</th>\n",
       "      <td>52.8</td>\n",
       "      <td>20.8</td>\n",
       "      <td>Nonowner</td>\n",
       "    </tr>\n",
       "    <tr>\n",
       "      <th>14</th>\n",
       "      <td>64.8</td>\n",
       "      <td>17.2</td>\n",
       "      <td>Nonowner</td>\n",
       "    </tr>\n",
       "    <tr>\n",
       "      <th>15</th>\n",
       "      <td>43.2</td>\n",
       "      <td>20.4</td>\n",
       "      <td>Nonowner</td>\n",
       "    </tr>\n",
       "    <tr>\n",
       "      <th>16</th>\n",
       "      <td>84.0</td>\n",
       "      <td>17.6</td>\n",
       "      <td>Nonowner</td>\n",
       "    </tr>\n",
       "    <tr>\n",
       "      <th>17</th>\n",
       "      <td>49.2</td>\n",
       "      <td>17.6</td>\n",
       "      <td>Nonowner</td>\n",
       "    </tr>\n",
       "    <tr>\n",
       "      <th>18</th>\n",
       "      <td>59.4</td>\n",
       "      <td>16.0</td>\n",
       "      <td>Nonowner</td>\n",
       "    </tr>\n",
       "    <tr>\n",
       "      <th>19</th>\n",
       "      <td>66.0</td>\n",
       "      <td>18.4</td>\n",
       "      <td>Nonowner</td>\n",
       "    </tr>\n",
       "    <tr>\n",
       "      <th>20</th>\n",
       "      <td>47.4</td>\n",
       "      <td>16.4</td>\n",
       "      <td>Nonowner</td>\n",
       "    </tr>\n",
       "    <tr>\n",
       "      <th>21</th>\n",
       "      <td>33.0</td>\n",
       "      <td>18.8</td>\n",
       "      <td>Nonowner</td>\n",
       "    </tr>\n",
       "    <tr>\n",
       "      <th>22</th>\n",
       "      <td>51.0</td>\n",
       "      <td>14.0</td>\n",
       "      <td>Nonowner</td>\n",
       "    </tr>\n",
       "    <tr>\n",
       "      <th>23</th>\n",
       "      <td>63.0</td>\n",
       "      <td>14.8</td>\n",
       "      <td>Nonowner</td>\n",
       "    </tr>\n",
       "  </tbody>\n",
       "</table>\n",
       "</div>"
      ],
      "text/plain": [
       "    Income  Lot_Size Ownership\n",
       "0     60.0      18.4     Owner\n",
       "1     85.5      16.8     Owner\n",
       "2     64.8      21.6     Owner\n",
       "3     61.5      20.8     Owner\n",
       "4     87.0      23.6     Owner\n",
       "5    110.1      19.2     Owner\n",
       "6    108.0      17.6     Owner\n",
       "7     82.8      22.4     Owner\n",
       "8     69.0      20.0     Owner\n",
       "9     93.0      20.8     Owner\n",
       "10    51.0      22.0     Owner\n",
       "11    81.0      20.0     Owner\n",
       "12    75.0      19.6  Nonowner\n",
       "13    52.8      20.8  Nonowner\n",
       "14    64.8      17.2  Nonowner\n",
       "15    43.2      20.4  Nonowner\n",
       "16    84.0      17.6  Nonowner\n",
       "17    49.2      17.6  Nonowner\n",
       "18    59.4      16.0  Nonowner\n",
       "19    66.0      18.4  Nonowner\n",
       "20    47.4      16.4  Nonowner\n",
       "21    33.0      18.8  Nonowner\n",
       "22    51.0      14.0  Nonowner\n",
       "23    63.0      14.8  Nonowner"
      ]
     },
     "execution_count": 71,
     "metadata": {},
     "output_type": "execute_result"
    }
   ],
   "source": [
    "mowers_df = pd.read_csv('D:/숙탯 2기/dmba-datasets/RidingMowers.csv')\n",
    "mowers_df"
   ]
  },
  {
   "cell_type": "markdown",
   "metadata": {},
   "source": [
    "### a."
   ]
  },
  {
   "cell_type": "code",
   "execution_count": 64,
   "metadata": {},
   "outputs": [
    {
     "data": {
      "text/plain": [
       "Ownership\n",
       "Nonowner    12\n",
       "Owner       12\n",
       "dtype: int64"
      ]
     },
     "execution_count": 64,
     "metadata": {},
     "output_type": "execute_result"
    }
   ],
   "source": [
    "mowers_df.groupby('Ownership').size()"
   ]
  },
  {
   "cell_type": "markdown",
   "metadata": {},
   "source": [
    "50%"
   ]
  },
  {
   "cell_type": "markdown",
   "metadata": {},
   "source": [
    "### b."
   ]
  },
  {
   "cell_type": "code",
   "execution_count": 77,
   "metadata": {},
   "outputs": [
    {
     "data": {
      "text/plain": [
       "68.4375"
      ]
     },
     "execution_count": 77,
     "metadata": {},
     "output_type": "execute_result"
    }
   ],
   "source": [
    "mowers_df.Income.mean()"
   ]
  },
  {
   "cell_type": "code",
   "execution_count": 76,
   "metadata": {},
   "outputs": [
    {
     "data": {
      "image/png": "[encoded data removed]",
      "text/plain": [
       "<Figure size 432x288 with 1 Axes>"
      ]
     },
     "metadata": {
      "needs_background": "light"
     },
     "output_type": "display_data"
    }
   ],
   "source": [
    "_, ax = plt.subplots()\n",
    "for ownershipValue, color in ('Owner', 'C1'), ('Nonowner', 'C0'):\n",
    "    subset_df = mowers_df[mowers_df.Ownership == ownershipValue]\n",
    "    ax.scatter(subset_df.Income, subset_df.Lot_Size, color='none', edgecolor=color)\n",
    "ax.set_xlabel('Income')\n",
    "ax.set_ylabel('Lot_Size')\n",
    "ax.legend([\"Owner\", \"Nonowner\"])\n",
    "ax.plot((68.4375, 68.4375), (13, 25), color='grey')\n",
    "\n",
    "plt.show()"
   ]
  },
  {
   "cell_type": "markdown",
   "metadata": {},
   "source": [
    "대체로 Owner 클래스가 평균소득보다 높은 소득을 가짐."
   ]
  },
  {
   "cell_type": "markdown",
   "metadata": {},
   "source": [
    "### c."
   ]
  },
  {
   "cell_type": "code",
   "execution_count": 67,
   "metadata": {},
   "outputs": [
    {
     "name": "stdout",
     "output_type": "stream",
     "text": [
      "intercept  -15.432245020237476\n",
      "              Income  Lot_Size\n",
      "coefficient  0.08555  0.510334\n",
      "\n"
     ]
    },
    {
     "ename": "ValueError",
     "evalue": "math domain error",
     "output_type": "error",
     "traceback": [
      "\u001b[1;31m---------------------------------------------------------------------------\u001b[0m",
      "\u001b[1;31mValueError\u001b[0m                                Traceback (most recent call last)",
      "\u001b[1;32m<ipython-input-67-650cc18479f3>\u001b[0m in \u001b[0;36m<module>\u001b[1;34m\u001b[0m\n\u001b[0;32m     17\u001b[0m \u001b[0mprint\u001b[0m\u001b[1;33m(\u001b[0m\u001b[0mpd\u001b[0m\u001b[1;33m.\u001b[0m\u001b[0mDataFrame\u001b[0m\u001b[1;33m(\u001b[0m\u001b[1;33m{\u001b[0m\u001b[1;34m'coefficient'\u001b[0m\u001b[1;33m:\u001b[0m \u001b[0mlogit_reg\u001b[0m\u001b[1;33m.\u001b[0m\u001b[0mcoef_\u001b[0m\u001b[1;33m[\u001b[0m\u001b[1;36m0\u001b[0m\u001b[1;33m]\u001b[0m\u001b[1;33m}\u001b[0m\u001b[1;33m,\u001b[0m \u001b[0mindex\u001b[0m\u001b[1;33m=\u001b[0m\u001b[0mX\u001b[0m\u001b[1;33m.\u001b[0m\u001b[0mcolumns\u001b[0m\u001b[1;33m)\u001b[0m\u001b[1;33m.\u001b[0m\u001b[0mtranspose\u001b[0m\u001b[1;33m(\u001b[0m\u001b[1;33m)\u001b[0m\u001b[1;33m)\u001b[0m\u001b[1;33m\u001b[0m\u001b[1;33m\u001b[0m\u001b[0m\n\u001b[0;32m     18\u001b[0m \u001b[0mprint\u001b[0m\u001b[1;33m(\u001b[0m\u001b[1;33m)\u001b[0m\u001b[1;33m\u001b[0m\u001b[1;33m\u001b[0m\u001b[0m\n\u001b[1;32m---> 19\u001b[1;33m \u001b[0mprint\u001b[0m\u001b[1;33m(\u001b[0m\u001b[1;34m'AIC'\u001b[0m\u001b[1;33m,\u001b[0m \u001b[0mAIC_score\u001b[0m\u001b[1;33m(\u001b[0m\u001b[0mvalid_y\u001b[0m\u001b[1;33m,\u001b[0m \u001b[0mlogit_reg\u001b[0m\u001b[1;33m.\u001b[0m\u001b[0mpredict\u001b[0m\u001b[1;33m(\u001b[0m\u001b[0mvalid_X\u001b[0m\u001b[1;33m)\u001b[0m\u001b[1;33m,\u001b[0m \u001b[0mdf\u001b[0m \u001b[1;33m=\u001b[0m \u001b[0mlen\u001b[0m\u001b[1;33m(\u001b[0m\u001b[0mtrain_X\u001b[0m\u001b[1;33m.\u001b[0m\u001b[0mcolumns\u001b[0m\u001b[1;33m)\u001b[0m \u001b[1;33m+\u001b[0m \u001b[1;36m1\u001b[0m\u001b[1;33m)\u001b[0m\u001b[1;33m)\u001b[0m\u001b[1;33m\u001b[0m\u001b[1;33m\u001b[0m\u001b[0m\n\u001b[0m",
      "\u001b[1;32m~\\anaconda3\\lib\\site-packages\\dmba\\metric.py\u001b[0m in \u001b[0;36mAIC_score\u001b[1;34m(y_true, y_pred, model, df)\u001b[0m\n\u001b[0;32m     43\u001b[0m     \u001b[0msse\u001b[0m \u001b[1;33m=\u001b[0m \u001b[0mnp\u001b[0m\u001b[1;33m.\u001b[0m\u001b[0msum\u001b[0m\u001b[1;33m(\u001b[0m\u001b[0mresid\u001b[0m \u001b[1;33m**\u001b[0m \u001b[1;36m2\u001b[0m\u001b[1;33m)\u001b[0m\u001b[1;33m\u001b[0m\u001b[1;33m\u001b[0m\u001b[0m\n\u001b[0;32m     44\u001b[0m     \u001b[0mconstant\u001b[0m \u001b[1;33m=\u001b[0m \u001b[0mn\u001b[0m \u001b[1;33m+\u001b[0m \u001b[0mn\u001b[0m \u001b[1;33m*\u001b[0m \u001b[0mnp\u001b[0m\u001b[1;33m.\u001b[0m\u001b[0mlog\u001b[0m\u001b[1;33m(\u001b[0m\u001b[1;36m2\u001b[0m \u001b[1;33m*\u001b[0m \u001b[0mnp\u001b[0m\u001b[1;33m.\u001b[0m\u001b[0mpi\u001b[0m\u001b[1;33m)\u001b[0m\u001b[1;33m\u001b[0m\u001b[1;33m\u001b[0m\u001b[0m\n\u001b[1;32m---> 45\u001b[1;33m     \u001b[1;32mreturn\u001b[0m \u001b[0mn\u001b[0m \u001b[1;33m*\u001b[0m \u001b[0mmath\u001b[0m\u001b[1;33m.\u001b[0m\u001b[0mlog\u001b[0m\u001b[1;33m(\u001b[0m\u001b[0msse\u001b[0m \u001b[1;33m/\u001b[0m \u001b[0mn\u001b[0m\u001b[1;33m)\u001b[0m \u001b[1;33m+\u001b[0m \u001b[0mconstant\u001b[0m \u001b[1;33m+\u001b[0m \u001b[1;36m2\u001b[0m \u001b[1;33m*\u001b[0m \u001b[1;33m(\u001b[0m\u001b[0mp\u001b[0m \u001b[1;33m+\u001b[0m \u001b[1;36m1\u001b[0m\u001b[1;33m)\u001b[0m\u001b[1;33m\u001b[0m\u001b[1;33m\u001b[0m\u001b[0m\n\u001b[0m\u001b[0;32m     46\u001b[0m \u001b[1;33m\u001b[0m\u001b[0m\n\u001b[0;32m     47\u001b[0m \u001b[1;33m\u001b[0m\u001b[0m\n",
      "\u001b[1;31mValueError\u001b[0m: math domain error"
     ]
    }
   ],
   "source": [
    "change_value_dict = {'Nonowner':0, 'Owner':1}\n",
    "mowers_df.replace({'Ownership':change_value_dict}, inplace=True)\n",
    "\n",
    "predictors = ['Income', 'Lot_Size']\n",
    "outcome = 'Ownership'\n",
    "\n",
    "X = mowers_df[predictors]\n",
    "y = mowers_df[outcome]\n",
    "\n",
    "\n",
    "train_X, valid_X, train_y, valid_y = train_test_split(X, y, test_size=0.4, random_state=1)\n",
    "\n",
    "logit_reg = LogisticRegression(penalty=\"l2\", C=1e42, solver='liblinear')\n",
    "logit_reg.fit(train_X, train_y)\n",
    "\n",
    "print('intercept ', logit_reg.intercept_[0])\n",
    "print(pd.DataFrame({'coefficient': logit_reg.coef_[0]}, index=X.columns).transpose())\n",
    "print()\n",
    "print('AIC', AIC_score(valid_y, logit_reg.predict(valid_X), df = len(train_X.columns) + 1))"
   ]
  },
  {
   "cell_type": "code",
   "execution_count": 68,
   "metadata": {},
   "outputs": [
    {
     "name": "stdout",
     "output_type": "stream",
     "text": [
      "Confusion Matrix (Accuracy 0.7857)\n",
      "\n",
      "       Prediction\n",
      "Actual 0 1\n",
      "     0 4 2\n",
      "     1 1 7\n"
     ]
    }
   ],
   "source": [
    "classificationSummary(train_y, logit_reg.predict(train_X))"
   ]
  },
  {
   "cell_type": "markdown",
   "metadata": {},
   "source": [
    "4/6 = 2/3 이 정확하게 분류되었음."
   ]
  },
  {
   "cell_type": "markdown",
   "metadata": {},
   "source": [
    "### d."
   ]
  },
  {
   "cell_type": "markdown",
   "metadata": {},
   "source": [
    "컷오프값을 낮춰야 한다."
   ]
  },
  {
   "cell_type": "markdown",
   "metadata": {},
   "source": [
    "### e."
   ]
  },
  {
   "cell_type": "code",
   "execution_count": 78,
   "metadata": {},
   "outputs": [
    {
     "data": {
      "text/plain": [
       "0.9115899372432865"
      ]
     },
     "execution_count": 78,
     "metadata": {},
     "output_type": "execute_result"
    }
   ],
   "source": [
    "np.exp(-15.432245020237476+0.08555*60+0.510334*20)"
   ]
  },
  {
   "cell_type": "markdown",
   "metadata": {},
   "source": [
    "### f."
   ]
  },
  {
   "cell_type": "markdown",
   "metadata": {},
   "source": [
    "0.9115899372432865 < 1.0 이므로 p < 0.5  \n",
    "따라서 비소유자로 분류된다."
   ]
  },
  {
   "cell_type": "markdown",
   "metadata": {},
   "source": [
    "### g."
   ]
  },
  {
   "cell_type": "markdown",
   "metadata": {},
   "source": [
    "-15.432245020237476 + 0.08555x + 0.510334 * 16 > 0"
   ]
  },
  {
   "cell_type": "code",
   "execution_count": 81,
   "metadata": {},
   "outputs": [
    {
     "data": {
      "text/plain": [
       "84.94331993264146"
      ]
     },
     "execution_count": 81,
     "metadata": {},
     "output_type": "execute_result"
    }
   ],
   "source": [
    "(15.432245020237476 - 0.510334 * 16) / 0.08555"
   ]
  },
  {
   "cell_type": "markdown",
   "metadata": {},
   "source": [
    "약 $84943"
   ]
  },
  {
   "cell_type": "markdown",
   "metadata": {},
   "source": [
    "## 10.4"
   ]
  },
  {
   "cell_type": "code",
   "execution_count": 170,
   "metadata": {},
   "outputs": [
    {
     "data": {
      "text/html": [
       "<div>\n",
       "<style scoped>\n",
       "    .dataframe tbody tr th:only-of-type {\n",
       "        vertical-align: middle;\n",
       "    }\n",
       "\n",
       "    .dataframe tbody tr th {\n",
       "        vertical-align: top;\n",
       "    }\n",
       "\n",
       "    .dataframe thead th {\n",
       "        text-align: right;\n",
       "    }\n",
       "</style>\n",
       "<table border=\"1\" class=\"dataframe\">\n",
       "  <thead>\n",
       "    <tr style=\"text-align: right;\">\n",
       "      <th></th>\n",
       "      <th>Category</th>\n",
       "      <th>currency</th>\n",
       "      <th>sellerRating</th>\n",
       "      <th>Duration</th>\n",
       "      <th>endDay</th>\n",
       "      <th>ClosePrice</th>\n",
       "      <th>OpenPrice</th>\n",
       "      <th>Competitive?</th>\n",
       "    </tr>\n",
       "  </thead>\n",
       "  <tbody>\n",
       "    <tr>\n",
       "      <th>0</th>\n",
       "      <td>Music/Movie/Game</td>\n",
       "      <td>US</td>\n",
       "      <td>3249</td>\n",
       "      <td>5</td>\n",
       "      <td>Mon</td>\n",
       "      <td>0.01</td>\n",
       "      <td>0.01</td>\n",
       "      <td>0</td>\n",
       "    </tr>\n",
       "    <tr>\n",
       "      <th>1</th>\n",
       "      <td>Music/Movie/Game</td>\n",
       "      <td>US</td>\n",
       "      <td>3249</td>\n",
       "      <td>5</td>\n",
       "      <td>Mon</td>\n",
       "      <td>0.01</td>\n",
       "      <td>0.01</td>\n",
       "      <td>0</td>\n",
       "    </tr>\n",
       "    <tr>\n",
       "      <th>2</th>\n",
       "      <td>Music/Movie/Game</td>\n",
       "      <td>US</td>\n",
       "      <td>3249</td>\n",
       "      <td>5</td>\n",
       "      <td>Mon</td>\n",
       "      <td>0.01</td>\n",
       "      <td>0.01</td>\n",
       "      <td>0</td>\n",
       "    </tr>\n",
       "    <tr>\n",
       "      <th>3</th>\n",
       "      <td>Music/Movie/Game</td>\n",
       "      <td>US</td>\n",
       "      <td>3249</td>\n",
       "      <td>5</td>\n",
       "      <td>Mon</td>\n",
       "      <td>0.01</td>\n",
       "      <td>0.01</td>\n",
       "      <td>0</td>\n",
       "    </tr>\n",
       "    <tr>\n",
       "      <th>4</th>\n",
       "      <td>Music/Movie/Game</td>\n",
       "      <td>US</td>\n",
       "      <td>3249</td>\n",
       "      <td>5</td>\n",
       "      <td>Mon</td>\n",
       "      <td>0.01</td>\n",
       "      <td>0.01</td>\n",
       "      <td>0</td>\n",
       "    </tr>\n",
       "    <tr>\n",
       "      <th>...</th>\n",
       "      <td>...</td>\n",
       "      <td>...</td>\n",
       "      <td>...</td>\n",
       "      <td>...</td>\n",
       "      <td>...</td>\n",
       "      <td>...</td>\n",
       "      <td>...</td>\n",
       "      <td>...</td>\n",
       "    </tr>\n",
       "    <tr>\n",
       "      <th>1967</th>\n",
       "      <td>Automotive</td>\n",
       "      <td>US</td>\n",
       "      <td>2992</td>\n",
       "      <td>5</td>\n",
       "      <td>Sun</td>\n",
       "      <td>359.95</td>\n",
       "      <td>359.95</td>\n",
       "      <td>0</td>\n",
       "    </tr>\n",
       "    <tr>\n",
       "      <th>1968</th>\n",
       "      <td>Automotive</td>\n",
       "      <td>US</td>\n",
       "      <td>21</td>\n",
       "      <td>5</td>\n",
       "      <td>Sat</td>\n",
       "      <td>610.00</td>\n",
       "      <td>300.00</td>\n",
       "      <td>1</td>\n",
       "    </tr>\n",
       "    <tr>\n",
       "      <th>1969</th>\n",
       "      <td>Automotive</td>\n",
       "      <td>US</td>\n",
       "      <td>1400</td>\n",
       "      <td>5</td>\n",
       "      <td>Mon</td>\n",
       "      <td>549.00</td>\n",
       "      <td>549.00</td>\n",
       "      <td>0</td>\n",
       "    </tr>\n",
       "    <tr>\n",
       "      <th>1970</th>\n",
       "      <td>Automotive</td>\n",
       "      <td>US</td>\n",
       "      <td>57</td>\n",
       "      <td>7</td>\n",
       "      <td>Fri</td>\n",
       "      <td>820.00</td>\n",
       "      <td>650.00</td>\n",
       "      <td>1</td>\n",
       "    </tr>\n",
       "    <tr>\n",
       "      <th>1971</th>\n",
       "      <td>Automotive</td>\n",
       "      <td>US</td>\n",
       "      <td>145</td>\n",
       "      <td>7</td>\n",
       "      <td>Sat</td>\n",
       "      <td>999.00</td>\n",
       "      <td>999.00</td>\n",
       "      <td>0</td>\n",
       "    </tr>\n",
       "  </tbody>\n",
       "</table>\n",
       "<p>1972 rows × 8 columns</p>\n",
       "</div>"
      ],
      "text/plain": [
       "              Category currency  sellerRating  Duration endDay  ClosePrice  \\\n",
       "0     Music/Movie/Game       US          3249         5    Mon        0.01   \n",
       "1     Music/Movie/Game       US          3249         5    Mon        0.01   \n",
       "2     Music/Movie/Game       US          3249         5    Mon        0.01   \n",
       "3     Music/Movie/Game       US          3249         5    Mon        0.01   \n",
       "4     Music/Movie/Game       US          3249         5    Mon        0.01   \n",
       "...                ...      ...           ...       ...    ...         ...   \n",
       "1967        Automotive       US          2992         5    Sun      359.95   \n",
       "1968        Automotive       US            21         5    Sat      610.00   \n",
       "1969        Automotive       US          1400         5    Mon      549.00   \n",
       "1970        Automotive       US            57         7    Fri      820.00   \n",
       "1971        Automotive       US           145         7    Sat      999.00   \n",
       "\n",
       "      OpenPrice  Competitive?  \n",
       "0          0.01             0  \n",
       "1          0.01             0  \n",
       "2          0.01             0  \n",
       "3          0.01             0  \n",
       "4          0.01             0  \n",
       "...         ...           ...  \n",
       "1967     359.95             0  \n",
       "1968     300.00             1  \n",
       "1969     549.00             0  \n",
       "1970     650.00             1  \n",
       "1971     999.00             0  \n",
       "\n",
       "[1972 rows x 8 columns]"
      ]
     },
     "execution_count": 170,
     "metadata": {},
     "output_type": "execute_result"
    }
   ],
   "source": [
    "auction_df = pd.read_csv('D:/숙탯 2기/dmba-datasets/eBayAuctions.csv')\n",
    "auction_df"
   ]
  },
  {
   "cell_type": "markdown",
   "metadata": {},
   "source": [
    "#### 데이터 전처리"
   ]
  },
  {
   "cell_type": "code",
   "execution_count": 171,
   "metadata": {},
   "outputs": [],
   "source": [
    "auction_df.Category = auction_df.Category.astype('category')\n",
    "auction_df.currency = auction_df.currency.astype('category')\n",
    "auction_df.endDay = auction_df.endDay.astype('category')\n",
    "auction_df.Duration = auction_df.Duration.astype('category')"
   ]
  },
  {
   "cell_type": "code",
   "execution_count": 172,
   "metadata": {},
   "outputs": [
    {
     "name": "stdout",
     "output_type": "stream",
     "text": [
      "<class 'pandas.core.frame.DataFrame'>\n",
      "RangeIndex: 1972 entries, 0 to 1971\n",
      "Data columns (total 8 columns):\n",
      " #   Column        Non-Null Count  Dtype   \n",
      "---  ------        --------------  -----   \n",
      " 0   Category      1972 non-null   category\n",
      " 1   currency      1972 non-null   category\n",
      " 2   sellerRating  1972 non-null   int64   \n",
      " 3   Duration      1972 non-null   category\n",
      " 4   endDay        1972 non-null   category\n",
      " 5   ClosePrice    1972 non-null   float64 \n",
      " 6   OpenPrice     1972 non-null   float64 \n",
      " 7   Competitive?  1972 non-null   int64   \n",
      "dtypes: category(4), float64(2), int64(2)\n",
      "memory usage: 70.9 KB\n"
     ]
    }
   ],
   "source": [
    "auction_df.info()"
   ]
  },
  {
   "cell_type": "markdown",
   "metadata": {},
   "source": [
    "### a."
   ]
  },
  {
   "cell_type": "code",
   "execution_count": 173,
   "metadata": {},
   "outputs": [
    {
     "data": {
      "text/plain": [
       "Category\n",
       "Health/Beauty           0.171875\n",
       "EverythingElse          0.235294\n",
       "Coins/Stamps            0.297297\n",
       "Pottery/Glass           0.350000\n",
       "Automotive              0.353933\n",
       "Jewelry                 0.365854\n",
       "Books                   0.500000\n",
       "Clothing/Accessories    0.504202\n",
       "Toys/Hobbies            0.529915\n",
       "Antique/Art/Craft       0.564972\n",
       "Collectibles            0.577406\n",
       "Music/Movie/Game        0.602978\n",
       "Home/Garden             0.656863\n",
       "Computer                0.666667\n",
       "Business/Industrial     0.666667\n",
       "SportingGoods           0.725806\n",
       "Electronics             0.800000\n",
       "Photography             0.846154\n",
       "Name: Competitive?, dtype: float64"
      ]
     },
     "execution_count": 173,
     "metadata": {},
     "output_type": "execute_result"
    }
   ],
   "source": [
    "auction_df.groupby('Category')['Competitive?'].mean().sort_values()"
   ]
  },
  {
   "cell_type": "code",
   "execution_count": 174,
   "metadata": {},
   "outputs": [
    {
     "data": {
      "text/plain": [
       "endDay\n",
       "Sat    0.427350\n",
       "Fri    0.466899\n",
       "Wed    0.480000\n",
       "Sun    0.485207\n",
       "Tue    0.532164\n",
       "Thu    0.603960\n",
       "Mon    0.673358\n",
       "Name: Competitive?, dtype: float64"
      ]
     },
     "execution_count": 174,
     "metadata": {},
     "output_type": "execute_result"
    }
   ],
   "source": [
    "auction_df.groupby('endDay')['Competitive?'].mean().sort_values()"
   ]
  },
  {
   "cell_type": "code",
   "execution_count": 175,
   "metadata": {},
   "outputs": [
    {
     "data": {
      "text/plain": [
       "Duration\n",
       "3     0.450704\n",
       "7     0.489142\n",
       "1     0.521739\n",
       "10    0.544554\n",
       "5     0.686695\n",
       "Name: Competitive?, dtype: float64"
      ]
     },
     "execution_count": 175,
     "metadata": {},
     "output_type": "execute_result"
    }
   ],
   "source": [
    "auction_df.groupby('Duration')['Competitive?'].mean().sort_values()"
   ]
  },
  {
   "cell_type": "code",
   "execution_count": 176,
   "metadata": {},
   "outputs": [
    {
     "data": {
      "text/plain": [
       "currency\n",
       "US     0.519350\n",
       "EUR    0.551595\n",
       "GBP    0.687075\n",
       "Name: Competitive?, dtype: float64"
      ]
     },
     "execution_count": 176,
     "metadata": {},
     "output_type": "execute_result"
    }
   ],
   "source": [
    "auction_df.groupby('currency')['Competitive?'].mean().sort_values()"
   ]
  },
  {
   "cell_type": "code",
   "execution_count": 180,
   "metadata": {},
   "outputs": [],
   "source": [
    "auction_red_df = pd.DataFrame({\n",
    "    'Cat1' : [1 if d in ('Health/Beauty', 'EverythingElse', 'Coins/Stamps', 'Pottery/Glass', 'Automotive', 'Jewelry')\n",
    "             else 0 for d in auction_df.Category],\n",
    "    'Cat2' : [1 if d in ('Books', 'Clothing/Accessories', 'Toys/Hobbies', 'Antique/Art/Craft', 'Collectibles',\n",
    "                         'Music/Movie/Game', 'Home/Garden', 'Computer', 'Business/Industrial') else 0 for d in auction_df.Category],\n",
    "    'Duration_5' : [1 if d == 5 else 0 for d in auction_df.Duration],\n",
    "    'GBP' : [1 if d == 'GBP' else 0 for d in auction_df.currency],\n",
    "    'sellerRating' : auction_df.sellerRating,\n",
    "    'ClosePrice' : auction_df.ClosePrice,\n",
    "    'OpenPrice' : auction_df.OpenPrice,\n",
    "    'Competitive?' : auction_df['Competitive?']})"
   ]
  },
  {
   "cell_type": "code",
   "execution_count": 181,
   "metadata": {},
   "outputs": [
    {
     "data": {
      "text/html": [
       "<div>\n",
       "<style scoped>\n",
       "    .dataframe tbody tr th:only-of-type {\n",
       "        vertical-align: middle;\n",
       "    }\n",
       "\n",
       "    .dataframe tbody tr th {\n",
       "        vertical-align: top;\n",
       "    }\n",
       "\n",
       "    .dataframe thead th {\n",
       "        text-align: right;\n",
       "    }\n",
       "</style>\n",
       "<table border=\"1\" class=\"dataframe\">\n",
       "  <thead>\n",
       "    <tr style=\"text-align: right;\">\n",
       "      <th></th>\n",
       "      <th>Cat1</th>\n",
       "      <th>Cat2</th>\n",
       "      <th>Duration_5</th>\n",
       "      <th>GBP</th>\n",
       "      <th>sellerRating</th>\n",
       "      <th>ClosePrice</th>\n",
       "      <th>OpenPrice</th>\n",
       "      <th>Competitive?</th>\n",
       "    </tr>\n",
       "  </thead>\n",
       "  <tbody>\n",
       "    <tr>\n",
       "      <th>0</th>\n",
       "      <td>0</td>\n",
       "      <td>1</td>\n",
       "      <td>1</td>\n",
       "      <td>0</td>\n",
       "      <td>3249</td>\n",
       "      <td>0.01</td>\n",
       "      <td>0.01</td>\n",
       "      <td>0</td>\n",
       "    </tr>\n",
       "    <tr>\n",
       "      <th>1</th>\n",
       "      <td>0</td>\n",
       "      <td>1</td>\n",
       "      <td>1</td>\n",
       "      <td>0</td>\n",
       "      <td>3249</td>\n",
       "      <td>0.01</td>\n",
       "      <td>0.01</td>\n",
       "      <td>0</td>\n",
       "    </tr>\n",
       "    <tr>\n",
       "      <th>2</th>\n",
       "      <td>0</td>\n",
       "      <td>1</td>\n",
       "      <td>1</td>\n",
       "      <td>0</td>\n",
       "      <td>3249</td>\n",
       "      <td>0.01</td>\n",
       "      <td>0.01</td>\n",
       "      <td>0</td>\n",
       "    </tr>\n",
       "    <tr>\n",
       "      <th>3</th>\n",
       "      <td>0</td>\n",
       "      <td>1</td>\n",
       "      <td>1</td>\n",
       "      <td>0</td>\n",
       "      <td>3249</td>\n",
       "      <td>0.01</td>\n",
       "      <td>0.01</td>\n",
       "      <td>0</td>\n",
       "    </tr>\n",
       "    <tr>\n",
       "      <th>4</th>\n",
       "      <td>0</td>\n",
       "      <td>1</td>\n",
       "      <td>1</td>\n",
       "      <td>0</td>\n",
       "      <td>3249</td>\n",
       "      <td>0.01</td>\n",
       "      <td>0.01</td>\n",
       "      <td>0</td>\n",
       "    </tr>\n",
       "    <tr>\n",
       "      <th>...</th>\n",
       "      <td>...</td>\n",
       "      <td>...</td>\n",
       "      <td>...</td>\n",
       "      <td>...</td>\n",
       "      <td>...</td>\n",
       "      <td>...</td>\n",
       "      <td>...</td>\n",
       "      <td>...</td>\n",
       "    </tr>\n",
       "    <tr>\n",
       "      <th>1967</th>\n",
       "      <td>1</td>\n",
       "      <td>0</td>\n",
       "      <td>1</td>\n",
       "      <td>0</td>\n",
       "      <td>2992</td>\n",
       "      <td>359.95</td>\n",
       "      <td>359.95</td>\n",
       "      <td>0</td>\n",
       "    </tr>\n",
       "    <tr>\n",
       "      <th>1968</th>\n",
       "      <td>1</td>\n",
       "      <td>0</td>\n",
       "      <td>1</td>\n",
       "      <td>0</td>\n",
       "      <td>21</td>\n",
       "      <td>610.00</td>\n",
       "      <td>300.00</td>\n",
       "      <td>1</td>\n",
       "    </tr>\n",
       "    <tr>\n",
       "      <th>1969</th>\n",
       "      <td>1</td>\n",
       "      <td>0</td>\n",
       "      <td>1</td>\n",
       "      <td>0</td>\n",
       "      <td>1400</td>\n",
       "      <td>549.00</td>\n",
       "      <td>549.00</td>\n",
       "      <td>0</td>\n",
       "    </tr>\n",
       "    <tr>\n",
       "      <th>1970</th>\n",
       "      <td>1</td>\n",
       "      <td>0</td>\n",
       "      <td>0</td>\n",
       "      <td>0</td>\n",
       "      <td>57</td>\n",
       "      <td>820.00</td>\n",
       "      <td>650.00</td>\n",
       "      <td>1</td>\n",
       "    </tr>\n",
       "    <tr>\n",
       "      <th>1971</th>\n",
       "      <td>1</td>\n",
       "      <td>0</td>\n",
       "      <td>0</td>\n",
       "      <td>0</td>\n",
       "      <td>145</td>\n",
       "      <td>999.00</td>\n",
       "      <td>999.00</td>\n",
       "      <td>0</td>\n",
       "    </tr>\n",
       "  </tbody>\n",
       "</table>\n",
       "<p>1972 rows × 8 columns</p>\n",
       "</div>"
      ],
      "text/plain": [
       "      Cat1  Cat2  Duration_5  GBP  sellerRating  ClosePrice  OpenPrice  \\\n",
       "0        0     1           1    0          3249        0.01       0.01   \n",
       "1        0     1           1    0          3249        0.01       0.01   \n",
       "2        0     1           1    0          3249        0.01       0.01   \n",
       "3        0     1           1    0          3249        0.01       0.01   \n",
       "4        0     1           1    0          3249        0.01       0.01   \n",
       "...    ...   ...         ...  ...           ...         ...        ...   \n",
       "1967     1     0           1    0          2992      359.95     359.95   \n",
       "1968     1     0           1    0            21      610.00     300.00   \n",
       "1969     1     0           1    0          1400      549.00     549.00   \n",
       "1970     1     0           0    0            57      820.00     650.00   \n",
       "1971     1     0           0    0           145      999.00     999.00   \n",
       "\n",
       "      Competitive?  \n",
       "0                0  \n",
       "1                0  \n",
       "2                0  \n",
       "3                0  \n",
       "4                0  \n",
       "...            ...  \n",
       "1967             0  \n",
       "1968             1  \n",
       "1969             0  \n",
       "1970             1  \n",
       "1971             0  \n",
       "\n",
       "[1972 rows x 8 columns]"
      ]
     },
     "execution_count": 181,
     "metadata": {},
     "output_type": "execute_result"
    }
   ],
   "source": [
    "auction_red_df"
   ]
  },
  {
   "cell_type": "markdown",
   "metadata": {},
   "source": [
    "### b."
   ]
  },
  {
   "cell_type": "code",
   "execution_count": 182,
   "metadata": {},
   "outputs": [
    {
     "data": {
      "text/plain": [
       "Index(['Cat1', 'Cat2', 'Duration_5', 'GBP', 'sellerRating', 'ClosePrice',\n",
       "       'OpenPrice', 'Competitive?'],\n",
       "      dtype='object')"
      ]
     },
     "execution_count": 182,
     "metadata": {},
     "output_type": "execute_result"
    }
   ],
   "source": [
    "auction_red_df.columns"
   ]
  },
  {
   "cell_type": "code",
   "execution_count": 183,
   "metadata": {},
   "outputs": [
    {
     "name": "stdout",
     "output_type": "stream",
     "text": [
      "intercept  -0.361700361667707\n",
      "                 Cat1      Cat2  Duration_5       GBP  sellerRating  \\\n",
      "coefficient -0.982768  0.014132    0.855992  1.158619     -0.000019   \n",
      "\n",
      "             ClosePrice  OpenPrice  \n",
      "coefficient    0.075912  -0.089241  \n",
      "\n",
      "AIC 1142.0142267794981\n"
     ]
    }
   ],
   "source": [
    "predictors = ['Cat1', 'Cat2', 'Duration_5', 'GBP', 'sellerRating', 'ClosePrice', 'OpenPrice']\n",
    "outcome = 'Competitive?'\n",
    "\n",
    "X = auction_red_df[predictors]\n",
    "y = auction_red_df[outcome]\n",
    "\n",
    "\n",
    "train_X, valid_X, train_y, valid_y = train_test_split(X, y, test_size=0.4, random_state=1)\n",
    "\n",
    "logit_reg = LogisticRegression(penalty=\"l2\", C=1e42, solver='liblinear')\n",
    "logit_reg.fit(train_X, train_y)\n",
    "\n",
    "print('intercept ', logit_reg.intercept_[0])\n",
    "print(pd.DataFrame({'coefficient': logit_reg.coef_[0]}, index=X.columns).transpose())\n",
    "print()\n",
    "print('AIC', AIC_score(valid_y, logit_reg.predict(valid_X), df = len(train_X.columns) + 1))"
   ]
  },
  {
   "cell_type": "markdown",
   "metadata": {},
   "source": [
    "### c."
   ]
  },
  {
   "cell_type": "code",
   "execution_count": 184,
   "metadata": {},
   "outputs": [
    {
     "name": "stdout",
     "output_type": "stream",
     "text": [
      "intercept  1.1282060560465583\n",
      "                 Cat1      Cat2  Duration_5       GBP  sellerRating  OpenPrice\n",
      "coefficient -2.100058 -0.985028    0.855626  0.881061     -0.000027  -0.003219\n",
      "\n",
      "AIC 1497.3772949583508\n"
     ]
    }
   ],
   "source": [
    "predictors = ['Cat1', 'Cat2', 'Duration_5', 'GBP', 'sellerRating', 'OpenPrice']\n",
    "outcome = 'Competitive?'\n",
    "\n",
    "X = auction_red_df[predictors]\n",
    "y = auction_red_df[outcome]\n",
    "\n",
    "\n",
    "train_X, valid_X, train_y, valid_y = train_test_split(X, y, test_size=0.4, random_state=1)\n",
    "\n",
    "logit_reg = LogisticRegression(penalty=\"l2\", C=1e42, solver='liblinear')\n",
    "logit_reg.fit(train_X, train_y)\n",
    "\n",
    "print('intercept ', logit_reg.intercept_[0])\n",
    "print(pd.DataFrame({'coefficient': logit_reg.coef_[0]}, index=X.columns).transpose())\n",
    "print()\n",
    "print('AIC', AIC_score(valid_y, logit_reg.predict(valid_X), df = len(train_X.columns) + 1))"
   ]
  },
  {
   "cell_type": "markdown",
   "metadata": {},
   "source": [
    "### d."
   ]
  },
  {
   "cell_type": "code",
   "execution_count": 187,
   "metadata": {},
   "outputs": [
    {
     "data": {
      "text/plain": [
       "1.0788676296283786"
      ]
     },
     "execution_count": 187,
     "metadata": {},
     "output_type": "execute_result"
    }
   ],
   "source": [
    "np.exp(0.075912)"
   ]
  },
  {
   "cell_type": "markdown",
   "metadata": {},
   "source": [
    "경매종가가 0.075912단위 증가하면 경매가 경쟁적으로 분류될 오즈가 1.0788 증가"
   ]
  },
  {
   "cell_type": "code",
   "execution_count": null,
   "metadata": {},
   "outputs": [],
   "source": []
  }
 ],
 "metadata": {
  "kernelspec": {
   "display_name": "Python 3",
   "language": "python",
   "name": "python3"
  },
  "language_info": {
   "codemirror_mode": {
    "name": "ipython",
    "version": 3
   },
   "file_extension": ".py",
   "mimetype": "text/x-python",
   "name": "python",
   "nbconvert_exporter": "python",
   "pygments_lexer": "ipython3",
   "version": "3.8.5"
  }
 },
 "nbformat": 4,
 "nbformat_minor": 4
}
