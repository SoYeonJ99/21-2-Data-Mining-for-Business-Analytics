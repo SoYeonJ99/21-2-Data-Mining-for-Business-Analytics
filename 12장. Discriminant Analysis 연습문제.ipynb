{
 "cells": [
  {
   "cell_type": "code",
   "execution_count": 189,
   "metadata": {},
   "outputs": [],
   "source": [
    "%matplotlib inline\n",
    "\n",
    "from pathlib import Path\n",
    "\n",
    "import numpy as np\n",
    "import pandas as pd\n",
    "from sklearn.discriminant_analysis import LinearDiscriminantAnalysis\n",
    "import matplotlib.pylab as plt\n",
    "from dmba import classificationSummary\n",
    "from sklearn.model_selection import train_test_split\n",
    "\n",
    "import matplotlib.pylab as plt\n",
    "from dmba import liftChart, gainsChart\n",
    "\n",
    "from sklearn.linear_model import LogisticRegression, LogisticRegressionCV"
   ]
  },
  {
   "cell_type": "markdown",
   "metadata": {},
   "source": [
    "## 12.1"
   ]
  },
  {
   "cell_type": "code",
   "execution_count": 144,
   "metadata": {},
   "outputs": [
    {
     "data": {
      "text/html": [
       "<div>\n",
       "<style scoped>\n",
       "    .dataframe tbody tr th:only-of-type {\n",
       "        vertical-align: middle;\n",
       "    }\n",
       "\n",
       "    .dataframe tbody tr th {\n",
       "        vertical-align: top;\n",
       "    }\n",
       "\n",
       "    .dataframe thead th {\n",
       "        text-align: right;\n",
       "    }\n",
       "</style>\n",
       "<table border=\"1\" class=\"dataframe\">\n",
       "  <thead>\n",
       "    <tr style=\"text-align: right;\">\n",
       "      <th></th>\n",
       "      <th>ID</th>\n",
       "      <th>Age</th>\n",
       "      <th>Experience</th>\n",
       "      <th>Income</th>\n",
       "      <th>ZIP Code</th>\n",
       "      <th>Family</th>\n",
       "      <th>CCAvg</th>\n",
       "      <th>Education</th>\n",
       "      <th>Mortgage</th>\n",
       "      <th>Personal Loan</th>\n",
       "      <th>Securities Account</th>\n",
       "      <th>CD Account</th>\n",
       "      <th>Online</th>\n",
       "      <th>CreditCard</th>\n",
       "    </tr>\n",
       "  </thead>\n",
       "  <tbody>\n",
       "    <tr>\n",
       "      <th>0</th>\n",
       "      <td>1</td>\n",
       "      <td>25</td>\n",
       "      <td>1</td>\n",
       "      <td>49</td>\n",
       "      <td>91107</td>\n",
       "      <td>4</td>\n",
       "      <td>1.6</td>\n",
       "      <td>1</td>\n",
       "      <td>0</td>\n",
       "      <td>0</td>\n",
       "      <td>1</td>\n",
       "      <td>0</td>\n",
       "      <td>0</td>\n",
       "      <td>0</td>\n",
       "    </tr>\n",
       "    <tr>\n",
       "      <th>1</th>\n",
       "      <td>2</td>\n",
       "      <td>45</td>\n",
       "      <td>19</td>\n",
       "      <td>34</td>\n",
       "      <td>90089</td>\n",
       "      <td>3</td>\n",
       "      <td>1.5</td>\n",
       "      <td>1</td>\n",
       "      <td>0</td>\n",
       "      <td>0</td>\n",
       "      <td>1</td>\n",
       "      <td>0</td>\n",
       "      <td>0</td>\n",
       "      <td>0</td>\n",
       "    </tr>\n",
       "    <tr>\n",
       "      <th>2</th>\n",
       "      <td>3</td>\n",
       "      <td>39</td>\n",
       "      <td>15</td>\n",
       "      <td>11</td>\n",
       "      <td>94720</td>\n",
       "      <td>1</td>\n",
       "      <td>1.0</td>\n",
       "      <td>1</td>\n",
       "      <td>0</td>\n",
       "      <td>0</td>\n",
       "      <td>0</td>\n",
       "      <td>0</td>\n",
       "      <td>0</td>\n",
       "      <td>0</td>\n",
       "    </tr>\n",
       "    <tr>\n",
       "      <th>3</th>\n",
       "      <td>4</td>\n",
       "      <td>35</td>\n",
       "      <td>9</td>\n",
       "      <td>100</td>\n",
       "      <td>94112</td>\n",
       "      <td>1</td>\n",
       "      <td>2.7</td>\n",
       "      <td>2</td>\n",
       "      <td>0</td>\n",
       "      <td>0</td>\n",
       "      <td>0</td>\n",
       "      <td>0</td>\n",
       "      <td>0</td>\n",
       "      <td>0</td>\n",
       "    </tr>\n",
       "    <tr>\n",
       "      <th>4</th>\n",
       "      <td>5</td>\n",
       "      <td>35</td>\n",
       "      <td>8</td>\n",
       "      <td>45</td>\n",
       "      <td>91330</td>\n",
       "      <td>4</td>\n",
       "      <td>1.0</td>\n",
       "      <td>2</td>\n",
       "      <td>0</td>\n",
       "      <td>0</td>\n",
       "      <td>0</td>\n",
       "      <td>0</td>\n",
       "      <td>0</td>\n",
       "      <td>1</td>\n",
       "    </tr>\n",
       "    <tr>\n",
       "      <th>...</th>\n",
       "      <td>...</td>\n",
       "      <td>...</td>\n",
       "      <td>...</td>\n",
       "      <td>...</td>\n",
       "      <td>...</td>\n",
       "      <td>...</td>\n",
       "      <td>...</td>\n",
       "      <td>...</td>\n",
       "      <td>...</td>\n",
       "      <td>...</td>\n",
       "      <td>...</td>\n",
       "      <td>...</td>\n",
       "      <td>...</td>\n",
       "      <td>...</td>\n",
       "    </tr>\n",
       "    <tr>\n",
       "      <th>4995</th>\n",
       "      <td>4996</td>\n",
       "      <td>29</td>\n",
       "      <td>3</td>\n",
       "      <td>40</td>\n",
       "      <td>92697</td>\n",
       "      <td>1</td>\n",
       "      <td>1.9</td>\n",
       "      <td>3</td>\n",
       "      <td>0</td>\n",
       "      <td>0</td>\n",
       "      <td>0</td>\n",
       "      <td>0</td>\n",
       "      <td>1</td>\n",
       "      <td>0</td>\n",
       "    </tr>\n",
       "    <tr>\n",
       "      <th>4996</th>\n",
       "      <td>4997</td>\n",
       "      <td>30</td>\n",
       "      <td>4</td>\n",
       "      <td>15</td>\n",
       "      <td>92037</td>\n",
       "      <td>4</td>\n",
       "      <td>0.4</td>\n",
       "      <td>1</td>\n",
       "      <td>85</td>\n",
       "      <td>0</td>\n",
       "      <td>0</td>\n",
       "      <td>0</td>\n",
       "      <td>1</td>\n",
       "      <td>0</td>\n",
       "    </tr>\n",
       "    <tr>\n",
       "      <th>4997</th>\n",
       "      <td>4998</td>\n",
       "      <td>63</td>\n",
       "      <td>39</td>\n",
       "      <td>24</td>\n",
       "      <td>93023</td>\n",
       "      <td>2</td>\n",
       "      <td>0.3</td>\n",
       "      <td>3</td>\n",
       "      <td>0</td>\n",
       "      <td>0</td>\n",
       "      <td>0</td>\n",
       "      <td>0</td>\n",
       "      <td>0</td>\n",
       "      <td>0</td>\n",
       "    </tr>\n",
       "    <tr>\n",
       "      <th>4998</th>\n",
       "      <td>4999</td>\n",
       "      <td>65</td>\n",
       "      <td>40</td>\n",
       "      <td>49</td>\n",
       "      <td>90034</td>\n",
       "      <td>3</td>\n",
       "      <td>0.5</td>\n",
       "      <td>2</td>\n",
       "      <td>0</td>\n",
       "      <td>0</td>\n",
       "      <td>0</td>\n",
       "      <td>0</td>\n",
       "      <td>1</td>\n",
       "      <td>0</td>\n",
       "    </tr>\n",
       "    <tr>\n",
       "      <th>4999</th>\n",
       "      <td>5000</td>\n",
       "      <td>28</td>\n",
       "      <td>4</td>\n",
       "      <td>83</td>\n",
       "      <td>92612</td>\n",
       "      <td>3</td>\n",
       "      <td>0.8</td>\n",
       "      <td>1</td>\n",
       "      <td>0</td>\n",
       "      <td>0</td>\n",
       "      <td>0</td>\n",
       "      <td>0</td>\n",
       "      <td>1</td>\n",
       "      <td>1</td>\n",
       "    </tr>\n",
       "  </tbody>\n",
       "</table>\n",
       "<p>5000 rows × 14 columns</p>\n",
       "</div>"
      ],
      "text/plain": [
       "        ID  Age  Experience  Income  ZIP Code  Family  CCAvg  Education  \\\n",
       "0        1   25           1      49     91107       4    1.6          1   \n",
       "1        2   45          19      34     90089       3    1.5          1   \n",
       "2        3   39          15      11     94720       1    1.0          1   \n",
       "3        4   35           9     100     94112       1    2.7          2   \n",
       "4        5   35           8      45     91330       4    1.0          2   \n",
       "...    ...  ...         ...     ...       ...     ...    ...        ...   \n",
       "4995  4996   29           3      40     92697       1    1.9          3   \n",
       "4996  4997   30           4      15     92037       4    0.4          1   \n",
       "4997  4998   63          39      24     93023       2    0.3          3   \n",
       "4998  4999   65          40      49     90034       3    0.5          2   \n",
       "4999  5000   28           4      83     92612       3    0.8          1   \n",
       "\n",
       "      Mortgage  Personal Loan  Securities Account  CD Account  Online  \\\n",
       "0            0              0                   1           0       0   \n",
       "1            0              0                   1           0       0   \n",
       "2            0              0                   0           0       0   \n",
       "3            0              0                   0           0       0   \n",
       "4            0              0                   0           0       0   \n",
       "...        ...            ...                 ...         ...     ...   \n",
       "4995         0              0                   0           0       1   \n",
       "4996        85              0                   0           0       1   \n",
       "4997         0              0                   0           0       0   \n",
       "4998         0              0                   0           0       1   \n",
       "4999         0              0                   0           0       1   \n",
       "\n",
       "      CreditCard  \n",
       "0              0  \n",
       "1              0  \n",
       "2              0  \n",
       "3              0  \n",
       "4              1  \n",
       "...          ...  \n",
       "4995           0  \n",
       "4996           0  \n",
       "4997           0  \n",
       "4998           0  \n",
       "4999           1  \n",
       "\n",
       "[5000 rows x 14 columns]"
      ]
     },
     "execution_count": 144,
     "metadata": {},
     "output_type": "execute_result"
    }
   ],
   "source": [
    "bank_df = pd.read_csv('D:/숙탯 2기/dmba-datasets/UniversalBank.csv')\n",
    "bank_df"
   ]
  },
  {
   "cell_type": "code",
   "execution_count": 145,
   "metadata": {},
   "outputs": [
    {
     "data": {
      "text/html": [
       "<div>\n",
       "<style scoped>\n",
       "    .dataframe tbody tr th:only-of-type {\n",
       "        vertical-align: middle;\n",
       "    }\n",
       "\n",
       "    .dataframe tbody tr th {\n",
       "        vertical-align: top;\n",
       "    }\n",
       "\n",
       "    .dataframe thead th {\n",
       "        text-align: right;\n",
       "    }\n",
       "</style>\n",
       "<table border=\"1\" class=\"dataframe\">\n",
       "  <thead>\n",
       "    <tr style=\"text-align: right;\">\n",
       "      <th></th>\n",
       "      <th>Age</th>\n",
       "      <th>Experience</th>\n",
       "      <th>Income</th>\n",
       "      <th>CCAvg</th>\n",
       "      <th>Mortgage</th>\n",
       "      <th>Personal Loan</th>\n",
       "      <th>Securities Account</th>\n",
       "      <th>CD Account</th>\n",
       "      <th>Online</th>\n",
       "      <th>CreditCard</th>\n",
       "      <th>Family_1</th>\n",
       "      <th>Family_2</th>\n",
       "      <th>Family_3</th>\n",
       "      <th>Family_4</th>\n",
       "      <th>Education_1</th>\n",
       "      <th>Education_2</th>\n",
       "      <th>Education_3</th>\n",
       "    </tr>\n",
       "  </thead>\n",
       "  <tbody>\n",
       "    <tr>\n",
       "      <th>0</th>\n",
       "      <td>25</td>\n",
       "      <td>1</td>\n",
       "      <td>49</td>\n",
       "      <td>1.6</td>\n",
       "      <td>0</td>\n",
       "      <td>0</td>\n",
       "      <td>1</td>\n",
       "      <td>0</td>\n",
       "      <td>0</td>\n",
       "      <td>0</td>\n",
       "      <td>0</td>\n",
       "      <td>0</td>\n",
       "      <td>0</td>\n",
       "      <td>1</td>\n",
       "      <td>1</td>\n",
       "      <td>0</td>\n",
       "      <td>0</td>\n",
       "    </tr>\n",
       "    <tr>\n",
       "      <th>1</th>\n",
       "      <td>45</td>\n",
       "      <td>19</td>\n",
       "      <td>34</td>\n",
       "      <td>1.5</td>\n",
       "      <td>0</td>\n",
       "      <td>0</td>\n",
       "      <td>1</td>\n",
       "      <td>0</td>\n",
       "      <td>0</td>\n",
       "      <td>0</td>\n",
       "      <td>0</td>\n",
       "      <td>0</td>\n",
       "      <td>1</td>\n",
       "      <td>0</td>\n",
       "      <td>1</td>\n",
       "      <td>0</td>\n",
       "      <td>0</td>\n",
       "    </tr>\n",
       "    <tr>\n",
       "      <th>2</th>\n",
       "      <td>39</td>\n",
       "      <td>15</td>\n",
       "      <td>11</td>\n",
       "      <td>1.0</td>\n",
       "      <td>0</td>\n",
       "      <td>0</td>\n",
       "      <td>0</td>\n",
       "      <td>0</td>\n",
       "      <td>0</td>\n",
       "      <td>0</td>\n",
       "      <td>1</td>\n",
       "      <td>0</td>\n",
       "      <td>0</td>\n",
       "      <td>0</td>\n",
       "      <td>1</td>\n",
       "      <td>0</td>\n",
       "      <td>0</td>\n",
       "    </tr>\n",
       "    <tr>\n",
       "      <th>3</th>\n",
       "      <td>35</td>\n",
       "      <td>9</td>\n",
       "      <td>100</td>\n",
       "      <td>2.7</td>\n",
       "      <td>0</td>\n",
       "      <td>0</td>\n",
       "      <td>0</td>\n",
       "      <td>0</td>\n",
       "      <td>0</td>\n",
       "      <td>0</td>\n",
       "      <td>1</td>\n",
       "      <td>0</td>\n",
       "      <td>0</td>\n",
       "      <td>0</td>\n",
       "      <td>0</td>\n",
       "      <td>1</td>\n",
       "      <td>0</td>\n",
       "    </tr>\n",
       "    <tr>\n",
       "      <th>4</th>\n",
       "      <td>35</td>\n",
       "      <td>8</td>\n",
       "      <td>45</td>\n",
       "      <td>1.0</td>\n",
       "      <td>0</td>\n",
       "      <td>0</td>\n",
       "      <td>0</td>\n",
       "      <td>0</td>\n",
       "      <td>0</td>\n",
       "      <td>1</td>\n",
       "      <td>0</td>\n",
       "      <td>0</td>\n",
       "      <td>0</td>\n",
       "      <td>1</td>\n",
       "      <td>0</td>\n",
       "      <td>1</td>\n",
       "      <td>0</td>\n",
       "    </tr>\n",
       "    <tr>\n",
       "      <th>...</th>\n",
       "      <td>...</td>\n",
       "      <td>...</td>\n",
       "      <td>...</td>\n",
       "      <td>...</td>\n",
       "      <td>...</td>\n",
       "      <td>...</td>\n",
       "      <td>...</td>\n",
       "      <td>...</td>\n",
       "      <td>...</td>\n",
       "      <td>...</td>\n",
       "      <td>...</td>\n",
       "      <td>...</td>\n",
       "      <td>...</td>\n",
       "      <td>...</td>\n",
       "      <td>...</td>\n",
       "      <td>...</td>\n",
       "      <td>...</td>\n",
       "    </tr>\n",
       "    <tr>\n",
       "      <th>4995</th>\n",
       "      <td>29</td>\n",
       "      <td>3</td>\n",
       "      <td>40</td>\n",
       "      <td>1.9</td>\n",
       "      <td>0</td>\n",
       "      <td>0</td>\n",
       "      <td>0</td>\n",
       "      <td>0</td>\n",
       "      <td>1</td>\n",
       "      <td>0</td>\n",
       "      <td>1</td>\n",
       "      <td>0</td>\n",
       "      <td>0</td>\n",
       "      <td>0</td>\n",
       "      <td>0</td>\n",
       "      <td>0</td>\n",
       "      <td>1</td>\n",
       "    </tr>\n",
       "    <tr>\n",
       "      <th>4996</th>\n",
       "      <td>30</td>\n",
       "      <td>4</td>\n",
       "      <td>15</td>\n",
       "      <td>0.4</td>\n",
       "      <td>85</td>\n",
       "      <td>0</td>\n",
       "      <td>0</td>\n",
       "      <td>0</td>\n",
       "      <td>1</td>\n",
       "      <td>0</td>\n",
       "      <td>0</td>\n",
       "      <td>0</td>\n",
       "      <td>0</td>\n",
       "      <td>1</td>\n",
       "      <td>1</td>\n",
       "      <td>0</td>\n",
       "      <td>0</td>\n",
       "    </tr>\n",
       "    <tr>\n",
       "      <th>4997</th>\n",
       "      <td>63</td>\n",
       "      <td>39</td>\n",
       "      <td>24</td>\n",
       "      <td>0.3</td>\n",
       "      <td>0</td>\n",
       "      <td>0</td>\n",
       "      <td>0</td>\n",
       "      <td>0</td>\n",
       "      <td>0</td>\n",
       "      <td>0</td>\n",
       "      <td>0</td>\n",
       "      <td>1</td>\n",
       "      <td>0</td>\n",
       "      <td>0</td>\n",
       "      <td>0</td>\n",
       "      <td>0</td>\n",
       "      <td>1</td>\n",
       "    </tr>\n",
       "    <tr>\n",
       "      <th>4998</th>\n",
       "      <td>65</td>\n",
       "      <td>40</td>\n",
       "      <td>49</td>\n",
       "      <td>0.5</td>\n",
       "      <td>0</td>\n",
       "      <td>0</td>\n",
       "      <td>0</td>\n",
       "      <td>0</td>\n",
       "      <td>1</td>\n",
       "      <td>0</td>\n",
       "      <td>0</td>\n",
       "      <td>0</td>\n",
       "      <td>1</td>\n",
       "      <td>0</td>\n",
       "      <td>0</td>\n",
       "      <td>1</td>\n",
       "      <td>0</td>\n",
       "    </tr>\n",
       "    <tr>\n",
       "      <th>4999</th>\n",
       "      <td>28</td>\n",
       "      <td>4</td>\n",
       "      <td>83</td>\n",
       "      <td>0.8</td>\n",
       "      <td>0</td>\n",
       "      <td>0</td>\n",
       "      <td>0</td>\n",
       "      <td>0</td>\n",
       "      <td>1</td>\n",
       "      <td>1</td>\n",
       "      <td>0</td>\n",
       "      <td>0</td>\n",
       "      <td>1</td>\n",
       "      <td>0</td>\n",
       "      <td>1</td>\n",
       "      <td>0</td>\n",
       "      <td>0</td>\n",
       "    </tr>\n",
       "  </tbody>\n",
       "</table>\n",
       "<p>5000 rows × 17 columns</p>\n",
       "</div>"
      ],
      "text/plain": [
       "      Age  Experience  Income  CCAvg  Mortgage  Personal Loan  \\\n",
       "0      25           1      49    1.6         0              0   \n",
       "1      45          19      34    1.5         0              0   \n",
       "2      39          15      11    1.0         0              0   \n",
       "3      35           9     100    2.7         0              0   \n",
       "4      35           8      45    1.0         0              0   \n",
       "...   ...         ...     ...    ...       ...            ...   \n",
       "4995   29           3      40    1.9         0              0   \n",
       "4996   30           4      15    0.4        85              0   \n",
       "4997   63          39      24    0.3         0              0   \n",
       "4998   65          40      49    0.5         0              0   \n",
       "4999   28           4      83    0.8         0              0   \n",
       "\n",
       "      Securities Account  CD Account  Online  CreditCard  Family_1  Family_2  \\\n",
       "0                      1           0       0           0         0         0   \n",
       "1                      1           0       0           0         0         0   \n",
       "2                      0           0       0           0         1         0   \n",
       "3                      0           0       0           0         1         0   \n",
       "4                      0           0       0           1         0         0   \n",
       "...                  ...         ...     ...         ...       ...       ...   \n",
       "4995                   0           0       1           0         1         0   \n",
       "4996                   0           0       1           0         0         0   \n",
       "4997                   0           0       0           0         0         1   \n",
       "4998                   0           0       1           0         0         0   \n",
       "4999                   0           0       1           1         0         0   \n",
       "\n",
       "      Family_3  Family_4  Education_1  Education_2  Education_3  \n",
       "0            0         1            1            0            0  \n",
       "1            1         0            1            0            0  \n",
       "2            0         0            1            0            0  \n",
       "3            0         0            0            1            0  \n",
       "4            0         1            0            1            0  \n",
       "...        ...       ...          ...          ...          ...  \n",
       "4995         0         0            0            0            1  \n",
       "4996         0         1            1            0            0  \n",
       "4997         0         0            0            0            1  \n",
       "4998         1         0            0            1            0  \n",
       "4999         1         0            1            0            0  \n",
       "\n",
       "[5000 rows x 17 columns]"
      ]
     },
     "execution_count": 145,
     "metadata": {},
     "output_type": "execute_result"
    }
   ],
   "source": [
    "bank_df = pd.get_dummies(bank_df.iloc[:, 1:], columns = ['Family', 'Education'])\n",
    "bank_df = bank_df.drop(columns=['ZIP Code'])\n",
    "bank_df"
   ]
  },
  {
   "cell_type": "code",
   "execution_count": 147,
   "metadata": {},
   "outputs": [],
   "source": [
    "X = bank_df.drop(columns=['Personal Loan'])\n",
    "y = bank_df['Personal Loan']\n",
    "\n",
    "train_X, valid_X, train_y, valid_y = train_test_split(X, y, test_size=0.4, random_state=1)"
   ]
  },
  {
   "cell_type": "markdown",
   "metadata": {},
   "source": [
    "### a."
   ]
  },
  {
   "cell_type": "code",
   "execution_count": 148,
   "metadata": {},
   "outputs": [
    {
     "data": {
      "text/html": [
       "<div>\n",
       "<style scoped>\n",
       "    .dataframe tbody tr th:only-of-type {\n",
       "        vertical-align: middle;\n",
       "    }\n",
       "\n",
       "    .dataframe tbody tr th {\n",
       "        vertical-align: top;\n",
       "    }\n",
       "\n",
       "    .dataframe thead tr th {\n",
       "        text-align: left;\n",
       "    }\n",
       "\n",
       "    .dataframe thead tr:last-of-type th {\n",
       "        text-align: right;\n",
       "    }\n",
       "</style>\n",
       "<table border=\"1\" class=\"dataframe\">\n",
       "  <thead>\n",
       "    <tr>\n",
       "      <th></th>\n",
       "      <th colspan=\"8\" halign=\"left\">Age</th>\n",
       "      <th colspan=\"2\" halign=\"left\">Experience</th>\n",
       "      <th>...</th>\n",
       "      <th colspan=\"2\" halign=\"left\">Education_2</th>\n",
       "      <th colspan=\"8\" halign=\"left\">Education_3</th>\n",
       "    </tr>\n",
       "    <tr>\n",
       "      <th></th>\n",
       "      <th>count</th>\n",
       "      <th>mean</th>\n",
       "      <th>std</th>\n",
       "      <th>min</th>\n",
       "      <th>25%</th>\n",
       "      <th>50%</th>\n",
       "      <th>75%</th>\n",
       "      <th>max</th>\n",
       "      <th>count</th>\n",
       "      <th>mean</th>\n",
       "      <th>...</th>\n",
       "      <th>75%</th>\n",
       "      <th>max</th>\n",
       "      <th>count</th>\n",
       "      <th>mean</th>\n",
       "      <th>std</th>\n",
       "      <th>min</th>\n",
       "      <th>25%</th>\n",
       "      <th>50%</th>\n",
       "      <th>75%</th>\n",
       "      <th>max</th>\n",
       "    </tr>\n",
       "    <tr>\n",
       "      <th>Personal Loan</th>\n",
       "      <th></th>\n",
       "      <th></th>\n",
       "      <th></th>\n",
       "      <th></th>\n",
       "      <th></th>\n",
       "      <th></th>\n",
       "      <th></th>\n",
       "      <th></th>\n",
       "      <th></th>\n",
       "      <th></th>\n",
       "      <th></th>\n",
       "      <th></th>\n",
       "      <th></th>\n",
       "      <th></th>\n",
       "      <th></th>\n",
       "      <th></th>\n",
       "      <th></th>\n",
       "      <th></th>\n",
       "      <th></th>\n",
       "      <th></th>\n",
       "      <th></th>\n",
       "    </tr>\n",
       "  </thead>\n",
       "  <tbody>\n",
       "    <tr>\n",
       "      <th>0</th>\n",
       "      <td>4520.0</td>\n",
       "      <td>45.367257</td>\n",
       "      <td>11.450427</td>\n",
       "      <td>23.0</td>\n",
       "      <td>35.0</td>\n",
       "      <td>45.0</td>\n",
       "      <td>55.0</td>\n",
       "      <td>67.0</td>\n",
       "      <td>4520.0</td>\n",
       "      <td>20.132301</td>\n",
       "      <td>...</td>\n",
       "      <td>1.0</td>\n",
       "      <td>1.0</td>\n",
       "      <td>4520.0</td>\n",
       "      <td>0.286726</td>\n",
       "      <td>0.452282</td>\n",
       "      <td>0.0</td>\n",
       "      <td>0.0</td>\n",
       "      <td>0.0</td>\n",
       "      <td>1.0</td>\n",
       "      <td>1.0</td>\n",
       "    </tr>\n",
       "    <tr>\n",
       "      <th>1</th>\n",
       "      <td>480.0</td>\n",
       "      <td>45.066667</td>\n",
       "      <td>11.590964</td>\n",
       "      <td>26.0</td>\n",
       "      <td>35.0</td>\n",
       "      <td>45.0</td>\n",
       "      <td>55.0</td>\n",
       "      <td>65.0</td>\n",
       "      <td>480.0</td>\n",
       "      <td>19.843750</td>\n",
       "      <td>...</td>\n",
       "      <td>1.0</td>\n",
       "      <td>1.0</td>\n",
       "      <td>480.0</td>\n",
       "      <td>0.427083</td>\n",
       "      <td>0.495171</td>\n",
       "      <td>0.0</td>\n",
       "      <td>0.0</td>\n",
       "      <td>0.0</td>\n",
       "      <td>1.0</td>\n",
       "      <td>1.0</td>\n",
       "    </tr>\n",
       "  </tbody>\n",
       "</table>\n",
       "<p>2 rows × 128 columns</p>\n",
       "</div>"
      ],
      "text/plain": [
       "                  Age                                                      \\\n",
       "                count       mean        std   min   25%   50%   75%   max   \n",
       "Personal Loan                                                               \n",
       "0              4520.0  45.367257  11.450427  23.0  35.0  45.0  55.0  67.0   \n",
       "1               480.0  45.066667  11.590964  26.0  35.0  45.0  55.0  65.0   \n",
       "\n",
       "              Experience             ... Education_2      Education_3  \\\n",
       "                   count       mean  ...         75%  max       count   \n",
       "Personal Loan                        ...                                \n",
       "0                 4520.0  20.132301  ...         1.0  1.0      4520.0   \n",
       "1                  480.0  19.843750  ...         1.0  1.0       480.0   \n",
       "\n",
       "                                                            \n",
       "                   mean       std  min  25%  50%  75%  max  \n",
       "Personal Loan                                               \n",
       "0              0.286726  0.452282  0.0  0.0  0.0  1.0  1.0  \n",
       "1              0.427083  0.495171  0.0  0.0  0.0  1.0  1.0  \n",
       "\n",
       "[2 rows x 128 columns]"
      ]
     },
     "execution_count": 148,
     "metadata": {},
     "output_type": "execute_result"
    }
   ],
   "source": [
    "bank_df.groupby('Personal Loan').describe()"
   ]
  },
  {
   "cell_type": "code",
   "execution_count": 149,
   "metadata": {},
   "outputs": [
    {
     "data": {
      "text/plain": [
       "Index(['Age', 'Experience', 'Income', 'CCAvg', 'Mortgage', 'Personal Loan',\n",
       "       'Securities Account', 'CD Account', 'Online', 'CreditCard', 'Family_1',\n",
       "       'Family_2', 'Family_3', 'Family_4', 'Education_1', 'Education_2',\n",
       "       'Education_3'],\n",
       "      dtype='object')"
      ]
     },
     "execution_count": 149,
     "metadata": {},
     "output_type": "execute_result"
    }
   ],
   "source": [
    "bank_df.columns"
   ]
  },
  {
   "cell_type": "code",
   "execution_count": 266,
   "metadata": {},
   "outputs": [
    {
     "data": {
      "text/html": [
       "<div>\n",
       "<style scoped>\n",
       "    .dataframe tbody tr th:only-of-type {\n",
       "        vertical-align: middle;\n",
       "    }\n",
       "\n",
       "    .dataframe tbody tr th {\n",
       "        vertical-align: top;\n",
       "    }\n",
       "\n",
       "    .dataframe thead th {\n",
       "        text-align: right;\n",
       "    }\n",
       "</style>\n",
       "<table border=\"1\" class=\"dataframe\">\n",
       "  <thead>\n",
       "    <tr style=\"text-align: right;\">\n",
       "      <th>Personal Loan</th>\n",
       "      <th>0</th>\n",
       "      <th>1</th>\n",
       "    </tr>\n",
       "  </thead>\n",
       "  <tbody>\n",
       "    <tr>\n",
       "      <th>Age</th>\n",
       "      <td>45.367257</td>\n",
       "      <td>45.066667</td>\n",
       "    </tr>\n",
       "    <tr>\n",
       "      <th>Experience</th>\n",
       "      <td>20.132301</td>\n",
       "      <td>19.843750</td>\n",
       "    </tr>\n",
       "    <tr>\n",
       "      <th>Income</th>\n",
       "      <td>66.237389</td>\n",
       "      <td>144.745833</td>\n",
       "    </tr>\n",
       "    <tr>\n",
       "      <th>CCAvg</th>\n",
       "      <td>1.729009</td>\n",
       "      <td>3.905354</td>\n",
       "    </tr>\n",
       "    <tr>\n",
       "      <th>Mortgage</th>\n",
       "      <td>51.789381</td>\n",
       "      <td>100.845833</td>\n",
       "    </tr>\n",
       "  </tbody>\n",
       "</table>\n",
       "</div>"
      ],
      "text/plain": [
       "Personal Loan          0           1\n",
       "Age            45.367257   45.066667\n",
       "Experience     20.132301   19.843750\n",
       "Income         66.237389  144.745833\n",
       "CCAvg           1.729009    3.905354\n",
       "Mortgage       51.789381  100.845833"
      ]
     },
     "execution_count": 266,
     "metadata": {},
     "output_type": "execute_result"
    }
   ],
   "source": [
    "bank_df[['Age', 'Experience', 'Income', 'CCAvg', 'Mortgage', 'Personal Loan']].groupby('Personal Loan').mean().transpose()"
   ]
  },
  {
   "cell_type": "markdown",
   "metadata": {},
   "source": [
    "Income과 Mortage에서 평균 차이가 크게 남."
   ]
  },
  {
   "cell_type": "code",
   "execution_count": 267,
   "metadata": {},
   "outputs": [
    {
     "data": {
      "text/html": [
       "<div>\n",
       "<style scoped>\n",
       "    .dataframe tbody tr th:only-of-type {\n",
       "        vertical-align: middle;\n",
       "    }\n",
       "\n",
       "    .dataframe tbody tr th {\n",
       "        vertical-align: top;\n",
       "    }\n",
       "\n",
       "    .dataframe thead th {\n",
       "        text-align: right;\n",
       "    }\n",
       "</style>\n",
       "<table border=\"1\" class=\"dataframe\">\n",
       "  <thead>\n",
       "    <tr style=\"text-align: right;\">\n",
       "      <th>Personal Loan</th>\n",
       "      <th>0</th>\n",
       "      <th>1</th>\n",
       "    </tr>\n",
       "  </thead>\n",
       "  <tbody>\n",
       "    <tr>\n",
       "      <th>Age</th>\n",
       "      <td>11.450427</td>\n",
       "      <td>11.590964</td>\n",
       "    </tr>\n",
       "    <tr>\n",
       "      <th>Experience</th>\n",
       "      <td>11.456672</td>\n",
       "      <td>11.582443</td>\n",
       "    </tr>\n",
       "    <tr>\n",
       "      <th>Income</th>\n",
       "      <td>40.578534</td>\n",
       "      <td>31.584429</td>\n",
       "    </tr>\n",
       "    <tr>\n",
       "      <th>CCAvg</th>\n",
       "      <td>1.567647</td>\n",
       "      <td>2.097681</td>\n",
       "    </tr>\n",
       "    <tr>\n",
       "      <th>Mortgage</th>\n",
       "      <td>92.038931</td>\n",
       "      <td>160.847862</td>\n",
       "    </tr>\n",
       "  </tbody>\n",
       "</table>\n",
       "</div>"
      ],
      "text/plain": [
       "Personal Loan          0           1\n",
       "Age            11.450427   11.590964\n",
       "Experience     11.456672   11.582443\n",
       "Income         40.578534   31.584429\n",
       "CCAvg           1.567647    2.097681\n",
       "Mortgage       92.038931  160.847862"
      ]
     },
     "execution_count": 267,
     "metadata": {},
     "output_type": "execute_result"
    }
   ],
   "source": [
    "bank_df[['Age', 'Experience', 'Income', 'CCAvg', 'Mortgage', 'Personal Loan']].groupby('Personal Loan').std().transpose()"
   ]
  },
  {
   "cell_type": "markdown",
   "metadata": {},
   "source": [
    "Income과 Mortgage의 표준편차 차이가 크게 나타남"
   ]
  },
  {
   "cell_type": "code",
   "execution_count": null,
   "metadata": {},
   "outputs": [],
   "source": []
  },
  {
   "cell_type": "code",
   "execution_count": 270,
   "metadata": {},
   "outputs": [
    {
     "name": "stdout",
     "output_type": "stream",
     "text": [
      "0    0.8956\n",
      "1    0.1044\n",
      "Name: Securities Account, dtype: float64 \n",
      "\n",
      "0    0.9396\n",
      "1    0.0604\n",
      "Name: CD Account, dtype: float64 \n",
      "\n",
      "1    0.5968\n",
      "0    0.4032\n",
      "Name: Online, dtype: float64 \n",
      "\n",
      "0    0.706\n",
      "1    0.294\n",
      "Name: CreditCard, dtype: float64 \n",
      "\n",
      "0    0.7056\n",
      "1    0.2944\n",
      "Name: Family_1, dtype: float64 \n",
      "\n",
      "0    0.7408\n",
      "1    0.2592\n",
      "Name: Family_2, dtype: float64 \n",
      "\n",
      "0    0.798\n",
      "1    0.202\n",
      "Name: Family_3, dtype: float64 \n",
      "\n",
      "0    0.7556\n",
      "1    0.2444\n",
      "Name: Family_4, dtype: float64 \n",
      "\n",
      "0    0.5808\n",
      "1    0.4192\n",
      "Name: Education_1, dtype: float64 \n",
      "\n",
      "0    0.7194\n",
      "1    0.2806\n",
      "Name: Education_2, dtype: float64 \n",
      "\n",
      "0    0.6998\n",
      "1    0.3002\n",
      "Name: Education_3, dtype: float64 \n",
      "\n"
     ]
    }
   ],
   "source": [
    "cols = ['Securities Account', 'CD Account', 'Online', 'CreditCard', 'Family_1',\n",
    "       'Family_2', 'Family_3', 'Family_4', 'Education_1', 'Education_2',\n",
    "       'Education_3']\n",
    "\n",
    "for c in cols:\n",
    "    print(bank_df[c].value_counts()/bank_df[c].size, '\\n')"
   ]
  },
  {
   "cell_type": "markdown",
   "metadata": {},
   "source": [
    "### b. (i)"
   ]
  },
  {
   "cell_type": "code",
   "execution_count": 155,
   "metadata": {},
   "outputs": [
    {
     "name": "stdout",
     "output_type": "stream",
     "text": [
      "Confusion Matrix (Accuracy 0.9430)\n",
      "\n",
      "       Prediction\n",
      "Actual    0    1\n",
      "     0 1776   31\n",
      "     1   83  110\n"
     ]
    }
   ],
   "source": [
    "da_reg = LinearDiscriminantAnalysis()\n",
    "da_reg.fit(train_X, train_y)\n",
    "\n",
    "classificationSummary(valid_y, \n",
    "                      da_reg.predict(valid_X),\n",
    "                      class_names=da_reg.classes_)"
   ]
  },
  {
   "cell_type": "markdown",
   "metadata": {},
   "source": [
    "### b. (ii)"
   ]
  },
  {
   "cell_type": "code",
   "execution_count": 156,
   "metadata": {},
   "outputs": [
    {
     "data": {
      "text/plain": [
       "0.01715550636413946"
      ]
     },
     "execution_count": 156,
     "metadata": {},
     "output_type": "execute_result"
    }
   ],
   "source": [
    "31/(1776+31)"
   ]
  },
  {
   "cell_type": "code",
   "execution_count": 157,
   "metadata": {},
   "outputs": [
    {
     "data": {
      "text/plain": [
       "0.43005181347150256"
      ]
     },
     "execution_count": 157,
     "metadata": {},
     "output_type": "execute_result"
    }
   ],
   "source": [
    "83/(83+110)"
   ]
  },
  {
   "cell_type": "markdown",
   "metadata": {},
   "source": [
    "클래스 1에 대한 오분류율이 더 크다."
   ]
  },
  {
   "cell_type": "markdown",
   "metadata": {},
   "source": [
    "### b. (iii)"
   ]
  },
  {
   "cell_type": "code",
   "execution_count": 196,
   "metadata": {},
   "outputs": [
    {
     "data": {
      "text/plain": [
       "933     0.942790\n",
       "3348    0.925045\n",
       "1574    0.554285\n",
       "Name: p(Owner), dtype: float64"
      ]
     },
     "execution_count": 196,
     "metadata": {},
     "output_type": "execute_result"
    }
   ],
   "source": [
    "result_df = pd.concat([valid_X, valid_y], axis=1).copy()\n",
    "result_df.index = result_df.index + 1\n",
    "result_df['Dec. Function'] = da_reg.decision_function(valid_X)\n",
    "result_df['Prediction'] = da_reg.predict(valid_X)\n",
    "result_df['p(Owner)'] = da_reg.predict_proba(valid_X)[:, 1]\n",
    "\n",
    "condition = (result_df['Personal Loan'] == 0) & (result_df['Prediction'] ==1)\n",
    "result_df[condition].head(3)['p(Owner)']"
   ]
  },
  {
   "cell_type": "markdown",
   "metadata": {},
   "source": [
    "0.5보다 훨씬 큰 확률을 가지는 관측치들이 있음 (Income과 Mortgage 때문?)"
   ]
  },
  {
   "cell_type": "code",
   "execution_count": 197,
   "metadata": {},
   "outputs": [
    {
     "data": {
      "text/plain": [
       "4378    0.283673\n",
       "3272    0.092847\n",
       "350     0.000475\n",
       "Name: p(Owner), dtype: float64"
      ]
     },
     "execution_count": 197,
     "metadata": {},
     "output_type": "execute_result"
    }
   ],
   "source": [
    "condition = (result_df['Personal Loan'] == 1) & (result_df['Prediction'] == 0)\n",
    "result_df[condition].head(3)['p(Owner)']"
   ]
  },
  {
   "cell_type": "markdown",
   "metadata": {},
   "source": [
    "0.5보다 훨씬 작은 확률을 가지는 관측치들이 있음"
   ]
  },
  {
   "cell_type": "markdown",
   "metadata": {},
   "source": [
    "### c."
   ]
  },
  {
   "cell_type": "code",
   "execution_count": 165,
   "metadata": {},
   "outputs": [
    {
     "data": {
      "image/png": "[encoded data removed]",
      "text/plain": [
       "<Figure size 432x288 with 2 Axes>"
      ]
     },
     "metadata": {
      "needs_background": "light"
     },
     "output_type": "display_data"
    }
   ],
   "source": [
    "pred_v = pd.Series(da_reg.predict(valid_X))\n",
    "pred_v = pred_v.sort_values(ascending=False)\n",
    "\n",
    "fig, axes = plt.subplots(nrows=1, ncols=2)\n",
    "ax = gainsChart(pred_v, ax=axes[0])\n",
    "ax.set_title('Cumulative Gains Chart')\n",
    "\n",
    "ax = liftChart(pred_v, ax=axes[1], labelBars=False)\n",
    "ax.set_ylabel('Lift')\n",
    "\n",
    "plt.tight_layout()\n",
    "plt.show()"
   ]
  },
  {
   "cell_type": "markdown",
   "metadata": {},
   "source": [
    "### d."
   ]
  },
  {
   "cell_type": "code",
   "execution_count": 190,
   "metadata": {},
   "outputs": [
    {
     "name": "stdout",
     "output_type": "stream",
     "text": [
      "Confusion Matrix (Accuracy 0.9620)\n",
      "\n",
      "       Prediction\n",
      "Actual    0    1\n",
      "     0 1794   13\n",
      "     1   63  130\n"
     ]
    }
   ],
   "source": [
    "logit_reg = LogisticRegression(penalty=\"l2\", C=1e42, solver='liblinear')\n",
    "logit_reg.fit(train_X, train_y)\n",
    "\n",
    "classificationSummary(valid_y, logit_reg.predict(valid_X))"
   ]
  },
  {
   "cell_type": "code",
   "execution_count": 192,
   "metadata": {},
   "outputs": [
    {
     "name": "stdout",
     "output_type": "stream",
     "text": [
      "대출 수락자에 대한 오분류율: 0.32642487046632124\n"
     ]
    }
   ],
   "source": [
    "print(f'대출 수락자에 대한 오분류율: {63/(63+130)}')"
   ]
  },
  {
   "cell_type": "markdown",
   "metadata": {},
   "source": [
    "b. (i)의 결과와 비교했을 때 로지스틱 회귀분석이 더 좋은 성능을 보인다. (전체적인 정확도가 더 높고 대출 수락자에 대한 오분류율이 더 낮음)"
   ]
  },
  {
   "cell_type": "markdown",
   "metadata": {},
   "source": [
    "### e."
   ]
  },
  {
   "cell_type": "code",
   "execution_count": 198,
   "metadata": {},
   "outputs": [
    {
     "data": {
      "text/plain": [
       "3867"
      ]
     },
     "execution_count": 198,
     "metadata": {},
     "output_type": "execute_result"
    }
   ],
   "source": [
    "0 + (-31*50) -83 + 110*50"
   ]
  },
  {
   "cell_type": "markdown",
   "metadata": {},
   "source": [
    "### f."
   ]
  },
  {
   "cell_type": "markdown",
   "metadata": {},
   "source": [
    "대출 수락자가 대출 거절자로 오분류되는 경우를 줄여야 하므로 컷오프값을 낮춰야 한다."
   ]
  },
  {
   "cell_type": "markdown",
   "metadata": {},
   "source": [
    "## 12.2"
   ]
  },
  {
   "cell_type": "code",
   "execution_count": 242,
   "metadata": {},
   "outputs": [
    {
     "data": {
      "text/html": [
       "<div>\n",
       "<style scoped>\n",
       "    .dataframe tbody tr th:only-of-type {\n",
       "        vertical-align: middle;\n",
       "    }\n",
       "\n",
       "    .dataframe tbody tr th {\n",
       "        vertical-align: top;\n",
       "    }\n",
       "\n",
       "    .dataframe thead th {\n",
       "        text-align: right;\n",
       "    }\n",
       "</style>\n",
       "<table border=\"1\" class=\"dataframe\">\n",
       "  <thead>\n",
       "    <tr style=\"text-align: right;\">\n",
       "      <th></th>\n",
       "      <th>Experience</th>\n",
       "      <th>Training</th>\n",
       "      <th>Completed task</th>\n",
       "    </tr>\n",
       "  </thead>\n",
       "  <tbody>\n",
       "    <tr>\n",
       "      <th>0</th>\n",
       "      <td>10.9</td>\n",
       "      <td>4</td>\n",
       "      <td>Yes</td>\n",
       "    </tr>\n",
       "    <tr>\n",
       "      <th>1</th>\n",
       "      <td>9.9</td>\n",
       "      <td>4</td>\n",
       "      <td>Yes</td>\n",
       "    </tr>\n",
       "    <tr>\n",
       "      <th>2</th>\n",
       "      <td>10.4</td>\n",
       "      <td>6</td>\n",
       "      <td>Yes</td>\n",
       "    </tr>\n",
       "    <tr>\n",
       "      <th>3</th>\n",
       "      <td>13.7</td>\n",
       "      <td>6</td>\n",
       "      <td>Yes</td>\n",
       "    </tr>\n",
       "    <tr>\n",
       "      <th>4</th>\n",
       "      <td>9.4</td>\n",
       "      <td>8</td>\n",
       "      <td>Yes</td>\n",
       "    </tr>\n",
       "  </tbody>\n",
       "</table>\n",
       "</div>"
      ],
      "text/plain": [
       "   Experience  Training Completed task\n",
       "0        10.9         4            Yes\n",
       "1         9.9         4            Yes\n",
       "2        10.4         6            Yes\n",
       "3        13.7         6            Yes\n",
       "4         9.4         8            Yes"
      ]
     },
     "execution_count": 242,
     "metadata": {},
     "output_type": "execute_result"
    }
   ],
   "source": [
    "adm_df = pd.read_csv('D:/숙탯 2기/dmba-datasets/SystemAdministrators.csv')\n",
    "adm_df.head()"
   ]
  },
  {
   "cell_type": "markdown",
   "metadata": {},
   "source": [
    "### a."
   ]
  },
  {
   "cell_type": "code",
   "execution_count": 215,
   "metadata": {},
   "outputs": [
    {
     "data": {
      "text/plain": [
       "[<matplotlib.lines.Line2D at 0x19d7bb846a0>]"
      ]
     },
     "execution_count": 215,
     "metadata": {},
     "output_type": "execute_result"
    },
    {
     "data": {
      "image/png": "[encoded data removed]",
      "text/plain": [
       "<Figure size 432x288 with 1 Axes>"
      ]
     },
     "metadata": {
      "needs_background": "light"
     },
     "output_type": "display_data"
    }
   ],
   "source": [
    "ax = adm_df[adm_df['Completed task']=='Yes'].plot.scatter(x='Experience', y='Training', c='blue', label='Completed')\n",
    "adm_df[adm_df['Completed task']=='No'].plot.scatter(x='Experience', y='Training', c='red', label='Not Completed', ax=ax)\n",
    "\n",
    "x_adhoc = np.array([8.3, 8.4])\n",
    "y_adhoc = np.array([3.7, 8.2])\n",
    "ax.plot(x_adhoc, y_adhoc, '-', color='C0', label='ad hoc line')"
   ]
  },
  {
   "cell_type": "code",
   "execution_count": 217,
   "metadata": {},
   "outputs": [
    {
     "data": {
      "text/html": [
       "<div>\n",
       "<style scoped>\n",
       "    .dataframe tbody tr th:only-of-type {\n",
       "        vertical-align: middle;\n",
       "    }\n",
       "\n",
       "    .dataframe tbody tr th {\n",
       "        vertical-align: top;\n",
       "    }\n",
       "\n",
       "    .dataframe thead th {\n",
       "        text-align: right;\n",
       "    }\n",
       "</style>\n",
       "<table border=\"1\" class=\"dataframe\">\n",
       "  <thead>\n",
       "    <tr style=\"text-align: right;\">\n",
       "      <th></th>\n",
       "      <th>Experience</th>\n",
       "      <th>Training</th>\n",
       "      <th>Completed task</th>\n",
       "    </tr>\n",
       "  </thead>\n",
       "  <tbody>\n",
       "    <tr>\n",
       "      <th>0</th>\n",
       "      <td>10.9</td>\n",
       "      <td>4</td>\n",
       "      <td>Yes</td>\n",
       "    </tr>\n",
       "    <tr>\n",
       "      <th>1</th>\n",
       "      <td>9.9</td>\n",
       "      <td>4</td>\n",
       "      <td>Yes</td>\n",
       "    </tr>\n",
       "    <tr>\n",
       "      <th>5</th>\n",
       "      <td>12.4</td>\n",
       "      <td>4</td>\n",
       "      <td>Yes</td>\n",
       "    </tr>\n",
       "    <tr>\n",
       "      <th>7</th>\n",
       "      <td>8.9</td>\n",
       "      <td>4</td>\n",
       "      <td>Yes</td>\n",
       "    </tr>\n",
       "    <tr>\n",
       "      <th>9</th>\n",
       "      <td>11.4</td>\n",
       "      <td>4</td>\n",
       "      <td>Yes</td>\n",
       "    </tr>\n",
       "    <tr>\n",
       "      <th>10</th>\n",
       "      <td>8.6</td>\n",
       "      <td>4</td>\n",
       "      <td>Yes</td>\n",
       "    </tr>\n",
       "    <tr>\n",
       "      <th>11</th>\n",
       "      <td>9.2</td>\n",
       "      <td>4</td>\n",
       "      <td>Yes</td>\n",
       "    </tr>\n",
       "    <tr>\n",
       "      <th>24</th>\n",
       "      <td>8.9</td>\n",
       "      <td>4</td>\n",
       "      <td>No</td>\n",
       "    </tr>\n",
       "    <tr>\n",
       "      <th>39</th>\n",
       "      <td>12.2</td>\n",
       "      <td>4</td>\n",
       "      <td>No</td>\n",
       "    </tr>\n",
       "    <tr>\n",
       "      <th>58</th>\n",
       "      <td>9.2</td>\n",
       "      <td>4</td>\n",
       "      <td>No</td>\n",
       "    </tr>\n",
       "    <tr>\n",
       "      <th>68</th>\n",
       "      <td>8.2</td>\n",
       "      <td>4</td>\n",
       "      <td>No</td>\n",
       "    </tr>\n",
       "  </tbody>\n",
       "</table>\n",
       "</div>"
      ],
      "text/plain": [
       "    Experience  Training Completed task\n",
       "0         10.9         4            Yes\n",
       "1          9.9         4            Yes\n",
       "5         12.4         4            Yes\n",
       "7          8.9         4            Yes\n",
       "9         11.4         4            Yes\n",
       "10         8.6         4            Yes\n",
       "11         9.2         4            Yes\n",
       "24         8.9         4             No\n",
       "39        12.2         4             No\n",
       "58         9.2         4             No\n",
       "68         8.2         4             No"
      ]
     },
     "execution_count": 217,
     "metadata": {},
     "output_type": "execute_result"
    }
   ],
   "source": [
    "# condition = (adm_df.Experience > 8) & (adm_df.Training < 4.5)\n",
    "# adm_df[condition]"
   ]
  },
  {
   "cell_type": "markdown",
   "metadata": {},
   "source": [
    "### b."
   ]
  },
  {
   "cell_type": "code",
   "execution_count": 218,
   "metadata": {},
   "outputs": [
    {
     "data": {
      "text/plain": [
       "LinearDiscriminantAnalysis()"
      ]
     },
     "execution_count": 218,
     "metadata": {},
     "output_type": "execute_result"
    }
   ],
   "source": [
    "da_reg = LinearDiscriminantAnalysis()\n",
    "da_reg.fit(adm_df.drop(columns=['Completed task']), adm_df['Completed task'])"
   ]
  },
  {
   "cell_type": "code",
   "execution_count": 219,
   "metadata": {},
   "outputs": [],
   "source": [
    "result_df = adm_df.copy()\n",
    "result_df.index = result_df.index + 1\n",
    "\n",
    "result_df['Prediction'] = da_reg.predict(adm_df.drop(columns=['Completed task']))"
   ]
  },
  {
   "cell_type": "code",
   "execution_count": 223,
   "metadata": {},
   "outputs": [
    {
     "data": {
      "text/plain": [
       "Prediction\n",
       "No     63\n",
       "Yes    12\n",
       "dtype: int64"
      ]
     },
     "execution_count": 223,
     "metadata": {},
     "output_type": "execute_result"
    }
   ],
   "source": [
    "result_df.groupby('Prediction').size()"
   ]
  },
  {
   "cell_type": "code",
   "execution_count": 224,
   "metadata": {},
   "outputs": [
    {
     "data": {
      "text/plain": [
       "0.84"
      ]
     },
     "execution_count": 224,
     "metadata": {},
     "output_type": "execute_result"
    }
   ],
   "source": [
    "63/(63+12)"
   ]
  },
  {
   "cell_type": "markdown",
   "metadata": {},
   "source": [
    "84%가 완료하지 못한 것으로 분류되었다."
   ]
  },
  {
   "cell_type": "markdown",
   "metadata": {},
   "source": [
    "### c."
   ]
  },
  {
   "cell_type": "code",
   "execution_count": 225,
   "metadata": {},
   "outputs": [
    {
     "name": "stdout",
     "output_type": "stream",
     "text": [
      "Coefficients [[1.44469947 0.14427824]]\n",
      "Intercept [-13.60512707]\n"
     ]
    }
   ],
   "source": [
    "print('Coefficients', da_reg.coef_)\n",
    "print('Intercept', da_reg.intercept_)"
   ]
  },
  {
   "cell_type": "code",
   "execution_count": 227,
   "metadata": {},
   "outputs": [
    {
     "data": {
      "text/plain": [
       "-6.96065975"
      ]
     },
     "execution_count": 227,
     "metadata": {},
     "output_type": "execute_result"
    }
   ],
   "source": [
    "Experience = 4      # 4개월 오타 같음\n",
    "Training = 6\n",
    "\n",
    "-13.60512707 + 1.44469947*Experience + 0.14427824*Training"
   ]
  },
  {
   "cell_type": "code",
   "execution_count": 226,
   "metadata": {},
   "outputs": [
    {
     "data": {
      "text/plain": [
       "array([10.9,  9.9, 10.4, 13.7,  9.4, 12.4,  7.9,  8.9, 10.2, 11.4,  8.6,\n",
       "        9.2, 11.7,  7.6,  7. ,  4.9,  7.1,  5. ,  4.8,  4.4,  4.2,  6.3,\n",
       "        4.7,  5.2,  5.5,  5.4,  5.7,  7.7,  2.7,  6.7,  6.2,  6.6,  3.6,\n",
       "        7.3, 12.2,  5.8,  6.1,  4.1,  4.5,  7.8,  4.3,  6.9,  6.8,  4.6,\n",
       "        7.2,  5.1,  5.9,  8. ,  4. ,  6.5,  7.4,  8.2,  5.6,  6.4,  3.8,\n",
       "        5.3])"
      ]
     },
     "execution_count": 226,
     "metadata": {},
     "output_type": "execute_result"
    }
   ],
   "source": [
    "# adm_df.Experience.unique()"
   ]
  },
  {
   "cell_type": "code",
   "execution_count": 234,
   "metadata": {},
   "outputs": [
    {
     "data": {
      "text/plain": [
       "array([[9.99052428e-01, 9.47571894e-04]])"
      ]
     },
     "execution_count": 234,
     "metadata": {},
     "output_type": "execute_result"
    }
   ],
   "source": [
    "df = pd.DataFrame({'Experience':[4], 'Training':[6]})\n",
    "da_reg.predict_proba(df)"
   ]
  },
  {
   "cell_type": "markdown",
   "metadata": {},
   "source": [
    "0.999 > 0.000947  \n",
    "완료하지 못한 것으로 분류된다."
   ]
  },
  {
   "cell_type": "markdown",
   "metadata": {},
   "source": [
    "-13.60512707 + 1.44469947*Experience + 0.14427824*Training > 0"
   ]
  },
  {
   "cell_type": "code",
   "execution_count": 357,
   "metadata": {},
   "outputs": [
    {
     "data": {
      "text/plain": [
       "9.017802235367332"
      ]
     },
     "execution_count": 357,
     "metadata": {},
     "output_type": "execute_result"
    }
   ],
   "source": [
    "(-0.14427824*4 + 13.60512707)/1.44469947"
   ]
  },
  {
   "cell_type": "markdown",
   "metadata": {},
   "source": [
    "### e."
   ]
  },
  {
   "cell_type": "code",
   "execution_count": 238,
   "metadata": {},
   "outputs": [
    {
     "name": "stdout",
     "output_type": "stream",
     "text": [
      "Confusion Matrix (Accuracy 0.9067)\n",
      "\n",
      "       Prediction\n",
      "Actual  No Yes\n",
      "    No  58   2\n",
      "   Yes   5  10\n"
     ]
    }
   ],
   "source": [
    "classificationSummary(adm_df['Completed task'],\n",
    "                      da_reg.predict(adm_df.drop(columns=['Completed task'])),\n",
    "                      class_names=da_reg.classes_)"
   ]
  },
  {
   "cell_type": "code",
   "execution_count": 243,
   "metadata": {},
   "outputs": [
    {
     "name": "stdout",
     "output_type": "stream",
     "text": [
      "Confusion Matrix (Accuracy 0.9067)\n",
      "\n",
      "       Prediction\n",
      "Actual  0  1\n",
      "     0 58  2\n",
      "     1  5 10\n"
     ]
    }
   ],
   "source": [
    "logit_reg = LogisticRegression(penalty=\"l2\", C=1e42, solver='liblinear')\n",
    "logit_reg.fit(adm_df.drop(columns=['Completed task']), adm_df['Completed task'])\n",
    "\n",
    "classificationSummary(adm_df['Completed task'], logit_reg.predict(adm_df.drop(columns=['Completed task'])))"
   ]
  },
  {
   "cell_type": "markdown",
   "metadata": {},
   "source": [
    "## 12.3"
   ]
  },
  {
   "cell_type": "markdown",
   "metadata": {},
   "source": [
    "### a."
   ]
  },
  {
   "cell_type": "code",
   "execution_count": 353,
   "metadata": {},
   "outputs": [
    {
     "data": {
      "text/html": [
       "<div>\n",
       "<style scoped>\n",
       "    .dataframe tbody tr th:only-of-type {\n",
       "        vertical-align: middle;\n",
       "    }\n",
       "\n",
       "    .dataframe tbody tr th {\n",
       "        vertical-align: top;\n",
       "    }\n",
       "\n",
       "    .dataframe thead th {\n",
       "        text-align: right;\n",
       "    }\n",
       "</style>\n",
       "<table border=\"1\" class=\"dataframe\">\n",
       "  <thead>\n",
       "    <tr style=\"text-align: right;\">\n",
       "      <th></th>\n",
       "      <th>make</th>\n",
       "      <th>address</th>\n",
       "      <th>all</th>\n",
       "      <th>W_3d</th>\n",
       "      <th>our</th>\n",
       "      <th>over</th>\n",
       "      <th>remove</th>\n",
       "      <th>internet</th>\n",
       "      <th>order</th>\n",
       "      <th>mail</th>\n",
       "      <th>...</th>\n",
       "      <th>C;</th>\n",
       "      <th>C(</th>\n",
       "      <th>C[</th>\n",
       "      <th>C!</th>\n",
       "      <th>C$</th>\n",
       "      <th>C#</th>\n",
       "      <th>CAP_avg</th>\n",
       "      <th>CAP_long</th>\n",
       "      <th>CAP_tot</th>\n",
       "      <th>Spam</th>\n",
       "    </tr>\n",
       "  </thead>\n",
       "  <tbody>\n",
       "    <tr>\n",
       "      <th>0</th>\n",
       "      <td>0.00</td>\n",
       "      <td>0.64</td>\n",
       "      <td>0.64</td>\n",
       "      <td>0.0</td>\n",
       "      <td>0.32</td>\n",
       "      <td>0.00</td>\n",
       "      <td>0.00</td>\n",
       "      <td>0.00</td>\n",
       "      <td>0.00</td>\n",
       "      <td>0.00</td>\n",
       "      <td>...</td>\n",
       "      <td>0.00</td>\n",
       "      <td>0.000</td>\n",
       "      <td>0.0</td>\n",
       "      <td>0.778</td>\n",
       "      <td>0.000</td>\n",
       "      <td>0.000</td>\n",
       "      <td>3.756</td>\n",
       "      <td>61</td>\n",
       "      <td>278</td>\n",
       "      <td>1</td>\n",
       "    </tr>\n",
       "    <tr>\n",
       "      <th>1</th>\n",
       "      <td>0.21</td>\n",
       "      <td>0.28</td>\n",
       "      <td>0.50</td>\n",
       "      <td>0.0</td>\n",
       "      <td>0.14</td>\n",
       "      <td>0.28</td>\n",
       "      <td>0.21</td>\n",
       "      <td>0.07</td>\n",
       "      <td>0.00</td>\n",
       "      <td>0.94</td>\n",
       "      <td>...</td>\n",
       "      <td>0.00</td>\n",
       "      <td>0.132</td>\n",
       "      <td>0.0</td>\n",
       "      <td>0.372</td>\n",
       "      <td>0.180</td>\n",
       "      <td>0.048</td>\n",
       "      <td>5.114</td>\n",
       "      <td>101</td>\n",
       "      <td>1028</td>\n",
       "      <td>1</td>\n",
       "    </tr>\n",
       "    <tr>\n",
       "      <th>2</th>\n",
       "      <td>0.06</td>\n",
       "      <td>0.00</td>\n",
       "      <td>0.71</td>\n",
       "      <td>0.0</td>\n",
       "      <td>1.23</td>\n",
       "      <td>0.19</td>\n",
       "      <td>0.19</td>\n",
       "      <td>0.12</td>\n",
       "      <td>0.64</td>\n",
       "      <td>0.25</td>\n",
       "      <td>...</td>\n",
       "      <td>0.01</td>\n",
       "      <td>0.143</td>\n",
       "      <td>0.0</td>\n",
       "      <td>0.276</td>\n",
       "      <td>0.184</td>\n",
       "      <td>0.010</td>\n",
       "      <td>9.821</td>\n",
       "      <td>485</td>\n",
       "      <td>2259</td>\n",
       "      <td>1</td>\n",
       "    </tr>\n",
       "    <tr>\n",
       "      <th>3</th>\n",
       "      <td>0.00</td>\n",
       "      <td>0.00</td>\n",
       "      <td>0.00</td>\n",
       "      <td>0.0</td>\n",
       "      <td>0.63</td>\n",
       "      <td>0.00</td>\n",
       "      <td>0.31</td>\n",
       "      <td>0.63</td>\n",
       "      <td>0.31</td>\n",
       "      <td>0.63</td>\n",
       "      <td>...</td>\n",
       "      <td>0.00</td>\n",
       "      <td>0.137</td>\n",
       "      <td>0.0</td>\n",
       "      <td>0.137</td>\n",
       "      <td>0.000</td>\n",
       "      <td>0.000</td>\n",
       "      <td>3.537</td>\n",
       "      <td>40</td>\n",
       "      <td>191</td>\n",
       "      <td>1</td>\n",
       "    </tr>\n",
       "    <tr>\n",
       "      <th>4</th>\n",
       "      <td>0.00</td>\n",
       "      <td>0.00</td>\n",
       "      <td>0.00</td>\n",
       "      <td>0.0</td>\n",
       "      <td>0.63</td>\n",
       "      <td>0.00</td>\n",
       "      <td>0.31</td>\n",
       "      <td>0.63</td>\n",
       "      <td>0.31</td>\n",
       "      <td>0.63</td>\n",
       "      <td>...</td>\n",
       "      <td>0.00</td>\n",
       "      <td>0.135</td>\n",
       "      <td>0.0</td>\n",
       "      <td>0.135</td>\n",
       "      <td>0.000</td>\n",
       "      <td>0.000</td>\n",
       "      <td>3.537</td>\n",
       "      <td>40</td>\n",
       "      <td>191</td>\n",
       "      <td>1</td>\n",
       "    </tr>\n",
       "  </tbody>\n",
       "</table>\n",
       "<p>5 rows × 58 columns</p>\n",
       "</div>"
      ],
      "text/plain": [
       "   make  address   all  W_3d   our  over  remove  internet  order  mail  ...  \\\n",
       "0  0.00     0.64  0.64   0.0  0.32  0.00    0.00      0.00   0.00  0.00  ...   \n",
       "1  0.21     0.28  0.50   0.0  0.14  0.28    0.21      0.07   0.00  0.94  ...   \n",
       "2  0.06     0.00  0.71   0.0  1.23  0.19    0.19      0.12   0.64  0.25  ...   \n",
       "3  0.00     0.00  0.00   0.0  0.63  0.00    0.31      0.63   0.31  0.63  ...   \n",
       "4  0.00     0.00  0.00   0.0  0.63  0.00    0.31      0.63   0.31  0.63  ...   \n",
       "\n",
       "     C;     C(   C[     C!     C$     C#  CAP_avg  CAP_long  CAP_tot  Spam  \n",
       "0  0.00  0.000  0.0  0.778  0.000  0.000    3.756        61      278     1  \n",
       "1  0.00  0.132  0.0  0.372  0.180  0.048    5.114       101     1028     1  \n",
       "2  0.01  0.143  0.0  0.276  0.184  0.010    9.821       485     2259     1  \n",
       "3  0.00  0.137  0.0  0.137  0.000  0.000    3.537        40      191     1  \n",
       "4  0.00  0.135  0.0  0.135  0.000  0.000    3.537        40      191     1  \n",
       "\n",
       "[5 rows x 58 columns]"
      ]
     },
     "execution_count": 353,
     "metadata": {},
     "output_type": "execute_result"
    }
   ],
   "source": [
    "spam_df = pd.read_csv('D:/숙탯 2기/dmba-datasets/spambase.csv')\n",
    "spam_df.head()"
   ]
  },
  {
   "cell_type": "code",
   "execution_count": 316,
   "metadata": {
    "scrolled": false
   },
   "outputs": [
    {
     "data": {
      "text/html": [
       "<div>\n",
       "<style scoped>\n",
       "    .dataframe tbody tr th:only-of-type {\n",
       "        vertical-align: middle;\n",
       "    }\n",
       "\n",
       "    .dataframe tbody tr th {\n",
       "        vertical-align: top;\n",
       "    }\n",
       "\n",
       "    .dataframe thead th {\n",
       "        text-align: right;\n",
       "    }\n",
       "</style>\n",
       "<table border=\"1\" class=\"dataframe\">\n",
       "  <thead>\n",
       "    <tr style=\"text-align: right;\">\n",
       "      <th>Spam</th>\n",
       "      <th>0</th>\n",
       "      <th>1</th>\n",
       "    </tr>\n",
       "  </thead>\n",
       "  <tbody>\n",
       "    <tr>\n",
       "      <th>make</th>\n",
       "      <td>0.073479</td>\n",
       "      <td>0.152339</td>\n",
       "    </tr>\n",
       "    <tr>\n",
       "      <th>address</th>\n",
       "      <td>0.244466</td>\n",
       "      <td>0.164650</td>\n",
       "    </tr>\n",
       "    <tr>\n",
       "      <th>all</th>\n",
       "      <td>0.200581</td>\n",
       "      <td>0.403795</td>\n",
       "    </tr>\n",
       "    <tr>\n",
       "      <th>W_3d</th>\n",
       "      <td>0.000886</td>\n",
       "      <td>0.164672</td>\n",
       "    </tr>\n",
       "    <tr>\n",
       "      <th>our</th>\n",
       "      <td>0.181040</td>\n",
       "      <td>0.513955</td>\n",
       "    </tr>\n",
       "    <tr>\n",
       "      <th>over</th>\n",
       "      <td>0.044544</td>\n",
       "      <td>0.174876</td>\n",
       "    </tr>\n",
       "    <tr>\n",
       "      <th>remove</th>\n",
       "      <td>0.009383</td>\n",
       "      <td>0.275405</td>\n",
       "    </tr>\n",
       "    <tr>\n",
       "      <th>internet</th>\n",
       "      <td>0.038415</td>\n",
       "      <td>0.208141</td>\n",
       "    </tr>\n",
       "    <tr>\n",
       "      <th>order</th>\n",
       "      <td>0.038049</td>\n",
       "      <td>0.170061</td>\n",
       "    </tr>\n",
       "    <tr>\n",
       "      <th>mail</th>\n",
       "      <td>0.167170</td>\n",
       "      <td>0.350507</td>\n",
       "    </tr>\n",
       "    <tr>\n",
       "      <th>receive</th>\n",
       "      <td>0.021711</td>\n",
       "      <td>0.118434</td>\n",
       "    </tr>\n",
       "    <tr>\n",
       "      <th>will</th>\n",
       "      <td>0.536324</td>\n",
       "      <td>0.549972</td>\n",
       "    </tr>\n",
       "    <tr>\n",
       "      <th>people</th>\n",
       "      <td>0.061664</td>\n",
       "      <td>0.143547</td>\n",
       "    </tr>\n",
       "    <tr>\n",
       "      <th>report</th>\n",
       "      <td>0.042403</td>\n",
       "      <td>0.083574</td>\n",
       "    </tr>\n",
       "    <tr>\n",
       "      <th>addresses</th>\n",
       "      <td>0.008318</td>\n",
       "      <td>0.112079</td>\n",
       "    </tr>\n",
       "    <tr>\n",
       "      <th>free</th>\n",
       "      <td>0.073587</td>\n",
       "      <td>0.518362</td>\n",
       "    </tr>\n",
       "    <tr>\n",
       "      <th>business</th>\n",
       "      <td>0.048346</td>\n",
       "      <td>0.287507</td>\n",
       "    </tr>\n",
       "    <tr>\n",
       "      <th>email</th>\n",
       "      <td>0.097292</td>\n",
       "      <td>0.319228</td>\n",
       "    </tr>\n",
       "    <tr>\n",
       "      <th>you</th>\n",
       "      <td>1.270341</td>\n",
       "      <td>2.264539</td>\n",
       "    </tr>\n",
       "    <tr>\n",
       "      <th>credit</th>\n",
       "      <td>0.007579</td>\n",
       "      <td>0.205521</td>\n",
       "    </tr>\n",
       "    <tr>\n",
       "      <th>your</th>\n",
       "      <td>0.438702</td>\n",
       "      <td>1.380370</td>\n",
       "    </tr>\n",
       "    <tr>\n",
       "      <th>font</th>\n",
       "      <td>0.045226</td>\n",
       "      <td>0.238036</td>\n",
       "    </tr>\n",
       "    <tr>\n",
       "      <th>W_000</th>\n",
       "      <td>0.007088</td>\n",
       "      <td>0.247055</td>\n",
       "    </tr>\n",
       "    <tr>\n",
       "      <th>money</th>\n",
       "      <td>0.017138</td>\n",
       "      <td>0.212879</td>\n",
       "    </tr>\n",
       "    <tr>\n",
       "      <th>hp</th>\n",
       "      <td>0.895473</td>\n",
       "      <td>0.017479</td>\n",
       "    </tr>\n",
       "    <tr>\n",
       "      <th>hpl</th>\n",
       "      <td>0.431994</td>\n",
       "      <td>0.009173</td>\n",
       "    </tr>\n",
       "    <tr>\n",
       "      <th>george</th>\n",
       "      <td>1.265265</td>\n",
       "      <td>0.001550</td>\n",
       "    </tr>\n",
       "    <tr>\n",
       "      <th>W_650</th>\n",
       "      <td>0.193806</td>\n",
       "      <td>0.018798</td>\n",
       "    </tr>\n",
       "    <tr>\n",
       "      <th>lab</th>\n",
       "      <td>0.162794</td>\n",
       "      <td>0.000684</td>\n",
       "    </tr>\n",
       "    <tr>\n",
       "      <th>labs</th>\n",
       "      <td>0.165854</td>\n",
       "      <td>0.005968</td>\n",
       "    </tr>\n",
       "    <tr>\n",
       "      <th>telnet</th>\n",
       "      <td>0.106033</td>\n",
       "      <td>0.001274</td>\n",
       "    </tr>\n",
       "    <tr>\n",
       "      <th>W_857</th>\n",
       "      <td>0.077306</td>\n",
       "      <td>0.000518</td>\n",
       "    </tr>\n",
       "    <tr>\n",
       "      <th>data</th>\n",
       "      <td>0.150986</td>\n",
       "      <td>0.014562</td>\n",
       "    </tr>\n",
       "    <tr>\n",
       "      <th>W_415</th>\n",
       "      <td>0.077787</td>\n",
       "      <td>0.001776</td>\n",
       "    </tr>\n",
       "    <tr>\n",
       "      <th>W_85</th>\n",
       "      <td>0.169455</td>\n",
       "      <td>0.006928</td>\n",
       "    </tr>\n",
       "    <tr>\n",
       "      <th>technology</th>\n",
       "      <td>0.141671</td>\n",
       "      <td>0.029515</td>\n",
       "    </tr>\n",
       "    <tr>\n",
       "      <th>W_1999</th>\n",
       "      <td>0.197744</td>\n",
       "      <td>0.043469</td>\n",
       "    </tr>\n",
       "    <tr>\n",
       "      <th>parts</th>\n",
       "      <td>0.018723</td>\n",
       "      <td>0.004710</td>\n",
       "    </tr>\n",
       "    <tr>\n",
       "      <th>pm</th>\n",
       "      <td>0.121679</td>\n",
       "      <td>0.012427</td>\n",
       "    </tr>\n",
       "    <tr>\n",
       "      <th>direct</th>\n",
       "      <td>0.083117</td>\n",
       "      <td>0.036718</td>\n",
       "    </tr>\n",
       "    <tr>\n",
       "      <th>cs</th>\n",
       "      <td>0.072027</td>\n",
       "      <td>0.000055</td>\n",
       "    </tr>\n",
       "    <tr>\n",
       "      <th>meeting</th>\n",
       "      <td>0.216808</td>\n",
       "      <td>0.002443</td>\n",
       "    </tr>\n",
       "    <tr>\n",
       "      <th>original</th>\n",
       "      <td>0.070581</td>\n",
       "      <td>0.008450</td>\n",
       "    </tr>\n",
       "    <tr>\n",
       "      <th>project</th>\n",
       "      <td>0.126636</td>\n",
       "      <td>0.006244</td>\n",
       "    </tr>\n",
       "    <tr>\n",
       "      <th>re:</th>\n",
       "      <td>0.415760</td>\n",
       "      <td>0.125091</td>\n",
       "    </tr>\n",
       "    <tr>\n",
       "      <th>edu</th>\n",
       "      <td>0.287184</td>\n",
       "      <td>0.014727</td>\n",
       "    </tr>\n",
       "    <tr>\n",
       "      <th>table</th>\n",
       "      <td>0.008192</td>\n",
       "      <td>0.001219</td>\n",
       "    </tr>\n",
       "    <tr>\n",
       "      <th>conference</th>\n",
       "      <td>0.051227</td>\n",
       "      <td>0.002101</td>\n",
       "    </tr>\n",
       "    <tr>\n",
       "      <th>C;</th>\n",
       "      <td>0.050281</td>\n",
       "      <td>0.020573</td>\n",
       "    </tr>\n",
       "    <tr>\n",
       "      <th>C(</th>\n",
       "      <td>0.158578</td>\n",
       "      <td>0.108970</td>\n",
       "    </tr>\n",
       "    <tr>\n",
       "      <th>C[</th>\n",
       "      <td>0.022684</td>\n",
       "      <td>0.008199</td>\n",
       "    </tr>\n",
       "    <tr>\n",
       "      <th>C!</th>\n",
       "      <td>0.109984</td>\n",
       "      <td>0.513713</td>\n",
       "    </tr>\n",
       "    <tr>\n",
       "      <th>C$</th>\n",
       "      <td>0.011648</td>\n",
       "      <td>0.174478</td>\n",
       "    </tr>\n",
       "    <tr>\n",
       "      <th>C#</th>\n",
       "      <td>0.021713</td>\n",
       "      <td>0.078877</td>\n",
       "    </tr>\n",
       "    <tr>\n",
       "      <th>CAP_avg</th>\n",
       "      <td>2.377301</td>\n",
       "      <td>9.519165</td>\n",
       "    </tr>\n",
       "    <tr>\n",
       "      <th>CAP_long</th>\n",
       "      <td>18.214491</td>\n",
       "      <td>104.393271</td>\n",
       "    </tr>\n",
       "    <tr>\n",
       "      <th>CAP_tot</th>\n",
       "      <td>161.470947</td>\n",
       "      <td>470.619415</td>\n",
       "    </tr>\n",
       "  </tbody>\n",
       "</table>\n",
       "</div>"
      ],
      "text/plain": [
       "Spam                 0           1\n",
       "make          0.073479    0.152339\n",
       "address       0.244466    0.164650\n",
       "all           0.200581    0.403795\n",
       "W_3d          0.000886    0.164672\n",
       "our           0.181040    0.513955\n",
       "over          0.044544    0.174876\n",
       "remove        0.009383    0.275405\n",
       "internet      0.038415    0.208141\n",
       "order         0.038049    0.170061\n",
       "mail          0.167170    0.350507\n",
       "receive       0.021711    0.118434\n",
       "will          0.536324    0.549972\n",
       "people        0.061664    0.143547\n",
       "report        0.042403    0.083574\n",
       "addresses     0.008318    0.112079\n",
       "free          0.073587    0.518362\n",
       "business      0.048346    0.287507\n",
       "email         0.097292    0.319228\n",
       "you           1.270341    2.264539\n",
       "credit        0.007579    0.205521\n",
       "your          0.438702    1.380370\n",
       "font          0.045226    0.238036\n",
       "W_000         0.007088    0.247055\n",
       "money         0.017138    0.212879\n",
       "hp            0.895473    0.017479\n",
       "hpl           0.431994    0.009173\n",
       "george        1.265265    0.001550\n",
       "W_650         0.193806    0.018798\n",
       "lab           0.162794    0.000684\n",
       "labs          0.165854    0.005968\n",
       "telnet        0.106033    0.001274\n",
       "W_857         0.077306    0.000518\n",
       "data          0.150986    0.014562\n",
       "W_415         0.077787    0.001776\n",
       "W_85          0.169455    0.006928\n",
       "technology    0.141671    0.029515\n",
       "W_1999        0.197744    0.043469\n",
       "parts         0.018723    0.004710\n",
       "pm            0.121679    0.012427\n",
       "direct        0.083117    0.036718\n",
       "cs            0.072027    0.000055\n",
       "meeting       0.216808    0.002443\n",
       "original      0.070581    0.008450\n",
       "project       0.126636    0.006244\n",
       "re:           0.415760    0.125091\n",
       "edu           0.287184    0.014727\n",
       "table         0.008192    0.001219\n",
       "conference    0.051227    0.002101\n",
       "C;            0.050281    0.020573\n",
       "C(            0.158578    0.108970\n",
       "C[            0.022684    0.008199\n",
       "C!            0.109984    0.513713\n",
       "C$            0.011648    0.174478\n",
       "C#            0.021713    0.078877\n",
       "CAP_avg       2.377301    9.519165\n",
       "CAP_long     18.214491  104.393271\n",
       "CAP_tot     161.470947  470.619415"
      ]
     },
     "execution_count": 316,
     "metadata": {},
     "output_type": "execute_result"
    }
   ],
   "source": [
    "mean_df = spam_df.groupby('Spam').mean().transpose()\n",
    "mean_df"
   ]
  },
  {
   "cell_type": "code",
   "execution_count": 339,
   "metadata": {
    "scrolled": false
   },
   "outputs": [
    {
     "data": {
      "text/plain": [
       "cs         1305.841212\n",
       "george      816.343848\n",
       "lab         238.020754\n",
       "W_3d        185.872477\n",
       "W_857       149.102495\n",
       "meeting      88.729672\n",
       "telnet       83.219838\n",
       "hp           51.230463\n",
       "hpl          47.095947\n",
       "W_415        43.797432\n",
       "W_000        34.857704\n",
       "dtype: float64"
      ]
     },
     "execution_count": 339,
     "metadata": {},
     "output_type": "execute_result"
    }
   ],
   "source": [
    "def rate(df):\n",
    "    ds = pd.Series(dtype='float64')\n",
    "    for i in df.index:\n",
    "        if (df.loc[i][0]/df.loc[i][1]) >= 1:\n",
    "            ds[i] = df.loc[i][0]/df.loc[i][1]\n",
    "        else:\n",
    "            ds[i] = df.loc[i][1]/df.loc[i][0]\n",
    "    return ds\n",
    "\n",
    "rate(mean_df).sort_values(ascending = False).head(11)"
   ]
  },
  {
   "cell_type": "markdown",
   "metadata": {},
   "source": [
    "11개 예측변수 : 'cs', 'george', 'lab', 'W_3d', 'W_857', 'meeting', 'telnet', 'hp',\n",
    "       'hpl', 'W_415', 'W_000'  \n",
    "\n",
    "위 11개 단어/기호들이 스팸에서 자주 발생."
   ]
  },
  {
   "cell_type": "markdown",
   "metadata": {},
   "source": [
    "### b."
   ]
  },
  {
   "cell_type": "code",
   "execution_count": 334,
   "metadata": {},
   "outputs": [],
   "source": [
    "spam_df = spam_df.loc[:, ['cs', 'george', 'lab', 'W_3d', 'W_857', 'meeting', 'telnet', 'hp', 'hpl', 'W_415', 'W_000', 'Spam']]\n",
    "\n",
    "X = spam_df.drop(columns=['Spam'])\n",
    "y = spam_df['Spam']\n",
    "\n",
    "train_X, valid_X, train_y, valid_y = train_test_split(X, y, test_size=0.4, random_state=1)"
   ]
  },
  {
   "cell_type": "code",
   "execution_count": 338,
   "metadata": {},
   "outputs": [
    {
     "name": "stdout",
     "output_type": "stream",
     "text": [
      "Coefficients [[-0.80349427 -0.13193296 -0.1628845   0.07946074 -0.7189669  -0.40774167\n",
      "  -0.33026664 -0.24800257 -0.41847786  1.42942312  2.22469854]]\n",
      "Intercept [-0.42043835]\n"
     ]
    }
   ],
   "source": [
    "da_reg = LinearDiscriminantAnalysis()\n",
    "da_reg.fit(train_X, train_y)\n",
    "\n",
    "print('Coefficients', da_reg.coef_)\n",
    "print('Intercept', da_reg.intercept_)\n"
   ]
  },
  {
   "cell_type": "markdown",
   "metadata": {},
   "source": [
    "### c."
   ]
  },
  {
   "cell_type": "code",
   "execution_count": 344,
   "metadata": {},
   "outputs": [
    {
     "name": "stdout",
     "output_type": "stream",
     "text": [
      "Confusion Matrix (Accuracy 0.7250)\n",
      "\n",
      "       Prediction\n",
      "Actual    0    1\n",
      "     0 1675   15\n",
      "     1  744  326\n"
     ]
    }
   ],
   "source": [
    "classificationSummary(train_y, \n",
    "                      da_reg.predict(train_X),\n",
    "                      class_names=da_reg.classes_)"
   ]
  },
  {
   "cell_type": "code",
   "execution_count": 348,
   "metadata": {},
   "outputs": [
    {
     "data": {
      "text/plain": [
       "0.305"
      ]
     },
     "execution_count": 348,
     "metadata": {},
     "output_type": "execute_result"
    }
   ],
   "source": [
    "round(326/(744+326), 3)"
   ]
  },
  {
   "cell_type": "code",
   "execution_count": 340,
   "metadata": {},
   "outputs": [
    {
     "name": "stdout",
     "output_type": "stream",
     "text": [
      "Confusion Matrix (Accuracy 0.7078)\n",
      "\n",
      "       Prediction\n",
      "Actual    0    1\n",
      "     0 1089    9\n",
      "     1  529  214\n"
     ]
    }
   ],
   "source": [
    "classificationSummary(valid_y, \n",
    "                      da_reg.predict(valid_X),\n",
    "                      class_names=da_reg.classes_)"
   ]
  },
  {
   "cell_type": "code",
   "execution_count": 349,
   "metadata": {},
   "outputs": [
    {
     "data": {
      "text/plain": [
       "0.288"
      ]
     },
     "execution_count": 349,
     "metadata": {},
     "output_type": "execute_result"
    }
   ],
   "source": [
    "round(214/(529+214), 3)"
   ]
  },
  {
   "cell_type": "markdown",
   "metadata": {},
   "source": [
    "스팸을 제대로 발견하는 비율이 낮으므로 유용한 모형으로 보기 어렵다."
   ]
  }
 ],
 "metadata": {
  "kernelspec": {
   "display_name": "Python 3",
   "language": "python",
   "name": "python3"
  },
  "language_info": {
   "codemirror_mode": {
    "name": "ipython",
    "version": 3
   },
   "file_extension": ".py",
   "mimetype": "text/x-python",
   "name": "python",
   "nbconvert_exporter": "python",
   "pygments_lexer": "ipython3",
   "version": "3.8.5"
  }
 },
 "nbformat": 4,
 "nbformat_minor": 4
}
