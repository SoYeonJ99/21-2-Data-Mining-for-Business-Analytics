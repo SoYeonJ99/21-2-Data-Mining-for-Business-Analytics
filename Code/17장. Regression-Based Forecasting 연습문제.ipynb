{
 "cells": [
  {
   "cell_type": "code",
   "execution_count": 1,
   "metadata": {},
   "outputs": [],
   "source": [
    "%matplotlib inline\n",
    "\n",
    "from pathlib import Path\n",
    "\n",
    "import math\n",
    "import numpy as np\n",
    "import pandas as pd\n",
    "import matplotlib.pylab as plt\n",
    "import statsmodels.formula.api as sm\n",
    "from statsmodels.tsa import tsatools, stattools\n",
    "from statsmodels.tsa.arima_model import ARIMA\n",
    "from statsmodels.graphics import tsaplots\n"
   ]
  },
  {
   "cell_type": "markdown",
   "metadata": {},
   "source": [
    "### 17.1"
   ]
  },
  {
   "cell_type": "code",
   "execution_count": 78,
   "metadata": {},
   "outputs": [
    {
     "data": {
      "text/html": [
       "<div>\n",
       "<style scoped>\n",
       "    .dataframe tbody tr th:only-of-type {\n",
       "        vertical-align: middle;\n",
       "    }\n",
       "\n",
       "    .dataframe tbody tr th {\n",
       "        vertical-align: top;\n",
       "    }\n",
       "\n",
       "    .dataframe thead th {\n",
       "        text-align: right;\n",
       "    }\n",
       "</style>\n",
       "<table border=\"1\" class=\"dataframe\">\n",
       "  <thead>\n",
       "    <tr style=\"text-align: right;\">\n",
       "      <th></th>\n",
       "      <th>Month-Year</th>\n",
       "      <th>AirRPM</th>\n",
       "      <th>RailPM</th>\n",
       "      <th>VMT_billions</th>\n",
       "    </tr>\n",
       "  </thead>\n",
       "  <tbody>\n",
       "    <tr>\n",
       "      <th>0</th>\n",
       "      <td>Jan-90</td>\n",
       "      <td>35153577</td>\n",
       "      <td>454115779</td>\n",
       "      <td>163.28</td>\n",
       "    </tr>\n",
       "    <tr>\n",
       "      <th>1</th>\n",
       "      <td>Feb-90</td>\n",
       "      <td>32965187</td>\n",
       "      <td>435086002</td>\n",
       "      <td>153.25</td>\n",
       "    </tr>\n",
       "    <tr>\n",
       "      <th>2</th>\n",
       "      <td>Mar-90</td>\n",
       "      <td>39993913</td>\n",
       "      <td>568289732</td>\n",
       "      <td>178.42</td>\n",
       "    </tr>\n",
       "    <tr>\n",
       "      <th>3</th>\n",
       "      <td>Apr-90</td>\n",
       "      <td>37981886</td>\n",
       "      <td>568101697</td>\n",
       "      <td>178.68</td>\n",
       "    </tr>\n",
       "    <tr>\n",
       "      <th>4</th>\n",
       "      <td>May-90</td>\n",
       "      <td>38419672</td>\n",
       "      <td>539628385</td>\n",
       "      <td>188.88</td>\n",
       "    </tr>\n",
       "    <tr>\n",
       "      <th>...</th>\n",
       "      <td>...</td>\n",
       "      <td>...</td>\n",
       "      <td>...</td>\n",
       "      <td>...</td>\n",
       "    </tr>\n",
       "    <tr>\n",
       "      <th>167</th>\n",
       "      <td>3-Dec</td>\n",
       "      <td>57795908</td>\n",
       "      <td>489403554</td>\n",
       "      <td>237.60</td>\n",
       "    </tr>\n",
       "    <tr>\n",
       "      <th>168</th>\n",
       "      <td>4-Jan</td>\n",
       "      <td>53447972</td>\n",
       "      <td>410338691</td>\n",
       "      <td>217.30</td>\n",
       "    </tr>\n",
       "    <tr>\n",
       "      <th>169</th>\n",
       "      <td>4-Feb</td>\n",
       "      <td>52608801</td>\n",
       "      <td>389778365</td>\n",
       "      <td>210.40</td>\n",
       "    </tr>\n",
       "    <tr>\n",
       "      <th>170</th>\n",
       "      <td>4-Mar</td>\n",
       "      <td>63600019</td>\n",
       "      <td>453014590</td>\n",
       "      <td>247.50</td>\n",
       "    </tr>\n",
       "    <tr>\n",
       "      <th>171</th>\n",
       "      <td>4-Apr</td>\n",
       "      <td>61887720</td>\n",
       "      <td>471116666</td>\n",
       "      <td>245.40</td>\n",
       "    </tr>\n",
       "  </tbody>\n",
       "</table>\n",
       "<p>172 rows × 4 columns</p>\n",
       "</div>"
      ],
      "text/plain": [
       "    Month-Year    AirRPM     RailPM  VMT_billions\n",
       "0       Jan-90  35153577  454115779        163.28\n",
       "1       Feb-90  32965187  435086002        153.25\n",
       "2       Mar-90  39993913  568289732        178.42\n",
       "3       Apr-90  37981886  568101697        178.68\n",
       "4       May-90  38419672  539628385        188.88\n",
       "..         ...       ...        ...           ...\n",
       "167      3-Dec  57795908  489403554        237.60\n",
       "168      4-Jan  53447972  410338691        217.30\n",
       "169      4-Feb  52608801  389778365        210.40\n",
       "170      4-Mar  63600019  453014590        247.50\n",
       "171      4-Apr  61887720  471116666        245.40\n",
       "\n",
       "[172 rows x 4 columns]"
      ]
     },
     "execution_count": 78,
     "metadata": {},
     "output_type": "execute_result"
    }
   ],
   "source": [
    "s11_df = pd.read_csv('D:\\숙탯 2기\\dmba-datasets\\Sept11Travel.csv')\n",
    "s11_df"
   ]
  },
  {
   "cell_type": "code",
   "execution_count": 45,
   "metadata": {},
   "outputs": [
    {
     "data": {
      "text/html": [
       "<div>\n",
       "<style scoped>\n",
       "    .dataframe tbody tr th:only-of-type {\n",
       "        vertical-align: middle;\n",
       "    }\n",
       "\n",
       "    .dataframe tbody tr th {\n",
       "        vertical-align: top;\n",
       "    }\n",
       "\n",
       "    .dataframe thead th {\n",
       "        text-align: right;\n",
       "    }\n",
       "</style>\n",
       "<table border=\"1\" class=\"dataframe\">\n",
       "  <thead>\n",
       "    <tr style=\"text-align: right;\">\n",
       "      <th></th>\n",
       "      <th>Month-Year</th>\n",
       "      <th>AirRPM</th>\n",
       "      <th>RailPM</th>\n",
       "      <th>VMT_billions</th>\n",
       "    </tr>\n",
       "  </thead>\n",
       "  <tbody>\n",
       "    <tr>\n",
       "      <th>131</th>\n",
       "      <td>Dec-00</td>\n",
       "      <td>55380280</td>\n",
       "      <td>461651082</td>\n",
       "      <td>218.44</td>\n",
       "    </tr>\n",
       "  </tbody>\n",
       "</table>\n",
       "</div>"
      ],
      "text/plain": [
       "    Month-Year    AirRPM     RailPM  VMT_billions\n",
       "131     Dec-00  55380280  461651082        218.44"
      ]
     },
     "execution_count": 45,
     "metadata": {},
     "output_type": "execute_result"
    }
   ],
   "source": [
    "s11_df[s11_df['Month-Year']=='Dec-00']"
   ]
  },
  {
   "cell_type": "code",
   "execution_count": 46,
   "metadata": {},
   "outputs": [
    {
     "data": {
      "text/html": [
       "<div>\n",
       "<style scoped>\n",
       "    .dataframe tbody tr th:only-of-type {\n",
       "        vertical-align: middle;\n",
       "    }\n",
       "\n",
       "    .dataframe tbody tr th {\n",
       "        vertical-align: top;\n",
       "    }\n",
       "\n",
       "    .dataframe thead th {\n",
       "        text-align: right;\n",
       "    }\n",
       "</style>\n",
       "<table border=\"1\" class=\"dataframe\">\n",
       "  <thead>\n",
       "    <tr style=\"text-align: right;\">\n",
       "      <th></th>\n",
       "      <th>Month-Year</th>\n",
       "      <th>AirRPM</th>\n",
       "      <th>RailPM</th>\n",
       "      <th>VMT_billions</th>\n",
       "    </tr>\n",
       "  </thead>\n",
       "  <tbody>\n",
       "    <tr>\n",
       "      <th>132</th>\n",
       "      <td>1-Jan</td>\n",
       "      <td>53129922</td>\n",
       "      <td>379458113</td>\n",
       "      <td>209.26</td>\n",
       "    </tr>\n",
       "  </tbody>\n",
       "</table>\n",
       "</div>"
      ],
      "text/plain": [
       "    Month-Year    AirRPM     RailPM  VMT_billions\n",
       "132      1-Jan  53129922  379458113        209.26"
      ]
     },
     "execution_count": 46,
     "metadata": {},
     "output_type": "execute_result"
    }
   ],
   "source": [
    "s11_df[s11_df['Month-Year']=='1-Jan']"
   ]
  },
  {
   "cell_type": "code",
   "execution_count": null,
   "metadata": {},
   "outputs": [],
   "source": []
  },
  {
   "cell_type": "code",
   "execution_count": 79,
   "metadata": {},
   "outputs": [],
   "source": [
    "d0 = s11_df.iloc[:132]\n",
    "j1 = s11_df.iloc[132:]"
   ]
  },
  {
   "cell_type": "code",
   "execution_count": 80,
   "metadata": {},
   "outputs": [
    {
     "name": "stderr",
     "output_type": "stream",
     "text": [
      "<ipython-input-80-8fa48cd501c1>:1: SettingWithCopyWarning: \n",
      "A value is trying to be set on a copy of a slice from a DataFrame.\n",
      "Try using .loc[row_indexer,col_indexer] = value instead\n",
      "\n",
      "See the caveats in the documentation: https://pandas.pydata.org/pandas-docs/stable/user_guide/indexing.html#returning-a-view-versus-a-copy\n",
      "  j1['Month-Year'] =  '0'+ j1['Month-Year'].astype(str)\n"
     ]
    },
    {
     "data": {
      "text/html": [
       "<div>\n",
       "<style scoped>\n",
       "    .dataframe tbody tr th:only-of-type {\n",
       "        vertical-align: middle;\n",
       "    }\n",
       "\n",
       "    .dataframe tbody tr th {\n",
       "        vertical-align: top;\n",
       "    }\n",
       "\n",
       "    .dataframe thead th {\n",
       "        text-align: right;\n",
       "    }\n",
       "</style>\n",
       "<table border=\"1\" class=\"dataframe\">\n",
       "  <thead>\n",
       "    <tr style=\"text-align: right;\">\n",
       "      <th></th>\n",
       "      <th>Month-Year</th>\n",
       "      <th>AirRPM</th>\n",
       "      <th>RailPM</th>\n",
       "      <th>VMT_billions</th>\n",
       "    </tr>\n",
       "  </thead>\n",
       "  <tbody>\n",
       "    <tr>\n",
       "      <th>132</th>\n",
       "      <td>01-Jan</td>\n",
       "      <td>53129922</td>\n",
       "      <td>379458113</td>\n",
       "      <td>209.26</td>\n",
       "    </tr>\n",
       "    <tr>\n",
       "      <th>133</th>\n",
       "      <td>01-Feb</td>\n",
       "      <td>49992995</td>\n",
       "      <td>366288212</td>\n",
       "      <td>199.91</td>\n",
       "    </tr>\n",
       "    <tr>\n",
       "      <th>134</th>\n",
       "      <td>01-Mar</td>\n",
       "      <td>62323049</td>\n",
       "      <td>448912584</td>\n",
       "      <td>231.49</td>\n",
       "    </tr>\n",
       "    <tr>\n",
       "      <th>135</th>\n",
       "      <td>01-Apr</td>\n",
       "      <td>59801562</td>\n",
       "      <td>455496342</td>\n",
       "      <td>231.37</td>\n",
       "    </tr>\n",
       "    <tr>\n",
       "      <th>136</th>\n",
       "      <td>01-May</td>\n",
       "      <td>60246477</td>\n",
       "      <td>462376555</td>\n",
       "      <td>244.25</td>\n",
       "    </tr>\n",
       "  </tbody>\n",
       "</table>\n",
       "</div>"
      ],
      "text/plain": [
       "    Month-Year    AirRPM     RailPM  VMT_billions\n",
       "132     01-Jan  53129922  379458113        209.26\n",
       "133     01-Feb  49992995  366288212        199.91\n",
       "134     01-Mar  62323049  448912584        231.49\n",
       "135     01-Apr  59801562  455496342        231.37\n",
       "136     01-May  60246477  462376555        244.25"
      ]
     },
     "execution_count": 80,
     "metadata": {},
     "output_type": "execute_result"
    }
   ],
   "source": [
    "j1['Month-Year'] =  '0'+ j1['Month-Year'].astype(str)\n",
    "j1.head()"
   ]
  },
  {
   "cell_type": "code",
   "execution_count": 81,
   "metadata": {},
   "outputs": [
    {
     "name": "stderr",
     "output_type": "stream",
     "text": [
      "<ipython-input-81-4b3ba95f1b33>:1: SettingWithCopyWarning: \n",
      "A value is trying to be set on a copy of a slice from a DataFrame.\n",
      "Try using .loc[row_indexer,col_indexer] = value instead\n",
      "\n",
      "See the caveats in the documentation: https://pandas.pydata.org/pandas-docs/stable/user_guide/indexing.html#returning-a-view-versus-a-copy\n",
      "  d0['Date'] = pd.to_datetime(d0['Month-Year'], format='%b-%y')\n",
      "<ipython-input-81-4b3ba95f1b33>:2: SettingWithCopyWarning: \n",
      "A value is trying to be set on a copy of a slice from a DataFrame.\n",
      "Try using .loc[row_indexer,col_indexer] = value instead\n",
      "\n",
      "See the caveats in the documentation: https://pandas.pydata.org/pandas-docs/stable/user_guide/indexing.html#returning-a-view-versus-a-copy\n",
      "  j1['Date'] = pd.to_datetime(j1['Month-Year'], format='%y-%b')\n"
     ]
    }
   ],
   "source": [
    "d0['Date'] = pd.to_datetime(d0['Month-Year'], format='%b-%y')\n",
    "j1['Date'] = pd.to_datetime(j1['Month-Year'], format='%y-%b')"
   ]
  },
  {
   "cell_type": "code",
   "execution_count": 54,
   "metadata": {},
   "outputs": [
    {
     "data": {
      "text/html": [
       "<div>\n",
       "<style scoped>\n",
       "    .dataframe tbody tr th:only-of-type {\n",
       "        vertical-align: middle;\n",
       "    }\n",
       "\n",
       "    .dataframe tbody tr th {\n",
       "        vertical-align: top;\n",
       "    }\n",
       "\n",
       "    .dataframe thead th {\n",
       "        text-align: right;\n",
       "    }\n",
       "</style>\n",
       "<table border=\"1\" class=\"dataframe\">\n",
       "  <thead>\n",
       "    <tr style=\"text-align: right;\">\n",
       "      <th></th>\n",
       "      <th>Month-Year</th>\n",
       "      <th>AirRPM</th>\n",
       "      <th>RailPM</th>\n",
       "      <th>VMT_billions</th>\n",
       "      <th>Date</th>\n",
       "    </tr>\n",
       "  </thead>\n",
       "  <tbody>\n",
       "    <tr>\n",
       "      <th>0</th>\n",
       "      <td>Jan-90</td>\n",
       "      <td>35153577</td>\n",
       "      <td>454115779</td>\n",
       "      <td>163.28</td>\n",
       "      <td>1990-01-01</td>\n",
       "    </tr>\n",
       "    <tr>\n",
       "      <th>1</th>\n",
       "      <td>Feb-90</td>\n",
       "      <td>32965187</td>\n",
       "      <td>435086002</td>\n",
       "      <td>153.25</td>\n",
       "      <td>1990-02-01</td>\n",
       "    </tr>\n",
       "    <tr>\n",
       "      <th>2</th>\n",
       "      <td>Mar-90</td>\n",
       "      <td>39993913</td>\n",
       "      <td>568289732</td>\n",
       "      <td>178.42</td>\n",
       "      <td>1990-03-01</td>\n",
       "    </tr>\n",
       "    <tr>\n",
       "      <th>3</th>\n",
       "      <td>Apr-90</td>\n",
       "      <td>37981886</td>\n",
       "      <td>568101697</td>\n",
       "      <td>178.68</td>\n",
       "      <td>1990-04-01</td>\n",
       "    </tr>\n",
       "    <tr>\n",
       "      <th>4</th>\n",
       "      <td>May-90</td>\n",
       "      <td>38419672</td>\n",
       "      <td>539628385</td>\n",
       "      <td>188.88</td>\n",
       "      <td>1990-05-01</td>\n",
       "    </tr>\n",
       "    <tr>\n",
       "      <th>...</th>\n",
       "      <td>...</td>\n",
       "      <td>...</td>\n",
       "      <td>...</td>\n",
       "      <td>...</td>\n",
       "      <td>...</td>\n",
       "    </tr>\n",
       "    <tr>\n",
       "      <th>127</th>\n",
       "      <td>Aug-00</td>\n",
       "      <td>66924512</td>\n",
       "      <td>558060051</td>\n",
       "      <td>247.77</td>\n",
       "      <td>2000-08-01</td>\n",
       "    </tr>\n",
       "    <tr>\n",
       "      <th>128</th>\n",
       "      <td>Sep-00</td>\n",
       "      <td>56441629</td>\n",
       "      <td>446489429</td>\n",
       "      <td>227.33</td>\n",
       "      <td>2000-09-01</td>\n",
       "    </tr>\n",
       "    <tr>\n",
       "      <th>129</th>\n",
       "      <td>Oct-00</td>\n",
       "      <td>58834210</td>\n",
       "      <td>462329685</td>\n",
       "      <td>236.55</td>\n",
       "      <td>2000-10-01</td>\n",
       "    </tr>\n",
       "    <tr>\n",
       "      <th>130</th>\n",
       "      <td>Nov-00</td>\n",
       "      <td>56283261</td>\n",
       "      <td>442268378</td>\n",
       "      <td>222.80</td>\n",
       "      <td>2000-11-01</td>\n",
       "    </tr>\n",
       "    <tr>\n",
       "      <th>131</th>\n",
       "      <td>Dec-00</td>\n",
       "      <td>55380280</td>\n",
       "      <td>461651082</td>\n",
       "      <td>218.44</td>\n",
       "      <td>2000-12-01</td>\n",
       "    </tr>\n",
       "  </tbody>\n",
       "</table>\n",
       "<p>132 rows × 5 columns</p>\n",
       "</div>"
      ],
      "text/plain": [
       "    Month-Year    AirRPM     RailPM  VMT_billions       Date\n",
       "0       Jan-90  35153577  454115779        163.28 1990-01-01\n",
       "1       Feb-90  32965187  435086002        153.25 1990-02-01\n",
       "2       Mar-90  39993913  568289732        178.42 1990-03-01\n",
       "3       Apr-90  37981886  568101697        178.68 1990-04-01\n",
       "4       May-90  38419672  539628385        188.88 1990-05-01\n",
       "..         ...       ...        ...           ...        ...\n",
       "127     Aug-00  66924512  558060051        247.77 2000-08-01\n",
       "128     Sep-00  56441629  446489429        227.33 2000-09-01\n",
       "129     Oct-00  58834210  462329685        236.55 2000-10-01\n",
       "130     Nov-00  56283261  442268378        222.80 2000-11-01\n",
       "131     Dec-00  55380280  461651082        218.44 2000-12-01\n",
       "\n",
       "[132 rows x 5 columns]"
      ]
     },
     "execution_count": 54,
     "metadata": {},
     "output_type": "execute_result"
    }
   ],
   "source": [
    "d0"
   ]
  },
  {
   "cell_type": "code",
   "execution_count": 56,
   "metadata": {},
   "outputs": [
    {
     "data": {
      "text/html": [
       "<div>\n",
       "<style scoped>\n",
       "    .dataframe tbody tr th:only-of-type {\n",
       "        vertical-align: middle;\n",
       "    }\n",
       "\n",
       "    .dataframe tbody tr th {\n",
       "        vertical-align: top;\n",
       "    }\n",
       "\n",
       "    .dataframe thead th {\n",
       "        text-align: right;\n",
       "    }\n",
       "</style>\n",
       "<table border=\"1\" class=\"dataframe\">\n",
       "  <thead>\n",
       "    <tr style=\"text-align: right;\">\n",
       "      <th></th>\n",
       "      <th>Month-Year</th>\n",
       "      <th>AirRPM</th>\n",
       "      <th>RailPM</th>\n",
       "      <th>VMT_billions</th>\n",
       "      <th>Date</th>\n",
       "    </tr>\n",
       "  </thead>\n",
       "  <tbody>\n",
       "    <tr>\n",
       "      <th>132</th>\n",
       "      <td>01-Jan</td>\n",
       "      <td>53129922</td>\n",
       "      <td>379458113</td>\n",
       "      <td>209.26</td>\n",
       "      <td>2001-01-01</td>\n",
       "    </tr>\n",
       "    <tr>\n",
       "      <th>133</th>\n",
       "      <td>01-Feb</td>\n",
       "      <td>49992995</td>\n",
       "      <td>366288212</td>\n",
       "      <td>199.91</td>\n",
       "      <td>2001-02-01</td>\n",
       "    </tr>\n",
       "    <tr>\n",
       "      <th>134</th>\n",
       "      <td>01-Mar</td>\n",
       "      <td>62323049</td>\n",
       "      <td>448912584</td>\n",
       "      <td>231.49</td>\n",
       "      <td>2001-03-01</td>\n",
       "    </tr>\n",
       "    <tr>\n",
       "      <th>135</th>\n",
       "      <td>01-Apr</td>\n",
       "      <td>59801562</td>\n",
       "      <td>455496342</td>\n",
       "      <td>231.37</td>\n",
       "      <td>2001-04-01</td>\n",
       "    </tr>\n",
       "    <tr>\n",
       "      <th>136</th>\n",
       "      <td>01-May</td>\n",
       "      <td>60246477</td>\n",
       "      <td>462376555</td>\n",
       "      <td>244.25</td>\n",
       "      <td>2001-05-01</td>\n",
       "    </tr>\n",
       "  </tbody>\n",
       "</table>\n",
       "</div>"
      ],
      "text/plain": [
       "    Month-Year    AirRPM     RailPM  VMT_billions       Date\n",
       "132     01-Jan  53129922  379458113        209.26 2001-01-01\n",
       "133     01-Feb  49992995  366288212        199.91 2001-02-01\n",
       "134     01-Mar  62323049  448912584        231.49 2001-03-01\n",
       "135     01-Apr  59801562  455496342        231.37 2001-04-01\n",
       "136     01-May  60246477  462376555        244.25 2001-05-01"
      ]
     },
     "execution_count": 56,
     "metadata": {},
     "output_type": "execute_result"
    }
   ],
   "source": [
    "j1.head()"
   ]
  },
  {
   "cell_type": "code",
   "execution_count": 82,
   "metadata": {},
   "outputs": [
    {
     "data": {
      "text/html": [
       "<div>\n",
       "<style scoped>\n",
       "    .dataframe tbody tr th:only-of-type {\n",
       "        vertical-align: middle;\n",
       "    }\n",
       "\n",
       "    .dataframe tbody tr th {\n",
       "        vertical-align: top;\n",
       "    }\n",
       "\n",
       "    .dataframe thead th {\n",
       "        text-align: right;\n",
       "    }\n",
       "</style>\n",
       "<table border=\"1\" class=\"dataframe\">\n",
       "  <thead>\n",
       "    <tr style=\"text-align: right;\">\n",
       "      <th></th>\n",
       "      <th>Month-Year</th>\n",
       "      <th>AirRPM</th>\n",
       "      <th>RailPM</th>\n",
       "      <th>VMT_billions</th>\n",
       "      <th>Date</th>\n",
       "    </tr>\n",
       "  </thead>\n",
       "  <tbody>\n",
       "    <tr>\n",
       "      <th>0</th>\n",
       "      <td>Jan-90</td>\n",
       "      <td>35153577</td>\n",
       "      <td>454115779</td>\n",
       "      <td>163.28</td>\n",
       "      <td>1990-01-01</td>\n",
       "    </tr>\n",
       "    <tr>\n",
       "      <th>1</th>\n",
       "      <td>Feb-90</td>\n",
       "      <td>32965187</td>\n",
       "      <td>435086002</td>\n",
       "      <td>153.25</td>\n",
       "      <td>1990-02-01</td>\n",
       "    </tr>\n",
       "    <tr>\n",
       "      <th>2</th>\n",
       "      <td>Mar-90</td>\n",
       "      <td>39993913</td>\n",
       "      <td>568289732</td>\n",
       "      <td>178.42</td>\n",
       "      <td>1990-03-01</td>\n",
       "    </tr>\n",
       "    <tr>\n",
       "      <th>3</th>\n",
       "      <td>Apr-90</td>\n",
       "      <td>37981886</td>\n",
       "      <td>568101697</td>\n",
       "      <td>178.68</td>\n",
       "      <td>1990-04-01</td>\n",
       "    </tr>\n",
       "    <tr>\n",
       "      <th>4</th>\n",
       "      <td>May-90</td>\n",
       "      <td>38419672</td>\n",
       "      <td>539628385</td>\n",
       "      <td>188.88</td>\n",
       "      <td>1990-05-01</td>\n",
       "    </tr>\n",
       "    <tr>\n",
       "      <th>...</th>\n",
       "      <td>...</td>\n",
       "      <td>...</td>\n",
       "      <td>...</td>\n",
       "      <td>...</td>\n",
       "      <td>...</td>\n",
       "    </tr>\n",
       "    <tr>\n",
       "      <th>167</th>\n",
       "      <td>03-Dec</td>\n",
       "      <td>57795908</td>\n",
       "      <td>489403554</td>\n",
       "      <td>237.60</td>\n",
       "      <td>2003-12-01</td>\n",
       "    </tr>\n",
       "    <tr>\n",
       "      <th>168</th>\n",
       "      <td>04-Jan</td>\n",
       "      <td>53447972</td>\n",
       "      <td>410338691</td>\n",
       "      <td>217.30</td>\n",
       "      <td>2004-01-01</td>\n",
       "    </tr>\n",
       "    <tr>\n",
       "      <th>169</th>\n",
       "      <td>04-Feb</td>\n",
       "      <td>52608801</td>\n",
       "      <td>389778365</td>\n",
       "      <td>210.40</td>\n",
       "      <td>2004-02-01</td>\n",
       "    </tr>\n",
       "    <tr>\n",
       "      <th>170</th>\n",
       "      <td>04-Mar</td>\n",
       "      <td>63600019</td>\n",
       "      <td>453014590</td>\n",
       "      <td>247.50</td>\n",
       "      <td>2004-03-01</td>\n",
       "    </tr>\n",
       "    <tr>\n",
       "      <th>171</th>\n",
       "      <td>04-Apr</td>\n",
       "      <td>61887720</td>\n",
       "      <td>471116666</td>\n",
       "      <td>245.40</td>\n",
       "      <td>2004-04-01</td>\n",
       "    </tr>\n",
       "  </tbody>\n",
       "</table>\n",
       "<p>172 rows × 5 columns</p>\n",
       "</div>"
      ],
      "text/plain": [
       "    Month-Year    AirRPM     RailPM  VMT_billions       Date\n",
       "0       Jan-90  35153577  454115779        163.28 1990-01-01\n",
       "1       Feb-90  32965187  435086002        153.25 1990-02-01\n",
       "2       Mar-90  39993913  568289732        178.42 1990-03-01\n",
       "3       Apr-90  37981886  568101697        178.68 1990-04-01\n",
       "4       May-90  38419672  539628385        188.88 1990-05-01\n",
       "..         ...       ...        ...           ...        ...\n",
       "167     03-Dec  57795908  489403554        237.60 2003-12-01\n",
       "168     04-Jan  53447972  410338691        217.30 2004-01-01\n",
       "169     04-Feb  52608801  389778365        210.40 2004-02-01\n",
       "170     04-Mar  63600019  453014590        247.50 2004-03-01\n",
       "171     04-Apr  61887720  471116666        245.40 2004-04-01\n",
       "\n",
       "[172 rows x 5 columns]"
      ]
     },
     "execution_count": 82,
     "metadata": {},
     "output_type": "execute_result"
    }
   ],
   "source": [
    "s11_df = pd.concat([d0, j1])\n",
    "s11_df"
   ]
  },
  {
   "cell_type": "code",
   "execution_count": 58,
   "metadata": {},
   "outputs": [
    {
     "data": {
      "text/html": [
       "<div>\n",
       "<style scoped>\n",
       "    .dataframe tbody tr th:only-of-type {\n",
       "        vertical-align: middle;\n",
       "    }\n",
       "\n",
       "    .dataframe tbody tr th {\n",
       "        vertical-align: top;\n",
       "    }\n",
       "\n",
       "    .dataframe thead th {\n",
       "        text-align: right;\n",
       "    }\n",
       "</style>\n",
       "<table border=\"1\" class=\"dataframe\">\n",
       "  <thead>\n",
       "    <tr style=\"text-align: right;\">\n",
       "      <th></th>\n",
       "      <th>Month-Year</th>\n",
       "      <th>AirRPM</th>\n",
       "      <th>RailPM</th>\n",
       "      <th>VMT_billions</th>\n",
       "      <th>Date</th>\n",
       "    </tr>\n",
       "  </thead>\n",
       "  <tbody>\n",
       "    <tr>\n",
       "      <th>140</th>\n",
       "      <td>01-Sep</td>\n",
       "      <td>39106905</td>\n",
       "      <td>446266947</td>\n",
       "      <td>224.57</td>\n",
       "      <td>2001-09-01</td>\n",
       "    </tr>\n",
       "  </tbody>\n",
       "</table>\n",
       "</div>"
      ],
      "text/plain": [
       "    Month-Year    AirRPM     RailPM  VMT_billions       Date\n",
       "140     01-Sep  39106905  446266947        224.57 2001-09-01"
      ]
     },
     "execution_count": 58,
     "metadata": {},
     "output_type": "execute_result"
    }
   ],
   "source": [
    "s11_df[s11_df.Date == '2001-09-01']"
   ]
  },
  {
   "cell_type": "code",
   "execution_count": 83,
   "metadata": {},
   "outputs": [],
   "source": [
    "before_df = s11_df.iloc[:140]\n",
    "after_df = s11_df.iloc[141:]"
   ]
  },
  {
   "cell_type": "markdown",
   "metadata": {},
   "source": [
    "#### a."
   ]
  },
  {
   "cell_type": "code",
   "execution_count": 65,
   "metadata": {},
   "outputs": [
    {
     "data": {
      "text/plain": [
       "69003617"
      ]
     },
     "execution_count": 65,
     "metadata": {},
     "output_type": "execute_result"
    }
   ],
   "source": [
    "before_df.AirRPM.max()"
   ]
  },
  {
   "cell_type": "code",
   "execution_count": 66,
   "metadata": {},
   "outputs": [
    {
     "data": {
      "text/plain": [
       "29672427"
      ]
     },
     "execution_count": 66,
     "metadata": {},
     "output_type": "execute_result"
    }
   ],
   "source": [
    "before_df.AirRPM.min()"
   ]
  },
  {
   "cell_type": "code",
   "execution_count": 87,
   "metadata": {},
   "outputs": [
    {
     "data": {
      "image/png": "[encoded data removed]",
      "text/plain": [
       "<Figure size 432x288 with 1 Axes>"
      ]
     },
     "metadata": {
      "needs_background": "light"
     },
     "output_type": "display_data"
    }
   ],
   "source": [
    "airRPM_ts = pd.Series(before_df['AirRPM'].values, index=before_df.Date, name='AirRPM')\n",
    "ax = airRPM_ts.plot()\n",
    "ax.set_xlabel('Time')\n",
    "ax.set_ylabel('AirRPM')\n",
    "ax.set_ylim(29000000, 70000000)\n",
    "plt.show()"
   ]
  },
  {
   "cell_type": "code",
   "execution_count": 85,
   "metadata": {},
   "outputs": [
    {
     "data": {
      "image/png": "[encoded data removed]",
      "text/plain": [
       "<Figure size 432x288 with 1 Axes>"
      ]
     },
     "metadata": {
      "needs_background": "light"
     },
     "output_type": "display_data"
    }
   ],
   "source": [
    "RailPM_ts = pd.Series(before_df['RailPM'].values, index=before_df.Date, name='RailPM')\n",
    "ax = RailPM_ts.plot()\n",
    "ax.set_xlabel('Time')\n",
    "ax.set_ylabel('RailPM')\n",
    "plt.show()"
   ]
  },
  {
   "cell_type": "code",
   "execution_count": 86,
   "metadata": {
    "scrolled": true
   },
   "outputs": [
    {
     "data": {
      "image/png": "[encoded data removed]",
      "text/plain": [
       "<Figure size 432x288 with 1 Axes>"
      ]
     },
     "metadata": {
      "needs_background": "light"
     },
     "output_type": "display_data"
    }
   ],
   "source": [
    "vmt_ts = pd.Series(before_df['VMT_billions'].values, index=before_df.Date, name='VMT_billions')\n",
    "ax = vmt_ts.plot()\n",
    "ax.set_xlabel('Time')\n",
    "ax.set_ylabel('VMT_billions')\n",
    "plt.show()"
   ]
  },
  {
   "cell_type": "markdown",
   "metadata": {},
   "source": [
    "#### b."
   ]
  },
  {
   "cell_type": "markdown",
   "metadata": {},
   "source": [
    "#### c."
   ]
  },
  {
   "cell_type": "code",
   "execution_count": 88,
   "metadata": {},
   "outputs": [],
   "source": [
    "airRPM_df = tsatools.add_trend(airRPM_ts, trend='ct')\n",
    "airRPM_lm = sm.ols(formula='np.log(AirRPM) ~ trend', data=airRPM_df).fit()"
   ]
  },
  {
   "cell_type": "markdown",
   "metadata": {},
   "source": [
    "#### d."
   ]
  },
  {
   "cell_type": "code",
   "execution_count": 90,
   "metadata": {},
   "outputs": [],
   "source": [
    "airRPM_df = tsatools.add_trend(airRPM_ts, trend='c')\n",
    "airRPM_df['Month'] = airRPM_df.index.month\n",
    "\n",
    "airRPM_lm_season = sm.ols(formula='AirRPM ~ C(Month)', data=airRPM_df).fit()\n"
   ]
  },
  {
   "cell_type": "code",
   "execution_count": 91,
   "metadata": {},
   "outputs": [
    {
     "name": "stdout",
     "output_type": "stream",
     "text": [
      "                            OLS Regression Results                            \n",
      "==============================================================================\n",
      "Dep. Variable:                 AirRPM   R-squared:                       0.325\n",
      "Model:                            OLS   Adj. R-squared:                  0.267\n",
      "Method:                 Least Squares   F-statistic:                     5.603\n",
      "Date:                Thu, 17 Feb 2022   Prob (F-statistic):           2.72e-07\n",
      "Time:                        15:52:56   Log-Likelihood:                -2407.5\n",
      "No. Observations:                 140   AIC:                             4839.\n",
      "Df Residuals:                     128   BIC:                             4874.\n",
      "Df Model:                          11                                         \n",
      "Covariance Type:            nonrobust                                         \n",
      "==================================================================================\n",
      "                     coef    std err          t      P>|t|      [0.025      0.975]\n",
      "----------------------------------------------------------------------------------\n",
      "Intercept       4.271e+07   2.15e+06     19.883      0.000    3.85e+07     4.7e+07\n",
      "C(Month)[T.2]  -2.417e+06   3.04e+06     -0.796      0.428   -8.43e+06    3.59e+06\n",
      "C(Month)[T.3]   6.715e+06   3.04e+06      2.210      0.029    7.03e+05    1.27e+07\n",
      "C(Month)[T.4]   4.465e+06   3.04e+06      1.470      0.144   -1.55e+06    1.05e+07\n",
      "C(Month)[T.5]   5.816e+06   3.04e+06      1.914      0.058   -1.95e+05    1.18e+07\n",
      "C(Month)[T.6]   9.839e+06   3.04e+06      3.239      0.002    3.83e+06    1.59e+07\n",
      "C(Month)[T.7]   1.329e+07   3.04e+06      4.373      0.000    7.28e+06    1.93e+07\n",
      "C(Month)[T.8]   1.465e+07   3.04e+06      4.821      0.000    8.64e+06    2.07e+07\n",
      "C(Month)[T.9]   3.455e+06   3.11e+06      1.112      0.268   -2.69e+06     9.6e+06\n",
      "C(Month)[T.10]  5.126e+06   3.11e+06      1.650      0.101   -1.02e+06    1.13e+07\n",
      "C(Month)[T.11]  1.306e+06   3.11e+06      0.421      0.675   -4.84e+06    7.45e+06\n",
      "C(Month)[T.12]  3.021e+06   3.11e+06      0.973      0.333   -3.12e+06    9.17e+06\n",
      "==============================================================================\n",
      "Omnibus:                       45.350   Durbin-Watson:                   0.032\n",
      "Prob(Omnibus):                  0.000   Jarque-Bera (JB):                8.615\n",
      "Skew:                           0.187   Prob(JB):                       0.0135\n",
      "Kurtosis:                       1.844   Cond. No.                         12.8\n",
      "==============================================================================\n",
      "\n",
      "Notes:\n",
      "[1] Standard Errors assume that the covariance matrix of the errors is correctly specified.\n"
     ]
    }
   ],
   "source": [
    "print(airRPM_lm_season.summary())"
   ]
  },
  {
   "cell_type": "markdown",
   "metadata": {},
   "source": [
    "#### e."
   ]
  },
  {
   "cell_type": "code",
   "execution_count": 93,
   "metadata": {},
   "outputs": [
    {
     "data": {
      "image/png": "[encoded data removed]",
      "text/plain": [
       "<Figure size 432x288 with 1 Axes>"
      ]
     },
     "execution_count": 93,
     "metadata": {},
     "output_type": "execute_result"
    },
    {
     "data": {
      "image/png": "[encoded data removed]",
      "text/plain": [
       "<Figure size 432x288 with 1 Axes>"
      ]
     },
     "metadata": {
      "needs_background": "light"
     },
     "output_type": "display_data"
    }
   ],
   "source": [
    "residual = airRPM_df.AirRPM - airRPM_lm_season.predict(airRPM_df)\n",
    "tsaplots.plot_acf(residual)"
   ]
  },
  {
   "cell_type": "code",
   "execution_count": null,
   "metadata": {},
   "outputs": [],
   "source": []
  },
  {
   "cell_type": "markdown",
   "metadata": {},
   "source": [
    "### 17.2"
   ]
  },
  {
   "cell_type": "code",
   "execution_count": 95,
   "metadata": {},
   "outputs": [
    {
     "data": {
      "text/html": [
       "<div>\n",
       "<style scoped>\n",
       "    .dataframe tbody tr th:only-of-type {\n",
       "        vertical-align: middle;\n",
       "    }\n",
       "\n",
       "    .dataframe tbody tr th {\n",
       "        vertical-align: top;\n",
       "    }\n",
       "\n",
       "    .dataframe thead th {\n",
       "        text-align: right;\n",
       "    }\n",
       "</style>\n",
       "<table border=\"1\" class=\"dataframe\">\n",
       "  <thead>\n",
       "    <tr style=\"text-align: right;\">\n",
       "      <th></th>\n",
       "      <th>Year</th>\n",
       "      <th>Hours</th>\n",
       "    </tr>\n",
       "  </thead>\n",
       "  <tbody>\n",
       "    <tr>\n",
       "      <th>30</th>\n",
       "      <td>1996</td>\n",
       "      <td>35.7</td>\n",
       "    </tr>\n",
       "    <tr>\n",
       "      <th>31</th>\n",
       "      <td>1997</td>\n",
       "      <td>35.5</td>\n",
       "    </tr>\n",
       "    <tr>\n",
       "      <th>32</th>\n",
       "      <td>1998</td>\n",
       "      <td>35.6</td>\n",
       "    </tr>\n",
       "    <tr>\n",
       "      <th>33</th>\n",
       "      <td>1999</td>\n",
       "      <td>36.3</td>\n",
       "    </tr>\n",
       "    <tr>\n",
       "      <th>34</th>\n",
       "      <td>2000</td>\n",
       "      <td>36.5</td>\n",
       "    </tr>\n",
       "  </tbody>\n",
       "</table>\n",
       "</div>"
      ],
      "text/plain": [
       "    Year  Hours\n",
       "30  1996   35.7\n",
       "31  1997   35.5\n",
       "32  1998   35.6\n",
       "33  1999   36.3\n",
       "34  2000   36.5"
      ]
     },
     "execution_count": 95,
     "metadata": {},
     "output_type": "execute_result"
    }
   ],
   "source": [
    "workHours = pd.read_csv('D:\\숙탯 2기\\dmba-datasets\\CanadianWorkHours.csv')\n",
    "workHours.tail()"
   ]
  },
  {
   "cell_type": "code",
   "execution_count": 97,
   "metadata": {},
   "outputs": [],
   "source": [
    "workHours['Year2'] = pd.to_datetime(workHours.Year, format='%Y')"
   ]
  },
  {
   "cell_type": "code",
   "execution_count": 99,
   "metadata": {},
   "outputs": [
    {
     "data": {
      "image/png": "[encoded data removed]",
      "text/plain": [
       "<Figure size 432x288 with 1 Axes>"
      ]
     },
     "metadata": {
      "needs_background": "light"
     },
     "output_type": "display_data"
    }
   ],
   "source": [
    "hours_ts = pd.Series(workHours['Hours'].values, index=workHours.Year2, name='Hours')\n",
    "ax = hours_ts.plot()\n",
    "ax.set_xlabel('Year')\n",
    "ax.set_ylabel('Hours')\n",
    "plt.show()"
   ]
  },
  {
   "cell_type": "markdown",
   "metadata": {},
   "source": [
    "#### a."
   ]
  },
  {
   "cell_type": "code",
   "execution_count": 113,
   "metadata": {},
   "outputs": [
    {
     "data": {
      "image/png": "[encoded data removed]",
      "text/plain": [
       "<Figure size 648x540 with 2 Axes>"
      ]
     },
     "metadata": {
      "needs_background": "light"
     },
     "output_type": "display_data"
    }
   ],
   "source": [
    "# hours_df = tsatools.add_trend(hours_ts, trend='ct')\n",
    "# nValid = 13\n",
    "# nTrain = len(hours_ts) - nValid\n",
    "\n",
    "# train_df = hours_df[:nTrain]\n",
    "# valid_df = hours_df[nTrain:]\n",
    "\n",
    "# hours_lm_poly = sm.ols(formula='Hours ~ trend + np.square(trend)', data=train_df).fit()\n",
    "\n",
    "# fig, axes = plt.subplots(nrows=2, ncols=1, figsize=(9, 7.5))\n",
    "\n",
    "# hours_lm_poly.predict(train_df).plot(ax=axes[0], color='C1')\n",
    "# hours_lm_poly.predict(train_df).plot(ax=axes[0], color='C1', linestyle='dashed')\n",
    "    \n",
    "# residual = train_df.Hours - hours_lm_poly.predict(train_df)\n",
    "# residual.plot(ax=axes[1], color='C1')\n",
    "# residual = valid_df.Hours - hours_lm_poly.predict(valid_df)\n",
    "# residual.plot(ax=axes[1], color='C1', linestyle='dashed')\n",
    "\n",
    "\n",
    "# plt.show()"
   ]
  },
  {
   "cell_type": "code",
   "execution_count": 115,
   "metadata": {},
   "outputs": [
    {
     "data": {
      "image/png": "[encoded data removed]",
      "text/plain": [
       "<Figure size 648x540 with 2 Axes>"
      ]
     },
     "metadata": {
      "needs_background": "light"
     },
     "output_type": "display_data"
    }
   ],
   "source": [
    "hours_lm_poly = sm.ols(formula='Hours ~ trend + np.square(trend)', data=hours_df).fit()\n",
    "\n",
    "fig, axes = plt.subplots(nrows=2, ncols=1, figsize=(9, 7.5))\n",
    "\n",
    "hours_lm_poly.predict(hours_df).plot(ax=axes[0], color='C1')\n",
    "hours_lm_poly.predict(hours_df).plot(ax=axes[0], color='C1', linestyle='dashed')\n",
    "    \n",
    "residual = hours_df.Hours - hours_lm_poly.predict(hours_df)\n",
    "residual.plot(ax=axes[1], color='C1')\n",
    "\n",
    "\n",
    "plt.show()"
   ]
  },
  {
   "cell_type": "code",
   "execution_count": 116,
   "metadata": {},
   "outputs": [
    {
     "data": {
      "text/html": [
       "<div>\n",
       "<style scoped>\n",
       "    .dataframe tbody tr th:only-of-type {\n",
       "        vertical-align: middle;\n",
       "    }\n",
       "\n",
       "    .dataframe tbody tr th {\n",
       "        vertical-align: top;\n",
       "    }\n",
       "\n",
       "    .dataframe thead th {\n",
       "        text-align: right;\n",
       "    }\n",
       "</style>\n",
       "<table border=\"1\" class=\"dataframe\">\n",
       "  <thead>\n",
       "    <tr style=\"text-align: right;\">\n",
       "      <th></th>\n",
       "      <th>Hours</th>\n",
       "      <th>const</th>\n",
       "      <th>trend</th>\n",
       "    </tr>\n",
       "    <tr>\n",
       "      <th>Year2</th>\n",
       "      <th></th>\n",
       "      <th></th>\n",
       "      <th></th>\n",
       "    </tr>\n",
       "  </thead>\n",
       "  <tbody>\n",
       "    <tr>\n",
       "      <th>1966-01-01</th>\n",
       "      <td>37.2</td>\n",
       "      <td>1.0</td>\n",
       "      <td>1.0</td>\n",
       "    </tr>\n",
       "    <tr>\n",
       "      <th>1967-01-01</th>\n",
       "      <td>37.0</td>\n",
       "      <td>1.0</td>\n",
       "      <td>2.0</td>\n",
       "    </tr>\n",
       "    <tr>\n",
       "      <th>1968-01-01</th>\n",
       "      <td>37.4</td>\n",
       "      <td>1.0</td>\n",
       "      <td>3.0</td>\n",
       "    </tr>\n",
       "    <tr>\n",
       "      <th>1969-01-01</th>\n",
       "      <td>37.5</td>\n",
       "      <td>1.0</td>\n",
       "      <td>4.0</td>\n",
       "    </tr>\n",
       "    <tr>\n",
       "      <th>1970-01-01</th>\n",
       "      <td>37.7</td>\n",
       "      <td>1.0</td>\n",
       "      <td>5.0</td>\n",
       "    </tr>\n",
       "    <tr>\n",
       "      <th>1971-01-01</th>\n",
       "      <td>37.7</td>\n",
       "      <td>1.0</td>\n",
       "      <td>6.0</td>\n",
       "    </tr>\n",
       "    <tr>\n",
       "      <th>1972-01-01</th>\n",
       "      <td>37.4</td>\n",
       "      <td>1.0</td>\n",
       "      <td>7.0</td>\n",
       "    </tr>\n",
       "    <tr>\n",
       "      <th>1973-01-01</th>\n",
       "      <td>37.2</td>\n",
       "      <td>1.0</td>\n",
       "      <td>8.0</td>\n",
       "    </tr>\n",
       "    <tr>\n",
       "      <th>1974-01-01</th>\n",
       "      <td>37.3</td>\n",
       "      <td>1.0</td>\n",
       "      <td>9.0</td>\n",
       "    </tr>\n",
       "    <tr>\n",
       "      <th>1975-01-01</th>\n",
       "      <td>37.2</td>\n",
       "      <td>1.0</td>\n",
       "      <td>10.0</td>\n",
       "    </tr>\n",
       "    <tr>\n",
       "      <th>1976-01-01</th>\n",
       "      <td>36.9</td>\n",
       "      <td>1.0</td>\n",
       "      <td>11.0</td>\n",
       "    </tr>\n",
       "    <tr>\n",
       "      <th>1977-01-01</th>\n",
       "      <td>36.7</td>\n",
       "      <td>1.0</td>\n",
       "      <td>12.0</td>\n",
       "    </tr>\n",
       "    <tr>\n",
       "      <th>1978-01-01</th>\n",
       "      <td>36.7</td>\n",
       "      <td>1.0</td>\n",
       "      <td>13.0</td>\n",
       "    </tr>\n",
       "    <tr>\n",
       "      <th>1979-01-01</th>\n",
       "      <td>36.5</td>\n",
       "      <td>1.0</td>\n",
       "      <td>14.0</td>\n",
       "    </tr>\n",
       "    <tr>\n",
       "      <th>1980-01-01</th>\n",
       "      <td>36.3</td>\n",
       "      <td>1.0</td>\n",
       "      <td>15.0</td>\n",
       "    </tr>\n",
       "    <tr>\n",
       "      <th>1981-01-01</th>\n",
       "      <td>35.9</td>\n",
       "      <td>1.0</td>\n",
       "      <td>16.0</td>\n",
       "    </tr>\n",
       "    <tr>\n",
       "      <th>1982-01-01</th>\n",
       "      <td>35.8</td>\n",
       "      <td>1.0</td>\n",
       "      <td>17.0</td>\n",
       "    </tr>\n",
       "    <tr>\n",
       "      <th>1983-01-01</th>\n",
       "      <td>35.9</td>\n",
       "      <td>1.0</td>\n",
       "      <td>18.0</td>\n",
       "    </tr>\n",
       "    <tr>\n",
       "      <th>1984-01-01</th>\n",
       "      <td>36.0</td>\n",
       "      <td>1.0</td>\n",
       "      <td>19.0</td>\n",
       "    </tr>\n",
       "    <tr>\n",
       "      <th>1985-01-01</th>\n",
       "      <td>35.7</td>\n",
       "      <td>1.0</td>\n",
       "      <td>20.0</td>\n",
       "    </tr>\n",
       "    <tr>\n",
       "      <th>1986-01-01</th>\n",
       "      <td>35.6</td>\n",
       "      <td>1.0</td>\n",
       "      <td>21.0</td>\n",
       "    </tr>\n",
       "    <tr>\n",
       "      <th>1987-01-01</th>\n",
       "      <td>35.2</td>\n",
       "      <td>1.0</td>\n",
       "      <td>22.0</td>\n",
       "    </tr>\n",
       "    <tr>\n",
       "      <th>1988-01-01</th>\n",
       "      <td>34.8</td>\n",
       "      <td>1.0</td>\n",
       "      <td>23.0</td>\n",
       "    </tr>\n",
       "    <tr>\n",
       "      <th>1989-01-01</th>\n",
       "      <td>35.3</td>\n",
       "      <td>1.0</td>\n",
       "      <td>24.0</td>\n",
       "    </tr>\n",
       "    <tr>\n",
       "      <th>1990-01-01</th>\n",
       "      <td>35.6</td>\n",
       "      <td>1.0</td>\n",
       "      <td>25.0</td>\n",
       "    </tr>\n",
       "    <tr>\n",
       "      <th>1991-01-01</th>\n",
       "      <td>35.6</td>\n",
       "      <td>1.0</td>\n",
       "      <td>26.0</td>\n",
       "    </tr>\n",
       "    <tr>\n",
       "      <th>1992-01-01</th>\n",
       "      <td>35.6</td>\n",
       "      <td>1.0</td>\n",
       "      <td>27.0</td>\n",
       "    </tr>\n",
       "    <tr>\n",
       "      <th>1993-01-01</th>\n",
       "      <td>35.9</td>\n",
       "      <td>1.0</td>\n",
       "      <td>28.0</td>\n",
       "    </tr>\n",
       "    <tr>\n",
       "      <th>1994-01-01</th>\n",
       "      <td>36.0</td>\n",
       "      <td>1.0</td>\n",
       "      <td>29.0</td>\n",
       "    </tr>\n",
       "    <tr>\n",
       "      <th>1995-01-01</th>\n",
       "      <td>35.7</td>\n",
       "      <td>1.0</td>\n",
       "      <td>30.0</td>\n",
       "    </tr>\n",
       "    <tr>\n",
       "      <th>1996-01-01</th>\n",
       "      <td>35.7</td>\n",
       "      <td>1.0</td>\n",
       "      <td>31.0</td>\n",
       "    </tr>\n",
       "    <tr>\n",
       "      <th>1997-01-01</th>\n",
       "      <td>35.5</td>\n",
       "      <td>1.0</td>\n",
       "      <td>32.0</td>\n",
       "    </tr>\n",
       "    <tr>\n",
       "      <th>1998-01-01</th>\n",
       "      <td>35.6</td>\n",
       "      <td>1.0</td>\n",
       "      <td>33.0</td>\n",
       "    </tr>\n",
       "    <tr>\n",
       "      <th>1999-01-01</th>\n",
       "      <td>36.3</td>\n",
       "      <td>1.0</td>\n",
       "      <td>34.0</td>\n",
       "    </tr>\n",
       "    <tr>\n",
       "      <th>2000-01-01</th>\n",
       "      <td>36.5</td>\n",
       "      <td>1.0</td>\n",
       "      <td>35.0</td>\n",
       "    </tr>\n",
       "  </tbody>\n",
       "</table>\n",
       "</div>"
      ],
      "text/plain": [
       "            Hours  const  trend\n",
       "Year2                          \n",
       "1966-01-01   37.2    1.0    1.0\n",
       "1967-01-01   37.0    1.0    2.0\n",
       "1968-01-01   37.4    1.0    3.0\n",
       "1969-01-01   37.5    1.0    4.0\n",
       "1970-01-01   37.7    1.0    5.0\n",
       "1971-01-01   37.7    1.0    6.0\n",
       "1972-01-01   37.4    1.0    7.0\n",
       "1973-01-01   37.2    1.0    8.0\n",
       "1974-01-01   37.3    1.0    9.0\n",
       "1975-01-01   37.2    1.0   10.0\n",
       "1976-01-01   36.9    1.0   11.0\n",
       "1977-01-01   36.7    1.0   12.0\n",
       "1978-01-01   36.7    1.0   13.0\n",
       "1979-01-01   36.5    1.0   14.0\n",
       "1980-01-01   36.3    1.0   15.0\n",
       "1981-01-01   35.9    1.0   16.0\n",
       "1982-01-01   35.8    1.0   17.0\n",
       "1983-01-01   35.9    1.0   18.0\n",
       "1984-01-01   36.0    1.0   19.0\n",
       "1985-01-01   35.7    1.0   20.0\n",
       "1986-01-01   35.6    1.0   21.0\n",
       "1987-01-01   35.2    1.0   22.0\n",
       "1988-01-01   34.8    1.0   23.0\n",
       "1989-01-01   35.3    1.0   24.0\n",
       "1990-01-01   35.6    1.0   25.0\n",
       "1991-01-01   35.6    1.0   26.0\n",
       "1992-01-01   35.6    1.0   27.0\n",
       "1993-01-01   35.9    1.0   28.0\n",
       "1994-01-01   36.0    1.0   29.0\n",
       "1995-01-01   35.7    1.0   30.0\n",
       "1996-01-01   35.7    1.0   31.0\n",
       "1997-01-01   35.5    1.0   32.0\n",
       "1998-01-01   35.6    1.0   33.0\n",
       "1999-01-01   36.3    1.0   34.0\n",
       "2000-01-01   36.5    1.0   35.0"
      ]
     },
     "execution_count": 116,
     "metadata": {},
     "output_type": "execute_result"
    }
   ],
   "source": [
    "hours_df"
   ]
  },
  {
   "cell_type": "code",
   "execution_count": 118,
   "metadata": {},
   "outputs": [
    {
     "data": {
      "image/png": "[encoded data removed]",
      "text/plain": [
       "<Figure size 432x288 with 1 Axes>"
      ]
     },
     "metadata": {
      "needs_background": "light"
     },
     "output_type": "display_data"
    },
    {
     "name": "stdout",
     "output_type": "stream",
     "text": [
      "[ 1.          0.92827786  0.83907157  0.75243724  0.66489363  0.5711929\n",
      "  0.47340041  0.36878832  0.26492963  0.16369487  0.04740503 -0.08222525\n",
      " -0.18483692 -0.26088464 -0.31045932 -0.34629088 -0.3809144  -0.4222536\n",
      " -0.43949689 -0.43855458 -0.41680275 -0.38853008 -0.35354174 -0.29956243\n",
      " -0.25714397 -0.22719563 -0.2070935  -0.17875588 -0.14213083 -0.11126022\n",
      " -0.07402466 -0.04542725 -0.01976552  0.00544158  0.00761791]\n"
     ]
    },
    {
     "name": "stderr",
     "output_type": "stream",
     "text": [
      "C:\\Users\\judyj\\anaconda3\\lib\\site-packages\\statsmodels\\tsa\\stattools.py:652: FutureWarning: The default number of lags is changing from 40 tomin(int(10 * np.log10(nobs)), nobs - 1) after 0.12is released. Set the number of lags to an integer to  silence this warning.\n",
      "  warnings.warn(\n",
      "C:\\Users\\judyj\\anaconda3\\lib\\site-packages\\statsmodels\\tsa\\stattools.py:662: FutureWarning: fft=True will become the default after the release of the 0.12 release of statsmodels. To suppress this warning, explicitly set fft=False.\n",
      "  warnings.warn(\n"
     ]
    }
   ],
   "source": [
    "tsaplots.plot_acf(hours_df['1966-01-01':'2000-01-01'].Hours)\n",
    "plt.show()\n",
    "print(stattools.acf(hours_df['1966-01-01':'2000-01-01'].Hours))"
   ]
  },
  {
   "cell_type": "code",
   "execution_count": 119,
   "metadata": {},
   "outputs": [
    {
     "name": "stdout",
     "output_type": "stream",
     "text": [
      "                  coef   std err\n",
      "const        36.561214  0.523229\n",
      "ar.L1.Hours   0.938029  0.046229\n"
     ]
    },
    {
     "name": "stderr",
     "output_type": "stream",
     "text": [
      "C:\\Users\\judyj\\anaconda3\\lib\\site-packages\\statsmodels\\tsa\\arima_model.py:472: FutureWarning: \n",
      "statsmodels.tsa.arima_model.ARMA and statsmodels.tsa.arima_model.ARIMA have\n",
      "been deprecated in favor of statsmodels.tsa.arima.model.ARIMA (note the .\n",
      "between arima and model) and\n",
      "statsmodels.tsa.SARIMAX. These will be removed after the 0.12 release.\n",
      "\n",
      "statsmodels.tsa.arima.model.ARIMA makes use of the statespace framework and\n",
      "is both well tested and maintained.\n",
      "\n",
      "To silence this warning and continue using ARMA and ARIMA until they are\n",
      "removed, use:\n",
      "\n",
      "import warnings\n",
      "warnings.filterwarnings('ignore', 'statsmodels.tsa.arima_model.ARMA',\n",
      "                        FutureWarning)\n",
      "warnings.filterwarnings('ignore', 'statsmodels.tsa.arima_model.ARIMA',\n",
      "                        FutureWarning)\n",
      "\n",
      "  warnings.warn(ARIMA_DEPRECATION_WARN, FutureWarning)\n",
      "C:\\Users\\judyj\\anaconda3\\lib\\site-packages\\statsmodels\\tsa\\base\\tsa_model.py:524: ValueWarning: No frequency information was provided, so inferred frequency AS-JAN will be used.\n",
      "  warnings.warn('No frequency information was'\n"
     ]
    }
   ],
   "source": [
    "hours_arima = ARIMA(hours_ts, order=(1, 0, 0)).fit(disp=0)\n",
    "print(pd.DataFrame({'coef': hours_arima.params, 'std err': hours_arima.bse}))"
   ]
  },
  {
   "cell_type": "markdown",
   "metadata": {},
   "source": [
    "### 17.3"
   ]
  },
  {
   "cell_type": "code",
   "execution_count": 137,
   "metadata": {},
   "outputs": [
    {
     "data": {
      "text/html": [
       "<div>\n",
       "<style scoped>\n",
       "    .dataframe tbody tr th:only-of-type {\n",
       "        vertical-align: middle;\n",
       "    }\n",
       "\n",
       "    .dataframe tbody tr th {\n",
       "        vertical-align: top;\n",
       "    }\n",
       "\n",
       "    .dataframe thead th {\n",
       "        text-align: right;\n",
       "    }\n",
       "</style>\n",
       "<table border=\"1\" class=\"dataframe\">\n",
       "  <thead>\n",
       "    <tr style=\"text-align: right;\">\n",
       "      <th></th>\n",
       "      <th>Index</th>\n",
       "      <th>QuarterYear</th>\n",
       "      <th>Revenue(in million $)</th>\n",
       "      <th>Quarter</th>\n",
       "    </tr>\n",
       "  </thead>\n",
       "  <tbody>\n",
       "    <tr>\n",
       "      <th>0</th>\n",
       "      <td>1</td>\n",
       "      <td>Q1-92</td>\n",
       "      <td>1026</td>\n",
       "      <td>Q1</td>\n",
       "    </tr>\n",
       "    <tr>\n",
       "      <th>1</th>\n",
       "      <td>2</td>\n",
       "      <td>Q2-92</td>\n",
       "      <td>1056</td>\n",
       "      <td>Q2</td>\n",
       "    </tr>\n",
       "    <tr>\n",
       "      <th>2</th>\n",
       "      <td>3</td>\n",
       "      <td>Q3-92</td>\n",
       "      <td>1182</td>\n",
       "      <td>Q3</td>\n",
       "    </tr>\n",
       "    <tr>\n",
       "      <th>3</th>\n",
       "      <td>4</td>\n",
       "      <td>Q4-92</td>\n",
       "      <td>2861</td>\n",
       "      <td>Q4</td>\n",
       "    </tr>\n",
       "    <tr>\n",
       "      <th>4</th>\n",
       "      <td>5</td>\n",
       "      <td>Q1-93</td>\n",
       "      <td>1172</td>\n",
       "      <td>Q1</td>\n",
       "    </tr>\n",
       "    <tr>\n",
       "      <th>5</th>\n",
       "      <td>6</td>\n",
       "      <td>Q2-93</td>\n",
       "      <td>1249</td>\n",
       "      <td>Q2</td>\n",
       "    </tr>\n",
       "    <tr>\n",
       "      <th>6</th>\n",
       "      <td>7</td>\n",
       "      <td>Q3-93</td>\n",
       "      <td>1346</td>\n",
       "      <td>Q3</td>\n",
       "    </tr>\n",
       "    <tr>\n",
       "      <th>7</th>\n",
       "      <td>8</td>\n",
       "      <td>Q4-93</td>\n",
       "      <td>3402</td>\n",
       "      <td>Q4</td>\n",
       "    </tr>\n",
       "    <tr>\n",
       "      <th>8</th>\n",
       "      <td>9</td>\n",
       "      <td>Q1-94</td>\n",
       "      <td>1286</td>\n",
       "      <td>Q1</td>\n",
       "    </tr>\n",
       "    <tr>\n",
       "      <th>9</th>\n",
       "      <td>10</td>\n",
       "      <td>Q2-94</td>\n",
       "      <td>1317</td>\n",
       "      <td>Q2</td>\n",
       "    </tr>\n",
       "    <tr>\n",
       "      <th>10</th>\n",
       "      <td>11</td>\n",
       "      <td>Q3-94</td>\n",
       "      <td>1449</td>\n",
       "      <td>Q3</td>\n",
       "    </tr>\n",
       "    <tr>\n",
       "      <th>11</th>\n",
       "      <td>12</td>\n",
       "      <td>Q4-94</td>\n",
       "      <td>3893</td>\n",
       "      <td>Q4</td>\n",
       "    </tr>\n",
       "    <tr>\n",
       "      <th>12</th>\n",
       "      <td>13</td>\n",
       "      <td>Q1-95</td>\n",
       "      <td>1462</td>\n",
       "      <td>Q1</td>\n",
       "    </tr>\n",
       "    <tr>\n",
       "      <th>13</th>\n",
       "      <td>14</td>\n",
       "      <td>Q2-95</td>\n",
       "      <td>1452</td>\n",
       "      <td>Q2</td>\n",
       "    </tr>\n",
       "    <tr>\n",
       "      <th>14</th>\n",
       "      <td>15</td>\n",
       "      <td>Q3-95</td>\n",
       "      <td>1631</td>\n",
       "      <td>Q3</td>\n",
       "    </tr>\n",
       "    <tr>\n",
       "      <th>15</th>\n",
       "      <td>16</td>\n",
       "      <td>Q4-95</td>\n",
       "      <td>4200</td>\n",
       "      <td>Q4</td>\n",
       "    </tr>\n",
       "  </tbody>\n",
       "</table>\n",
       "</div>"
      ],
      "text/plain": [
       "    Index QuarterYear  Revenue(in million $) Quarter\n",
       "0       1       Q1-92                   1026      Q1\n",
       "1       2       Q2-92                   1056      Q2\n",
       "2       3       Q3-92                   1182      Q3\n",
       "3       4       Q4-92                   2861      Q4\n",
       "4       5       Q1-93                   1172      Q1\n",
       "5       6       Q2-93                   1249      Q2\n",
       "6       7       Q3-93                   1346      Q3\n",
       "7       8       Q4-93                   3402      Q4\n",
       "8       9       Q1-94                   1286      Q1\n",
       "9      10       Q2-94                   1317      Q2\n",
       "10     11       Q3-94                   1449      Q3\n",
       "11     12       Q4-94                   3893      Q4\n",
       "12     13       Q1-95                   1462      Q1\n",
       "13     14       Q2-95                   1452      Q2\n",
       "14     15       Q3-95                   1631      Q3\n",
       "15     16       Q4-95                   4200      Q4"
      ]
     },
     "execution_count": 137,
     "metadata": {},
     "output_type": "execute_result"
    }
   ],
   "source": [
    "revenues = pd.read_csv('D:\\숙탯 2기\\dmba-datasets\\ToysRUsRevenues.csv')\n",
    "revenues"
   ]
  },
  {
   "cell_type": "markdown",
   "metadata": {},
   "source": [
    "#### a."
   ]
  },
  {
   "cell_type": "code",
   "execution_count": 138,
   "metadata": {},
   "outputs": [],
   "source": [
    "quarter2 = revenues[revenues.Quarter == 'Q2'].index\n",
    "revenues_df = revenues.drop(quarter2)"
   ]
  },
  {
   "cell_type": "code",
   "execution_count": 139,
   "metadata": {},
   "outputs": [
    {
     "data": {
      "text/html": [
       "<div>\n",
       "<style scoped>\n",
       "    .dataframe tbody tr th:only-of-type {\n",
       "        vertical-align: middle;\n",
       "    }\n",
       "\n",
       "    .dataframe tbody tr th {\n",
       "        vertical-align: top;\n",
       "    }\n",
       "\n",
       "    .dataframe thead th {\n",
       "        text-align: right;\n",
       "    }\n",
       "</style>\n",
       "<table border=\"1\" class=\"dataframe\">\n",
       "  <thead>\n",
       "    <tr style=\"text-align: right;\">\n",
       "      <th></th>\n",
       "      <th>Index</th>\n",
       "      <th>QuarterYear</th>\n",
       "      <th>Revenue(in million $)</th>\n",
       "      <th>Quarter</th>\n",
       "    </tr>\n",
       "  </thead>\n",
       "  <tbody>\n",
       "    <tr>\n",
       "      <th>0</th>\n",
       "      <td>1</td>\n",
       "      <td>Q1-92</td>\n",
       "      <td>1026</td>\n",
       "      <td>Q1</td>\n",
       "    </tr>\n",
       "    <tr>\n",
       "      <th>2</th>\n",
       "      <td>3</td>\n",
       "      <td>Q3-92</td>\n",
       "      <td>1182</td>\n",
       "      <td>Q3</td>\n",
       "    </tr>\n",
       "    <tr>\n",
       "      <th>3</th>\n",
       "      <td>4</td>\n",
       "      <td>Q4-92</td>\n",
       "      <td>2861</td>\n",
       "      <td>Q4</td>\n",
       "    </tr>\n",
       "    <tr>\n",
       "      <th>4</th>\n",
       "      <td>5</td>\n",
       "      <td>Q1-93</td>\n",
       "      <td>1172</td>\n",
       "      <td>Q1</td>\n",
       "    </tr>\n",
       "    <tr>\n",
       "      <th>6</th>\n",
       "      <td>7</td>\n",
       "      <td>Q3-93</td>\n",
       "      <td>1346</td>\n",
       "      <td>Q3</td>\n",
       "    </tr>\n",
       "    <tr>\n",
       "      <th>7</th>\n",
       "      <td>8</td>\n",
       "      <td>Q4-93</td>\n",
       "      <td>3402</td>\n",
       "      <td>Q4</td>\n",
       "    </tr>\n",
       "    <tr>\n",
       "      <th>8</th>\n",
       "      <td>9</td>\n",
       "      <td>Q1-94</td>\n",
       "      <td>1286</td>\n",
       "      <td>Q1</td>\n",
       "    </tr>\n",
       "    <tr>\n",
       "      <th>10</th>\n",
       "      <td>11</td>\n",
       "      <td>Q3-94</td>\n",
       "      <td>1449</td>\n",
       "      <td>Q3</td>\n",
       "    </tr>\n",
       "    <tr>\n",
       "      <th>11</th>\n",
       "      <td>12</td>\n",
       "      <td>Q4-94</td>\n",
       "      <td>3893</td>\n",
       "      <td>Q4</td>\n",
       "    </tr>\n",
       "    <tr>\n",
       "      <th>12</th>\n",
       "      <td>13</td>\n",
       "      <td>Q1-95</td>\n",
       "      <td>1462</td>\n",
       "      <td>Q1</td>\n",
       "    </tr>\n",
       "    <tr>\n",
       "      <th>14</th>\n",
       "      <td>15</td>\n",
       "      <td>Q3-95</td>\n",
       "      <td>1631</td>\n",
       "      <td>Q3</td>\n",
       "    </tr>\n",
       "    <tr>\n",
       "      <th>15</th>\n",
       "      <td>16</td>\n",
       "      <td>Q4-95</td>\n",
       "      <td>4200</td>\n",
       "      <td>Q4</td>\n",
       "    </tr>\n",
       "  </tbody>\n",
       "</table>\n",
       "</div>"
      ],
      "text/plain": [
       "    Index QuarterYear  Revenue(in million $) Quarter\n",
       "0       1       Q1-92                   1026      Q1\n",
       "2       3       Q3-92                   1182      Q3\n",
       "3       4       Q4-92                   2861      Q4\n",
       "4       5       Q1-93                   1172      Q1\n",
       "6       7       Q3-93                   1346      Q3\n",
       "7       8       Q4-93                   3402      Q4\n",
       "8       9       Q1-94                   1286      Q1\n",
       "10     11       Q3-94                   1449      Q3\n",
       "11     12       Q4-94                   3893      Q4\n",
       "12     13       Q1-95                   1462      Q1\n",
       "14     15       Q3-95                   1631      Q3\n",
       "15     16       Q4-95                   4200      Q4"
      ]
     },
     "execution_count": 139,
     "metadata": {},
     "output_type": "execute_result"
    }
   ],
   "source": [
    "revenues_df"
   ]
  },
  {
   "cell_type": "code",
   "execution_count": 132,
   "metadata": {},
   "outputs": [
    {
     "data": {
      "text/plain": [
       "0     92\n",
       "2     92\n",
       "3     92\n",
       "4     93\n",
       "6     93\n",
       "7     93\n",
       "8     94\n",
       "10    94\n",
       "11    94\n",
       "12    95\n",
       "14    95\n",
       "15    95\n",
       "Name: QuarterYear, dtype: object"
      ]
     },
     "execution_count": 132,
     "metadata": {},
     "output_type": "execute_result"
    }
   ],
   "source": [
    "revenues_df['QuarterYear'].str[-2:]"
   ]
  },
  {
   "cell_type": "code",
   "execution_count": 141,
   "metadata": {},
   "outputs": [
    {
     "data": {
      "text/html": [
       "<div>\n",
       "<style scoped>\n",
       "    .dataframe tbody tr th:only-of-type {\n",
       "        vertical-align: middle;\n",
       "    }\n",
       "\n",
       "    .dataframe tbody tr th {\n",
       "        vertical-align: top;\n",
       "    }\n",
       "\n",
       "    .dataframe thead th {\n",
       "        text-align: right;\n",
       "    }\n",
       "</style>\n",
       "<table border=\"1\" class=\"dataframe\">\n",
       "  <thead>\n",
       "    <tr style=\"text-align: right;\">\n",
       "      <th></th>\n",
       "      <th>Index</th>\n",
       "      <th>QuarterYear</th>\n",
       "      <th>Revenue(in million $)</th>\n",
       "      <th>Quarter</th>\n",
       "      <th>Year</th>\n",
       "    </tr>\n",
       "  </thead>\n",
       "  <tbody>\n",
       "    <tr>\n",
       "      <th>0</th>\n",
       "      <td>1</td>\n",
       "      <td>Q1-92</td>\n",
       "      <td>1026</td>\n",
       "      <td>Q1</td>\n",
       "      <td>1992-01-01</td>\n",
       "    </tr>\n",
       "    <tr>\n",
       "      <th>2</th>\n",
       "      <td>3</td>\n",
       "      <td>Q3-92</td>\n",
       "      <td>1182</td>\n",
       "      <td>Q3</td>\n",
       "      <td>1992-01-01</td>\n",
       "    </tr>\n",
       "    <tr>\n",
       "      <th>3</th>\n",
       "      <td>4</td>\n",
       "      <td>Q4-92</td>\n",
       "      <td>2861</td>\n",
       "      <td>Q4</td>\n",
       "      <td>1992-01-01</td>\n",
       "    </tr>\n",
       "    <tr>\n",
       "      <th>4</th>\n",
       "      <td>5</td>\n",
       "      <td>Q1-93</td>\n",
       "      <td>1172</td>\n",
       "      <td>Q1</td>\n",
       "      <td>1993-01-01</td>\n",
       "    </tr>\n",
       "    <tr>\n",
       "      <th>6</th>\n",
       "      <td>7</td>\n",
       "      <td>Q3-93</td>\n",
       "      <td>1346</td>\n",
       "      <td>Q3</td>\n",
       "      <td>1993-01-01</td>\n",
       "    </tr>\n",
       "    <tr>\n",
       "      <th>7</th>\n",
       "      <td>8</td>\n",
       "      <td>Q4-93</td>\n",
       "      <td>3402</td>\n",
       "      <td>Q4</td>\n",
       "      <td>1993-01-01</td>\n",
       "    </tr>\n",
       "    <tr>\n",
       "      <th>8</th>\n",
       "      <td>9</td>\n",
       "      <td>Q1-94</td>\n",
       "      <td>1286</td>\n",
       "      <td>Q1</td>\n",
       "      <td>1994-01-01</td>\n",
       "    </tr>\n",
       "    <tr>\n",
       "      <th>10</th>\n",
       "      <td>11</td>\n",
       "      <td>Q3-94</td>\n",
       "      <td>1449</td>\n",
       "      <td>Q3</td>\n",
       "      <td>1994-01-01</td>\n",
       "    </tr>\n",
       "    <tr>\n",
       "      <th>11</th>\n",
       "      <td>12</td>\n",
       "      <td>Q4-94</td>\n",
       "      <td>3893</td>\n",
       "      <td>Q4</td>\n",
       "      <td>1994-01-01</td>\n",
       "    </tr>\n",
       "    <tr>\n",
       "      <th>12</th>\n",
       "      <td>13</td>\n",
       "      <td>Q1-95</td>\n",
       "      <td>1462</td>\n",
       "      <td>Q1</td>\n",
       "      <td>1995-01-01</td>\n",
       "    </tr>\n",
       "    <tr>\n",
       "      <th>14</th>\n",
       "      <td>15</td>\n",
       "      <td>Q3-95</td>\n",
       "      <td>1631</td>\n",
       "      <td>Q3</td>\n",
       "      <td>1995-01-01</td>\n",
       "    </tr>\n",
       "    <tr>\n",
       "      <th>15</th>\n",
       "      <td>16</td>\n",
       "      <td>Q4-95</td>\n",
       "      <td>4200</td>\n",
       "      <td>Q4</td>\n",
       "      <td>1995-01-01</td>\n",
       "    </tr>\n",
       "  </tbody>\n",
       "</table>\n",
       "</div>"
      ],
      "text/plain": [
       "    Index QuarterYear  Revenue(in million $) Quarter       Year\n",
       "0       1       Q1-92                   1026      Q1 1992-01-01\n",
       "2       3       Q3-92                   1182      Q3 1992-01-01\n",
       "3       4       Q4-92                   2861      Q4 1992-01-01\n",
       "4       5       Q1-93                   1172      Q1 1993-01-01\n",
       "6       7       Q3-93                   1346      Q3 1993-01-01\n",
       "7       8       Q4-93                   3402      Q4 1993-01-01\n",
       "8       9       Q1-94                   1286      Q1 1994-01-01\n",
       "10     11       Q3-94                   1449      Q3 1994-01-01\n",
       "11     12       Q4-94                   3893      Q4 1994-01-01\n",
       "12     13       Q1-95                   1462      Q1 1995-01-01\n",
       "14     15       Q3-95                   1631      Q3 1995-01-01\n",
       "15     16       Q4-95                   4200      Q4 1995-01-01"
      ]
     },
     "execution_count": 141,
     "metadata": {},
     "output_type": "execute_result"
    }
   ],
   "source": [
    "revenues_df['Year'] = pd.to_datetime(revenues_df['QuarterYear'].str[-2:], format='%y')\n",
    "\n",
    "\n",
    "revenues_df"
   ]
  },
  {
   "cell_type": "code",
   "execution_count": 123,
   "metadata": {},
   "outputs": [
    {
     "ename": "NameError",
     "evalue": "name 'revenues_ts' is not defined",
     "output_type": "error",
     "traceback": [
      "\u001b[1;31m---------------------------------------------------------------------------\u001b[0m",
      "\u001b[1;31mNameError\u001b[0m                                 Traceback (most recent call last)",
      "\u001b[1;32m<ipython-input-123-56a0b83144eb>\u001b[0m in \u001b[0;36m<module>\u001b[1;34m\u001b[0m\n\u001b[1;32m----> 1\u001b[1;33m \u001b[0mrevenues_df\u001b[0m \u001b[1;33m=\u001b[0m \u001b[0mtsatools\u001b[0m\u001b[1;33m.\u001b[0m\u001b[0madd_trend\u001b[0m\u001b[1;33m(\u001b[0m\u001b[0mrevenues_ts\u001b[0m\u001b[1;33m,\u001b[0m \u001b[0mtrend\u001b[0m\u001b[1;33m=\u001b[0m\u001b[1;34m'ct'\u001b[0m\u001b[1;33m)\u001b[0m\u001b[1;33m\u001b[0m\u001b[1;33m\u001b[0m\u001b[0m\n\u001b[0m\u001b[0;32m      2\u001b[0m \u001b[0mrevenues_df\u001b[0m \u001b[1;33m=\u001b[0m \u001b[0mtsatools\u001b[0m\u001b[1;33m.\u001b[0m\u001b[0madd_trend\u001b[0m\u001b[1;33m(\u001b[0m\u001b[0mrevenues_ts\u001b[0m\u001b[1;33m,\u001b[0m \u001b[0mtrend\u001b[0m\u001b[1;33m=\u001b[0m\u001b[1;34m'c'\u001b[0m\u001b[1;33m)\u001b[0m\u001b[1;33m\u001b[0m\u001b[1;33m\u001b[0m\u001b[0m\n\u001b[0;32m      3\u001b[0m \u001b[0mrevenues_df\u001b[0m\u001b[1;33m[\u001b[0m\u001b[1;34m'Month'\u001b[0m\u001b[1;33m]\u001b[0m \u001b[1;33m=\u001b[0m \u001b[0mrevenues_df\u001b[0m\u001b[1;33m.\u001b[0m\u001b[0mindex\u001b[0m\u001b[1;33m.\u001b[0m\u001b[0mmonth\u001b[0m\u001b[1;33m\u001b[0m\u001b[1;33m\u001b[0m\u001b[0m\n\u001b[0;32m      4\u001b[0m \u001b[1;33m\u001b[0m\u001b[0m\n\u001b[0;32m      5\u001b[0m \u001b[0mrevenues_lm\u001b[0m \u001b[1;33m=\u001b[0m \u001b[0msm\u001b[0m\u001b[1;33m.\u001b[0m\u001b[0mols\u001b[0m\u001b[1;33m(\u001b[0m\u001b[0mformula\u001b[0m\u001b[1;33m=\u001b[0m\u001b[1;34m'Revenue(in million $) ~ trend + C(Month)'\u001b[0m\u001b[1;33m,\u001b[0m \u001b[0mdata\u001b[0m\u001b[1;33m=\u001b[0m\u001b[0mrevenues_df\u001b[0m\u001b[1;33m)\u001b[0m\u001b[1;33m.\u001b[0m\u001b[0mfit\u001b[0m\u001b[1;33m(\u001b[0m\u001b[1;33m)\u001b[0m\u001b[1;33m\u001b[0m\u001b[1;33m\u001b[0m\u001b[0m\n",
      "\u001b[1;31mNameError\u001b[0m: name 'revenues_ts' is not defined"
     ]
    }
   ],
   "source": [
    "revenues_ts = pd.Series(revenues_df['Hours'].values, index=revenues_df.Year2, name='Hours')\n",
    "\n",
    "revenues_df = tsatools.add_trend(revenues_ts, trend='ct')\n",
    "revenues_df = tsatools.add_trend(revenues_ts, trend='c')\n",
    "revenues_df['Month'] = revenues_df.index.month\n",
    "\n",
    "revenues_lm = sm.ols(formula='Revenue(in million $) ~ trend + C(Month)', data=revenues_df).fit()"
   ]
  },
  {
   "cell_type": "markdown",
   "metadata": {},
   "source": [
    "### 17.4"
   ]
  },
  {
   "cell_type": "code",
   "execution_count": 142,
   "metadata": {},
   "outputs": [
    {
     "data": {
      "text/html": [
       "<div>\n",
       "<style scoped>\n",
       "    .dataframe tbody tr th:only-of-type {\n",
       "        vertical-align: middle;\n",
       "    }\n",
       "\n",
       "    .dataframe tbody tr th {\n",
       "        vertical-align: top;\n",
       "    }\n",
       "\n",
       "    .dataframe thead th {\n",
       "        text-align: right;\n",
       "    }\n",
       "</style>\n",
       "<table border=\"1\" class=\"dataframe\">\n",
       "  <thead>\n",
       "    <tr style=\"text-align: right;\">\n",
       "      <th></th>\n",
       "      <th>Date</th>\n",
       "      <th>Close</th>\n",
       "    </tr>\n",
       "  </thead>\n",
       "  <tbody>\n",
       "    <tr>\n",
       "      <th>0</th>\n",
       "      <td>5-Feb-01</td>\n",
       "      <td>53.84</td>\n",
       "    </tr>\n",
       "    <tr>\n",
       "      <th>1</th>\n",
       "      <td>6-Feb-01</td>\n",
       "      <td>53.20</td>\n",
       "    </tr>\n",
       "    <tr>\n",
       "      <th>2</th>\n",
       "      <td>7-Feb-01</td>\n",
       "      <td>54.66</td>\n",
       "    </tr>\n",
       "    <tr>\n",
       "      <th>3</th>\n",
       "      <td>8-Feb-01</td>\n",
       "      <td>52.30</td>\n",
       "    </tr>\n",
       "    <tr>\n",
       "      <th>4</th>\n",
       "      <td>9-Feb-01</td>\n",
       "      <td>50.40</td>\n",
       "    </tr>\n",
       "    <tr>\n",
       "      <th>...</th>\n",
       "      <td>...</td>\n",
       "      <td>...</td>\n",
       "    </tr>\n",
       "    <tr>\n",
       "      <th>243</th>\n",
       "      <td>29-Jan-02</td>\n",
       "      <td>57.91</td>\n",
       "    </tr>\n",
       "    <tr>\n",
       "      <th>244</th>\n",
       "      <td>30-Jan-02</td>\n",
       "      <td>59.75</td>\n",
       "    </tr>\n",
       "    <tr>\n",
       "      <th>245</th>\n",
       "      <td>31-Jan-02</td>\n",
       "      <td>59.98</td>\n",
       "    </tr>\n",
       "    <tr>\n",
       "      <th>246</th>\n",
       "      <td>1-Feb-02</td>\n",
       "      <td>59.26</td>\n",
       "    </tr>\n",
       "    <tr>\n",
       "      <th>247</th>\n",
       "      <td>4-Feb-02</td>\n",
       "      <td>58.90</td>\n",
       "    </tr>\n",
       "  </tbody>\n",
       "</table>\n",
       "<p>248 rows × 2 columns</p>\n",
       "</div>"
      ],
      "text/plain": [
       "          Date  Close\n",
       "0     5-Feb-01  53.84\n",
       "1     6-Feb-01  53.20\n",
       "2     7-Feb-01  54.66\n",
       "3     8-Feb-01  52.30\n",
       "4     9-Feb-01  50.40\n",
       "..         ...    ...\n",
       "243  29-Jan-02  57.91\n",
       "244  30-Jan-02  59.75\n",
       "245  31-Jan-02  59.98\n",
       "246   1-Feb-02  59.26\n",
       "247   4-Feb-02  58.90\n",
       "\n",
       "[248 rows x 2 columns]"
      ]
     },
     "execution_count": 142,
     "metadata": {},
     "output_type": "execute_result"
    }
   ],
   "source": [
    "stockPrice = pd.read_csv('D:\\숙탯 2기\\dmba-datasets\\WalMartStock.csv')\n",
    "stockPrice"
   ]
  },
  {
   "cell_type": "markdown",
   "metadata": {},
   "source": [
    "#### a."
   ]
  },
  {
   "cell_type": "code",
   "execution_count": 143,
   "metadata": {},
   "outputs": [
    {
     "data": {
      "text/html": [
       "<div>\n",
       "<style scoped>\n",
       "    .dataframe tbody tr th:only-of-type {\n",
       "        vertical-align: middle;\n",
       "    }\n",
       "\n",
       "    .dataframe tbody tr th {\n",
       "        vertical-align: top;\n",
       "    }\n",
       "\n",
       "    .dataframe thead th {\n",
       "        text-align: right;\n",
       "    }\n",
       "</style>\n",
       "<table border=\"1\" class=\"dataframe\">\n",
       "  <thead>\n",
       "    <tr style=\"text-align: right;\">\n",
       "      <th></th>\n",
       "      <th>Date</th>\n",
       "      <th>Close</th>\n",
       "      <th>Date2</th>\n",
       "    </tr>\n",
       "  </thead>\n",
       "  <tbody>\n",
       "    <tr>\n",
       "      <th>0</th>\n",
       "      <td>5-Feb-01</td>\n",
       "      <td>53.84</td>\n",
       "      <td>2001-02-05</td>\n",
       "    </tr>\n",
       "    <tr>\n",
       "      <th>1</th>\n",
       "      <td>6-Feb-01</td>\n",
       "      <td>53.20</td>\n",
       "      <td>2001-02-06</td>\n",
       "    </tr>\n",
       "    <tr>\n",
       "      <th>2</th>\n",
       "      <td>7-Feb-01</td>\n",
       "      <td>54.66</td>\n",
       "      <td>2001-02-07</td>\n",
       "    </tr>\n",
       "    <tr>\n",
       "      <th>3</th>\n",
       "      <td>8-Feb-01</td>\n",
       "      <td>52.30</td>\n",
       "      <td>2001-02-08</td>\n",
       "    </tr>\n",
       "    <tr>\n",
       "      <th>4</th>\n",
       "      <td>9-Feb-01</td>\n",
       "      <td>50.40</td>\n",
       "      <td>2001-02-09</td>\n",
       "    </tr>\n",
       "    <tr>\n",
       "      <th>...</th>\n",
       "      <td>...</td>\n",
       "      <td>...</td>\n",
       "      <td>...</td>\n",
       "    </tr>\n",
       "    <tr>\n",
       "      <th>243</th>\n",
       "      <td>29-Jan-02</td>\n",
       "      <td>57.91</td>\n",
       "      <td>2002-01-29</td>\n",
       "    </tr>\n",
       "    <tr>\n",
       "      <th>244</th>\n",
       "      <td>30-Jan-02</td>\n",
       "      <td>59.75</td>\n",
       "      <td>2002-01-30</td>\n",
       "    </tr>\n",
       "    <tr>\n",
       "      <th>245</th>\n",
       "      <td>31-Jan-02</td>\n",
       "      <td>59.98</td>\n",
       "      <td>2002-01-31</td>\n",
       "    </tr>\n",
       "    <tr>\n",
       "      <th>246</th>\n",
       "      <td>1-Feb-02</td>\n",
       "      <td>59.26</td>\n",
       "      <td>2002-02-01</td>\n",
       "    </tr>\n",
       "    <tr>\n",
       "      <th>247</th>\n",
       "      <td>4-Feb-02</td>\n",
       "      <td>58.90</td>\n",
       "      <td>2002-02-04</td>\n",
       "    </tr>\n",
       "  </tbody>\n",
       "</table>\n",
       "<p>248 rows × 3 columns</p>\n",
       "</div>"
      ],
      "text/plain": [
       "          Date  Close      Date2\n",
       "0     5-Feb-01  53.84 2001-02-05\n",
       "1     6-Feb-01  53.20 2001-02-06\n",
       "2     7-Feb-01  54.66 2001-02-07\n",
       "3     8-Feb-01  52.30 2001-02-08\n",
       "4     9-Feb-01  50.40 2001-02-09\n",
       "..         ...    ...        ...\n",
       "243  29-Jan-02  57.91 2002-01-29\n",
       "244  30-Jan-02  59.75 2002-01-30\n",
       "245  31-Jan-02  59.98 2002-01-31\n",
       "246   1-Feb-02  59.26 2002-02-01\n",
       "247   4-Feb-02  58.90 2002-02-04\n",
       "\n",
       "[248 rows x 3 columns]"
      ]
     },
     "execution_count": 143,
     "metadata": {},
     "output_type": "execute_result"
    }
   ],
   "source": [
    "stockPrice['Date2'] = pd.to_datetime(stockPrice['Date'], format='%d-%b-%y')\n",
    "stockPrice"
   ]
  },
  {
   "cell_type": "code",
   "execution_count": 145,
   "metadata": {},
   "outputs": [
    {
     "name": "stdout",
     "output_type": "stream",
     "text": [
      "                       coef   std err\n",
      "const             52.951056  1.328333\n",
      "ar.L1.stockPrice   0.955839  0.018709\n"
     ]
    },
    {
     "name": "stderr",
     "output_type": "stream",
     "text": [
      "C:\\Users\\judyj\\anaconda3\\lib\\site-packages\\statsmodels\\tsa\\arima_model.py:472: FutureWarning: \n",
      "statsmodels.tsa.arima_model.ARMA and statsmodels.tsa.arima_model.ARIMA have\n",
      "been deprecated in favor of statsmodels.tsa.arima.model.ARIMA (note the .\n",
      "between arima and model) and\n",
      "statsmodels.tsa.SARIMAX. These will be removed after the 0.12 release.\n",
      "\n",
      "statsmodels.tsa.arima.model.ARIMA makes use of the statespace framework and\n",
      "is both well tested and maintained.\n",
      "\n",
      "To silence this warning and continue using ARMA and ARIMA until they are\n",
      "removed, use:\n",
      "\n",
      "import warnings\n",
      "warnings.filterwarnings('ignore', 'statsmodels.tsa.arima_model.ARMA',\n",
      "                        FutureWarning)\n",
      "warnings.filterwarnings('ignore', 'statsmodels.tsa.arima_model.ARIMA',\n",
      "                        FutureWarning)\n",
      "\n",
      "  warnings.warn(ARIMA_DEPRECATION_WARN, FutureWarning)\n",
      "C:\\Users\\judyj\\anaconda3\\lib\\site-packages\\statsmodels\\tsa\\base\\tsa_model.py:581: ValueWarning: A date index has been provided, but it has no associated frequency information and so will be ignored when e.g. forecasting.\n",
      "  warnings.warn('A date index has been provided, but it has no'\n"
     ]
    }
   ],
   "source": [
    "stockPrice_ts = pd.Series(stockPrice.Close.values, index=stockPrice.Date2, name='stockPrice')\n",
    "stockPrice_arima = ARIMA(stockPrice_ts, order=(1, 0, 0)).fit(disp=0)\n",
    "print(pd.DataFrame({'coef': stockPrice_arima.params, 'std err': stockPrice_arima.bse}))"
   ]
  },
  {
   "cell_type": "markdown",
   "metadata": {},
   "source": [
    "#### b, c."
   ]
  },
  {
   "cell_type": "markdown",
   "metadata": {},
   "source": [
    "기울기의 계수가 1에 가까우므로 확률보행과정을 따르지 않음"
   ]
  },
  {
   "cell_type": "markdown",
   "metadata": {},
   "source": [
    "#### d."
   ]
  },
  {
   "cell_type": "markdown",
   "metadata": {},
   "source": [
    "한 기간으로부터 다른 기간까지의 변화가 무작위로 진행된다."
   ]
  }
 ],
 "metadata": {
  "kernelspec": {
   "display_name": "Python 3",
   "language": "python",
   "name": "python3"
  },
  "language_info": {
   "codemirror_mode": {
    "name": "ipython",
    "version": 3
   },
   "file_extension": ".py",
   "mimetype": "text/x-python",
   "name": "python",
   "nbconvert_exporter": "python",
   "pygments_lexer": "ipython3",
   "version": "3.8.5"
  }
 },
 "nbformat": 4,
 "nbformat_minor": 4
}
