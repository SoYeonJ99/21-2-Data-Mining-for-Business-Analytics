{
 "cells": [
  {
   "cell_type": "code",
   "execution_count": 2,
   "metadata": {},
   "outputs": [],
   "source": [
    "%matplotlib inline\n",
    "from pathlib import Path\n",
    "\n",
    "import pandas as pd\n",
    "from sklearn.model_selection import train_test_split\n",
    "from sklearn.linear_model import LinearRegression, Lasso, Ridge, LassoCV, BayesianRidge\n",
    "import statsmodels.formula.api as sm\n",
    "import matplotlib.pylab as plt\n",
    "import seaborn as sns\n",
    "\n",
    "from dmba import regressionSummary, exhaustive_search, liftChart, gainsChart\n",
    "from dmba import backward_elimination, forward_selection, stepwise_selection\n",
    "from dmba import adjusted_r2_score, AIC_score, BIC_score\n",
    "\n",
    "import warnings\n",
    "warnings.simplefilter(action='ignore', category=FutureWarning) # FutureWarning 제거"
   ]
  },
  {
   "cell_type": "markdown",
   "metadata": {},
   "source": [
    "## 6.1"
   ]
  },
  {
   "cell_type": "markdown",
   "metadata": {},
   "source": [
    "#### a."
   ]
  },
  {
   "cell_type": "markdown",
   "metadata": {},
   "source": [
    "예측 성능을 평가하기 위해 데이터를 둘로 나눠 학습 데이터로는 모델을 구축하고 검증 데이터로는 구축된 모델의 성능을 평가한다."
   ]
  },
  {
   "cell_type": "code",
   "execution_count": 3,
   "metadata": {},
   "outputs": [
    {
     "name": "stdout",
     "output_type": "stream",
     "text": [
      "intercept  -29.193467430606812\n",
      "  Predictor  coefficient\n",
      "0      CRIM    -0.240062\n",
      "1      CHAS     3.266817\n",
      "2        RM     8.325175\n"
     ]
    }
   ],
   "source": [
    "housing_df = pd.read_csv('D:\\숙탯 2기\\dmba-datasets\\BostonHousing.csv')\n",
    "\n",
    "predictors = ['CRIM', 'CHAS', 'RM']\n",
    "outcome = 'MEDV'\n",
    "\n",
    "# partition data\n",
    "X = housing_df[predictors]\n",
    "y = housing_df[outcome]\n",
    "train_X, valid_X, train_y, valid_y = train_test_split(X, y,test_size=0.4, random_state=1)\n",
    "\n",
    "housing_lm = LinearRegression()\n",
    "housing_lm.fit(train_X, train_y)\n",
    "\n",
    "# print coefficients(계수)\n",
    "print('intercept ', housing_lm.intercept_)  #intercept : 절편\n",
    "print(pd.DataFrame({'Predictor': X.columns, 'coefficient': housing_lm.coef_}))"
   ]
  },
  {
   "cell_type": "markdown",
   "metadata": {},
   "source": [
    "#### b.\n",
    "yhat = -29 - 0.24*CRIM* + 3.27*CHAS* + 8.33*RM*"
   ]
  },
  {
   "cell_type": "markdown",
   "metadata": {},
   "source": [
    "#### c."
   ]
  },
  {
   "cell_type": "code",
   "execution_count": 4,
   "metadata": {},
   "outputs": [
    {
     "data": {
      "text/html": [
       "<div>\n",
       "<style scoped>\n",
       "    .dataframe tbody tr th:only-of-type {\n",
       "        vertical-align: middle;\n",
       "    }\n",
       "\n",
       "    .dataframe tbody tr th {\n",
       "        vertical-align: top;\n",
       "    }\n",
       "\n",
       "    .dataframe thead th {\n",
       "        text-align: right;\n",
       "    }\n",
       "</style>\n",
       "<table border=\"1\" class=\"dataframe\">\n",
       "  <thead>\n",
       "    <tr style=\"text-align: right;\">\n",
       "      <th></th>\n",
       "      <th>CHAS</th>\n",
       "      <th>CRIM</th>\n",
       "      <th>RM</th>\n",
       "    </tr>\n",
       "  </thead>\n",
       "  <tbody>\n",
       "    <tr>\n",
       "      <th>0</th>\n",
       "      <td>0</td>\n",
       "      <td>1</td>\n",
       "      <td>2</td>\n",
       "    </tr>\n",
       "  </tbody>\n",
       "</table>\n",
       "</div>"
      ],
      "text/plain": [
       "   CHAS  CRIM  RM\n",
       "0     0     1   2"
      ]
     },
     "execution_count": 4,
     "metadata": {},
     "output_type": "execute_result"
    }
   ],
   "source": [
    "x = pd.DataFrame([[0, 0.1, 6]],\n",
    "                columns=['CHAS', 'CRIM', 'RM'])\n",
    "x\n",
    "\n",
    "y = pd.DataFrame([{'CHAS':0, 'CRIM':1, 'RM': 2})\n",
    "y"
   ]
  },
  {
   "cell_type": "code",
   "execution_count": 150,
   "metadata": {},
   "outputs": [
    {
     "name": "stdout",
     "output_type": "stream",
     "text": [
      "주택가격 중앙값의 예측값: 21.08426607875405\n"
     ]
    }
   ],
   "source": [
    "print(\"주택가격 중앙값의 예측값:\", housing_lm.predict(x)[0])"
   ]
  },
  {
   "cell_type": "code",
   "execution_count": 151,
   "metadata": {},
   "outputs": [
    {
     "data": {
      "text/html": [
       "<div>\n",
       "<style scoped>\n",
       "    .dataframe tbody tr th:only-of-type {\n",
       "        vertical-align: middle;\n",
       "    }\n",
       "\n",
       "    .dataframe tbody tr th {\n",
       "        vertical-align: top;\n",
       "    }\n",
       "\n",
       "    .dataframe thead th {\n",
       "        text-align: right;\n",
       "    }\n",
       "</style>\n",
       "<table border=\"1\" class=\"dataframe\">\n",
       "  <thead>\n",
       "    <tr style=\"text-align: right;\">\n",
       "      <th></th>\n",
       "      <th>CRIM</th>\n",
       "      <th>ZN</th>\n",
       "      <th>INDUS</th>\n",
       "      <th>CHAS</th>\n",
       "      <th>NOX</th>\n",
       "      <th>RM</th>\n",
       "      <th>AGE</th>\n",
       "      <th>DIS</th>\n",
       "      <th>RAD</th>\n",
       "      <th>TAX</th>\n",
       "      <th>PTRATIO</th>\n",
       "      <th>LSTAT</th>\n",
       "      <th>MEDV</th>\n",
       "      <th>CAT. MEDV</th>\n",
       "    </tr>\n",
       "  </thead>\n",
       "  <tbody>\n",
       "  </tbody>\n",
       "</table>\n",
       "</div>"
      ],
      "text/plain": [
       "Empty DataFrame\n",
       "Columns: [CRIM, ZN, INDUS, CHAS, NOX, RM, AGE, DIS, RAD, TAX, PTRATIO, LSTAT, MEDV, CAT. MEDV]\n",
       "Index: []"
      ]
     },
     "execution_count": 151,
     "metadata": {},
     "output_type": "execute_result"
    }
   ],
   "source": [
    "housing_df.loc[(housing_df['CHAS'] == 0) & (housing_df['CRIM'] == 0.1) & (housing_df['RM']==6)]"
   ]
  },
  {
   "cell_type": "code",
   "execution_count": 152,
   "metadata": {},
   "outputs": [
    {
     "data": {
      "text/plain": [
       "23.04270768176427"
      ]
     },
     "execution_count": 152,
     "metadata": {},
     "output_type": "execute_result"
    }
   ],
   "source": [
    "housing_lm.predict(valid_X).mean()"
   ]
  },
  {
   "cell_type": "code",
   "execution_count": 153,
   "metadata": {},
   "outputs": [
    {
     "data": {
      "text/plain": [
       "23.160098522167488"
      ]
     },
     "execution_count": 153,
     "metadata": {},
     "output_type": "execute_result"
    }
   ],
   "source": [
    "valid_y.mean()"
   ]
  },
  {
   "cell_type": "markdown",
   "metadata": {},
   "source": [
    "약 2천 달러"
   ]
  },
  {
   "cell_type": "markdown",
   "metadata": {},
   "source": [
    "#### d."
   ]
  },
  {
   "cell_type": "markdown",
   "metadata": {},
   "source": [
    "i."
   ]
  },
  {
   "cell_type": "markdown",
   "metadata": {},
   "source": [
    "* RM, TAX, LSTAT 등이 동일한 것을 측정할 것 같다.\n",
    "* 변수에 대한 설명만으로는 정확한 관계를 예상하기 어려우므로 상관계수로 관계를 알아보아야 한다."
   ]
  },
  {
   "cell_type": "markdown",
   "metadata": {},
   "source": [
    "ii."
   ]
  },
  {
   "cell_type": "markdown",
   "metadata": {},
   "source": [
    "##### 상관계수 데이터프레임"
   ]
  },
  {
   "cell_type": "code",
   "execution_count": 7,
   "metadata": {},
   "outputs": [
    {
     "data": {
      "text/html": [
       "<div>\n",
       "<style scoped>\n",
       "    .dataframe tbody tr th:only-of-type {\n",
       "        vertical-align: middle;\n",
       "    }\n",
       "\n",
       "    .dataframe tbody tr th {\n",
       "        vertical-align: top;\n",
       "    }\n",
       "\n",
       "    .dataframe thead th {\n",
       "        text-align: right;\n",
       "    }\n",
       "</style>\n",
       "<table border=\"1\" class=\"dataframe\">\n",
       "  <thead>\n",
       "    <tr style=\"text-align: right;\">\n",
       "      <th></th>\n",
       "      <th>CRIM</th>\n",
       "      <th>ZN</th>\n",
       "      <th>INDUS</th>\n",
       "      <th>CHAS</th>\n",
       "      <th>NOX</th>\n",
       "      <th>RM</th>\n",
       "      <th>AGE</th>\n",
       "      <th>DIS</th>\n",
       "      <th>RAD</th>\n",
       "      <th>TAX</th>\n",
       "      <th>PTRATIO</th>\n",
       "      <th>LSTAT</th>\n",
       "      <th>CAT. MEDV</th>\n",
       "    </tr>\n",
       "  </thead>\n",
       "  <tbody>\n",
       "    <tr>\n",
       "      <th>CRIM</th>\n",
       "      <td>1.000000</td>\n",
       "      <td>-0.200469</td>\n",
       "      <td>0.406583</td>\n",
       "      <td>-0.055892</td>\n",
       "      <td>0.420972</td>\n",
       "      <td>-0.219247</td>\n",
       "      <td>0.352734</td>\n",
       "      <td>-0.379670</td>\n",
       "      <td>0.625505</td>\n",
       "      <td>0.582764</td>\n",
       "      <td>0.289946</td>\n",
       "      <td>0.455621</td>\n",
       "      <td>-0.151987</td>\n",
       "    </tr>\n",
       "    <tr>\n",
       "      <th>ZN</th>\n",
       "      <td>-0.200469</td>\n",
       "      <td>1.000000</td>\n",
       "      <td>-0.533828</td>\n",
       "      <td>-0.042697</td>\n",
       "      <td>-0.516604</td>\n",
       "      <td>0.311991</td>\n",
       "      <td>-0.569537</td>\n",
       "      <td>0.664408</td>\n",
       "      <td>-0.311948</td>\n",
       "      <td>-0.314563</td>\n",
       "      <td>-0.391679</td>\n",
       "      <td>-0.412995</td>\n",
       "      <td>0.365296</td>\n",
       "    </tr>\n",
       "    <tr>\n",
       "      <th>INDUS</th>\n",
       "      <td>0.406583</td>\n",
       "      <td>-0.533828</td>\n",
       "      <td>1.000000</td>\n",
       "      <td>0.062938</td>\n",
       "      <td>0.763651</td>\n",
       "      <td>-0.391676</td>\n",
       "      <td>0.644779</td>\n",
       "      <td>-0.708027</td>\n",
       "      <td>0.595129</td>\n",
       "      <td>0.720760</td>\n",
       "      <td>0.383248</td>\n",
       "      <td>0.603800</td>\n",
       "      <td>-0.366276</td>\n",
       "    </tr>\n",
       "    <tr>\n",
       "      <th>CHAS</th>\n",
       "      <td>-0.055892</td>\n",
       "      <td>-0.042697</td>\n",
       "      <td>0.062938</td>\n",
       "      <td>1.000000</td>\n",
       "      <td>0.091203</td>\n",
       "      <td>0.091251</td>\n",
       "      <td>0.086518</td>\n",
       "      <td>-0.099176</td>\n",
       "      <td>-0.007368</td>\n",
       "      <td>-0.035587</td>\n",
       "      <td>-0.121515</td>\n",
       "      <td>-0.053929</td>\n",
       "      <td>0.108631</td>\n",
       "    </tr>\n",
       "    <tr>\n",
       "      <th>NOX</th>\n",
       "      <td>0.420972</td>\n",
       "      <td>-0.516604</td>\n",
       "      <td>0.763651</td>\n",
       "      <td>0.091203</td>\n",
       "      <td>1.000000</td>\n",
       "      <td>-0.302188</td>\n",
       "      <td>0.731470</td>\n",
       "      <td>-0.769230</td>\n",
       "      <td>0.611441</td>\n",
       "      <td>0.668023</td>\n",
       "      <td>0.188933</td>\n",
       "      <td>0.590879</td>\n",
       "      <td>-0.232502</td>\n",
       "    </tr>\n",
       "    <tr>\n",
       "      <th>RM</th>\n",
       "      <td>-0.219247</td>\n",
       "      <td>0.311991</td>\n",
       "      <td>-0.391676</td>\n",
       "      <td>0.091251</td>\n",
       "      <td>-0.302188</td>\n",
       "      <td>1.000000</td>\n",
       "      <td>-0.240265</td>\n",
       "      <td>0.205246</td>\n",
       "      <td>-0.209847</td>\n",
       "      <td>-0.292048</td>\n",
       "      <td>-0.355501</td>\n",
       "      <td>-0.613808</td>\n",
       "      <td>0.641265</td>\n",
       "    </tr>\n",
       "    <tr>\n",
       "      <th>AGE</th>\n",
       "      <td>0.352734</td>\n",
       "      <td>-0.569537</td>\n",
       "      <td>0.644779</td>\n",
       "      <td>0.086518</td>\n",
       "      <td>0.731470</td>\n",
       "      <td>-0.240265</td>\n",
       "      <td>1.000000</td>\n",
       "      <td>-0.747881</td>\n",
       "      <td>0.456022</td>\n",
       "      <td>0.506456</td>\n",
       "      <td>0.261515</td>\n",
       "      <td>0.602339</td>\n",
       "      <td>-0.191196</td>\n",
       "    </tr>\n",
       "    <tr>\n",
       "      <th>DIS</th>\n",
       "      <td>-0.379670</td>\n",
       "      <td>0.664408</td>\n",
       "      <td>-0.708027</td>\n",
       "      <td>-0.099176</td>\n",
       "      <td>-0.769230</td>\n",
       "      <td>0.205246</td>\n",
       "      <td>-0.747881</td>\n",
       "      <td>1.000000</td>\n",
       "      <td>-0.494588</td>\n",
       "      <td>-0.534432</td>\n",
       "      <td>-0.232471</td>\n",
       "      <td>-0.496996</td>\n",
       "      <td>0.118887</td>\n",
       "    </tr>\n",
       "    <tr>\n",
       "      <th>RAD</th>\n",
       "      <td>0.625505</td>\n",
       "      <td>-0.311948</td>\n",
       "      <td>0.595129</td>\n",
       "      <td>-0.007368</td>\n",
       "      <td>0.611441</td>\n",
       "      <td>-0.209847</td>\n",
       "      <td>0.456022</td>\n",
       "      <td>-0.494588</td>\n",
       "      <td>1.000000</td>\n",
       "      <td>0.910228</td>\n",
       "      <td>0.464741</td>\n",
       "      <td>0.488676</td>\n",
       "      <td>-0.197924</td>\n",
       "    </tr>\n",
       "    <tr>\n",
       "      <th>TAX</th>\n",
       "      <td>0.582764</td>\n",
       "      <td>-0.314563</td>\n",
       "      <td>0.720760</td>\n",
       "      <td>-0.035587</td>\n",
       "      <td>0.668023</td>\n",
       "      <td>-0.292048</td>\n",
       "      <td>0.506456</td>\n",
       "      <td>-0.534432</td>\n",
       "      <td>0.910228</td>\n",
       "      <td>1.000000</td>\n",
       "      <td>0.460853</td>\n",
       "      <td>0.543993</td>\n",
       "      <td>-0.273687</td>\n",
       "    </tr>\n",
       "    <tr>\n",
       "      <th>PTRATIO</th>\n",
       "      <td>0.289946</td>\n",
       "      <td>-0.391679</td>\n",
       "      <td>0.383248</td>\n",
       "      <td>-0.121515</td>\n",
       "      <td>0.188933</td>\n",
       "      <td>-0.355501</td>\n",
       "      <td>0.261515</td>\n",
       "      <td>-0.232471</td>\n",
       "      <td>0.464741</td>\n",
       "      <td>0.460853</td>\n",
       "      <td>1.000000</td>\n",
       "      <td>0.374044</td>\n",
       "      <td>-0.443425</td>\n",
       "    </tr>\n",
       "    <tr>\n",
       "      <th>LSTAT</th>\n",
       "      <td>0.455621</td>\n",
       "      <td>-0.412995</td>\n",
       "      <td>0.603800</td>\n",
       "      <td>-0.053929</td>\n",
       "      <td>0.590879</td>\n",
       "      <td>-0.613808</td>\n",
       "      <td>0.602339</td>\n",
       "      <td>-0.496996</td>\n",
       "      <td>0.488676</td>\n",
       "      <td>0.543993</td>\n",
       "      <td>0.374044</td>\n",
       "      <td>1.000000</td>\n",
       "      <td>-0.469911</td>\n",
       "    </tr>\n",
       "    <tr>\n",
       "      <th>CAT. MEDV</th>\n",
       "      <td>-0.151987</td>\n",
       "      <td>0.365296</td>\n",
       "      <td>-0.366276</td>\n",
       "      <td>0.108631</td>\n",
       "      <td>-0.232502</td>\n",
       "      <td>0.641265</td>\n",
       "      <td>-0.191196</td>\n",
       "      <td>0.118887</td>\n",
       "      <td>-0.197924</td>\n",
       "      <td>-0.273687</td>\n",
       "      <td>-0.443425</td>\n",
       "      <td>-0.469911</td>\n",
       "      <td>1.000000</td>\n",
       "    </tr>\n",
       "  </tbody>\n",
       "</table>\n",
       "</div>"
      ],
      "text/plain": [
       "               CRIM        ZN     INDUS      CHAS       NOX        RM  \\\n",
       "CRIM       1.000000 -0.200469  0.406583 -0.055892  0.420972 -0.219247   \n",
       "ZN        -0.200469  1.000000 -0.533828 -0.042697 -0.516604  0.311991   \n",
       "INDUS      0.406583 -0.533828  1.000000  0.062938  0.763651 -0.391676   \n",
       "CHAS      -0.055892 -0.042697  0.062938  1.000000  0.091203  0.091251   \n",
       "NOX        0.420972 -0.516604  0.763651  0.091203  1.000000 -0.302188   \n",
       "RM        -0.219247  0.311991 -0.391676  0.091251 -0.302188  1.000000   \n",
       "AGE        0.352734 -0.569537  0.644779  0.086518  0.731470 -0.240265   \n",
       "DIS       -0.379670  0.664408 -0.708027 -0.099176 -0.769230  0.205246   \n",
       "RAD        0.625505 -0.311948  0.595129 -0.007368  0.611441 -0.209847   \n",
       "TAX        0.582764 -0.314563  0.720760 -0.035587  0.668023 -0.292048   \n",
       "PTRATIO    0.289946 -0.391679  0.383248 -0.121515  0.188933 -0.355501   \n",
       "LSTAT      0.455621 -0.412995  0.603800 -0.053929  0.590879 -0.613808   \n",
       "CAT. MEDV -0.151987  0.365296 -0.366276  0.108631 -0.232502  0.641265   \n",
       "\n",
       "                AGE       DIS       RAD       TAX   PTRATIO     LSTAT  \\\n",
       "CRIM       0.352734 -0.379670  0.625505  0.582764  0.289946  0.455621   \n",
       "ZN        -0.569537  0.664408 -0.311948 -0.314563 -0.391679 -0.412995   \n",
       "INDUS      0.644779 -0.708027  0.595129  0.720760  0.383248  0.603800   \n",
       "CHAS       0.086518 -0.099176 -0.007368 -0.035587 -0.121515 -0.053929   \n",
       "NOX        0.731470 -0.769230  0.611441  0.668023  0.188933  0.590879   \n",
       "RM        -0.240265  0.205246 -0.209847 -0.292048 -0.355501 -0.613808   \n",
       "AGE        1.000000 -0.747881  0.456022  0.506456  0.261515  0.602339   \n",
       "DIS       -0.747881  1.000000 -0.494588 -0.534432 -0.232471 -0.496996   \n",
       "RAD        0.456022 -0.494588  1.000000  0.910228  0.464741  0.488676   \n",
       "TAX        0.506456 -0.534432  0.910228  1.000000  0.460853  0.543993   \n",
       "PTRATIO    0.261515 -0.232471  0.464741  0.460853  1.000000  0.374044   \n",
       "LSTAT      0.602339 -0.496996  0.488676  0.543993  0.374044  1.000000   \n",
       "CAT. MEDV -0.191196  0.118887 -0.197924 -0.273687 -0.443425 -0.469911   \n",
       "\n",
       "           CAT. MEDV  \n",
       "CRIM       -0.151987  \n",
       "ZN          0.365296  \n",
       "INDUS      -0.366276  \n",
       "CHAS        0.108631  \n",
       "NOX        -0.232502  \n",
       "RM          0.641265  \n",
       "AGE        -0.191196  \n",
       "DIS         0.118887  \n",
       "RAD        -0.197924  \n",
       "TAX        -0.273687  \n",
       "PTRATIO    -0.443425  \n",
       "LSTAT      -0.469911  \n",
       "CAT. MEDV   1.000000  "
      ]
     },
     "execution_count": 7,
     "metadata": {},
     "output_type": "execute_result"
    }
   ],
   "source": [
    "housing_df_corr = housing_df.drop(columns=['MEDV']).corr()\n",
    "housing_df_corr"
   ]
  },
  {
   "cell_type": "markdown",
   "metadata": {},
   "source": [
    "##### 히트맵"
   ]
  },
  {
   "cell_type": "code",
   "execution_count": 8,
   "metadata": {},
   "outputs": [
    {
     "data": {
      "image/png": "[encoded data removed]",
      "text/plain": [
       "<Figure size 720x720 with 1 Axes>"
      ]
     },
     "metadata": {},
     "output_type": "display_data"
    }
   ],
   "source": [
    "plt.figure(figsize=(10,10))\n",
    "sns.set(font_scale=0.7)\n",
    "sns.heatmap(housing_df_corr, annot=True, cbar=False)\n",
    "plt.show()"
   ]
  },
  {
   "cell_type": "markdown",
   "metadata": {},
   "source": [
    "##### 상관계수의 절댓값 크기순 데이터프레임"
   ]
  },
  {
   "cell_type": "code",
   "execution_count": 8,
   "metadata": {},
   "outputs": [],
   "source": [
    "s = housing_df_corr.unstack()   # s는 Series"
   ]
  },
  {
   "cell_type": "code",
   "execution_count": 9,
   "metadata": {
    "scrolled": true
   },
   "outputs": [
    {
     "data": {
      "text/html": [
       "<style  type=\"text/css\" >\n",
       "#T_39f40bc7_45fe_11ec_8ef1_3cf0111e3abfrow0_col0,#T_39f40bc7_45fe_11ec_8ef1_3cf0111e3abfrow1_col0{\n",
       "            background-color:  #fde725;\n",
       "            color:  #000000;\n",
       "        }#T_39f40bc7_45fe_11ec_8ef1_3cf0111e3abfrow2_col0,#T_39f40bc7_45fe_11ec_8ef1_3cf0111e3abfrow3_col0{\n",
       "            background-color:  #98d83e;\n",
       "            color:  #000000;\n",
       "        }#T_39f40bc7_45fe_11ec_8ef1_3cf0111e3abfrow4_col0,#T_39f40bc7_45fe_11ec_8ef1_3cf0111e3abfrow5_col0{\n",
       "            background-color:  #93d741;\n",
       "            color:  #000000;\n",
       "        }#T_39f40bc7_45fe_11ec_8ef1_3cf0111e3abfrow6_col0,#T_39f40bc7_45fe_11ec_8ef1_3cf0111e3abfrow7_col0{\n",
       "            background-color:  #86d549;\n",
       "            color:  #000000;\n",
       "        }#T_39f40bc7_45fe_11ec_8ef1_3cf0111e3abfrow8_col0,#T_39f40bc7_45fe_11ec_8ef1_3cf0111e3abfrow9_col0{\n",
       "            background-color:  #7cd250;\n",
       "            color:  #000000;\n",
       "        }#T_39f40bc7_45fe_11ec_8ef1_3cf0111e3abfrow10_col0,#T_39f40bc7_45fe_11ec_8ef1_3cf0111e3abfrow11_col0{\n",
       "            background-color:  #75d054;\n",
       "            color:  #000000;\n",
       "        }#T_39f40bc7_45fe_11ec_8ef1_3cf0111e3abfrow12_col0,#T_39f40bc7_45fe_11ec_8ef1_3cf0111e3abfrow13_col0{\n",
       "            background-color:  #6ccd5a;\n",
       "            color:  #000000;\n",
       "        }#T_39f40bc7_45fe_11ec_8ef1_3cf0111e3abfrow14_col0,#T_39f40bc7_45fe_11ec_8ef1_3cf0111e3abfrow15_col0{\n",
       "            background-color:  #54c568;\n",
       "            color:  #000000;\n",
       "        }#T_39f40bc7_45fe_11ec_8ef1_3cf0111e3abfrow16_col0,#T_39f40bc7_45fe_11ec_8ef1_3cf0111e3abfrow17_col0{\n",
       "            background-color:  #52c569;\n",
       "            color:  #000000;\n",
       "        }#T_39f40bc7_45fe_11ec_8ef1_3cf0111e3abfrow18_col0,#T_39f40bc7_45fe_11ec_8ef1_3cf0111e3abfrow19_col0{\n",
       "            background-color:  #46c06f;\n",
       "            color:  #000000;\n",
       "        }#T_39f40bc7_45fe_11ec_8ef1_3cf0111e3abfrow20_col0,#T_39f40bc7_45fe_11ec_8ef1_3cf0111e3abfrow21_col0{\n",
       "            background-color:  #44bf70;\n",
       "            color:  #000000;\n",
       "        }#T_39f40bc7_45fe_11ec_8ef1_3cf0111e3abfrow22_col0,#T_39f40bc7_45fe_11ec_8ef1_3cf0111e3abfrow23_col0{\n",
       "            background-color:  #3dbc74;\n",
       "            color:  #000000;\n",
       "        }#T_39f40bc7_45fe_11ec_8ef1_3cf0111e3abfrow24_col0,#T_39f40bc7_45fe_11ec_8ef1_3cf0111e3abfrow25_col0,#T_39f40bc7_45fe_11ec_8ef1_3cf0111e3abfrow26_col0,#T_39f40bc7_45fe_11ec_8ef1_3cf0111e3abfrow27_col0{\n",
       "            background-color:  #37b878;\n",
       "            color:  #000000;\n",
       "        }#T_39f40bc7_45fe_11ec_8ef1_3cf0111e3abfrow28_col0,#T_39f40bc7_45fe_11ec_8ef1_3cf0111e3abfrow29_col0{\n",
       "            background-color:  #34b679;\n",
       "            color:  #000000;\n",
       "        }#T_39f40bc7_45fe_11ec_8ef1_3cf0111e3abfrow30_col0,#T_39f40bc7_45fe_11ec_8ef1_3cf0111e3abfrow31_col0{\n",
       "            background-color:  #32b67a;\n",
       "            color:  #000000;\n",
       "        }#T_39f40bc7_45fe_11ec_8ef1_3cf0111e3abfrow32_col0,#T_39f40bc7_45fe_11ec_8ef1_3cf0111e3abfrow33_col0{\n",
       "            background-color:  #2fb47c;\n",
       "            color:  #000000;\n",
       "        }#T_39f40bc7_45fe_11ec_8ef1_3cf0111e3abfrow34_col0,#T_39f40bc7_45fe_11ec_8ef1_3cf0111e3abfrow35_col0{\n",
       "            background-color:  #2eb37c;\n",
       "            color:  #000000;\n",
       "        }#T_39f40bc7_45fe_11ec_8ef1_3cf0111e3abfrow36_col0,#T_39f40bc7_45fe_11ec_8ef1_3cf0111e3abfrow37_col0{\n",
       "            background-color:  #2cb17e;\n",
       "            color:  #000000;\n",
       "        }#T_39f40bc7_45fe_11ec_8ef1_3cf0111e3abfrow38_col0,#T_39f40bc7_45fe_11ec_8ef1_3cf0111e3abfrow39_col0{\n",
       "            background-color:  #27ad81;\n",
       "            color:  #000000;\n",
       "        }#T_39f40bc7_45fe_11ec_8ef1_3cf0111e3abfrow40_col0,#T_39f40bc7_45fe_11ec_8ef1_3cf0111e3abfrow41_col0{\n",
       "            background-color:  #22a785;\n",
       "            color:  #000000;\n",
       "        }#T_39f40bc7_45fe_11ec_8ef1_3cf0111e3abfrow42_col0,#T_39f40bc7_45fe_11ec_8ef1_3cf0111e3abfrow43_col0,#T_39f40bc7_45fe_11ec_8ef1_3cf0111e3abfrow44_col0,#T_39f40bc7_45fe_11ec_8ef1_3cf0111e3abfrow45_col0{\n",
       "            background-color:  #20a486;\n",
       "            color:  #000000;\n",
       "        }#T_39f40bc7_45fe_11ec_8ef1_3cf0111e3abfrow46_col0,#T_39f40bc7_45fe_11ec_8ef1_3cf0111e3abfrow47_col0{\n",
       "            background-color:  #1fa088;\n",
       "            color:  #000000;\n",
       "        }#T_39f40bc7_45fe_11ec_8ef1_3cf0111e3abfrow48_col0,#T_39f40bc7_45fe_11ec_8ef1_3cf0111e3abfrow49_col0{\n",
       "            background-color:  #1e9d89;\n",
       "            color:  #000000;\n",
       "        }#T_39f40bc7_45fe_11ec_8ef1_3cf0111e3abfrow50_col0,#T_39f40bc7_45fe_11ec_8ef1_3cf0111e3abfrow51_col0,#T_39f40bc7_45fe_11ec_8ef1_3cf0111e3abfrow52_col0,#T_39f40bc7_45fe_11ec_8ef1_3cf0111e3abfrow53_col0{\n",
       "            background-color:  #1f9a8a;\n",
       "            color:  #000000;\n",
       "        }#T_39f40bc7_45fe_11ec_8ef1_3cf0111e3abfrow54_col0,#T_39f40bc7_45fe_11ec_8ef1_3cf0111e3abfrow55_col0{\n",
       "            background-color:  #1f988b;\n",
       "            color:  #000000;\n",
       "        }#T_39f40bc7_45fe_11ec_8ef1_3cf0111e3abfrow56_col0,#T_39f40bc7_45fe_11ec_8ef1_3cf0111e3abfrow57_col0{\n",
       "            background-color:  #20938c;\n",
       "            color:  #000000;\n",
       "        }#T_39f40bc7_45fe_11ec_8ef1_3cf0111e3abfrow58_col0,#T_39f40bc7_45fe_11ec_8ef1_3cf0111e3abfrow59_col0{\n",
       "            background-color:  #20928c;\n",
       "            color:  #000000;\n",
       "        }#T_39f40bc7_45fe_11ec_8ef1_3cf0111e3abfrow60_col0,#T_39f40bc7_45fe_11ec_8ef1_3cf0111e3abfrow61_col0{\n",
       "            background-color:  #21918c;\n",
       "            color:  #000000;\n",
       "        }#T_39f40bc7_45fe_11ec_8ef1_3cf0111e3abfrow62_col0,#T_39f40bc7_45fe_11ec_8ef1_3cf0111e3abfrow63_col0,#T_39f40bc7_45fe_11ec_8ef1_3cf0111e3abfrow64_col0,#T_39f40bc7_45fe_11ec_8ef1_3cf0111e3abfrow65_col0{\n",
       "            background-color:  #21908d;\n",
       "            color:  #000000;\n",
       "        }#T_39f40bc7_45fe_11ec_8ef1_3cf0111e3abfrow66_col0,#T_39f40bc7_45fe_11ec_8ef1_3cf0111e3abfrow67_col0{\n",
       "            background-color:  #228c8d;\n",
       "            color:  #000000;\n",
       "        }#T_39f40bc7_45fe_11ec_8ef1_3cf0111e3abfrow68_col0,#T_39f40bc7_45fe_11ec_8ef1_3cf0111e3abfrow69_col0{\n",
       "            background-color:  #24868e;\n",
       "            color:  #000000;\n",
       "        }#T_39f40bc7_45fe_11ec_8ef1_3cf0111e3abfrow70_col0,#T_39f40bc7_45fe_11ec_8ef1_3cf0111e3abfrow71_col0{\n",
       "            background-color:  #25848e;\n",
       "            color:  #000000;\n",
       "        }#T_39f40bc7_45fe_11ec_8ef1_3cf0111e3abfrow72_col0,#T_39f40bc7_45fe_11ec_8ef1_3cf0111e3abfrow73_col0{\n",
       "            background-color:  #26828e;\n",
       "            color:  #000000;\n",
       "        }#T_39f40bc7_45fe_11ec_8ef1_3cf0111e3abfrow74_col0,#T_39f40bc7_45fe_11ec_8ef1_3cf0111e3abfrow75_col0,#T_39f40bc7_45fe_11ec_8ef1_3cf0111e3abfrow76_col0,#T_39f40bc7_45fe_11ec_8ef1_3cf0111e3abfrow77_col0{\n",
       "            background-color:  #277e8e;\n",
       "            color:  #000000;\n",
       "        }#T_39f40bc7_45fe_11ec_8ef1_3cf0111e3abfrow78_col0,#T_39f40bc7_45fe_11ec_8ef1_3cf0111e3abfrow79_col0{\n",
       "            background-color:  #287c8e;\n",
       "            color:  #000000;\n",
       "        }#T_39f40bc7_45fe_11ec_8ef1_3cf0111e3abfrow80_col0,#T_39f40bc7_45fe_11ec_8ef1_3cf0111e3abfrow81_col0{\n",
       "            background-color:  #297b8e;\n",
       "            color:  #000000;\n",
       "        }#T_39f40bc7_45fe_11ec_8ef1_3cf0111e3abfrow82_col0,#T_39f40bc7_45fe_11ec_8ef1_3cf0111e3abfrow83_col0{\n",
       "            background-color:  #29798e;\n",
       "            color:  #000000;\n",
       "        }#T_39f40bc7_45fe_11ec_8ef1_3cf0111e3abfrow84_col0,#T_39f40bc7_45fe_11ec_8ef1_3cf0111e3abfrow85_col0,#T_39f40bc7_45fe_11ec_8ef1_3cf0111e3abfrow86_col0,#T_39f40bc7_45fe_11ec_8ef1_3cf0111e3abfrow87_col0{\n",
       "            background-color:  #2a778e;\n",
       "            color:  #000000;\n",
       "        }#T_39f40bc7_45fe_11ec_8ef1_3cf0111e3abfrow88_col0,#T_39f40bc7_45fe_11ec_8ef1_3cf0111e3abfrow89_col0{\n",
       "            background-color:  #2b748e;\n",
       "            color:  #f1f1f1;\n",
       "        }#T_39f40bc7_45fe_11ec_8ef1_3cf0111e3abfrow90_col0,#T_39f40bc7_45fe_11ec_8ef1_3cf0111e3abfrow91_col0{\n",
       "            background-color:  #2c738e;\n",
       "            color:  #f1f1f1;\n",
       "        }#T_39f40bc7_45fe_11ec_8ef1_3cf0111e3abfrow92_col0,#T_39f40bc7_45fe_11ec_8ef1_3cf0111e3abfrow93_col0{\n",
       "            background-color:  #306a8e;\n",
       "            color:  #f1f1f1;\n",
       "        }#T_39f40bc7_45fe_11ec_8ef1_3cf0111e3abfrow94_col0,#T_39f40bc7_45fe_11ec_8ef1_3cf0111e3abfrow95_col0,#T_39f40bc7_45fe_11ec_8ef1_3cf0111e3abfrow96_col0,#T_39f40bc7_45fe_11ec_8ef1_3cf0111e3abfrow97_col0{\n",
       "            background-color:  #30698e;\n",
       "            color:  #f1f1f1;\n",
       "        }#T_39f40bc7_45fe_11ec_8ef1_3cf0111e3abfrow98_col0,#T_39f40bc7_45fe_11ec_8ef1_3cf0111e3abfrow99_col0{\n",
       "            background-color:  #31668e;\n",
       "            color:  #f1f1f1;\n",
       "        }#T_39f40bc7_45fe_11ec_8ef1_3cf0111e3abfrow100_col0,#T_39f40bc7_45fe_11ec_8ef1_3cf0111e3abfrow101_col0,#T_39f40bc7_45fe_11ec_8ef1_3cf0111e3abfrow102_col0,#T_39f40bc7_45fe_11ec_8ef1_3cf0111e3abfrow103_col0{\n",
       "            background-color:  #33638d;\n",
       "            color:  #f1f1f1;\n",
       "        }#T_39f40bc7_45fe_11ec_8ef1_3cf0111e3abfrow104_col0,#T_39f40bc7_45fe_11ec_8ef1_3cf0111e3abfrow105_col0{\n",
       "            background-color:  #355e8d;\n",
       "            color:  #f1f1f1;\n",
       "        }#T_39f40bc7_45fe_11ec_8ef1_3cf0111e3abfrow106_col0,#T_39f40bc7_45fe_11ec_8ef1_3cf0111e3abfrow107_col0{\n",
       "            background-color:  #375b8d;\n",
       "            color:  #f1f1f1;\n",
       "        }#T_39f40bc7_45fe_11ec_8ef1_3cf0111e3abfrow108_col0,#T_39f40bc7_45fe_11ec_8ef1_3cf0111e3abfrow109_col0{\n",
       "            background-color:  #3a548c;\n",
       "            color:  #f1f1f1;\n",
       "        }#T_39f40bc7_45fe_11ec_8ef1_3cf0111e3abfrow110_col0,#T_39f40bc7_45fe_11ec_8ef1_3cf0111e3abfrow111_col0,#T_39f40bc7_45fe_11ec_8ef1_3cf0111e3abfrow112_col0,#T_39f40bc7_45fe_11ec_8ef1_3cf0111e3abfrow113_col0{\n",
       "            background-color:  #3b518b;\n",
       "            color:  #f1f1f1;\n",
       "        }#T_39f40bc7_45fe_11ec_8ef1_3cf0111e3abfrow114_col0,#T_39f40bc7_45fe_11ec_8ef1_3cf0111e3abfrow115_col0{\n",
       "            background-color:  #3d4e8a;\n",
       "            color:  #f1f1f1;\n",
       "        }#T_39f40bc7_45fe_11ec_8ef1_3cf0111e3abfrow116_col0,#T_39f40bc7_45fe_11ec_8ef1_3cf0111e3abfrow117_col0{\n",
       "            background-color:  #3e4a89;\n",
       "            color:  #f1f1f1;\n",
       "        }#T_39f40bc7_45fe_11ec_8ef1_3cf0111e3abfrow118_col0,#T_39f40bc7_45fe_11ec_8ef1_3cf0111e3abfrow119_col0{\n",
       "            background-color:  #3e4989;\n",
       "            color:  #f1f1f1;\n",
       "        }#T_39f40bc7_45fe_11ec_8ef1_3cf0111e3abfrow120_col0,#T_39f40bc7_45fe_11ec_8ef1_3cf0111e3abfrow121_col0,#T_39f40bc7_45fe_11ec_8ef1_3cf0111e3abfrow122_col0,#T_39f40bc7_45fe_11ec_8ef1_3cf0111e3abfrow123_col0{\n",
       "            background-color:  #3f4788;\n",
       "            color:  #f1f1f1;\n",
       "        }#T_39f40bc7_45fe_11ec_8ef1_3cf0111e3abfrow124_col0,#T_39f40bc7_45fe_11ec_8ef1_3cf0111e3abfrow125_col0{\n",
       "            background-color:  #404588;\n",
       "            color:  #f1f1f1;\n",
       "        }#T_39f40bc7_45fe_11ec_8ef1_3cf0111e3abfrow126_col0,#T_39f40bc7_45fe_11ec_8ef1_3cf0111e3abfrow127_col0{\n",
       "            background-color:  #414487;\n",
       "            color:  #f1f1f1;\n",
       "        }#T_39f40bc7_45fe_11ec_8ef1_3cf0111e3abfrow128_col0,#T_39f40bc7_45fe_11ec_8ef1_3cf0111e3abfrow129_col0{\n",
       "            background-color:  #453882;\n",
       "            color:  #f1f1f1;\n",
       "        }#T_39f40bc7_45fe_11ec_8ef1_3cf0111e3abfrow130_col0,#T_39f40bc7_45fe_11ec_8ef1_3cf0111e3abfrow131_col0{\n",
       "            background-color:  #472d7b;\n",
       "            color:  #f1f1f1;\n",
       "        }#T_39f40bc7_45fe_11ec_8ef1_3cf0111e3abfrow132_col0,#T_39f40bc7_45fe_11ec_8ef1_3cf0111e3abfrow133_col0{\n",
       "            background-color:  #472c7a;\n",
       "            color:  #f1f1f1;\n",
       "        }#T_39f40bc7_45fe_11ec_8ef1_3cf0111e3abfrow134_col0,#T_39f40bc7_45fe_11ec_8ef1_3cf0111e3abfrow135_col0{\n",
       "            background-color:  #482878;\n",
       "            color:  #f1f1f1;\n",
       "        }#T_39f40bc7_45fe_11ec_8ef1_3cf0111e3abfrow136_col0,#T_39f40bc7_45fe_11ec_8ef1_3cf0111e3abfrow137_col0{\n",
       "            background-color:  #482576;\n",
       "            color:  #f1f1f1;\n",
       "        }#T_39f40bc7_45fe_11ec_8ef1_3cf0111e3abfrow138_col0,#T_39f40bc7_45fe_11ec_8ef1_3cf0111e3abfrow139_col0,#T_39f40bc7_45fe_11ec_8ef1_3cf0111e3abfrow140_col0,#T_39f40bc7_45fe_11ec_8ef1_3cf0111e3abfrow141_col0{\n",
       "            background-color:  #482173;\n",
       "            color:  #f1f1f1;\n",
       "        }#T_39f40bc7_45fe_11ec_8ef1_3cf0111e3abfrow142_col0,#T_39f40bc7_45fe_11ec_8ef1_3cf0111e3abfrow143_col0{\n",
       "            background-color:  #482071;\n",
       "            color:  #f1f1f1;\n",
       "        }#T_39f40bc7_45fe_11ec_8ef1_3cf0111e3abfrow144_col0,#T_39f40bc7_45fe_11ec_8ef1_3cf0111e3abfrow145_col0{\n",
       "            background-color:  #481769;\n",
       "            color:  #f1f1f1;\n",
       "        }#T_39f40bc7_45fe_11ec_8ef1_3cf0111e3abfrow146_col0,#T_39f40bc7_45fe_11ec_8ef1_3cf0111e3abfrow147_col0,#T_39f40bc7_45fe_11ec_8ef1_3cf0111e3abfrow148_col0,#T_39f40bc7_45fe_11ec_8ef1_3cf0111e3abfrow149_col0{\n",
       "            background-color:  #481467;\n",
       "            color:  #f1f1f1;\n",
       "        }#T_39f40bc7_45fe_11ec_8ef1_3cf0111e3abfrow150_col0,#T_39f40bc7_45fe_11ec_8ef1_3cf0111e3abfrow151_col0{\n",
       "            background-color:  #471063;\n",
       "            color:  #f1f1f1;\n",
       "        }#T_39f40bc7_45fe_11ec_8ef1_3cf0111e3abfrow152_col0,#T_39f40bc7_45fe_11ec_8ef1_3cf0111e3abfrow153_col0{\n",
       "            background-color:  #470d60;\n",
       "            color:  #f1f1f1;\n",
       "        }#T_39f40bc7_45fe_11ec_8ef1_3cf0111e3abfrow154_col0,#T_39f40bc7_45fe_11ec_8ef1_3cf0111e3abfrow155_col0{\n",
       "            background-color:  #440154;\n",
       "            color:  #f1f1f1;\n",
       "        }</style><table id=\"T_39f40bc7_45fe_11ec_8ef1_3cf0111e3abf\" ><thead>    <tr>        <th class=\"blank\" ></th>        <th class=\"blank level0\" ></th>        <th class=\"col_heading level0 col0\" >corr</th>    </tr></thead><tbody>\n",
       "                <tr>\n",
       "                        <th id=\"T_39f40bc7_45fe_11ec_8ef1_3cf0111e3abflevel0_row0\" class=\"row_heading level0 row0\" >RAD</th>\n",
       "                        <th id=\"T_39f40bc7_45fe_11ec_8ef1_3cf0111e3abflevel1_row0\" class=\"row_heading level1 row0\" >TAX</th>\n",
       "                        <td id=\"T_39f40bc7_45fe_11ec_8ef1_3cf0111e3abfrow0_col0\" class=\"data row0 col0\" >0.910228</td>\n",
       "            </tr>\n",
       "            <tr>\n",
       "                        <th id=\"T_39f40bc7_45fe_11ec_8ef1_3cf0111e3abflevel0_row1\" class=\"row_heading level0 row1\" >TAX</th>\n",
       "                        <th id=\"T_39f40bc7_45fe_11ec_8ef1_3cf0111e3abflevel1_row1\" class=\"row_heading level1 row1\" >RAD</th>\n",
       "                        <td id=\"T_39f40bc7_45fe_11ec_8ef1_3cf0111e3abfrow1_col0\" class=\"data row1 col0\" >0.910228</td>\n",
       "            </tr>\n",
       "            <tr>\n",
       "                        <th id=\"T_39f40bc7_45fe_11ec_8ef1_3cf0111e3abflevel0_row2\" class=\"row_heading level0 row2\" >DIS</th>\n",
       "                        <th id=\"T_39f40bc7_45fe_11ec_8ef1_3cf0111e3abflevel1_row2\" class=\"row_heading level1 row2\" >NOX</th>\n",
       "                        <td id=\"T_39f40bc7_45fe_11ec_8ef1_3cf0111e3abfrow2_col0\" class=\"data row2 col0\" >0.769230</td>\n",
       "            </tr>\n",
       "            <tr>\n",
       "                        <th id=\"T_39f40bc7_45fe_11ec_8ef1_3cf0111e3abflevel0_row3\" class=\"row_heading level0 row3\" rowspan=2>NOX</th>\n",
       "                        <th id=\"T_39f40bc7_45fe_11ec_8ef1_3cf0111e3abflevel1_row3\" class=\"row_heading level1 row3\" >DIS</th>\n",
       "                        <td id=\"T_39f40bc7_45fe_11ec_8ef1_3cf0111e3abfrow3_col0\" class=\"data row3 col0\" >0.769230</td>\n",
       "            </tr>\n",
       "            <tr>\n",
       "                                <th id=\"T_39f40bc7_45fe_11ec_8ef1_3cf0111e3abflevel1_row4\" class=\"row_heading level1 row4\" >INDUS</th>\n",
       "                        <td id=\"T_39f40bc7_45fe_11ec_8ef1_3cf0111e3abfrow4_col0\" class=\"data row4 col0\" >0.763651</td>\n",
       "            </tr>\n",
       "            <tr>\n",
       "                        <th id=\"T_39f40bc7_45fe_11ec_8ef1_3cf0111e3abflevel0_row5\" class=\"row_heading level0 row5\" >INDUS</th>\n",
       "                        <th id=\"T_39f40bc7_45fe_11ec_8ef1_3cf0111e3abflevel1_row5\" class=\"row_heading level1 row5\" >NOX</th>\n",
       "                        <td id=\"T_39f40bc7_45fe_11ec_8ef1_3cf0111e3abfrow5_col0\" class=\"data row5 col0\" >0.763651</td>\n",
       "            </tr>\n",
       "            <tr>\n",
       "                        <th id=\"T_39f40bc7_45fe_11ec_8ef1_3cf0111e3abflevel0_row6\" class=\"row_heading level0 row6\" >DIS</th>\n",
       "                        <th id=\"T_39f40bc7_45fe_11ec_8ef1_3cf0111e3abflevel1_row6\" class=\"row_heading level1 row6\" >AGE</th>\n",
       "                        <td id=\"T_39f40bc7_45fe_11ec_8ef1_3cf0111e3abfrow6_col0\" class=\"data row6 col0\" >0.747881</td>\n",
       "            </tr>\n",
       "            <tr>\n",
       "                        <th id=\"T_39f40bc7_45fe_11ec_8ef1_3cf0111e3abflevel0_row7\" class=\"row_heading level0 row7\" rowspan=2>AGE</th>\n",
       "                        <th id=\"T_39f40bc7_45fe_11ec_8ef1_3cf0111e3abflevel1_row7\" class=\"row_heading level1 row7\" >DIS</th>\n",
       "                        <td id=\"T_39f40bc7_45fe_11ec_8ef1_3cf0111e3abfrow7_col0\" class=\"data row7 col0\" >0.747881</td>\n",
       "            </tr>\n",
       "            <tr>\n",
       "                                <th id=\"T_39f40bc7_45fe_11ec_8ef1_3cf0111e3abflevel1_row8\" class=\"row_heading level1 row8\" >NOX</th>\n",
       "                        <td id=\"T_39f40bc7_45fe_11ec_8ef1_3cf0111e3abfrow8_col0\" class=\"data row8 col0\" >0.731470</td>\n",
       "            </tr>\n",
       "            <tr>\n",
       "                        <th id=\"T_39f40bc7_45fe_11ec_8ef1_3cf0111e3abflevel0_row9\" class=\"row_heading level0 row9\" >NOX</th>\n",
       "                        <th id=\"T_39f40bc7_45fe_11ec_8ef1_3cf0111e3abflevel1_row9\" class=\"row_heading level1 row9\" >AGE</th>\n",
       "                        <td id=\"T_39f40bc7_45fe_11ec_8ef1_3cf0111e3abfrow9_col0\" class=\"data row9 col0\" >0.731470</td>\n",
       "            </tr>\n",
       "            <tr>\n",
       "                        <th id=\"T_39f40bc7_45fe_11ec_8ef1_3cf0111e3abflevel0_row10\" class=\"row_heading level0 row10\" >TAX</th>\n",
       "                        <th id=\"T_39f40bc7_45fe_11ec_8ef1_3cf0111e3abflevel1_row10\" class=\"row_heading level1 row10\" >INDUS</th>\n",
       "                        <td id=\"T_39f40bc7_45fe_11ec_8ef1_3cf0111e3abfrow10_col0\" class=\"data row10 col0\" >0.720760</td>\n",
       "            </tr>\n",
       "            <tr>\n",
       "                        <th id=\"T_39f40bc7_45fe_11ec_8ef1_3cf0111e3abflevel0_row11\" class=\"row_heading level0 row11\" rowspan=2>INDUS</th>\n",
       "                        <th id=\"T_39f40bc7_45fe_11ec_8ef1_3cf0111e3abflevel1_row11\" class=\"row_heading level1 row11\" >TAX</th>\n",
       "                        <td id=\"T_39f40bc7_45fe_11ec_8ef1_3cf0111e3abfrow11_col0\" class=\"data row11 col0\" >0.720760</td>\n",
       "            </tr>\n",
       "            <tr>\n",
       "                                <th id=\"T_39f40bc7_45fe_11ec_8ef1_3cf0111e3abflevel1_row12\" class=\"row_heading level1 row12\" >DIS</th>\n",
       "                        <td id=\"T_39f40bc7_45fe_11ec_8ef1_3cf0111e3abfrow12_col0\" class=\"data row12 col0\" >0.708027</td>\n",
       "            </tr>\n",
       "            <tr>\n",
       "                        <th id=\"T_39f40bc7_45fe_11ec_8ef1_3cf0111e3abflevel0_row13\" class=\"row_heading level0 row13\" >DIS</th>\n",
       "                        <th id=\"T_39f40bc7_45fe_11ec_8ef1_3cf0111e3abflevel1_row13\" class=\"row_heading level1 row13\" >INDUS</th>\n",
       "                        <td id=\"T_39f40bc7_45fe_11ec_8ef1_3cf0111e3abfrow13_col0\" class=\"data row13 col0\" >0.708027</td>\n",
       "            </tr>\n",
       "            <tr>\n",
       "                        <th id=\"T_39f40bc7_45fe_11ec_8ef1_3cf0111e3abflevel0_row14\" class=\"row_heading level0 row14\" >TAX</th>\n",
       "                        <th id=\"T_39f40bc7_45fe_11ec_8ef1_3cf0111e3abflevel1_row14\" class=\"row_heading level1 row14\" >NOX</th>\n",
       "                        <td id=\"T_39f40bc7_45fe_11ec_8ef1_3cf0111e3abfrow14_col0\" class=\"data row14 col0\" >0.668023</td>\n",
       "            </tr>\n",
       "            <tr>\n",
       "                        <th id=\"T_39f40bc7_45fe_11ec_8ef1_3cf0111e3abflevel0_row15\" class=\"row_heading level0 row15\" >NOX</th>\n",
       "                        <th id=\"T_39f40bc7_45fe_11ec_8ef1_3cf0111e3abflevel1_row15\" class=\"row_heading level1 row15\" >TAX</th>\n",
       "                        <td id=\"T_39f40bc7_45fe_11ec_8ef1_3cf0111e3abfrow15_col0\" class=\"data row15 col0\" >0.668023</td>\n",
       "            </tr>\n",
       "            <tr>\n",
       "                        <th id=\"T_39f40bc7_45fe_11ec_8ef1_3cf0111e3abflevel0_row16\" class=\"row_heading level0 row16\" >ZN</th>\n",
       "                        <th id=\"T_39f40bc7_45fe_11ec_8ef1_3cf0111e3abflevel1_row16\" class=\"row_heading level1 row16\" >DIS</th>\n",
       "                        <td id=\"T_39f40bc7_45fe_11ec_8ef1_3cf0111e3abfrow16_col0\" class=\"data row16 col0\" >0.664408</td>\n",
       "            </tr>\n",
       "            <tr>\n",
       "                        <th id=\"T_39f40bc7_45fe_11ec_8ef1_3cf0111e3abflevel0_row17\" class=\"row_heading level0 row17\" >DIS</th>\n",
       "                        <th id=\"T_39f40bc7_45fe_11ec_8ef1_3cf0111e3abflevel1_row17\" class=\"row_heading level1 row17\" >ZN</th>\n",
       "                        <td id=\"T_39f40bc7_45fe_11ec_8ef1_3cf0111e3abfrow17_col0\" class=\"data row17 col0\" >0.664408</td>\n",
       "            </tr>\n",
       "            <tr>\n",
       "                        <th id=\"T_39f40bc7_45fe_11ec_8ef1_3cf0111e3abflevel0_row18\" class=\"row_heading level0 row18\" >INDUS</th>\n",
       "                        <th id=\"T_39f40bc7_45fe_11ec_8ef1_3cf0111e3abflevel1_row18\" class=\"row_heading level1 row18\" >AGE</th>\n",
       "                        <td id=\"T_39f40bc7_45fe_11ec_8ef1_3cf0111e3abfrow18_col0\" class=\"data row18 col0\" >0.644779</td>\n",
       "            </tr>\n",
       "            <tr>\n",
       "                        <th id=\"T_39f40bc7_45fe_11ec_8ef1_3cf0111e3abflevel0_row19\" class=\"row_heading level0 row19\" >AGE</th>\n",
       "                        <th id=\"T_39f40bc7_45fe_11ec_8ef1_3cf0111e3abflevel1_row19\" class=\"row_heading level1 row19\" >INDUS</th>\n",
       "                        <td id=\"T_39f40bc7_45fe_11ec_8ef1_3cf0111e3abfrow19_col0\" class=\"data row19 col0\" >0.644779</td>\n",
       "            </tr>\n",
       "            <tr>\n",
       "                        <th id=\"T_39f40bc7_45fe_11ec_8ef1_3cf0111e3abflevel0_row20\" class=\"row_heading level0 row20\" >RM</th>\n",
       "                        <th id=\"T_39f40bc7_45fe_11ec_8ef1_3cf0111e3abflevel1_row20\" class=\"row_heading level1 row20\" >CAT. MEDV</th>\n",
       "                        <td id=\"T_39f40bc7_45fe_11ec_8ef1_3cf0111e3abfrow20_col0\" class=\"data row20 col0\" >0.641265</td>\n",
       "            </tr>\n",
       "            <tr>\n",
       "                        <th id=\"T_39f40bc7_45fe_11ec_8ef1_3cf0111e3abflevel0_row21\" class=\"row_heading level0 row21\" >CAT. MEDV</th>\n",
       "                        <th id=\"T_39f40bc7_45fe_11ec_8ef1_3cf0111e3abflevel1_row21\" class=\"row_heading level1 row21\" >RM</th>\n",
       "                        <td id=\"T_39f40bc7_45fe_11ec_8ef1_3cf0111e3abfrow21_col0\" class=\"data row21 col0\" >0.641265</td>\n",
       "            </tr>\n",
       "            <tr>\n",
       "                        <th id=\"T_39f40bc7_45fe_11ec_8ef1_3cf0111e3abflevel0_row22\" class=\"row_heading level0 row22\" >RAD</th>\n",
       "                        <th id=\"T_39f40bc7_45fe_11ec_8ef1_3cf0111e3abflevel1_row22\" class=\"row_heading level1 row22\" >CRIM</th>\n",
       "                        <td id=\"T_39f40bc7_45fe_11ec_8ef1_3cf0111e3abfrow22_col0\" class=\"data row22 col0\" >0.625505</td>\n",
       "            </tr>\n",
       "            <tr>\n",
       "                        <th id=\"T_39f40bc7_45fe_11ec_8ef1_3cf0111e3abflevel0_row23\" class=\"row_heading level0 row23\" >CRIM</th>\n",
       "                        <th id=\"T_39f40bc7_45fe_11ec_8ef1_3cf0111e3abflevel1_row23\" class=\"row_heading level1 row23\" >RAD</th>\n",
       "                        <td id=\"T_39f40bc7_45fe_11ec_8ef1_3cf0111e3abfrow23_col0\" class=\"data row23 col0\" >0.625505</td>\n",
       "            </tr>\n",
       "            <tr>\n",
       "                        <th id=\"T_39f40bc7_45fe_11ec_8ef1_3cf0111e3abflevel0_row24\" class=\"row_heading level0 row24\" >LSTAT</th>\n",
       "                        <th id=\"T_39f40bc7_45fe_11ec_8ef1_3cf0111e3abflevel1_row24\" class=\"row_heading level1 row24\" >RM</th>\n",
       "                        <td id=\"T_39f40bc7_45fe_11ec_8ef1_3cf0111e3abfrow24_col0\" class=\"data row24 col0\" >0.613808</td>\n",
       "            </tr>\n",
       "            <tr>\n",
       "                        <th id=\"T_39f40bc7_45fe_11ec_8ef1_3cf0111e3abflevel0_row25\" class=\"row_heading level0 row25\" >RM</th>\n",
       "                        <th id=\"T_39f40bc7_45fe_11ec_8ef1_3cf0111e3abflevel1_row25\" class=\"row_heading level1 row25\" >LSTAT</th>\n",
       "                        <td id=\"T_39f40bc7_45fe_11ec_8ef1_3cf0111e3abfrow25_col0\" class=\"data row25 col0\" >0.613808</td>\n",
       "            </tr>\n",
       "            <tr>\n",
       "                        <th id=\"T_39f40bc7_45fe_11ec_8ef1_3cf0111e3abflevel0_row26\" class=\"row_heading level0 row26\" >RAD</th>\n",
       "                        <th id=\"T_39f40bc7_45fe_11ec_8ef1_3cf0111e3abflevel1_row26\" class=\"row_heading level1 row26\" >NOX</th>\n",
       "                        <td id=\"T_39f40bc7_45fe_11ec_8ef1_3cf0111e3abfrow26_col0\" class=\"data row26 col0\" >0.611441</td>\n",
       "            </tr>\n",
       "            <tr>\n",
       "                        <th id=\"T_39f40bc7_45fe_11ec_8ef1_3cf0111e3abflevel0_row27\" class=\"row_heading level0 row27\" >NOX</th>\n",
       "                        <th id=\"T_39f40bc7_45fe_11ec_8ef1_3cf0111e3abflevel1_row27\" class=\"row_heading level1 row27\" >RAD</th>\n",
       "                        <td id=\"T_39f40bc7_45fe_11ec_8ef1_3cf0111e3abfrow27_col0\" class=\"data row27 col0\" >0.611441</td>\n",
       "            </tr>\n",
       "            <tr>\n",
       "                        <th id=\"T_39f40bc7_45fe_11ec_8ef1_3cf0111e3abflevel0_row28\" class=\"row_heading level0 row28\" >INDUS</th>\n",
       "                        <th id=\"T_39f40bc7_45fe_11ec_8ef1_3cf0111e3abflevel1_row28\" class=\"row_heading level1 row28\" >LSTAT</th>\n",
       "                        <td id=\"T_39f40bc7_45fe_11ec_8ef1_3cf0111e3abfrow28_col0\" class=\"data row28 col0\" >0.603800</td>\n",
       "            </tr>\n",
       "            <tr>\n",
       "                        <th id=\"T_39f40bc7_45fe_11ec_8ef1_3cf0111e3abflevel0_row29\" class=\"row_heading level0 row29\" >LSTAT</th>\n",
       "                        <th id=\"T_39f40bc7_45fe_11ec_8ef1_3cf0111e3abflevel1_row29\" class=\"row_heading level1 row29\" >INDUS</th>\n",
       "                        <td id=\"T_39f40bc7_45fe_11ec_8ef1_3cf0111e3abfrow29_col0\" class=\"data row29 col0\" >0.603800</td>\n",
       "            </tr>\n",
       "            <tr>\n",
       "                        <th id=\"T_39f40bc7_45fe_11ec_8ef1_3cf0111e3abflevel0_row30\" class=\"row_heading level0 row30\" >AGE</th>\n",
       "                        <th id=\"T_39f40bc7_45fe_11ec_8ef1_3cf0111e3abflevel1_row30\" class=\"row_heading level1 row30\" >LSTAT</th>\n",
       "                        <td id=\"T_39f40bc7_45fe_11ec_8ef1_3cf0111e3abfrow30_col0\" class=\"data row30 col0\" >0.602339</td>\n",
       "            </tr>\n",
       "            <tr>\n",
       "                        <th id=\"T_39f40bc7_45fe_11ec_8ef1_3cf0111e3abflevel0_row31\" class=\"row_heading level0 row31\" >LSTAT</th>\n",
       "                        <th id=\"T_39f40bc7_45fe_11ec_8ef1_3cf0111e3abflevel1_row31\" class=\"row_heading level1 row31\" >AGE</th>\n",
       "                        <td id=\"T_39f40bc7_45fe_11ec_8ef1_3cf0111e3abfrow31_col0\" class=\"data row31 col0\" >0.602339</td>\n",
       "            </tr>\n",
       "            <tr>\n",
       "                        <th id=\"T_39f40bc7_45fe_11ec_8ef1_3cf0111e3abflevel0_row32\" class=\"row_heading level0 row32\" >INDUS</th>\n",
       "                        <th id=\"T_39f40bc7_45fe_11ec_8ef1_3cf0111e3abflevel1_row32\" class=\"row_heading level1 row32\" >RAD</th>\n",
       "                        <td id=\"T_39f40bc7_45fe_11ec_8ef1_3cf0111e3abfrow32_col0\" class=\"data row32 col0\" >0.595129</td>\n",
       "            </tr>\n",
       "            <tr>\n",
       "                        <th id=\"T_39f40bc7_45fe_11ec_8ef1_3cf0111e3abflevel0_row33\" class=\"row_heading level0 row33\" >RAD</th>\n",
       "                        <th id=\"T_39f40bc7_45fe_11ec_8ef1_3cf0111e3abflevel1_row33\" class=\"row_heading level1 row33\" >INDUS</th>\n",
       "                        <td id=\"T_39f40bc7_45fe_11ec_8ef1_3cf0111e3abfrow33_col0\" class=\"data row33 col0\" >0.595129</td>\n",
       "            </tr>\n",
       "            <tr>\n",
       "                        <th id=\"T_39f40bc7_45fe_11ec_8ef1_3cf0111e3abflevel0_row34\" class=\"row_heading level0 row34\" >LSTAT</th>\n",
       "                        <th id=\"T_39f40bc7_45fe_11ec_8ef1_3cf0111e3abflevel1_row34\" class=\"row_heading level1 row34\" >NOX</th>\n",
       "                        <td id=\"T_39f40bc7_45fe_11ec_8ef1_3cf0111e3abfrow34_col0\" class=\"data row34 col0\" >0.590879</td>\n",
       "            </tr>\n",
       "            <tr>\n",
       "                        <th id=\"T_39f40bc7_45fe_11ec_8ef1_3cf0111e3abflevel0_row35\" class=\"row_heading level0 row35\" >NOX</th>\n",
       "                        <th id=\"T_39f40bc7_45fe_11ec_8ef1_3cf0111e3abflevel1_row35\" class=\"row_heading level1 row35\" >LSTAT</th>\n",
       "                        <td id=\"T_39f40bc7_45fe_11ec_8ef1_3cf0111e3abfrow35_col0\" class=\"data row35 col0\" >0.590879</td>\n",
       "            </tr>\n",
       "            <tr>\n",
       "                        <th id=\"T_39f40bc7_45fe_11ec_8ef1_3cf0111e3abflevel0_row36\" class=\"row_heading level0 row36\" >CRIM</th>\n",
       "                        <th id=\"T_39f40bc7_45fe_11ec_8ef1_3cf0111e3abflevel1_row36\" class=\"row_heading level1 row36\" >TAX</th>\n",
       "                        <td id=\"T_39f40bc7_45fe_11ec_8ef1_3cf0111e3abfrow36_col0\" class=\"data row36 col0\" >0.582764</td>\n",
       "            </tr>\n",
       "            <tr>\n",
       "                        <th id=\"T_39f40bc7_45fe_11ec_8ef1_3cf0111e3abflevel0_row37\" class=\"row_heading level0 row37\" >TAX</th>\n",
       "                        <th id=\"T_39f40bc7_45fe_11ec_8ef1_3cf0111e3abflevel1_row37\" class=\"row_heading level1 row37\" >CRIM</th>\n",
       "                        <td id=\"T_39f40bc7_45fe_11ec_8ef1_3cf0111e3abfrow37_col0\" class=\"data row37 col0\" >0.582764</td>\n",
       "            </tr>\n",
       "            <tr>\n",
       "                        <th id=\"T_39f40bc7_45fe_11ec_8ef1_3cf0111e3abflevel0_row38\" class=\"row_heading level0 row38\" >AGE</th>\n",
       "                        <th id=\"T_39f40bc7_45fe_11ec_8ef1_3cf0111e3abflevel1_row38\" class=\"row_heading level1 row38\" >ZN</th>\n",
       "                        <td id=\"T_39f40bc7_45fe_11ec_8ef1_3cf0111e3abfrow38_col0\" class=\"data row38 col0\" >0.569537</td>\n",
       "            </tr>\n",
       "            <tr>\n",
       "                        <th id=\"T_39f40bc7_45fe_11ec_8ef1_3cf0111e3abflevel0_row39\" class=\"row_heading level0 row39\" >ZN</th>\n",
       "                        <th id=\"T_39f40bc7_45fe_11ec_8ef1_3cf0111e3abflevel1_row39\" class=\"row_heading level1 row39\" >AGE</th>\n",
       "                        <td id=\"T_39f40bc7_45fe_11ec_8ef1_3cf0111e3abfrow39_col0\" class=\"data row39 col0\" >0.569537</td>\n",
       "            </tr>\n",
       "            <tr>\n",
       "                        <th id=\"T_39f40bc7_45fe_11ec_8ef1_3cf0111e3abflevel0_row40\" class=\"row_heading level0 row40\" >LSTAT</th>\n",
       "                        <th id=\"T_39f40bc7_45fe_11ec_8ef1_3cf0111e3abflevel1_row40\" class=\"row_heading level1 row40\" >TAX</th>\n",
       "                        <td id=\"T_39f40bc7_45fe_11ec_8ef1_3cf0111e3abfrow40_col0\" class=\"data row40 col0\" >0.543993</td>\n",
       "            </tr>\n",
       "            <tr>\n",
       "                        <th id=\"T_39f40bc7_45fe_11ec_8ef1_3cf0111e3abflevel0_row41\" class=\"row_heading level0 row41\" rowspan=2>TAX</th>\n",
       "                        <th id=\"T_39f40bc7_45fe_11ec_8ef1_3cf0111e3abflevel1_row41\" class=\"row_heading level1 row41\" >LSTAT</th>\n",
       "                        <td id=\"T_39f40bc7_45fe_11ec_8ef1_3cf0111e3abfrow41_col0\" class=\"data row41 col0\" >0.543993</td>\n",
       "            </tr>\n",
       "            <tr>\n",
       "                                <th id=\"T_39f40bc7_45fe_11ec_8ef1_3cf0111e3abflevel1_row42\" class=\"row_heading level1 row42\" >DIS</th>\n",
       "                        <td id=\"T_39f40bc7_45fe_11ec_8ef1_3cf0111e3abfrow42_col0\" class=\"data row42 col0\" >0.534432</td>\n",
       "            </tr>\n",
       "            <tr>\n",
       "                        <th id=\"T_39f40bc7_45fe_11ec_8ef1_3cf0111e3abflevel0_row43\" class=\"row_heading level0 row43\" >DIS</th>\n",
       "                        <th id=\"T_39f40bc7_45fe_11ec_8ef1_3cf0111e3abflevel1_row43\" class=\"row_heading level1 row43\" >TAX</th>\n",
       "                        <td id=\"T_39f40bc7_45fe_11ec_8ef1_3cf0111e3abfrow43_col0\" class=\"data row43 col0\" >0.534432</td>\n",
       "            </tr>\n",
       "            <tr>\n",
       "                        <th id=\"T_39f40bc7_45fe_11ec_8ef1_3cf0111e3abflevel0_row44\" class=\"row_heading level0 row44\" >ZN</th>\n",
       "                        <th id=\"T_39f40bc7_45fe_11ec_8ef1_3cf0111e3abflevel1_row44\" class=\"row_heading level1 row44\" >INDUS</th>\n",
       "                        <td id=\"T_39f40bc7_45fe_11ec_8ef1_3cf0111e3abfrow44_col0\" class=\"data row44 col0\" >0.533828</td>\n",
       "            </tr>\n",
       "            <tr>\n",
       "                        <th id=\"T_39f40bc7_45fe_11ec_8ef1_3cf0111e3abflevel0_row45\" class=\"row_heading level0 row45\" >INDUS</th>\n",
       "                        <th id=\"T_39f40bc7_45fe_11ec_8ef1_3cf0111e3abflevel1_row45\" class=\"row_heading level1 row45\" >ZN</th>\n",
       "                        <td id=\"T_39f40bc7_45fe_11ec_8ef1_3cf0111e3abfrow45_col0\" class=\"data row45 col0\" >0.533828</td>\n",
       "            </tr>\n",
       "            <tr>\n",
       "                        <th id=\"T_39f40bc7_45fe_11ec_8ef1_3cf0111e3abflevel0_row46\" class=\"row_heading level0 row46\" >ZN</th>\n",
       "                        <th id=\"T_39f40bc7_45fe_11ec_8ef1_3cf0111e3abflevel1_row46\" class=\"row_heading level1 row46\" >NOX</th>\n",
       "                        <td id=\"T_39f40bc7_45fe_11ec_8ef1_3cf0111e3abfrow46_col0\" class=\"data row46 col0\" >0.516604</td>\n",
       "            </tr>\n",
       "            <tr>\n",
       "                        <th id=\"T_39f40bc7_45fe_11ec_8ef1_3cf0111e3abflevel0_row47\" class=\"row_heading level0 row47\" >NOX</th>\n",
       "                        <th id=\"T_39f40bc7_45fe_11ec_8ef1_3cf0111e3abflevel1_row47\" class=\"row_heading level1 row47\" >ZN</th>\n",
       "                        <td id=\"T_39f40bc7_45fe_11ec_8ef1_3cf0111e3abfrow47_col0\" class=\"data row47 col0\" >0.516604</td>\n",
       "            </tr>\n",
       "            <tr>\n",
       "                        <th id=\"T_39f40bc7_45fe_11ec_8ef1_3cf0111e3abflevel0_row48\" class=\"row_heading level0 row48\" >TAX</th>\n",
       "                        <th id=\"T_39f40bc7_45fe_11ec_8ef1_3cf0111e3abflevel1_row48\" class=\"row_heading level1 row48\" >AGE</th>\n",
       "                        <td id=\"T_39f40bc7_45fe_11ec_8ef1_3cf0111e3abfrow48_col0\" class=\"data row48 col0\" >0.506456</td>\n",
       "            </tr>\n",
       "            <tr>\n",
       "                        <th id=\"T_39f40bc7_45fe_11ec_8ef1_3cf0111e3abflevel0_row49\" class=\"row_heading level0 row49\" >AGE</th>\n",
       "                        <th id=\"T_39f40bc7_45fe_11ec_8ef1_3cf0111e3abflevel1_row49\" class=\"row_heading level1 row49\" >TAX</th>\n",
       "                        <td id=\"T_39f40bc7_45fe_11ec_8ef1_3cf0111e3abfrow49_col0\" class=\"data row49 col0\" >0.506456</td>\n",
       "            </tr>\n",
       "            <tr>\n",
       "                        <th id=\"T_39f40bc7_45fe_11ec_8ef1_3cf0111e3abflevel0_row50\" class=\"row_heading level0 row50\" >DIS</th>\n",
       "                        <th id=\"T_39f40bc7_45fe_11ec_8ef1_3cf0111e3abflevel1_row50\" class=\"row_heading level1 row50\" >LSTAT</th>\n",
       "                        <td id=\"T_39f40bc7_45fe_11ec_8ef1_3cf0111e3abfrow50_col0\" class=\"data row50 col0\" >0.496996</td>\n",
       "            </tr>\n",
       "            <tr>\n",
       "                        <th id=\"T_39f40bc7_45fe_11ec_8ef1_3cf0111e3abflevel0_row51\" class=\"row_heading level0 row51\" >LSTAT</th>\n",
       "                        <th id=\"T_39f40bc7_45fe_11ec_8ef1_3cf0111e3abflevel1_row51\" class=\"row_heading level1 row51\" >DIS</th>\n",
       "                        <td id=\"T_39f40bc7_45fe_11ec_8ef1_3cf0111e3abfrow51_col0\" class=\"data row51 col0\" >0.496996</td>\n",
       "            </tr>\n",
       "            <tr>\n",
       "                        <th id=\"T_39f40bc7_45fe_11ec_8ef1_3cf0111e3abflevel0_row52\" class=\"row_heading level0 row52\" >DIS</th>\n",
       "                        <th id=\"T_39f40bc7_45fe_11ec_8ef1_3cf0111e3abflevel1_row52\" class=\"row_heading level1 row52\" >RAD</th>\n",
       "                        <td id=\"T_39f40bc7_45fe_11ec_8ef1_3cf0111e3abfrow52_col0\" class=\"data row52 col0\" >0.494588</td>\n",
       "            </tr>\n",
       "            <tr>\n",
       "                        <th id=\"T_39f40bc7_45fe_11ec_8ef1_3cf0111e3abflevel0_row53\" class=\"row_heading level0 row53\" rowspan=2>RAD</th>\n",
       "                        <th id=\"T_39f40bc7_45fe_11ec_8ef1_3cf0111e3abflevel1_row53\" class=\"row_heading level1 row53\" >DIS</th>\n",
       "                        <td id=\"T_39f40bc7_45fe_11ec_8ef1_3cf0111e3abfrow53_col0\" class=\"data row53 col0\" >0.494588</td>\n",
       "            </tr>\n",
       "            <tr>\n",
       "                                <th id=\"T_39f40bc7_45fe_11ec_8ef1_3cf0111e3abflevel1_row54\" class=\"row_heading level1 row54\" >LSTAT</th>\n",
       "                        <td id=\"T_39f40bc7_45fe_11ec_8ef1_3cf0111e3abfrow54_col0\" class=\"data row54 col0\" >0.488676</td>\n",
       "            </tr>\n",
       "            <tr>\n",
       "                        <th id=\"T_39f40bc7_45fe_11ec_8ef1_3cf0111e3abflevel0_row55\" class=\"row_heading level0 row55\" >LSTAT</th>\n",
       "                        <th id=\"T_39f40bc7_45fe_11ec_8ef1_3cf0111e3abflevel1_row55\" class=\"row_heading level1 row55\" >RAD</th>\n",
       "                        <td id=\"T_39f40bc7_45fe_11ec_8ef1_3cf0111e3abfrow55_col0\" class=\"data row55 col0\" >0.488676</td>\n",
       "            </tr>\n",
       "            <tr>\n",
       "                        <th id=\"T_39f40bc7_45fe_11ec_8ef1_3cf0111e3abflevel0_row56\" class=\"row_heading level0 row56\" >CAT. MEDV</th>\n",
       "                        <th id=\"T_39f40bc7_45fe_11ec_8ef1_3cf0111e3abflevel1_row56\" class=\"row_heading level1 row56\" >LSTAT</th>\n",
       "                        <td id=\"T_39f40bc7_45fe_11ec_8ef1_3cf0111e3abfrow56_col0\" class=\"data row56 col0\" >0.469911</td>\n",
       "            </tr>\n",
       "            <tr>\n",
       "                        <th id=\"T_39f40bc7_45fe_11ec_8ef1_3cf0111e3abflevel0_row57\" class=\"row_heading level0 row57\" >LSTAT</th>\n",
       "                        <th id=\"T_39f40bc7_45fe_11ec_8ef1_3cf0111e3abflevel1_row57\" class=\"row_heading level1 row57\" >CAT. MEDV</th>\n",
       "                        <td id=\"T_39f40bc7_45fe_11ec_8ef1_3cf0111e3abfrow57_col0\" class=\"data row57 col0\" >0.469911</td>\n",
       "            </tr>\n",
       "            <tr>\n",
       "                        <th id=\"T_39f40bc7_45fe_11ec_8ef1_3cf0111e3abflevel0_row58\" class=\"row_heading level0 row58\" >PTRATIO</th>\n",
       "                        <th id=\"T_39f40bc7_45fe_11ec_8ef1_3cf0111e3abflevel1_row58\" class=\"row_heading level1 row58\" >RAD</th>\n",
       "                        <td id=\"T_39f40bc7_45fe_11ec_8ef1_3cf0111e3abfrow58_col0\" class=\"data row58 col0\" >0.464741</td>\n",
       "            </tr>\n",
       "            <tr>\n",
       "                        <th id=\"T_39f40bc7_45fe_11ec_8ef1_3cf0111e3abflevel0_row59\" class=\"row_heading level0 row59\" >RAD</th>\n",
       "                        <th id=\"T_39f40bc7_45fe_11ec_8ef1_3cf0111e3abflevel1_row59\" class=\"row_heading level1 row59\" >PTRATIO</th>\n",
       "                        <td id=\"T_39f40bc7_45fe_11ec_8ef1_3cf0111e3abfrow59_col0\" class=\"data row59 col0\" >0.464741</td>\n",
       "            </tr>\n",
       "            <tr>\n",
       "                        <th id=\"T_39f40bc7_45fe_11ec_8ef1_3cf0111e3abflevel0_row60\" class=\"row_heading level0 row60\" >TAX</th>\n",
       "                        <th id=\"T_39f40bc7_45fe_11ec_8ef1_3cf0111e3abflevel1_row60\" class=\"row_heading level1 row60\" >PTRATIO</th>\n",
       "                        <td id=\"T_39f40bc7_45fe_11ec_8ef1_3cf0111e3abfrow60_col0\" class=\"data row60 col0\" >0.460853</td>\n",
       "            </tr>\n",
       "            <tr>\n",
       "                        <th id=\"T_39f40bc7_45fe_11ec_8ef1_3cf0111e3abflevel0_row61\" class=\"row_heading level0 row61\" >PTRATIO</th>\n",
       "                        <th id=\"T_39f40bc7_45fe_11ec_8ef1_3cf0111e3abflevel1_row61\" class=\"row_heading level1 row61\" >TAX</th>\n",
       "                        <td id=\"T_39f40bc7_45fe_11ec_8ef1_3cf0111e3abfrow61_col0\" class=\"data row61 col0\" >0.460853</td>\n",
       "            </tr>\n",
       "            <tr>\n",
       "                        <th id=\"T_39f40bc7_45fe_11ec_8ef1_3cf0111e3abflevel0_row62\" class=\"row_heading level0 row62\" >RAD</th>\n",
       "                        <th id=\"T_39f40bc7_45fe_11ec_8ef1_3cf0111e3abflevel1_row62\" class=\"row_heading level1 row62\" >AGE</th>\n",
       "                        <td id=\"T_39f40bc7_45fe_11ec_8ef1_3cf0111e3abfrow62_col0\" class=\"data row62 col0\" >0.456022</td>\n",
       "            </tr>\n",
       "            <tr>\n",
       "                        <th id=\"T_39f40bc7_45fe_11ec_8ef1_3cf0111e3abflevel0_row63\" class=\"row_heading level0 row63\" >AGE</th>\n",
       "                        <th id=\"T_39f40bc7_45fe_11ec_8ef1_3cf0111e3abflevel1_row63\" class=\"row_heading level1 row63\" >RAD</th>\n",
       "                        <td id=\"T_39f40bc7_45fe_11ec_8ef1_3cf0111e3abfrow63_col0\" class=\"data row63 col0\" >0.456022</td>\n",
       "            </tr>\n",
       "            <tr>\n",
       "                        <th id=\"T_39f40bc7_45fe_11ec_8ef1_3cf0111e3abflevel0_row64\" class=\"row_heading level0 row64\" >LSTAT</th>\n",
       "                        <th id=\"T_39f40bc7_45fe_11ec_8ef1_3cf0111e3abflevel1_row64\" class=\"row_heading level1 row64\" >CRIM</th>\n",
       "                        <td id=\"T_39f40bc7_45fe_11ec_8ef1_3cf0111e3abfrow64_col0\" class=\"data row64 col0\" >0.455621</td>\n",
       "            </tr>\n",
       "            <tr>\n",
       "                        <th id=\"T_39f40bc7_45fe_11ec_8ef1_3cf0111e3abflevel0_row65\" class=\"row_heading level0 row65\" >CRIM</th>\n",
       "                        <th id=\"T_39f40bc7_45fe_11ec_8ef1_3cf0111e3abflevel1_row65\" class=\"row_heading level1 row65\" >LSTAT</th>\n",
       "                        <td id=\"T_39f40bc7_45fe_11ec_8ef1_3cf0111e3abfrow65_col0\" class=\"data row65 col0\" >0.455621</td>\n",
       "            </tr>\n",
       "            <tr>\n",
       "                        <th id=\"T_39f40bc7_45fe_11ec_8ef1_3cf0111e3abflevel0_row66\" class=\"row_heading level0 row66\" >PTRATIO</th>\n",
       "                        <th id=\"T_39f40bc7_45fe_11ec_8ef1_3cf0111e3abflevel1_row66\" class=\"row_heading level1 row66\" >CAT. MEDV</th>\n",
       "                        <td id=\"T_39f40bc7_45fe_11ec_8ef1_3cf0111e3abfrow66_col0\" class=\"data row66 col0\" >0.443425</td>\n",
       "            </tr>\n",
       "            <tr>\n",
       "                        <th id=\"T_39f40bc7_45fe_11ec_8ef1_3cf0111e3abflevel0_row67\" class=\"row_heading level0 row67\" >CAT. MEDV</th>\n",
       "                        <th id=\"T_39f40bc7_45fe_11ec_8ef1_3cf0111e3abflevel1_row67\" class=\"row_heading level1 row67\" >PTRATIO</th>\n",
       "                        <td id=\"T_39f40bc7_45fe_11ec_8ef1_3cf0111e3abfrow67_col0\" class=\"data row67 col0\" >0.443425</td>\n",
       "            </tr>\n",
       "            <tr>\n",
       "                        <th id=\"T_39f40bc7_45fe_11ec_8ef1_3cf0111e3abflevel0_row68\" class=\"row_heading level0 row68\" >CRIM</th>\n",
       "                        <th id=\"T_39f40bc7_45fe_11ec_8ef1_3cf0111e3abflevel1_row68\" class=\"row_heading level1 row68\" >NOX</th>\n",
       "                        <td id=\"T_39f40bc7_45fe_11ec_8ef1_3cf0111e3abfrow68_col0\" class=\"data row68 col0\" >0.420972</td>\n",
       "            </tr>\n",
       "            <tr>\n",
       "                        <th id=\"T_39f40bc7_45fe_11ec_8ef1_3cf0111e3abflevel0_row69\" class=\"row_heading level0 row69\" >NOX</th>\n",
       "                        <th id=\"T_39f40bc7_45fe_11ec_8ef1_3cf0111e3abflevel1_row69\" class=\"row_heading level1 row69\" >CRIM</th>\n",
       "                        <td id=\"T_39f40bc7_45fe_11ec_8ef1_3cf0111e3abfrow69_col0\" class=\"data row69 col0\" >0.420972</td>\n",
       "            </tr>\n",
       "            <tr>\n",
       "                        <th id=\"T_39f40bc7_45fe_11ec_8ef1_3cf0111e3abflevel0_row70\" class=\"row_heading level0 row70\" >LSTAT</th>\n",
       "                        <th id=\"T_39f40bc7_45fe_11ec_8ef1_3cf0111e3abflevel1_row70\" class=\"row_heading level1 row70\" >ZN</th>\n",
       "                        <td id=\"T_39f40bc7_45fe_11ec_8ef1_3cf0111e3abfrow70_col0\" class=\"data row70 col0\" >0.412995</td>\n",
       "            </tr>\n",
       "            <tr>\n",
       "                        <th id=\"T_39f40bc7_45fe_11ec_8ef1_3cf0111e3abflevel0_row71\" class=\"row_heading level0 row71\" >ZN</th>\n",
       "                        <th id=\"T_39f40bc7_45fe_11ec_8ef1_3cf0111e3abflevel1_row71\" class=\"row_heading level1 row71\" >LSTAT</th>\n",
       "                        <td id=\"T_39f40bc7_45fe_11ec_8ef1_3cf0111e3abfrow71_col0\" class=\"data row71 col0\" >0.412995</td>\n",
       "            </tr>\n",
       "            <tr>\n",
       "                        <th id=\"T_39f40bc7_45fe_11ec_8ef1_3cf0111e3abflevel0_row72\" class=\"row_heading level0 row72\" >INDUS</th>\n",
       "                        <th id=\"T_39f40bc7_45fe_11ec_8ef1_3cf0111e3abflevel1_row72\" class=\"row_heading level1 row72\" >CRIM</th>\n",
       "                        <td id=\"T_39f40bc7_45fe_11ec_8ef1_3cf0111e3abfrow72_col0\" class=\"data row72 col0\" >0.406583</td>\n",
       "            </tr>\n",
       "            <tr>\n",
       "                        <th id=\"T_39f40bc7_45fe_11ec_8ef1_3cf0111e3abflevel0_row73\" class=\"row_heading level0 row73\" >CRIM</th>\n",
       "                        <th id=\"T_39f40bc7_45fe_11ec_8ef1_3cf0111e3abflevel1_row73\" class=\"row_heading level1 row73\" >INDUS</th>\n",
       "                        <td id=\"T_39f40bc7_45fe_11ec_8ef1_3cf0111e3abfrow73_col0\" class=\"data row73 col0\" >0.406583</td>\n",
       "            </tr>\n",
       "            <tr>\n",
       "                        <th id=\"T_39f40bc7_45fe_11ec_8ef1_3cf0111e3abflevel0_row74\" class=\"row_heading level0 row74\" >ZN</th>\n",
       "                        <th id=\"T_39f40bc7_45fe_11ec_8ef1_3cf0111e3abflevel1_row74\" class=\"row_heading level1 row74\" >PTRATIO</th>\n",
       "                        <td id=\"T_39f40bc7_45fe_11ec_8ef1_3cf0111e3abfrow74_col0\" class=\"data row74 col0\" >0.391679</td>\n",
       "            </tr>\n",
       "            <tr>\n",
       "                        <th id=\"T_39f40bc7_45fe_11ec_8ef1_3cf0111e3abflevel0_row75\" class=\"row_heading level0 row75\" >PTRATIO</th>\n",
       "                        <th id=\"T_39f40bc7_45fe_11ec_8ef1_3cf0111e3abflevel1_row75\" class=\"row_heading level1 row75\" >ZN</th>\n",
       "                        <td id=\"T_39f40bc7_45fe_11ec_8ef1_3cf0111e3abfrow75_col0\" class=\"data row75 col0\" >0.391679</td>\n",
       "            </tr>\n",
       "            <tr>\n",
       "                        <th id=\"T_39f40bc7_45fe_11ec_8ef1_3cf0111e3abflevel0_row76\" class=\"row_heading level0 row76\" >INDUS</th>\n",
       "                        <th id=\"T_39f40bc7_45fe_11ec_8ef1_3cf0111e3abflevel1_row76\" class=\"row_heading level1 row76\" >RM</th>\n",
       "                        <td id=\"T_39f40bc7_45fe_11ec_8ef1_3cf0111e3abfrow76_col0\" class=\"data row76 col0\" >0.391676</td>\n",
       "            </tr>\n",
       "            <tr>\n",
       "                        <th id=\"T_39f40bc7_45fe_11ec_8ef1_3cf0111e3abflevel0_row77\" class=\"row_heading level0 row77\" >RM</th>\n",
       "                        <th id=\"T_39f40bc7_45fe_11ec_8ef1_3cf0111e3abflevel1_row77\" class=\"row_heading level1 row77\" >INDUS</th>\n",
       "                        <td id=\"T_39f40bc7_45fe_11ec_8ef1_3cf0111e3abfrow77_col0\" class=\"data row77 col0\" >0.391676</td>\n",
       "            </tr>\n",
       "            <tr>\n",
       "                        <th id=\"T_39f40bc7_45fe_11ec_8ef1_3cf0111e3abflevel0_row78\" class=\"row_heading level0 row78\" >INDUS</th>\n",
       "                        <th id=\"T_39f40bc7_45fe_11ec_8ef1_3cf0111e3abflevel1_row78\" class=\"row_heading level1 row78\" >PTRATIO</th>\n",
       "                        <td id=\"T_39f40bc7_45fe_11ec_8ef1_3cf0111e3abfrow78_col0\" class=\"data row78 col0\" >0.383248</td>\n",
       "            </tr>\n",
       "            <tr>\n",
       "                        <th id=\"T_39f40bc7_45fe_11ec_8ef1_3cf0111e3abflevel0_row79\" class=\"row_heading level0 row79\" >PTRATIO</th>\n",
       "                        <th id=\"T_39f40bc7_45fe_11ec_8ef1_3cf0111e3abflevel1_row79\" class=\"row_heading level1 row79\" >INDUS</th>\n",
       "                        <td id=\"T_39f40bc7_45fe_11ec_8ef1_3cf0111e3abfrow79_col0\" class=\"data row79 col0\" >0.383248</td>\n",
       "            </tr>\n",
       "            <tr>\n",
       "                        <th id=\"T_39f40bc7_45fe_11ec_8ef1_3cf0111e3abflevel0_row80\" class=\"row_heading level0 row80\" >CRIM</th>\n",
       "                        <th id=\"T_39f40bc7_45fe_11ec_8ef1_3cf0111e3abflevel1_row80\" class=\"row_heading level1 row80\" >DIS</th>\n",
       "                        <td id=\"T_39f40bc7_45fe_11ec_8ef1_3cf0111e3abfrow80_col0\" class=\"data row80 col0\" >0.379670</td>\n",
       "            </tr>\n",
       "            <tr>\n",
       "                        <th id=\"T_39f40bc7_45fe_11ec_8ef1_3cf0111e3abflevel0_row81\" class=\"row_heading level0 row81\" >DIS</th>\n",
       "                        <th id=\"T_39f40bc7_45fe_11ec_8ef1_3cf0111e3abflevel1_row81\" class=\"row_heading level1 row81\" >CRIM</th>\n",
       "                        <td id=\"T_39f40bc7_45fe_11ec_8ef1_3cf0111e3abfrow81_col0\" class=\"data row81 col0\" >0.379670</td>\n",
       "            </tr>\n",
       "            <tr>\n",
       "                        <th id=\"T_39f40bc7_45fe_11ec_8ef1_3cf0111e3abflevel0_row82\" class=\"row_heading level0 row82\" >LSTAT</th>\n",
       "                        <th id=\"T_39f40bc7_45fe_11ec_8ef1_3cf0111e3abflevel1_row82\" class=\"row_heading level1 row82\" >PTRATIO</th>\n",
       "                        <td id=\"T_39f40bc7_45fe_11ec_8ef1_3cf0111e3abfrow82_col0\" class=\"data row82 col0\" >0.374044</td>\n",
       "            </tr>\n",
       "            <tr>\n",
       "                        <th id=\"T_39f40bc7_45fe_11ec_8ef1_3cf0111e3abflevel0_row83\" class=\"row_heading level0 row83\" >PTRATIO</th>\n",
       "                        <th id=\"T_39f40bc7_45fe_11ec_8ef1_3cf0111e3abflevel1_row83\" class=\"row_heading level1 row83\" >LSTAT</th>\n",
       "                        <td id=\"T_39f40bc7_45fe_11ec_8ef1_3cf0111e3abfrow83_col0\" class=\"data row83 col0\" >0.374044</td>\n",
       "            </tr>\n",
       "            <tr>\n",
       "                        <th id=\"T_39f40bc7_45fe_11ec_8ef1_3cf0111e3abflevel0_row84\" class=\"row_heading level0 row84\" >CAT. MEDV</th>\n",
       "                        <th id=\"T_39f40bc7_45fe_11ec_8ef1_3cf0111e3abflevel1_row84\" class=\"row_heading level1 row84\" >INDUS</th>\n",
       "                        <td id=\"T_39f40bc7_45fe_11ec_8ef1_3cf0111e3abfrow84_col0\" class=\"data row84 col0\" >0.366276</td>\n",
       "            </tr>\n",
       "            <tr>\n",
       "                        <th id=\"T_39f40bc7_45fe_11ec_8ef1_3cf0111e3abflevel0_row85\" class=\"row_heading level0 row85\" >INDUS</th>\n",
       "                        <th id=\"T_39f40bc7_45fe_11ec_8ef1_3cf0111e3abflevel1_row85\" class=\"row_heading level1 row85\" >CAT. MEDV</th>\n",
       "                        <td id=\"T_39f40bc7_45fe_11ec_8ef1_3cf0111e3abfrow85_col0\" class=\"data row85 col0\" >0.366276</td>\n",
       "            </tr>\n",
       "            <tr>\n",
       "                        <th id=\"T_39f40bc7_45fe_11ec_8ef1_3cf0111e3abflevel0_row86\" class=\"row_heading level0 row86\" >ZN</th>\n",
       "                        <th id=\"T_39f40bc7_45fe_11ec_8ef1_3cf0111e3abflevel1_row86\" class=\"row_heading level1 row86\" >CAT. MEDV</th>\n",
       "                        <td id=\"T_39f40bc7_45fe_11ec_8ef1_3cf0111e3abfrow86_col0\" class=\"data row86 col0\" >0.365296</td>\n",
       "            </tr>\n",
       "            <tr>\n",
       "                        <th id=\"T_39f40bc7_45fe_11ec_8ef1_3cf0111e3abflevel0_row87\" class=\"row_heading level0 row87\" >CAT. MEDV</th>\n",
       "                        <th id=\"T_39f40bc7_45fe_11ec_8ef1_3cf0111e3abflevel1_row87\" class=\"row_heading level1 row87\" >ZN</th>\n",
       "                        <td id=\"T_39f40bc7_45fe_11ec_8ef1_3cf0111e3abfrow87_col0\" class=\"data row87 col0\" >0.365296</td>\n",
       "            </tr>\n",
       "            <tr>\n",
       "                        <th id=\"T_39f40bc7_45fe_11ec_8ef1_3cf0111e3abflevel0_row88\" class=\"row_heading level0 row88\" >PTRATIO</th>\n",
       "                        <th id=\"T_39f40bc7_45fe_11ec_8ef1_3cf0111e3abflevel1_row88\" class=\"row_heading level1 row88\" >RM</th>\n",
       "                        <td id=\"T_39f40bc7_45fe_11ec_8ef1_3cf0111e3abfrow88_col0\" class=\"data row88 col0\" >0.355501</td>\n",
       "            </tr>\n",
       "            <tr>\n",
       "                        <th id=\"T_39f40bc7_45fe_11ec_8ef1_3cf0111e3abflevel0_row89\" class=\"row_heading level0 row89\" >RM</th>\n",
       "                        <th id=\"T_39f40bc7_45fe_11ec_8ef1_3cf0111e3abflevel1_row89\" class=\"row_heading level1 row89\" >PTRATIO</th>\n",
       "                        <td id=\"T_39f40bc7_45fe_11ec_8ef1_3cf0111e3abfrow89_col0\" class=\"data row89 col0\" >0.355501</td>\n",
       "            </tr>\n",
       "            <tr>\n",
       "                        <th id=\"T_39f40bc7_45fe_11ec_8ef1_3cf0111e3abflevel0_row90\" class=\"row_heading level0 row90\" >AGE</th>\n",
       "                        <th id=\"T_39f40bc7_45fe_11ec_8ef1_3cf0111e3abflevel1_row90\" class=\"row_heading level1 row90\" >CRIM</th>\n",
       "                        <td id=\"T_39f40bc7_45fe_11ec_8ef1_3cf0111e3abfrow90_col0\" class=\"data row90 col0\" >0.352734</td>\n",
       "            </tr>\n",
       "            <tr>\n",
       "                        <th id=\"T_39f40bc7_45fe_11ec_8ef1_3cf0111e3abflevel0_row91\" class=\"row_heading level0 row91\" >CRIM</th>\n",
       "                        <th id=\"T_39f40bc7_45fe_11ec_8ef1_3cf0111e3abflevel1_row91\" class=\"row_heading level1 row91\" >AGE</th>\n",
       "                        <td id=\"T_39f40bc7_45fe_11ec_8ef1_3cf0111e3abfrow91_col0\" class=\"data row91 col0\" >0.352734</td>\n",
       "            </tr>\n",
       "            <tr>\n",
       "                        <th id=\"T_39f40bc7_45fe_11ec_8ef1_3cf0111e3abflevel0_row92\" class=\"row_heading level0 row92\" >TAX</th>\n",
       "                        <th id=\"T_39f40bc7_45fe_11ec_8ef1_3cf0111e3abflevel1_row92\" class=\"row_heading level1 row92\" >ZN</th>\n",
       "                        <td id=\"T_39f40bc7_45fe_11ec_8ef1_3cf0111e3abfrow92_col0\" class=\"data row92 col0\" >0.314563</td>\n",
       "            </tr>\n",
       "            <tr>\n",
       "                        <th id=\"T_39f40bc7_45fe_11ec_8ef1_3cf0111e3abflevel0_row93\" class=\"row_heading level0 row93\" rowspan=2>ZN</th>\n",
       "                        <th id=\"T_39f40bc7_45fe_11ec_8ef1_3cf0111e3abflevel1_row93\" class=\"row_heading level1 row93\" >TAX</th>\n",
       "                        <td id=\"T_39f40bc7_45fe_11ec_8ef1_3cf0111e3abfrow93_col0\" class=\"data row93 col0\" >0.314563</td>\n",
       "            </tr>\n",
       "            <tr>\n",
       "                                <th id=\"T_39f40bc7_45fe_11ec_8ef1_3cf0111e3abflevel1_row94\" class=\"row_heading level1 row94\" >RM</th>\n",
       "                        <td id=\"T_39f40bc7_45fe_11ec_8ef1_3cf0111e3abfrow94_col0\" class=\"data row94 col0\" >0.311991</td>\n",
       "            </tr>\n",
       "            <tr>\n",
       "                        <th id=\"T_39f40bc7_45fe_11ec_8ef1_3cf0111e3abflevel0_row95\" class=\"row_heading level0 row95\" >RM</th>\n",
       "                        <th id=\"T_39f40bc7_45fe_11ec_8ef1_3cf0111e3abflevel1_row95\" class=\"row_heading level1 row95\" >ZN</th>\n",
       "                        <td id=\"T_39f40bc7_45fe_11ec_8ef1_3cf0111e3abfrow95_col0\" class=\"data row95 col0\" >0.311991</td>\n",
       "            </tr>\n",
       "            <tr>\n",
       "                        <th id=\"T_39f40bc7_45fe_11ec_8ef1_3cf0111e3abflevel0_row96\" class=\"row_heading level0 row96\" >ZN</th>\n",
       "                        <th id=\"T_39f40bc7_45fe_11ec_8ef1_3cf0111e3abflevel1_row96\" class=\"row_heading level1 row96\" >RAD</th>\n",
       "                        <td id=\"T_39f40bc7_45fe_11ec_8ef1_3cf0111e3abfrow96_col0\" class=\"data row96 col0\" >0.311948</td>\n",
       "            </tr>\n",
       "            <tr>\n",
       "                        <th id=\"T_39f40bc7_45fe_11ec_8ef1_3cf0111e3abflevel0_row97\" class=\"row_heading level0 row97\" >RAD</th>\n",
       "                        <th id=\"T_39f40bc7_45fe_11ec_8ef1_3cf0111e3abflevel1_row97\" class=\"row_heading level1 row97\" >ZN</th>\n",
       "                        <td id=\"T_39f40bc7_45fe_11ec_8ef1_3cf0111e3abfrow97_col0\" class=\"data row97 col0\" >0.311948</td>\n",
       "            </tr>\n",
       "            <tr>\n",
       "                        <th id=\"T_39f40bc7_45fe_11ec_8ef1_3cf0111e3abflevel0_row98\" class=\"row_heading level0 row98\" >RM</th>\n",
       "                        <th id=\"T_39f40bc7_45fe_11ec_8ef1_3cf0111e3abflevel1_row98\" class=\"row_heading level1 row98\" >NOX</th>\n",
       "                        <td id=\"T_39f40bc7_45fe_11ec_8ef1_3cf0111e3abfrow98_col0\" class=\"data row98 col0\" >0.302188</td>\n",
       "            </tr>\n",
       "            <tr>\n",
       "                        <th id=\"T_39f40bc7_45fe_11ec_8ef1_3cf0111e3abflevel0_row99\" class=\"row_heading level0 row99\" >NOX</th>\n",
       "                        <th id=\"T_39f40bc7_45fe_11ec_8ef1_3cf0111e3abflevel1_row99\" class=\"row_heading level1 row99\" >RM</th>\n",
       "                        <td id=\"T_39f40bc7_45fe_11ec_8ef1_3cf0111e3abfrow99_col0\" class=\"data row99 col0\" >0.302188</td>\n",
       "            </tr>\n",
       "            <tr>\n",
       "                        <th id=\"T_39f40bc7_45fe_11ec_8ef1_3cf0111e3abflevel0_row100\" class=\"row_heading level0 row100\" >RM</th>\n",
       "                        <th id=\"T_39f40bc7_45fe_11ec_8ef1_3cf0111e3abflevel1_row100\" class=\"row_heading level1 row100\" >TAX</th>\n",
       "                        <td id=\"T_39f40bc7_45fe_11ec_8ef1_3cf0111e3abfrow100_col0\" class=\"data row100 col0\" >0.292048</td>\n",
       "            </tr>\n",
       "            <tr>\n",
       "                        <th id=\"T_39f40bc7_45fe_11ec_8ef1_3cf0111e3abflevel0_row101\" class=\"row_heading level0 row101\" >TAX</th>\n",
       "                        <th id=\"T_39f40bc7_45fe_11ec_8ef1_3cf0111e3abflevel1_row101\" class=\"row_heading level1 row101\" >RM</th>\n",
       "                        <td id=\"T_39f40bc7_45fe_11ec_8ef1_3cf0111e3abfrow101_col0\" class=\"data row101 col0\" >0.292048</td>\n",
       "            </tr>\n",
       "            <tr>\n",
       "                        <th id=\"T_39f40bc7_45fe_11ec_8ef1_3cf0111e3abflevel0_row102\" class=\"row_heading level0 row102\" >CRIM</th>\n",
       "                        <th id=\"T_39f40bc7_45fe_11ec_8ef1_3cf0111e3abflevel1_row102\" class=\"row_heading level1 row102\" >PTRATIO</th>\n",
       "                        <td id=\"T_39f40bc7_45fe_11ec_8ef1_3cf0111e3abfrow102_col0\" class=\"data row102 col0\" >0.289946</td>\n",
       "            </tr>\n",
       "            <tr>\n",
       "                        <th id=\"T_39f40bc7_45fe_11ec_8ef1_3cf0111e3abflevel0_row103\" class=\"row_heading level0 row103\" >PTRATIO</th>\n",
       "                        <th id=\"T_39f40bc7_45fe_11ec_8ef1_3cf0111e3abflevel1_row103\" class=\"row_heading level1 row103\" >CRIM</th>\n",
       "                        <td id=\"T_39f40bc7_45fe_11ec_8ef1_3cf0111e3abfrow103_col0\" class=\"data row103 col0\" >0.289946</td>\n",
       "            </tr>\n",
       "            <tr>\n",
       "                        <th id=\"T_39f40bc7_45fe_11ec_8ef1_3cf0111e3abflevel0_row104\" class=\"row_heading level0 row104\" >CAT. MEDV</th>\n",
       "                        <th id=\"T_39f40bc7_45fe_11ec_8ef1_3cf0111e3abflevel1_row104\" class=\"row_heading level1 row104\" >TAX</th>\n",
       "                        <td id=\"T_39f40bc7_45fe_11ec_8ef1_3cf0111e3abfrow104_col0\" class=\"data row104 col0\" >0.273687</td>\n",
       "            </tr>\n",
       "            <tr>\n",
       "                        <th id=\"T_39f40bc7_45fe_11ec_8ef1_3cf0111e3abflevel0_row105\" class=\"row_heading level0 row105\" >TAX</th>\n",
       "                        <th id=\"T_39f40bc7_45fe_11ec_8ef1_3cf0111e3abflevel1_row105\" class=\"row_heading level1 row105\" >CAT. MEDV</th>\n",
       "                        <td id=\"T_39f40bc7_45fe_11ec_8ef1_3cf0111e3abfrow105_col0\" class=\"data row105 col0\" >0.273687</td>\n",
       "            </tr>\n",
       "            <tr>\n",
       "                        <th id=\"T_39f40bc7_45fe_11ec_8ef1_3cf0111e3abflevel0_row106\" class=\"row_heading level0 row106\" >PTRATIO</th>\n",
       "                        <th id=\"T_39f40bc7_45fe_11ec_8ef1_3cf0111e3abflevel1_row106\" class=\"row_heading level1 row106\" >AGE</th>\n",
       "                        <td id=\"T_39f40bc7_45fe_11ec_8ef1_3cf0111e3abfrow106_col0\" class=\"data row106 col0\" >0.261515</td>\n",
       "            </tr>\n",
       "            <tr>\n",
       "                        <th id=\"T_39f40bc7_45fe_11ec_8ef1_3cf0111e3abflevel0_row107\" class=\"row_heading level0 row107\" rowspan=2>AGE</th>\n",
       "                        <th id=\"T_39f40bc7_45fe_11ec_8ef1_3cf0111e3abflevel1_row107\" class=\"row_heading level1 row107\" >PTRATIO</th>\n",
       "                        <td id=\"T_39f40bc7_45fe_11ec_8ef1_3cf0111e3abfrow107_col0\" class=\"data row107 col0\" >0.261515</td>\n",
       "            </tr>\n",
       "            <tr>\n",
       "                                <th id=\"T_39f40bc7_45fe_11ec_8ef1_3cf0111e3abflevel1_row108\" class=\"row_heading level1 row108\" >RM</th>\n",
       "                        <td id=\"T_39f40bc7_45fe_11ec_8ef1_3cf0111e3abfrow108_col0\" class=\"data row108 col0\" >0.240265</td>\n",
       "            </tr>\n",
       "            <tr>\n",
       "                        <th id=\"T_39f40bc7_45fe_11ec_8ef1_3cf0111e3abflevel0_row109\" class=\"row_heading level0 row109\" >RM</th>\n",
       "                        <th id=\"T_39f40bc7_45fe_11ec_8ef1_3cf0111e3abflevel1_row109\" class=\"row_heading level1 row109\" >AGE</th>\n",
       "                        <td id=\"T_39f40bc7_45fe_11ec_8ef1_3cf0111e3abfrow109_col0\" class=\"data row109 col0\" >0.240265</td>\n",
       "            </tr>\n",
       "            <tr>\n",
       "                        <th id=\"T_39f40bc7_45fe_11ec_8ef1_3cf0111e3abflevel0_row110\" class=\"row_heading level0 row110\" >NOX</th>\n",
       "                        <th id=\"T_39f40bc7_45fe_11ec_8ef1_3cf0111e3abflevel1_row110\" class=\"row_heading level1 row110\" >CAT. MEDV</th>\n",
       "                        <td id=\"T_39f40bc7_45fe_11ec_8ef1_3cf0111e3abfrow110_col0\" class=\"data row110 col0\" >0.232502</td>\n",
       "            </tr>\n",
       "            <tr>\n",
       "                        <th id=\"T_39f40bc7_45fe_11ec_8ef1_3cf0111e3abflevel0_row111\" class=\"row_heading level0 row111\" >CAT. MEDV</th>\n",
       "                        <th id=\"T_39f40bc7_45fe_11ec_8ef1_3cf0111e3abflevel1_row111\" class=\"row_heading level1 row111\" >NOX</th>\n",
       "                        <td id=\"T_39f40bc7_45fe_11ec_8ef1_3cf0111e3abfrow111_col0\" class=\"data row111 col0\" >0.232502</td>\n",
       "            </tr>\n",
       "            <tr>\n",
       "                        <th id=\"T_39f40bc7_45fe_11ec_8ef1_3cf0111e3abflevel0_row112\" class=\"row_heading level0 row112\" >DIS</th>\n",
       "                        <th id=\"T_39f40bc7_45fe_11ec_8ef1_3cf0111e3abflevel1_row112\" class=\"row_heading level1 row112\" >PTRATIO</th>\n",
       "                        <td id=\"T_39f40bc7_45fe_11ec_8ef1_3cf0111e3abfrow112_col0\" class=\"data row112 col0\" >0.232471</td>\n",
       "            </tr>\n",
       "            <tr>\n",
       "                        <th id=\"T_39f40bc7_45fe_11ec_8ef1_3cf0111e3abflevel0_row113\" class=\"row_heading level0 row113\" >PTRATIO</th>\n",
       "                        <th id=\"T_39f40bc7_45fe_11ec_8ef1_3cf0111e3abflevel1_row113\" class=\"row_heading level1 row113\" >DIS</th>\n",
       "                        <td id=\"T_39f40bc7_45fe_11ec_8ef1_3cf0111e3abfrow113_col0\" class=\"data row113 col0\" >0.232471</td>\n",
       "            </tr>\n",
       "            <tr>\n",
       "                        <th id=\"T_39f40bc7_45fe_11ec_8ef1_3cf0111e3abflevel0_row114\" class=\"row_heading level0 row114\" >RM</th>\n",
       "                        <th id=\"T_39f40bc7_45fe_11ec_8ef1_3cf0111e3abflevel1_row114\" class=\"row_heading level1 row114\" >CRIM</th>\n",
       "                        <td id=\"T_39f40bc7_45fe_11ec_8ef1_3cf0111e3abfrow114_col0\" class=\"data row114 col0\" >0.219247</td>\n",
       "            </tr>\n",
       "            <tr>\n",
       "                        <th id=\"T_39f40bc7_45fe_11ec_8ef1_3cf0111e3abflevel0_row115\" class=\"row_heading level0 row115\" >CRIM</th>\n",
       "                        <th id=\"T_39f40bc7_45fe_11ec_8ef1_3cf0111e3abflevel1_row115\" class=\"row_heading level1 row115\" >RM</th>\n",
       "                        <td id=\"T_39f40bc7_45fe_11ec_8ef1_3cf0111e3abfrow115_col0\" class=\"data row115 col0\" >0.219247</td>\n",
       "            </tr>\n",
       "            <tr>\n",
       "                        <th id=\"T_39f40bc7_45fe_11ec_8ef1_3cf0111e3abflevel0_row116\" class=\"row_heading level0 row116\" >RAD</th>\n",
       "                        <th id=\"T_39f40bc7_45fe_11ec_8ef1_3cf0111e3abflevel1_row116\" class=\"row_heading level1 row116\" >RM</th>\n",
       "                        <td id=\"T_39f40bc7_45fe_11ec_8ef1_3cf0111e3abfrow116_col0\" class=\"data row116 col0\" >0.209847</td>\n",
       "            </tr>\n",
       "            <tr>\n",
       "                        <th id=\"T_39f40bc7_45fe_11ec_8ef1_3cf0111e3abflevel0_row117\" class=\"row_heading level0 row117\" rowspan=2>RM</th>\n",
       "                        <th id=\"T_39f40bc7_45fe_11ec_8ef1_3cf0111e3abflevel1_row117\" class=\"row_heading level1 row117\" >RAD</th>\n",
       "                        <td id=\"T_39f40bc7_45fe_11ec_8ef1_3cf0111e3abfrow117_col0\" class=\"data row117 col0\" >0.209847</td>\n",
       "            </tr>\n",
       "            <tr>\n",
       "                                <th id=\"T_39f40bc7_45fe_11ec_8ef1_3cf0111e3abflevel1_row118\" class=\"row_heading level1 row118\" >DIS</th>\n",
       "                        <td id=\"T_39f40bc7_45fe_11ec_8ef1_3cf0111e3abfrow118_col0\" class=\"data row118 col0\" >0.205246</td>\n",
       "            </tr>\n",
       "            <tr>\n",
       "                        <th id=\"T_39f40bc7_45fe_11ec_8ef1_3cf0111e3abflevel0_row119\" class=\"row_heading level0 row119\" >DIS</th>\n",
       "                        <th id=\"T_39f40bc7_45fe_11ec_8ef1_3cf0111e3abflevel1_row119\" class=\"row_heading level1 row119\" >RM</th>\n",
       "                        <td id=\"T_39f40bc7_45fe_11ec_8ef1_3cf0111e3abfrow119_col0\" class=\"data row119 col0\" >0.205246</td>\n",
       "            </tr>\n",
       "            <tr>\n",
       "                        <th id=\"T_39f40bc7_45fe_11ec_8ef1_3cf0111e3abflevel0_row120\" class=\"row_heading level0 row120\" >ZN</th>\n",
       "                        <th id=\"T_39f40bc7_45fe_11ec_8ef1_3cf0111e3abflevel1_row120\" class=\"row_heading level1 row120\" >CRIM</th>\n",
       "                        <td id=\"T_39f40bc7_45fe_11ec_8ef1_3cf0111e3abfrow120_col0\" class=\"data row120 col0\" >0.200469</td>\n",
       "            </tr>\n",
       "            <tr>\n",
       "                        <th id=\"T_39f40bc7_45fe_11ec_8ef1_3cf0111e3abflevel0_row121\" class=\"row_heading level0 row121\" >CRIM</th>\n",
       "                        <th id=\"T_39f40bc7_45fe_11ec_8ef1_3cf0111e3abflevel1_row121\" class=\"row_heading level1 row121\" >ZN</th>\n",
       "                        <td id=\"T_39f40bc7_45fe_11ec_8ef1_3cf0111e3abfrow121_col0\" class=\"data row121 col0\" >0.200469</td>\n",
       "            </tr>\n",
       "            <tr>\n",
       "                        <th id=\"T_39f40bc7_45fe_11ec_8ef1_3cf0111e3abflevel0_row122\" class=\"row_heading level0 row122\" >RAD</th>\n",
       "                        <th id=\"T_39f40bc7_45fe_11ec_8ef1_3cf0111e3abflevel1_row122\" class=\"row_heading level1 row122\" >CAT. MEDV</th>\n",
       "                        <td id=\"T_39f40bc7_45fe_11ec_8ef1_3cf0111e3abfrow122_col0\" class=\"data row122 col0\" >0.197924</td>\n",
       "            </tr>\n",
       "            <tr>\n",
       "                        <th id=\"T_39f40bc7_45fe_11ec_8ef1_3cf0111e3abflevel0_row123\" class=\"row_heading level0 row123\" rowspan=2>CAT. MEDV</th>\n",
       "                        <th id=\"T_39f40bc7_45fe_11ec_8ef1_3cf0111e3abflevel1_row123\" class=\"row_heading level1 row123\" >RAD</th>\n",
       "                        <td id=\"T_39f40bc7_45fe_11ec_8ef1_3cf0111e3abfrow123_col0\" class=\"data row123 col0\" >0.197924</td>\n",
       "            </tr>\n",
       "            <tr>\n",
       "                                <th id=\"T_39f40bc7_45fe_11ec_8ef1_3cf0111e3abflevel1_row124\" class=\"row_heading level1 row124\" >AGE</th>\n",
       "                        <td id=\"T_39f40bc7_45fe_11ec_8ef1_3cf0111e3abfrow124_col0\" class=\"data row124 col0\" >0.191196</td>\n",
       "            </tr>\n",
       "            <tr>\n",
       "                        <th id=\"T_39f40bc7_45fe_11ec_8ef1_3cf0111e3abflevel0_row125\" class=\"row_heading level0 row125\" >AGE</th>\n",
       "                        <th id=\"T_39f40bc7_45fe_11ec_8ef1_3cf0111e3abflevel1_row125\" class=\"row_heading level1 row125\" >CAT. MEDV</th>\n",
       "                        <td id=\"T_39f40bc7_45fe_11ec_8ef1_3cf0111e3abfrow125_col0\" class=\"data row125 col0\" >0.191196</td>\n",
       "            </tr>\n",
       "            <tr>\n",
       "                        <th id=\"T_39f40bc7_45fe_11ec_8ef1_3cf0111e3abflevel0_row126\" class=\"row_heading level0 row126\" >NOX</th>\n",
       "                        <th id=\"T_39f40bc7_45fe_11ec_8ef1_3cf0111e3abflevel1_row126\" class=\"row_heading level1 row126\" >PTRATIO</th>\n",
       "                        <td id=\"T_39f40bc7_45fe_11ec_8ef1_3cf0111e3abfrow126_col0\" class=\"data row126 col0\" >0.188933</td>\n",
       "            </tr>\n",
       "            <tr>\n",
       "                        <th id=\"T_39f40bc7_45fe_11ec_8ef1_3cf0111e3abflevel0_row127\" class=\"row_heading level0 row127\" >PTRATIO</th>\n",
       "                        <th id=\"T_39f40bc7_45fe_11ec_8ef1_3cf0111e3abflevel1_row127\" class=\"row_heading level1 row127\" >NOX</th>\n",
       "                        <td id=\"T_39f40bc7_45fe_11ec_8ef1_3cf0111e3abfrow127_col0\" class=\"data row127 col0\" >0.188933</td>\n",
       "            </tr>\n",
       "            <tr>\n",
       "                        <th id=\"T_39f40bc7_45fe_11ec_8ef1_3cf0111e3abflevel0_row128\" class=\"row_heading level0 row128\" >CRIM</th>\n",
       "                        <th id=\"T_39f40bc7_45fe_11ec_8ef1_3cf0111e3abflevel1_row128\" class=\"row_heading level1 row128\" >CAT. MEDV</th>\n",
       "                        <td id=\"T_39f40bc7_45fe_11ec_8ef1_3cf0111e3abfrow128_col0\" class=\"data row128 col0\" >0.151987</td>\n",
       "            </tr>\n",
       "            <tr>\n",
       "                        <th id=\"T_39f40bc7_45fe_11ec_8ef1_3cf0111e3abflevel0_row129\" class=\"row_heading level0 row129\" >CAT. MEDV</th>\n",
       "                        <th id=\"T_39f40bc7_45fe_11ec_8ef1_3cf0111e3abflevel1_row129\" class=\"row_heading level1 row129\" >CRIM</th>\n",
       "                        <td id=\"T_39f40bc7_45fe_11ec_8ef1_3cf0111e3abfrow129_col0\" class=\"data row129 col0\" >0.151987</td>\n",
       "            </tr>\n",
       "            <tr>\n",
       "                        <th id=\"T_39f40bc7_45fe_11ec_8ef1_3cf0111e3abflevel0_row130\" class=\"row_heading level0 row130\" >PTRATIO</th>\n",
       "                        <th id=\"T_39f40bc7_45fe_11ec_8ef1_3cf0111e3abflevel1_row130\" class=\"row_heading level1 row130\" >CHAS</th>\n",
       "                        <td id=\"T_39f40bc7_45fe_11ec_8ef1_3cf0111e3abfrow130_col0\" class=\"data row130 col0\" >0.121515</td>\n",
       "            </tr>\n",
       "            <tr>\n",
       "                        <th id=\"T_39f40bc7_45fe_11ec_8ef1_3cf0111e3abflevel0_row131\" class=\"row_heading level0 row131\" >CHAS</th>\n",
       "                        <th id=\"T_39f40bc7_45fe_11ec_8ef1_3cf0111e3abflevel1_row131\" class=\"row_heading level1 row131\" >PTRATIO</th>\n",
       "                        <td id=\"T_39f40bc7_45fe_11ec_8ef1_3cf0111e3abfrow131_col0\" class=\"data row131 col0\" >0.121515</td>\n",
       "            </tr>\n",
       "            <tr>\n",
       "                        <th id=\"T_39f40bc7_45fe_11ec_8ef1_3cf0111e3abflevel0_row132\" class=\"row_heading level0 row132\" >CAT. MEDV</th>\n",
       "                        <th id=\"T_39f40bc7_45fe_11ec_8ef1_3cf0111e3abflevel1_row132\" class=\"row_heading level1 row132\" >DIS</th>\n",
       "                        <td id=\"T_39f40bc7_45fe_11ec_8ef1_3cf0111e3abfrow132_col0\" class=\"data row132 col0\" >0.118887</td>\n",
       "            </tr>\n",
       "            <tr>\n",
       "                        <th id=\"T_39f40bc7_45fe_11ec_8ef1_3cf0111e3abflevel0_row133\" class=\"row_heading level0 row133\" >DIS</th>\n",
       "                        <th id=\"T_39f40bc7_45fe_11ec_8ef1_3cf0111e3abflevel1_row133\" class=\"row_heading level1 row133\" >CAT. MEDV</th>\n",
       "                        <td id=\"T_39f40bc7_45fe_11ec_8ef1_3cf0111e3abfrow133_col0\" class=\"data row133 col0\" >0.118887</td>\n",
       "            </tr>\n",
       "            <tr>\n",
       "                        <th id=\"T_39f40bc7_45fe_11ec_8ef1_3cf0111e3abflevel0_row134\" class=\"row_heading level0 row134\" >CHAS</th>\n",
       "                        <th id=\"T_39f40bc7_45fe_11ec_8ef1_3cf0111e3abflevel1_row134\" class=\"row_heading level1 row134\" >CAT. MEDV</th>\n",
       "                        <td id=\"T_39f40bc7_45fe_11ec_8ef1_3cf0111e3abfrow134_col0\" class=\"data row134 col0\" >0.108631</td>\n",
       "            </tr>\n",
       "            <tr>\n",
       "                        <th id=\"T_39f40bc7_45fe_11ec_8ef1_3cf0111e3abflevel0_row135\" class=\"row_heading level0 row135\" >CAT. MEDV</th>\n",
       "                        <th id=\"T_39f40bc7_45fe_11ec_8ef1_3cf0111e3abflevel1_row135\" class=\"row_heading level1 row135\" >CHAS</th>\n",
       "                        <td id=\"T_39f40bc7_45fe_11ec_8ef1_3cf0111e3abfrow135_col0\" class=\"data row135 col0\" >0.108631</td>\n",
       "            </tr>\n",
       "            <tr>\n",
       "                        <th id=\"T_39f40bc7_45fe_11ec_8ef1_3cf0111e3abflevel0_row136\" class=\"row_heading level0 row136\" >DIS</th>\n",
       "                        <th id=\"T_39f40bc7_45fe_11ec_8ef1_3cf0111e3abflevel1_row136\" class=\"row_heading level1 row136\" >CHAS</th>\n",
       "                        <td id=\"T_39f40bc7_45fe_11ec_8ef1_3cf0111e3abfrow136_col0\" class=\"data row136 col0\" >0.099176</td>\n",
       "            </tr>\n",
       "            <tr>\n",
       "                        <th id=\"T_39f40bc7_45fe_11ec_8ef1_3cf0111e3abflevel0_row137\" class=\"row_heading level0 row137\" rowspan=2>CHAS</th>\n",
       "                        <th id=\"T_39f40bc7_45fe_11ec_8ef1_3cf0111e3abflevel1_row137\" class=\"row_heading level1 row137\" >DIS</th>\n",
       "                        <td id=\"T_39f40bc7_45fe_11ec_8ef1_3cf0111e3abfrow137_col0\" class=\"data row137 col0\" >0.099176</td>\n",
       "            </tr>\n",
       "            <tr>\n",
       "                                <th id=\"T_39f40bc7_45fe_11ec_8ef1_3cf0111e3abflevel1_row138\" class=\"row_heading level1 row138\" >RM</th>\n",
       "                        <td id=\"T_39f40bc7_45fe_11ec_8ef1_3cf0111e3abfrow138_col0\" class=\"data row138 col0\" >0.091251</td>\n",
       "            </tr>\n",
       "            <tr>\n",
       "                        <th id=\"T_39f40bc7_45fe_11ec_8ef1_3cf0111e3abflevel0_row139\" class=\"row_heading level0 row139\" >RM</th>\n",
       "                        <th id=\"T_39f40bc7_45fe_11ec_8ef1_3cf0111e3abflevel1_row139\" class=\"row_heading level1 row139\" >CHAS</th>\n",
       "                        <td id=\"T_39f40bc7_45fe_11ec_8ef1_3cf0111e3abfrow139_col0\" class=\"data row139 col0\" >0.091251</td>\n",
       "            </tr>\n",
       "            <tr>\n",
       "                        <th id=\"T_39f40bc7_45fe_11ec_8ef1_3cf0111e3abflevel0_row140\" class=\"row_heading level0 row140\" >NOX</th>\n",
       "                        <th id=\"T_39f40bc7_45fe_11ec_8ef1_3cf0111e3abflevel1_row140\" class=\"row_heading level1 row140\" >CHAS</th>\n",
       "                        <td id=\"T_39f40bc7_45fe_11ec_8ef1_3cf0111e3abfrow140_col0\" class=\"data row140 col0\" >0.091203</td>\n",
       "            </tr>\n",
       "            <tr>\n",
       "                        <th id=\"T_39f40bc7_45fe_11ec_8ef1_3cf0111e3abflevel0_row141\" class=\"row_heading level0 row141\" rowspan=2>CHAS</th>\n",
       "                        <th id=\"T_39f40bc7_45fe_11ec_8ef1_3cf0111e3abflevel1_row141\" class=\"row_heading level1 row141\" >NOX</th>\n",
       "                        <td id=\"T_39f40bc7_45fe_11ec_8ef1_3cf0111e3abfrow141_col0\" class=\"data row141 col0\" >0.091203</td>\n",
       "            </tr>\n",
       "            <tr>\n",
       "                                <th id=\"T_39f40bc7_45fe_11ec_8ef1_3cf0111e3abflevel1_row142\" class=\"row_heading level1 row142\" >AGE</th>\n",
       "                        <td id=\"T_39f40bc7_45fe_11ec_8ef1_3cf0111e3abfrow142_col0\" class=\"data row142 col0\" >0.086518</td>\n",
       "            </tr>\n",
       "            <tr>\n",
       "                        <th id=\"T_39f40bc7_45fe_11ec_8ef1_3cf0111e3abflevel0_row143\" class=\"row_heading level0 row143\" >AGE</th>\n",
       "                        <th id=\"T_39f40bc7_45fe_11ec_8ef1_3cf0111e3abflevel1_row143\" class=\"row_heading level1 row143\" >CHAS</th>\n",
       "                        <td id=\"T_39f40bc7_45fe_11ec_8ef1_3cf0111e3abfrow143_col0\" class=\"data row143 col0\" >0.086518</td>\n",
       "            </tr>\n",
       "            <tr>\n",
       "                        <th id=\"T_39f40bc7_45fe_11ec_8ef1_3cf0111e3abflevel0_row144\" class=\"row_heading level0 row144\" >INDUS</th>\n",
       "                        <th id=\"T_39f40bc7_45fe_11ec_8ef1_3cf0111e3abflevel1_row144\" class=\"row_heading level1 row144\" >CHAS</th>\n",
       "                        <td id=\"T_39f40bc7_45fe_11ec_8ef1_3cf0111e3abfrow144_col0\" class=\"data row144 col0\" >0.062938</td>\n",
       "            </tr>\n",
       "            <tr>\n",
       "                        <th id=\"T_39f40bc7_45fe_11ec_8ef1_3cf0111e3abflevel0_row145\" class=\"row_heading level0 row145\" >CHAS</th>\n",
       "                        <th id=\"T_39f40bc7_45fe_11ec_8ef1_3cf0111e3abflevel1_row145\" class=\"row_heading level1 row145\" >INDUS</th>\n",
       "                        <td id=\"T_39f40bc7_45fe_11ec_8ef1_3cf0111e3abfrow145_col0\" class=\"data row145 col0\" >0.062938</td>\n",
       "            </tr>\n",
       "            <tr>\n",
       "                        <th id=\"T_39f40bc7_45fe_11ec_8ef1_3cf0111e3abflevel0_row146\" class=\"row_heading level0 row146\" >CRIM</th>\n",
       "                        <th id=\"T_39f40bc7_45fe_11ec_8ef1_3cf0111e3abflevel1_row146\" class=\"row_heading level1 row146\" >CHAS</th>\n",
       "                        <td id=\"T_39f40bc7_45fe_11ec_8ef1_3cf0111e3abfrow146_col0\" class=\"data row146 col0\" >0.055892</td>\n",
       "            </tr>\n",
       "            <tr>\n",
       "                        <th id=\"T_39f40bc7_45fe_11ec_8ef1_3cf0111e3abflevel0_row147\" class=\"row_heading level0 row147\" >CHAS</th>\n",
       "                        <th id=\"T_39f40bc7_45fe_11ec_8ef1_3cf0111e3abflevel1_row147\" class=\"row_heading level1 row147\" >CRIM</th>\n",
       "                        <td id=\"T_39f40bc7_45fe_11ec_8ef1_3cf0111e3abfrow147_col0\" class=\"data row147 col0\" >0.055892</td>\n",
       "            </tr>\n",
       "            <tr>\n",
       "                        <th id=\"T_39f40bc7_45fe_11ec_8ef1_3cf0111e3abflevel0_row148\" class=\"row_heading level0 row148\" >LSTAT</th>\n",
       "                        <th id=\"T_39f40bc7_45fe_11ec_8ef1_3cf0111e3abflevel1_row148\" class=\"row_heading level1 row148\" >CHAS</th>\n",
       "                        <td id=\"T_39f40bc7_45fe_11ec_8ef1_3cf0111e3abfrow148_col0\" class=\"data row148 col0\" >0.053929</td>\n",
       "            </tr>\n",
       "            <tr>\n",
       "                        <th id=\"T_39f40bc7_45fe_11ec_8ef1_3cf0111e3abflevel0_row149\" class=\"row_heading level0 row149\" rowspan=2>CHAS</th>\n",
       "                        <th id=\"T_39f40bc7_45fe_11ec_8ef1_3cf0111e3abflevel1_row149\" class=\"row_heading level1 row149\" >LSTAT</th>\n",
       "                        <td id=\"T_39f40bc7_45fe_11ec_8ef1_3cf0111e3abfrow149_col0\" class=\"data row149 col0\" >0.053929</td>\n",
       "            </tr>\n",
       "            <tr>\n",
       "                                <th id=\"T_39f40bc7_45fe_11ec_8ef1_3cf0111e3abflevel1_row150\" class=\"row_heading level1 row150\" >ZN</th>\n",
       "                        <td id=\"T_39f40bc7_45fe_11ec_8ef1_3cf0111e3abfrow150_col0\" class=\"data row150 col0\" >0.042697</td>\n",
       "            </tr>\n",
       "            <tr>\n",
       "                        <th id=\"T_39f40bc7_45fe_11ec_8ef1_3cf0111e3abflevel0_row151\" class=\"row_heading level0 row151\" >ZN</th>\n",
       "                        <th id=\"T_39f40bc7_45fe_11ec_8ef1_3cf0111e3abflevel1_row151\" class=\"row_heading level1 row151\" >CHAS</th>\n",
       "                        <td id=\"T_39f40bc7_45fe_11ec_8ef1_3cf0111e3abfrow151_col0\" class=\"data row151 col0\" >0.042697</td>\n",
       "            </tr>\n",
       "            <tr>\n",
       "                        <th id=\"T_39f40bc7_45fe_11ec_8ef1_3cf0111e3abflevel0_row152\" class=\"row_heading level0 row152\" >TAX</th>\n",
       "                        <th id=\"T_39f40bc7_45fe_11ec_8ef1_3cf0111e3abflevel1_row152\" class=\"row_heading level1 row152\" >CHAS</th>\n",
       "                        <td id=\"T_39f40bc7_45fe_11ec_8ef1_3cf0111e3abfrow152_col0\" class=\"data row152 col0\" >0.035587</td>\n",
       "            </tr>\n",
       "            <tr>\n",
       "                        <th id=\"T_39f40bc7_45fe_11ec_8ef1_3cf0111e3abflevel0_row153\" class=\"row_heading level0 row153\" rowspan=2>CHAS</th>\n",
       "                        <th id=\"T_39f40bc7_45fe_11ec_8ef1_3cf0111e3abflevel1_row153\" class=\"row_heading level1 row153\" >TAX</th>\n",
       "                        <td id=\"T_39f40bc7_45fe_11ec_8ef1_3cf0111e3abfrow153_col0\" class=\"data row153 col0\" >0.035587</td>\n",
       "            </tr>\n",
       "            <tr>\n",
       "                                <th id=\"T_39f40bc7_45fe_11ec_8ef1_3cf0111e3abflevel1_row154\" class=\"row_heading level1 row154\" >RAD</th>\n",
       "                        <td id=\"T_39f40bc7_45fe_11ec_8ef1_3cf0111e3abfrow154_col0\" class=\"data row154 col0\" >0.007368</td>\n",
       "            </tr>\n",
       "            <tr>\n",
       "                        <th id=\"T_39f40bc7_45fe_11ec_8ef1_3cf0111e3abflevel0_row155\" class=\"row_heading level0 row155\" >RAD</th>\n",
       "                        <th id=\"T_39f40bc7_45fe_11ec_8ef1_3cf0111e3abflevel1_row155\" class=\"row_heading level1 row155\" >CHAS</th>\n",
       "                        <td id=\"T_39f40bc7_45fe_11ec_8ef1_3cf0111e3abfrow155_col0\" class=\"data row155 col0\" >0.007368</td>\n",
       "            </tr>\n",
       "    </tbody></table>"
      ],
      "text/plain": [
       "<pandas.io.formats.style.Styler at 0x2b2a7080f40>"
      ]
     },
     "execution_count": 9,
     "metadata": {},
     "output_type": "execute_result"
    }
   ],
   "source": [
    "df = pd.DataFrame(s[s < 1].abs().sort_values(ascending=False), columns=['corr'])   # 상관계수의 절댓값 크기순으로 정렬\n",
    "df.style.background_gradient(cmap='viridis')    # style.background_gradient : 데이터프레임에 색 입힐 수 있음."
   ]
  },
  {
   "cell_type": "markdown",
   "metadata": {},
   "source": [
    "상관계수의 절댓값이 0.7 이상인 변수 쌍 : (RAD, TAX), (NOX, DIS), (NOX, INDUS), (DIS, AGE), (NOX, AGE), (TAX, INDUS), (DIS, INDUS)  \n",
    "RAD와 TAX 중 하나는 제거해야 하는 것으로 보임."
   ]
  },
  {
   "cell_type": "markdown",
   "metadata": {},
   "source": [
    "iii."
   ]
  },
  {
   "cell_type": "code",
   "execution_count": 10,
   "metadata": {},
   "outputs": [],
   "source": [
    "predictors = ['CRIM', 'ZN', 'INDUS', 'CHAS', 'NOX', 'RM', 'AGE', 'DIS', 'RAD', 'TAX', 'PTRATIO', 'LSTAT', 'CAT. MEDV']\n",
    "outcome = 'MEDV'\n",
    "\n",
    "# partition data\n",
    "X = housing_df[predictors]\n",
    "y = housing_df[outcome]\n",
    "train_X, valid_X, train_y, valid_y = train_test_split(X, y,test_size=0.4, random_state=1)"
   ]
  },
  {
   "cell_type": "code",
   "execution_count": 14,
   "metadata": {},
   "outputs": [
    {
     "name": "stdout",
     "output_type": "stream",
     "text": [
      "     n     r2adj          AIC    AGE  CAT. MEDV   CHAS   CRIM    DIS  INDUS  LSTAT    NOX  \\\n",
      "10  11  0.833103  1660.021045  False       True   True   True   True   True   True   True   \n",
      "11  12  0.832716  1661.680840  False       True   True   True   True   True   True   True   \n",
      "12  13  0.832228  1663.515572   True       True   True   True   True   True   True   True   \n",
      "9   10  0.831941  1661.163238  False       True   True   True   True   True   True   True   \n",
      "8    9  0.831819  1660.418877  False       True   True   True   True  False   True   True   \n",
      "7    8  0.830529  1661.766431  False       True   True   True   True  False   True   True   \n",
      "6    7  0.826096  1668.619824  False       True  False   True   True  False   True   True   \n",
      "5    6  0.821125  1676.183684  False       True  False   True   True  False   True   True   \n",
      "4    5  0.814675  1685.940421  False       True   True   True  False  False   True  False   \n",
      "3    4  0.810106  1692.338134  False       True   True   True  False  False   True  False   \n",
      "2    3  0.804621  1699.980252  False       True  False   True  False  False   True  False   \n",
      "1    2  0.793030  1716.454818  False       True  False  False  False  False   True  False   \n",
      "0    1  0.604171  1911.931006  False       True  False  False  False  False  False  False   \n",
      "\n",
      "    PTRATIO    RAD     RM    TAX     ZN  \n",
      "10     True   True   True   True  False  \n",
      "11     True   True   True   True   True  \n",
      "12     True   True   True   True   True  \n",
      "9      True   True   True  False  False  \n",
      "8      True   True   True  False  False  \n",
      "7      True   True  False  False  False  \n",
      "6      True   True  False  False  False  \n",
      "5      True  False  False  False  False  \n",
      "4      True  False  False  False  False  \n",
      "3     False  False  False  False  False  \n",
      "2     False  False  False  False  False  \n",
      "1     False  False  False  False  False  \n",
      "0     False  False  False  False  False  \n"
     ]
    }
   ],
   "source": [
    "def train_model(variables):\n",
    "    model = LinearRegression()\n",
    "    model.fit(train_X[variables], train_y)\n",
    "    return model\n",
    "\n",
    "def score_model(model, variables):\n",
    "    pred_y = model.predict(train_X[variables])\n",
    "    return -adjusted_r2_score(train_y, pred_y, model)\n",
    "\n",
    "allVariables = train_X.columns\n",
    "results = exhaustive_search(allVariables, train_model, score_model)\n",
    "\n",
    "data = []\n",
    "for result in results:\n",
    "    model = result['model']\n",
    "    variables = result['variables']\n",
    "    AIC = AIC_score(train_y, model.predict(train_X[variables]), model)\n",
    "    \n",
    "    d = {'n': result['n'], 'r2adj': -result['score'], 'AIC': AIC}\n",
    "    d.update({var: var in result['variables'] for var in allVariables})\n",
    "    data.append(d)\n",
    "pd.set_option('display.width', 100)    # 보이는 너비 100으로 설정.\n",
    "print(pd.DataFrame(data, columns=('n', 'r2adj', 'AIC') + tuple(sorted(allVariables))).sort_values(by\n",
    "                                                                                                  = ['r2adj'], ascending=False))\n",
    "pd.reset_option('display.width')"
   ]
  },
  {
   "cell_type": "markdown",
   "metadata": {},
   "source": [
    "** 첫번째 모델(AGE, ZN 제거)"
   ]
  },
  {
   "cell_type": "code",
   "execution_count": 91,
   "metadata": {},
   "outputs": [
    {
     "name": "stdout",
     "output_type": "stream",
     "text": [
      "\n",
      "Regression statistics\n",
      "\n",
      "                      Mean Error (ME) : 0.4505\n",
      "       Root Mean Squared Error (RMSE) : 3.8674\n",
      "            Mean Absolute Error (MAE) : 2.7724\n",
      "          Mean Percentage Error (MPE) : -2.1963\n",
      "Mean Absolute Percentage Error (MAPE) : 13.3441\n"
     ]
    }
   ],
   "source": [
    "predictors = ['CRIM', 'INDUS', 'CHAS', 'NOX', 'RM', 'DIS', 'RAD', 'TAX', 'PTRATIO', 'LSTAT', 'CAT. MEDV']\n",
    "outcome = 'MEDV'\n",
    "\n",
    "# partition data\n",
    "X = housing_df[predictors]\n",
    "y = housing_df[outcome]\n",
    "train_X, valid_X, train_y, valid_y = train_test_split(X, y,test_size=0.4, random_state=1)\n",
    "\n",
    "housing_lm = LinearRegression()\n",
    "housing_lm.fit(train_X, train_y)   #학습 데이터에 대한 모델 구축\n",
    "\n",
    "# print performance measures\n",
    "regressionSummary(valid_y, housing_lm.predict(valid_X))"
   ]
  },
  {
   "cell_type": "code",
   "execution_count": 92,
   "metadata": {},
   "outputs": [
    {
     "data": {
      "image/png": "[encoded data removed]",
      "text/plain": [
       "<Figure size 432x288 with 2 Axes>"
      ]
     },
     "metadata": {},
     "output_type": "display_data"
    }
   ],
   "source": [
    "pred_y = pd.Series(housing_lm.predict(valid_X))\n",
    "pred_y = pred_y.sort_values(ascending=False)\n",
    "\n",
    "fig, axes = plt.subplots(nrows=1, ncols=2)\n",
    "ax = gainsChart(pred_y, ax=axes[0])\n",
    "ax.set_ylabel('Cumulative MEDV')\n",
    "ax.set_title('Cumulative Gains Chart')\n",
    "\n",
    "ax = liftChart(pred_y, ax=axes[1], labelBars=False)\n",
    "ax.set_ylabel('Lift')\n",
    "\n",
    "plt.tight_layout()\n",
    "plt.show()"
   ]
  },
  {
   "cell_type": "markdown",
   "metadata": {},
   "source": [
    "** 두번째 모델(AGE 제거)"
   ]
  },
  {
   "cell_type": "code",
   "execution_count": 93,
   "metadata": {},
   "outputs": [
    {
     "name": "stdout",
     "output_type": "stream",
     "text": [
      "\n",
      "Regression statistics\n",
      "\n",
      "                      Mean Error (ME) : 0.4361\n",
      "       Root Mean Squared Error (RMSE) : 3.8786\n",
      "            Mean Absolute Error (MAE) : 2.7704\n",
      "          Mean Percentage Error (MPE) : -2.2655\n",
      "Mean Absolute Percentage Error (MAPE) : 13.3202\n"
     ]
    }
   ],
   "source": [
    "predictors = ['CRIM', 'ZN', 'INDUS', 'CHAS', 'NOX', 'RM', 'DIS', 'RAD', 'TAX', 'PTRATIO', 'LSTAT', 'CAT. MEDV']\n",
    "outcome = 'MEDV'\n",
    "\n",
    "# partition data\n",
    "X = housing_df[predictors]\n",
    "y = housing_df[outcome]\n",
    "train_X, valid_X, train_y, valid_y = train_test_split(X, y,test_size=0.4, random_state=1)\n",
    "\n",
    "housing_lm = LinearRegression()\n",
    "housing_lm.fit(train_X, train_y)   #학습 데이터에 대한 모델 구축\n",
    "\n",
    "# print performance measures\n",
    "regressionSummary(valid_y, housing_lm.predict(valid_X))"
   ]
  },
  {
   "cell_type": "code",
   "execution_count": 94,
   "metadata": {},
   "outputs": [
    {
     "data": {
      "image/png": "[encoded data removed]",
      "text/plain": [
       "<Figure size 432x288 with 2 Axes>"
      ]
     },
     "metadata": {},
     "output_type": "display_data"
    }
   ],
   "source": [
    "pred_y = pd.Series(housing_lm.predict(valid_X))\n",
    "pred_y = pred_y.sort_values(ascending=False)\n",
    "\n",
    "pred_y = pd.Series(housing_lm.predict(valid_X))\n",
    "pred_y = pred_y.sort_values(ascending=False)\n",
    "\n",
    "fig, axes = plt.subplots(nrows=1, ncols=2)\n",
    "ax = gainsChart(pred_y, ax=axes[0])\n",
    "ax.set_ylabel('Cumulative MEDV')\n",
    "ax.set_title('Cumulative Gains Chart')\n",
    "\n",
    "ax = liftChart(pred_y, ax=axes[1], labelBars=False)\n",
    "ax.set_ylabel('Lift')\n",
    "\n",
    "plt.tight_layout()\n",
    "plt.show()"
   ]
  },
  {
   "cell_type": "markdown",
   "metadata": {},
   "source": [
    "** 세번째 모델(모든 예측변수 사용)"
   ]
  },
  {
   "cell_type": "code",
   "execution_count": 95,
   "metadata": {},
   "outputs": [
    {
     "name": "stdout",
     "output_type": "stream",
     "text": [
      "\n",
      "Regression statistics\n",
      "\n",
      "                      Mean Error (ME) : 0.4347\n",
      "       Root Mean Squared Error (RMSE) : 3.8763\n",
      "            Mean Absolute Error (MAE) : 2.7696\n",
      "          Mean Percentage Error (MPE) : -2.2773\n",
      "Mean Absolute Percentage Error (MAPE) : 13.3233\n"
     ]
    }
   ],
   "source": [
    "predictors = ['CRIM', 'ZN', 'INDUS', 'CHAS', 'NOX', 'RM', 'AGE', 'DIS', 'RAD', 'TAX', 'PTRATIO', 'LSTAT', 'CAT. MEDV']\n",
    "outcome = 'MEDV'\n",
    "\n",
    "# partition data\n",
    "X = housing_df[predictors]\n",
    "y = housing_df[outcome]\n",
    "train_X, valid_X, train_y, valid_y = train_test_split(X, y,test_size=0.4, random_state=1)\n",
    "\n",
    "housing_lm = LinearRegression()\n",
    "housing_lm.fit(train_X, train_y)   #학습 데이터에 대한 모델 구축\n",
    "\n",
    "# print performance measures\n",
    "regressionSummary(valid_y, housing_lm.predict(valid_X))"
   ]
  },
  {
   "cell_type": "code",
   "execution_count": 96,
   "metadata": {},
   "outputs": [
    {
     "data": {
      "image/png": "[encoded data removed]",
      "text/plain": [
       "<Figure size 432x288 with 2 Axes>"
      ]
     },
     "metadata": {},
     "output_type": "display_data"
    }
   ],
   "source": [
    "pred_y = pd.Series(housing_lm.predict(valid_X))\n",
    "pred_y = pred_y.sort_values(ascending=False)\n",
    "\n",
    "fig, axes = plt.subplots(nrows=1, ncols=2)\n",
    "ax = gainsChart(pred_y, ax=axes[0])\n",
    "ax.set_ylabel('Cumulative MEDV')\n",
    "ax.set_title('Cumulative Gains Chart')\n",
    "\n",
    "ax = liftChart(pred_y, ax=axes[1], labelBars=False)\n",
    "ax.set_ylabel('Lift')\n",
    "\n",
    "plt.tight_layout()\n",
    "plt.show()"
   ]
  },
  {
   "cell_type": "markdown",
   "metadata": {},
   "source": [
    "결론 : 모든 예측변수를 사용한 세번째 모델이 ME, RMSE 모두 가장 작으므로 세번째 모델이 가장 좋은 모형이다.  \n",
    "즉 새로운 데이터에 대한 주택 가격의 중앙값을 예측하려면 13개의 예측변수를 모두 사용하는 것이 좋다."
   ]
  },
  {
   "cell_type": "markdown",
   "metadata": {},
   "source": [
    "## 6.2"
   ]
  },
  {
   "cell_type": "markdown",
   "metadata": {},
   "source": [
    "#### a."
   ]
  },
  {
   "cell_type": "code",
   "execution_count": 17,
   "metadata": {},
   "outputs": [
    {
     "data": {
      "text/html": [
       "<div>\n",
       "<style scoped>\n",
       "    .dataframe tbody tr th:only-of-type {\n",
       "        vertical-align: middle;\n",
       "    }\n",
       "\n",
       "    .dataframe tbody tr th {\n",
       "        vertical-align: top;\n",
       "    }\n",
       "\n",
       "    .dataframe thead th {\n",
       "        text-align: right;\n",
       "    }\n",
       "</style>\n",
       "<table border=\"1\" class=\"dataframe\">\n",
       "  <thead>\n",
       "    <tr style=\"text-align: right;\">\n",
       "      <th></th>\n",
       "      <th>sequence_number</th>\n",
       "      <th>US</th>\n",
       "      <th>source_a</th>\n",
       "      <th>source_c</th>\n",
       "      <th>source_b</th>\n",
       "      <th>source_d</th>\n",
       "      <th>source_e</th>\n",
       "      <th>source_m</th>\n",
       "      <th>source_o</th>\n",
       "      <th>source_h</th>\n",
       "      <th>...</th>\n",
       "      <th>source_x</th>\n",
       "      <th>source_w</th>\n",
       "      <th>Freq</th>\n",
       "      <th>last_update_days_ago</th>\n",
       "      <th>1st_update_days_ago</th>\n",
       "      <th>Web order</th>\n",
       "      <th>Gender=male</th>\n",
       "      <th>Address_is_res</th>\n",
       "      <th>Purchase</th>\n",
       "      <th>Spending</th>\n",
       "    </tr>\n",
       "  </thead>\n",
       "  <tbody>\n",
       "    <tr>\n",
       "      <th>0</th>\n",
       "      <td>1</td>\n",
       "      <td>1</td>\n",
       "      <td>0</td>\n",
       "      <td>0</td>\n",
       "      <td>1</td>\n",
       "      <td>0</td>\n",
       "      <td>0</td>\n",
       "      <td>0</td>\n",
       "      <td>0</td>\n",
       "      <td>0</td>\n",
       "      <td>...</td>\n",
       "      <td>0</td>\n",
       "      <td>0</td>\n",
       "      <td>2</td>\n",
       "      <td>3662</td>\n",
       "      <td>3662</td>\n",
       "      <td>1</td>\n",
       "      <td>0</td>\n",
       "      <td>1</td>\n",
       "      <td>1</td>\n",
       "      <td>128</td>\n",
       "    </tr>\n",
       "    <tr>\n",
       "      <th>1</th>\n",
       "      <td>2</td>\n",
       "      <td>1</td>\n",
       "      <td>0</td>\n",
       "      <td>0</td>\n",
       "      <td>0</td>\n",
       "      <td>0</td>\n",
       "      <td>1</td>\n",
       "      <td>0</td>\n",
       "      <td>0</td>\n",
       "      <td>0</td>\n",
       "      <td>...</td>\n",
       "      <td>0</td>\n",
       "      <td>0</td>\n",
       "      <td>0</td>\n",
       "      <td>2900</td>\n",
       "      <td>2900</td>\n",
       "      <td>1</td>\n",
       "      <td>1</td>\n",
       "      <td>0</td>\n",
       "      <td>0</td>\n",
       "      <td>0</td>\n",
       "    </tr>\n",
       "    <tr>\n",
       "      <th>2</th>\n",
       "      <td>3</td>\n",
       "      <td>1</td>\n",
       "      <td>0</td>\n",
       "      <td>0</td>\n",
       "      <td>0</td>\n",
       "      <td>0</td>\n",
       "      <td>0</td>\n",
       "      <td>0</td>\n",
       "      <td>0</td>\n",
       "      <td>0</td>\n",
       "      <td>...</td>\n",
       "      <td>0</td>\n",
       "      <td>0</td>\n",
       "      <td>2</td>\n",
       "      <td>3883</td>\n",
       "      <td>3914</td>\n",
       "      <td>0</td>\n",
       "      <td>0</td>\n",
       "      <td>0</td>\n",
       "      <td>1</td>\n",
       "      <td>127</td>\n",
       "    </tr>\n",
       "    <tr>\n",
       "      <th>3</th>\n",
       "      <td>4</td>\n",
       "      <td>1</td>\n",
       "      <td>0</td>\n",
       "      <td>1</td>\n",
       "      <td>0</td>\n",
       "      <td>0</td>\n",
       "      <td>0</td>\n",
       "      <td>0</td>\n",
       "      <td>0</td>\n",
       "      <td>0</td>\n",
       "      <td>...</td>\n",
       "      <td>0</td>\n",
       "      <td>0</td>\n",
       "      <td>1</td>\n",
       "      <td>829</td>\n",
       "      <td>829</td>\n",
       "      <td>0</td>\n",
       "      <td>1</td>\n",
       "      <td>0</td>\n",
       "      <td>0</td>\n",
       "      <td>0</td>\n",
       "    </tr>\n",
       "    <tr>\n",
       "      <th>4</th>\n",
       "      <td>5</td>\n",
       "      <td>1</td>\n",
       "      <td>0</td>\n",
       "      <td>1</td>\n",
       "      <td>0</td>\n",
       "      <td>0</td>\n",
       "      <td>0</td>\n",
       "      <td>0</td>\n",
       "      <td>0</td>\n",
       "      <td>0</td>\n",
       "      <td>...</td>\n",
       "      <td>0</td>\n",
       "      <td>0</td>\n",
       "      <td>1</td>\n",
       "      <td>869</td>\n",
       "      <td>869</td>\n",
       "      <td>0</td>\n",
       "      <td>0</td>\n",
       "      <td>0</td>\n",
       "      <td>0</td>\n",
       "      <td>0</td>\n",
       "    </tr>\n",
       "  </tbody>\n",
       "</table>\n",
       "<p>5 rows × 25 columns</p>\n",
       "</div>"
      ],
      "text/plain": [
       "   sequence_number  US  source_a  source_c  source_b  source_d  source_e  \\\n",
       "0                1   1         0         0         1         0         0   \n",
       "1                2   1         0         0         0         0         1   \n",
       "2                3   1         0         0         0         0         0   \n",
       "3                4   1         0         1         0         0         0   \n",
       "4                5   1         0         1         0         0         0   \n",
       "\n",
       "   source_m  source_o  source_h  ...  source_x  source_w  Freq  \\\n",
       "0         0         0         0  ...         0         0     2   \n",
       "1         0         0         0  ...         0         0     0   \n",
       "2         0         0         0  ...         0         0     2   \n",
       "3         0         0         0  ...         0         0     1   \n",
       "4         0         0         0  ...         0         0     1   \n",
       "\n",
       "   last_update_days_ago  1st_update_days_ago  Web order  Gender=male  \\\n",
       "0                  3662                 3662          1            0   \n",
       "1                  2900                 2900          1            1   \n",
       "2                  3883                 3914          0            0   \n",
       "3                   829                  829          0            1   \n",
       "4                   869                  869          0            0   \n",
       "\n",
       "   Address_is_res  Purchase  Spending  \n",
       "0               1         1       128  \n",
       "1               0         0         0  \n",
       "2               0         1       127  \n",
       "3               0         0         0  \n",
       "4               0         0         0  \n",
       "\n",
       "[5 rows x 25 columns]"
      ]
     },
     "execution_count": 17,
     "metadata": {},
     "output_type": "execute_result"
    }
   ],
   "source": [
    "tayko_df = pd.read_csv('D:\\숙탯 2기\\dmba-datasets\\Tayko.csv')\n",
    "#tayko_df.columns\n",
    "tayko_df.head()"
   ]
  },
  {
   "cell_type": "code",
   "execution_count": 280,
   "metadata": {},
   "outputs": [
    {
     "data": {
      "text/plain": [
       "Index(['US', 'source_a', 'source_c', 'source_b', 'source_d', 'source_e',\n",
       "       'source_m', 'source_o', 'source_h', 'source_r', 'source_s', 'source_t',\n",
       "       'source_u', 'source_p', 'source_x', 'source_w', 'Web order',\n",
       "       'Gender=male', 'Address_is_res', 'Purchase', 'Spending'],\n",
       "      dtype='object')"
      ]
     },
     "execution_count": 280,
     "metadata": {},
     "output_type": "execute_result"
    }
   ],
   "source": [
    "# 평균\n",
    "\n",
    "tk_categ = tayko_df.drop(columns=['sequence_number', 'Freq', 'last_update_days_ago', '1st_update_days_ago'])\n",
    "tk_categ.columns"
   ]
  },
  {
   "cell_type": "code",
   "execution_count": 251,
   "metadata": {},
   "outputs": [
    {
     "data": {
      "text/html": [
       "<div>\n",
       "<style scoped>\n",
       "    .dataframe tbody tr th:only-of-type {\n",
       "        vertical-align: middle;\n",
       "    }\n",
       "\n",
       "    .dataframe tbody tr th {\n",
       "        vertical-align: top;\n",
       "    }\n",
       "\n",
       "    .dataframe thead th {\n",
       "        text-align: right;\n",
       "    }\n",
       "</style>\n",
       "<table border=\"1\" class=\"dataframe\">\n",
       "  <thead>\n",
       "    <tr style=\"text-align: right;\">\n",
       "      <th></th>\n",
       "      <th>Spending</th>\n",
       "    </tr>\n",
       "    <tr>\n",
       "      <th>US</th>\n",
       "      <th></th>\n",
       "    </tr>\n",
       "  </thead>\n",
       "  <tbody>\n",
       "    <tr>\n",
       "      <th>0</th>\n",
       "      <td>101.216524</td>\n",
       "    </tr>\n",
       "    <tr>\n",
       "      <th>1</th>\n",
       "      <td>102.924803</td>\n",
       "    </tr>\n",
       "  </tbody>\n",
       "</table>\n",
       "</div>"
      ],
      "text/plain": [
       "      Spending\n",
       "US            \n",
       "0   101.216524\n",
       "1   102.924803"
      ]
     },
     "execution_count": 251,
     "metadata": {},
     "output_type": "execute_result"
    }
   ],
   "source": [
    "tk_categ[['US', 'Spending']].groupby('US').mean()"
   ]
  },
  {
   "cell_type": "code",
   "execution_count": 282,
   "metadata": {},
   "outputs": [
    {
     "data": {
      "text/html": [
       "<div>\n",
       "<style scoped>\n",
       "    .dataframe tbody tr th:only-of-type {\n",
       "        vertical-align: middle;\n",
       "    }\n",
       "\n",
       "    .dataframe tbody tr th {\n",
       "        vertical-align: top;\n",
       "    }\n",
       "\n",
       "    .dataframe thead th {\n",
       "        text-align: right;\n",
       "    }\n",
       "</style>\n",
       "<table border=\"1\" class=\"dataframe\">\n",
       "  <thead>\n",
       "    <tr style=\"text-align: right;\">\n",
       "      <th></th>\n",
       "      <th>Spending</th>\n",
       "    </tr>\n",
       "    <tr>\n",
       "      <th>US</th>\n",
       "      <th></th>\n",
       "    </tr>\n",
       "  </thead>\n",
       "  <tbody>\n",
       "    <tr>\n",
       "      <th>0</th>\n",
       "      <td>174.844401</td>\n",
       "    </tr>\n",
       "    <tr>\n",
       "      <th>1</th>\n",
       "      <td>189.275664</td>\n",
       "    </tr>\n",
       "  </tbody>\n",
       "</table>\n",
       "</div>"
      ],
      "text/plain": [
       "      Spending\n",
       "US            \n",
       "0   174.844401\n",
       "1   189.275664"
      ]
     },
     "execution_count": 282,
     "metadata": {},
     "output_type": "execute_result"
    }
   ],
   "source": [
    "tk_categ[['US', 'Spending']].groupby('US').std()"
   ]
  },
  {
   "cell_type": "markdown",
   "metadata": {},
   "source": [
    "다른 범주에 대해서도 마찬가지로 구할 수 있음"
   ]
  },
  {
   "cell_type": "markdown",
   "metadata": {},
   "source": [
    "#### b."
   ]
  },
  {
   "cell_type": "code",
   "execution_count": 18,
   "metadata": {},
   "outputs": [
    {
     "data": {
      "image/png": "[encoded data removed]",
      "text/plain": [
       "<Figure size 432x288 with 2 Axes>"
      ]
     },
     "metadata": {
      "needs_background": "light"
     },
     "output_type": "display_data"
    }
   ],
   "source": [
    "fig, ax = plt.subplots(ncols=2)\n",
    "sns.scatterplot('Freq', 'Spending', data=tayko_df, ax=ax[0])\n",
    "sns.scatterplot('last_update_days_ago', 'Spending', data=tayko_df, ax=ax[1])\n",
    "\n",
    "plt.tight_layout()\n",
    "plt.show()"
   ]
  },
  {
   "cell_type": "markdown",
   "metadata": {},
   "source": [
    "Freq 변수와 last_update_days_ago 변수 모두 반응변수 Spending과 선형관계가 아닌 것으로 보인다."
   ]
  },
  {
   "cell_type": "markdown",
   "metadata": {},
   "source": [
    "#### c."
   ]
  },
  {
   "cell_type": "markdown",
   "metadata": {},
   "source": [
    "i."
   ]
  },
  {
   "cell_type": "code",
   "execution_count": 74,
   "metadata": {},
   "outputs": [],
   "source": [
    "predictors = ['Freq', 'last_update_days_ago', 'Web order', 'Gender=male', 'Address_is_res', 'US']\n",
    "outcome = 'Spending'\n",
    "\n",
    "X = pd.get_dummies(tayko_df[predictors], drop_first=True)\n",
    "y = tayko_df[outcome]\n",
    "train_X, valid_X, train_y, valid_y = train_test_split(X, y, test_size=0.4, random_state=1)"
   ]
  },
  {
   "cell_type": "markdown",
   "metadata": {},
   "source": [
    "ii."
   ]
  },
  {
   "cell_type": "code",
   "execution_count": 28,
   "metadata": {},
   "outputs": [
    {
     "name": "stdout",
     "output_type": "stream",
     "text": [
      "intercept  10.176297413560846\n",
      "              Predictor  coefficient\n",
      "0                  Freq    91.274450\n",
      "1  last_update_days_ago    -0.010374\n",
      "2             Web order    18.628731\n",
      "3           Gender=male    -9.111366\n",
      "4        Address_is_res   -75.815354\n",
      "5                    US    -4.620293\n"
     ]
    }
   ],
   "source": [
    "tk_lm = LinearRegression()\n",
    "tk_lm.fit(train_X, train_y)\n",
    "\n",
    "# print coefficients(계수)\n",
    "print('intercept ', tk_lm.intercept_) \n",
    "print(pd.DataFrame({'Predictor': X.columns, 'coefficient': tk_lm.coef_}))"
   ]
  },
  {
   "cell_type": "markdown",
   "metadata": {},
   "source": [
    "iii."
   ]
  },
  {
   "cell_type": "markdown",
   "metadata": {},
   "source": [
    "전년도 거래 건수가 높고, 고객레코드를 최종갱신한지 오래되었고, 인터넷 구매 기록이 있고, 여성이며,  \n",
    "주소가 거주지 주소가 아니고, 미국 주소가 아닌 고객"
   ]
  },
  {
   "cell_type": "markdown",
   "metadata": {},
   "source": [
    "iv."
   ]
  },
  {
   "cell_type": "code",
   "execution_count": 31,
   "metadata": {},
   "outputs": [
    {
     "name": "stdout",
     "output_type": "stream",
     "text": [
      "Variables: Freq, last_update_days_ago, Web order, Gender=male, Address_is_res, US\n",
      "Start: score=15028.53\n",
      "Step: score=15026.76, remove US\n",
      "Step: score=15026.38, remove Gender=male\n",
      "Step: score=15026.38, remove None\n",
      "['Freq', 'last_update_days_ago', 'Web order', 'Address_is_res']\n"
     ]
    }
   ],
   "source": [
    "def train_model(variables):\n",
    "    model = LinearRegression()\n",
    "    model.fit(train_X[variables], train_y)\n",
    "    return model\n",
    "\n",
    "def score_model(model, variables):\n",
    "    return AIC_score(train_y, model.predict(train_X[variables]), model)\n",
    "\n",
    "best_model, best_variables = backward_elimination(train_X.columns, train_model, score_model, verbose=True)\n",
    "\n",
    "print(best_variables)"
   ]
  },
  {
   "cell_type": "markdown",
   "metadata": {},
   "source": [
    "US 변수(미국 주소지인지 여부)가 가장 먼저 탈락된다."
   ]
  },
  {
   "cell_type": "markdown",
   "metadata": {},
   "source": [
    "v."
   ]
  },
  {
   "cell_type": "code",
   "execution_count": 76,
   "metadata": {},
   "outputs": [
    {
     "data": {
      "text/plain": [
       "674        0\n",
       "1699     184\n",
       "1282       0\n",
       "1315    1289\n",
       "1210       0\n",
       "        ... \n",
       "1816       0\n",
       "390      153\n",
       "1992     133\n",
       "78       161\n",
       "1410       0\n",
       "Name: Spending, Length: 800, dtype: int64"
      ]
     },
     "execution_count": 76,
     "metadata": {},
     "output_type": "execute_result"
    }
   ],
   "source": [
    "valid_y"
   ]
  },
  {
   "cell_type": "code",
   "execution_count": 78,
   "metadata": {},
   "outputs": [
    {
     "name": "stdout",
     "output_type": "stream",
     "text": [
      "     Predicted  Actual   Residual\n",
      "674  89.214915       0 -89.214915\n",
      "\n",
      "Regression statistics\n",
      "\n",
      "               Mean Error (ME) : -89.2149\n",
      "Root Mean Squared Error (RMSE) : 89.2149\n",
      "     Mean Absolute Error (MAE) : 89.2149\n"
     ]
    }
   ],
   "source": [
    "valid_X_1st = pd.DataFrame(valid_X.iloc[0, ]).transpose()\n",
    "valid_y_1st = valid_y[[674]]\n",
    "tk_lm_pred = tk_lm.predict(valid_X_1st)\n",
    "\n",
    "result = pd.DataFrame({'Predicted': tk_lm_pred, 'Actual': valid_y_1st,\n",
    "                       'Residual': valid_y_1st - tk_lm_pred})\n",
    "print(result.head(20))\n",
    "\n",
    "# Compute common accuracy measures\n",
    "regressionSummary(valid_y_1st, tk_lm_pred)"
   ]
  },
  {
   "cell_type": "markdown",
   "metadata": {},
   "source": [
    "vi."
   ]
  },
  {
   "cell_type": "code",
   "execution_count": 67,
   "metadata": {},
   "outputs": [
    {
     "name": "stdout",
     "output_type": "stream",
     "text": [
      "       Predicted  Actual     Residual\n",
      "674    89.214915       0   -89.214915\n",
      "1699  202.231362     184   -18.231362\n",
      "1282   49.159303       0   -49.159303\n",
      "1315  824.841659    1289   464.158341\n",
      "1210    0.121196       0    -0.121196\n",
      "1636   86.766675       0   -86.766675\n",
      "613    58.018614       0   -58.018614\n",
      "447   247.428569    1255  1007.571431\n",
      "1131   67.036615       0   -67.036615\n",
      "808    67.825031       0   -67.825031\n",
      "1496   -7.098168       0     7.098168\n",
      "1468  194.814024     411   216.185976\n",
      "1682  -13.480101       0    13.480101\n",
      "1149  -32.457046       0    32.457046\n",
      "442    61.247979       0   -61.247979\n",
      "1813    4.497885     173   168.502115\n",
      "654   -46.046854       0    46.046854\n",
      "1264  -32.315195       0    32.315195\n",
      "858    80.219048       0   -80.219048\n",
      "1482   51.783900       0   -51.783900\n",
      "\n",
      "Regression statistics\n",
      "\n",
      "               Mean Error (ME) : 7.1933\n",
      "Root Mean Squared Error (RMSE) : 136.7397\n",
      "     Mean Absolute Error (MAE) : 83.6010\n"
     ]
    }
   ],
   "source": [
    "tk_lm_pred = tk_lm.predict(valid_X)\n",
    "\n",
    "result = pd.DataFrame({'Predicted': tk_lm_pred, 'Actual': valid_y,\n",
    "                       'Residual': valid_y - tk_lm_pred})\n",
    "print(result.head(20))\n",
    "\n",
    "# Compute common accuracy measures\n",
    "regressionSummary(valid_y, tk_lm_pred)"
   ]
  },
  {
   "cell_type": "code",
   "execution_count": 81,
   "metadata": {},
   "outputs": [
    {
     "data": {
      "text/plain": [
       "0       999\n",
       "130      39\n",
       "161      31\n",
       "128      22\n",
       "98       19\n",
       "       ... \n",
       "375       1\n",
       "377       1\n",
       "166       1\n",
       "378       1\n",
       "1500      1\n",
       "Name: Spending, Length: 363, dtype: int64"
      ]
     },
     "execution_count": 81,
     "metadata": {},
     "output_type": "execute_result"
    }
   ],
   "source": [
    "tayko_df['Spending'].value_counts()"
   ]
  },
  {
   "cell_type": "code",
   "execution_count": 82,
   "metadata": {},
   "outputs": [
    {
     "data": {
      "text/plain": [
       "102.625"
      ]
     },
     "execution_count": 82,
     "metadata": {},
     "output_type": "execute_result"
    }
   ],
   "source": [
    "tayko_df['Spending'].mean()"
   ]
  },
  {
   "cell_type": "markdown",
   "metadata": {},
   "source": [
    "Spending 관측값들의 크기와 비교하였을 때 RMSE가 작지 않으므로 정확도가 높은 모델은 아님."
   ]
  },
  {
   "cell_type": "markdown",
   "metadata": {},
   "source": [
    "vii."
   ]
  },
  {
   "cell_type": "code",
   "execution_count": 84,
   "metadata": {},
   "outputs": [
    {
     "data": {
      "image/png": "[encoded data removed]",
      "text/plain": [
       "<Figure size 432x288 with 1 Axes>"
      ]
     },
     "metadata": {
      "needs_background": "light"
     },
     "output_type": "display_data"
    }
   ],
   "source": [
    "all_residuals = valid_y - tk_lm_pred\n",
    "\n",
    "ax = pd.DataFrame({'Residuals': all_residuals}).hist(bins=25)\n",
    "\n",
    "plt.tight_layout()\n",
    "plt.show()"
   ]
  },
  {
   "cell_type": "markdown",
   "metadata": {},
   "source": [
    "정규분포를 따르지 않는다. 이는 예측 성능에는 큰 영향을 미치지 않을 수 있다. 하지만 모델 모수들에 대한 신뢰구간 구성 및 통계적 검증을 위해서는 잡음이 정규분포를 따른다는 가정이 성립해야 한다."
   ]
  },
  {
   "cell_type": "markdown",
   "metadata": {},
   "source": [
    "## 6.3"
   ]
  },
  {
   "cell_type": "code",
   "execution_count": 166,
   "metadata": {},
   "outputs": [
    {
     "data": {
      "text/html": [
       "<div>\n",
       "<style scoped>\n",
       "    .dataframe tbody tr th:only-of-type {\n",
       "        vertical-align: middle;\n",
       "    }\n",
       "\n",
       "    .dataframe tbody tr th {\n",
       "        vertical-align: top;\n",
       "    }\n",
       "\n",
       "    .dataframe thead th {\n",
       "        text-align: right;\n",
       "    }\n",
       "</style>\n",
       "<table border=\"1\" class=\"dataframe\">\n",
       "  <thead>\n",
       "    <tr style=\"text-align: right;\">\n",
       "      <th></th>\n",
       "      <th>S_CODE</th>\n",
       "      <th>S_CITY</th>\n",
       "      <th>E_CODE</th>\n",
       "      <th>E_CITY</th>\n",
       "      <th>COUPON</th>\n",
       "      <th>NEW</th>\n",
       "      <th>VACATION</th>\n",
       "      <th>SW</th>\n",
       "      <th>HI</th>\n",
       "      <th>S_INCOME</th>\n",
       "      <th>E_INCOME</th>\n",
       "      <th>S_POP</th>\n",
       "      <th>E_POP</th>\n",
       "      <th>SLOT</th>\n",
       "      <th>GATE</th>\n",
       "      <th>DISTANCE</th>\n",
       "      <th>PAX</th>\n",
       "      <th>FARE</th>\n",
       "    </tr>\n",
       "  </thead>\n",
       "  <tbody>\n",
       "    <tr>\n",
       "      <th>0</th>\n",
       "      <td>*</td>\n",
       "      <td>Dallas/Fort Worth   TX</td>\n",
       "      <td>*</td>\n",
       "      <td>Amarillo            TX</td>\n",
       "      <td>1.00</td>\n",
       "      <td>3</td>\n",
       "      <td>No</td>\n",
       "      <td>Yes</td>\n",
       "      <td>5291.99</td>\n",
       "      <td>28637.0</td>\n",
       "      <td>21112.0</td>\n",
       "      <td>3036732</td>\n",
       "      <td>205711</td>\n",
       "      <td>Free</td>\n",
       "      <td>Free</td>\n",
       "      <td>312</td>\n",
       "      <td>7864</td>\n",
       "      <td>64.11</td>\n",
       "    </tr>\n",
       "    <tr>\n",
       "      <th>1</th>\n",
       "      <td>*</td>\n",
       "      <td>Atlanta             GA</td>\n",
       "      <td>*</td>\n",
       "      <td>Baltimore/Wash Intl MD</td>\n",
       "      <td>1.06</td>\n",
       "      <td>3</td>\n",
       "      <td>No</td>\n",
       "      <td>No</td>\n",
       "      <td>5419.16</td>\n",
       "      <td>26993.0</td>\n",
       "      <td>29838.0</td>\n",
       "      <td>3532657</td>\n",
       "      <td>7145897</td>\n",
       "      <td>Free</td>\n",
       "      <td>Free</td>\n",
       "      <td>576</td>\n",
       "      <td>8820</td>\n",
       "      <td>174.47</td>\n",
       "    </tr>\n",
       "    <tr>\n",
       "      <th>2</th>\n",
       "      <td>*</td>\n",
       "      <td>Boston              MA</td>\n",
       "      <td>*</td>\n",
       "      <td>Baltimore/Wash Intl MD</td>\n",
       "      <td>1.06</td>\n",
       "      <td>3</td>\n",
       "      <td>No</td>\n",
       "      <td>No</td>\n",
       "      <td>9185.28</td>\n",
       "      <td>30124.0</td>\n",
       "      <td>29838.0</td>\n",
       "      <td>5787293</td>\n",
       "      <td>7145897</td>\n",
       "      <td>Free</td>\n",
       "      <td>Free</td>\n",
       "      <td>364</td>\n",
       "      <td>6452</td>\n",
       "      <td>207.76</td>\n",
       "    </tr>\n",
       "    <tr>\n",
       "      <th>3</th>\n",
       "      <td>ORD</td>\n",
       "      <td>Chicago             IL</td>\n",
       "      <td>*</td>\n",
       "      <td>Baltimore/Wash Intl MD</td>\n",
       "      <td>1.06</td>\n",
       "      <td>3</td>\n",
       "      <td>No</td>\n",
       "      <td>Yes</td>\n",
       "      <td>2657.35</td>\n",
       "      <td>29260.0</td>\n",
       "      <td>29838.0</td>\n",
       "      <td>7830332</td>\n",
       "      <td>7145897</td>\n",
       "      <td>Controlled</td>\n",
       "      <td>Free</td>\n",
       "      <td>612</td>\n",
       "      <td>25144</td>\n",
       "      <td>85.47</td>\n",
       "    </tr>\n",
       "    <tr>\n",
       "      <th>4</th>\n",
       "      <td>MDW</td>\n",
       "      <td>Chicago             IL</td>\n",
       "      <td>*</td>\n",
       "      <td>Baltimore/Wash Intl MD</td>\n",
       "      <td>1.06</td>\n",
       "      <td>3</td>\n",
       "      <td>No</td>\n",
       "      <td>Yes</td>\n",
       "      <td>2657.35</td>\n",
       "      <td>29260.0</td>\n",
       "      <td>29838.0</td>\n",
       "      <td>7830332</td>\n",
       "      <td>7145897</td>\n",
       "      <td>Free</td>\n",
       "      <td>Free</td>\n",
       "      <td>612</td>\n",
       "      <td>25144</td>\n",
       "      <td>85.47</td>\n",
       "    </tr>\n",
       "    <tr>\n",
       "      <th>...</th>\n",
       "      <td>...</td>\n",
       "      <td>...</td>\n",
       "      <td>...</td>\n",
       "      <td>...</td>\n",
       "      <td>...</td>\n",
       "      <td>...</td>\n",
       "      <td>...</td>\n",
       "      <td>...</td>\n",
       "      <td>...</td>\n",
       "      <td>...</td>\n",
       "      <td>...</td>\n",
       "      <td>...</td>\n",
       "      <td>...</td>\n",
       "      <td>...</td>\n",
       "      <td>...</td>\n",
       "      <td>...</td>\n",
       "      <td>...</td>\n",
       "      <td>...</td>\n",
       "    </tr>\n",
       "    <tr>\n",
       "      <th>633</th>\n",
       "      <td>LGA</td>\n",
       "      <td>New York/Newark     NY</td>\n",
       "      <td>*</td>\n",
       "      <td>West Palm Beach     FL</td>\n",
       "      <td>1.08</td>\n",
       "      <td>3</td>\n",
       "      <td>Yes</td>\n",
       "      <td>No</td>\n",
       "      <td>2216.70</td>\n",
       "      <td>32991.0</td>\n",
       "      <td>37375.0</td>\n",
       "      <td>8621121</td>\n",
       "      <td>991717</td>\n",
       "      <td>Controlled</td>\n",
       "      <td>Free</td>\n",
       "      <td>1030</td>\n",
       "      <td>34324</td>\n",
       "      <td>129.63</td>\n",
       "    </tr>\n",
       "    <tr>\n",
       "      <th>634</th>\n",
       "      <td>EWR</td>\n",
       "      <td>New York/Newark     NY</td>\n",
       "      <td>*</td>\n",
       "      <td>West Palm Beach     FL</td>\n",
       "      <td>1.08</td>\n",
       "      <td>0</td>\n",
       "      <td>Yes</td>\n",
       "      <td>No</td>\n",
       "      <td>2216.70</td>\n",
       "      <td>32991.0</td>\n",
       "      <td>37375.0</td>\n",
       "      <td>8621121</td>\n",
       "      <td>991717</td>\n",
       "      <td>Free</td>\n",
       "      <td>Constrained</td>\n",
       "      <td>1030</td>\n",
       "      <td>34324</td>\n",
       "      <td>129.63</td>\n",
       "    </tr>\n",
       "    <tr>\n",
       "      <th>635</th>\n",
       "      <td>*</td>\n",
       "      <td>Philadelphia/Camden PA</td>\n",
       "      <td>*</td>\n",
       "      <td>West Palm Beach     FL</td>\n",
       "      <td>1.17</td>\n",
       "      <td>3</td>\n",
       "      <td>Yes</td>\n",
       "      <td>No</td>\n",
       "      <td>6797.80</td>\n",
       "      <td>27994.0</td>\n",
       "      <td>37375.0</td>\n",
       "      <td>4948339</td>\n",
       "      <td>991717</td>\n",
       "      <td>Free</td>\n",
       "      <td>Free</td>\n",
       "      <td>960</td>\n",
       "      <td>6016</td>\n",
       "      <td>124.87</td>\n",
       "    </tr>\n",
       "    <tr>\n",
       "      <th>636</th>\n",
       "      <td>IAD</td>\n",
       "      <td>Washington          DC</td>\n",
       "      <td>*</td>\n",
       "      <td>West Palm Beach     FL</td>\n",
       "      <td>1.28</td>\n",
       "      <td>3</td>\n",
       "      <td>Yes</td>\n",
       "      <td>No</td>\n",
       "      <td>5566.43</td>\n",
       "      <td>31981.0</td>\n",
       "      <td>37375.0</td>\n",
       "      <td>4549784</td>\n",
       "      <td>991717</td>\n",
       "      <td>Free</td>\n",
       "      <td>Free</td>\n",
       "      <td>858</td>\n",
       "      <td>4877</td>\n",
       "      <td>129.62</td>\n",
       "    </tr>\n",
       "    <tr>\n",
       "      <th>637</th>\n",
       "      <td>DCA</td>\n",
       "      <td>Washington          DC</td>\n",
       "      <td>*</td>\n",
       "      <td>West Palm Beach     FL</td>\n",
       "      <td>1.28</td>\n",
       "      <td>3</td>\n",
       "      <td>Yes</td>\n",
       "      <td>No</td>\n",
       "      <td>5566.43</td>\n",
       "      <td>31981.0</td>\n",
       "      <td>37375.0</td>\n",
       "      <td>4549784</td>\n",
       "      <td>991717</td>\n",
       "      <td>Controlled</td>\n",
       "      <td>Free</td>\n",
       "      <td>858</td>\n",
       "      <td>4877</td>\n",
       "      <td>129.62</td>\n",
       "    </tr>\n",
       "  </tbody>\n",
       "</table>\n",
       "<p>638 rows × 18 columns</p>\n",
       "</div>"
      ],
      "text/plain": [
       "    S_CODE                  S_CITY E_CODE                  E_CITY  COUPON  \\\n",
       "0        *  Dallas/Fort Worth   TX      *  Amarillo            TX    1.00   \n",
       "1        *  Atlanta             GA      *  Baltimore/Wash Intl MD    1.06   \n",
       "2        *  Boston              MA      *  Baltimore/Wash Intl MD    1.06   \n",
       "3      ORD  Chicago             IL      *  Baltimore/Wash Intl MD    1.06   \n",
       "4      MDW  Chicago             IL      *  Baltimore/Wash Intl MD    1.06   \n",
       "..     ...                     ...    ...                     ...     ...   \n",
       "633    LGA  New York/Newark     NY      *  West Palm Beach     FL    1.08   \n",
       "634    EWR  New York/Newark     NY      *  West Palm Beach     FL    1.08   \n",
       "635      *  Philadelphia/Camden PA      *  West Palm Beach     FL    1.17   \n",
       "636    IAD  Washington          DC      *  West Palm Beach     FL    1.28   \n",
       "637    DCA  Washington          DC      *  West Palm Beach     FL    1.28   \n",
       "\n",
       "     NEW VACATION   SW       HI  S_INCOME  E_INCOME    S_POP    E_POP  \\\n",
       "0      3       No  Yes  5291.99   28637.0   21112.0  3036732   205711   \n",
       "1      3       No   No  5419.16   26993.0   29838.0  3532657  7145897   \n",
       "2      3       No   No  9185.28   30124.0   29838.0  5787293  7145897   \n",
       "3      3       No  Yes  2657.35   29260.0   29838.0  7830332  7145897   \n",
       "4      3       No  Yes  2657.35   29260.0   29838.0  7830332  7145897   \n",
       "..   ...      ...  ...      ...       ...       ...      ...      ...   \n",
       "633    3      Yes   No  2216.70   32991.0   37375.0  8621121   991717   \n",
       "634    0      Yes   No  2216.70   32991.0   37375.0  8621121   991717   \n",
       "635    3      Yes   No  6797.80   27994.0   37375.0  4948339   991717   \n",
       "636    3      Yes   No  5566.43   31981.0   37375.0  4549784   991717   \n",
       "637    3      Yes   No  5566.43   31981.0   37375.0  4549784   991717   \n",
       "\n",
       "           SLOT         GATE  DISTANCE    PAX    FARE  \n",
       "0          Free         Free       312   7864   64.11  \n",
       "1          Free         Free       576   8820  174.47  \n",
       "2          Free         Free       364   6452  207.76  \n",
       "3    Controlled         Free       612  25144   85.47  \n",
       "4          Free         Free       612  25144   85.47  \n",
       "..          ...          ...       ...    ...     ...  \n",
       "633  Controlled         Free      1030  34324  129.63  \n",
       "634        Free  Constrained      1030  34324  129.63  \n",
       "635        Free         Free       960   6016  124.87  \n",
       "636        Free         Free       858   4877  129.62  \n",
       "637  Controlled         Free       858   4877  129.62  \n",
       "\n",
       "[638 rows x 18 columns]"
      ]
     },
     "execution_count": 166,
     "metadata": {},
     "output_type": "execute_result"
    }
   ],
   "source": [
    "df = pd.read_csv('D:\\숙탯 2기\\dmba-datasets\\Airfares.csv')\n",
    "df"
   ]
  },
  {
   "cell_type": "markdown",
   "metadata": {},
   "source": [
    "#### a."
   ]
  },
  {
   "cell_type": "code",
   "execution_count": 20,
   "metadata": {},
   "outputs": [
    {
     "data": {
      "image/png": "[encoded data removed]",
      "text/plain": [
       "<Figure size 504x504 with 9 Axes>"
      ]
     },
     "metadata": {
      "needs_background": "light"
     },
     "output_type": "display_data"
    }
   ],
   "source": [
    "fig, ax = plt.subplots(nrows=3, ncols=3, figsize = (7, 7))\n",
    "sns.scatterplot('COUPON', 'FARE', data=df, ax=ax[0][0])\n",
    "sns.scatterplot('NEW', 'FARE', data=df, ax=ax[0][1])\n",
    "sns.scatterplot('HI', 'FARE', data=df, ax=ax[0][2])\n",
    "sns.scatterplot('S_INCOME', 'FARE', data=df, ax=ax[1][0])\n",
    "sns.scatterplot('E_INCOME', 'FARE', data=df, ax=ax[1][1])\n",
    "sns.scatterplot('S_POP', 'FARE', data=df, ax=ax[1][2])\n",
    "sns.scatterplot('E_POP', 'FARE', data=df, ax=ax[2][0])\n",
    "sns.scatterplot('DISTANCE', 'FARE', data=df, ax=ax[2][1])\n",
    "sns.scatterplot('PAX', 'FARE', data=df, ax=ax[2][2])\n",
    "\n",
    "plt.tight_layout()\n",
    "plt.show()"
   ]
  },
  {
   "cell_type": "markdown",
   "metadata": {},
   "source": [
    "COUPON-FARE 산점도와 DISTANCE-FARE 산점도가 가장 선형성을 띄는데  \n",
    "COUPON-FARE 산점도는 이분산성이 더 뚜렷하게 나타나므로  \n",
    "DISTANCE 변수가 가장 최적의 예측변수일 것으로 보인다."
   ]
  },
  {
   "cell_type": "markdown",
   "metadata": {},
   "source": [
    "#### b."
   ]
  },
  {
   "cell_type": "markdown",
   "metadata": {},
   "source": [
    "범주형 변수: 'VACATION', 'SW', 'SLOT', 'GATE'"
   ]
  },
  {
   "cell_type": "markdown",
   "metadata": {},
   "source": [
    "1) 범주별 백분율"
   ]
  },
  {
   "cell_type": "code",
   "execution_count": 203,
   "metadata": {},
   "outputs": [
    {
     "data": {
      "text/plain": [
       "No     468\n",
       "Yes    170\n",
       "Name: VACATION, dtype: int64"
      ]
     },
     "execution_count": 203,
     "metadata": {},
     "output_type": "execute_result"
    }
   ],
   "source": [
    "df['VACATION'].value_counts()"
   ]
  },
  {
   "cell_type": "code",
   "execution_count": 278,
   "metadata": {},
   "outputs": [
    {
     "name": "stdout",
     "output_type": "stream",
     "text": [
      "휴양지 노선의 비율: 26.646%\n",
      "SW 사가 노선을 제공하는 비율: 30.408%\n",
      "슬롯 통제하는 비율: 28.527%\n",
      "탑승구 제한하는 비율: 19.436%\n"
     ]
    }
   ],
   "source": [
    "vac_yes = df['VACATION'].value_counts()[1]/df['VACATION'].size\n",
    "vac_yes = round(100 *  vac_yes, 3)\n",
    "\n",
    "sw_yes = df['SW'].value_counts()[1]/df['SW'].size\n",
    "sw_yes = round(100 * sw_yes, 3)\n",
    "\n",
    "slot_yes = df['SLOT'].value_counts()[1]/df['SLOT'].size\n",
    "slot_yes = round(100 * slot_yes, 3)\n",
    "\n",
    "gate_yes = df['GATE'].value_counts()[1]/df['GATE'].size\n",
    "gate_yes = round(100 * gate_yes, 3)\n",
    "\n",
    "\n",
    "print(f\"휴양지 노선의 비율: {vac_yes}%\")\n",
    "print(f\"SW 사가 노선을 제공하는 비율: {sw_yes}%\")\n",
    "print(f\"슬롯 통제하는 비율: {slot_yes}%\")\n",
    "print(f\"탑승구 제한하는 비율: {gate_yes}%\")"
   ]
  },
  {
   "cell_type": "markdown",
   "metadata": {},
   "source": [
    "2) 범주별 평균 운임"
   ]
  },
  {
   "cell_type": "markdown",
   "metadata": {},
   "source": [
    "** VACATION 변수"
   ]
  },
  {
   "cell_type": "code",
   "execution_count": 271,
   "metadata": {},
   "outputs": [
    {
     "name": "stdout",
     "output_type": "stream",
     "text": [
      "휴양지 노선일 때 평균 운임: 125.98088235294114\n",
      "휴양지 노선이 아닐 때 평균 운임: 173.55250000000024\n"
     ]
    }
   ],
   "source": [
    "df1 = df[df['VACATION']=='Yes']\n",
    "df2 = df[df['VACATION']=='No']\n",
    "\n",
    "\n",
    "print(\"휴양지 노선일 때 평균 운임:\", df1['FARE'].mean())\n",
    "print(\"휴양지 노선이 아닐 때 평균 운임:\", df2['FARE'].mean())\n"
   ]
  },
  {
   "cell_type": "markdown",
   "metadata": {},
   "source": [
    "** SW 변수"
   ]
  },
  {
   "cell_type": "code",
   "execution_count": 272,
   "metadata": {},
   "outputs": [
    {
     "name": "stdout",
     "output_type": "stream",
     "text": [
      "SW 사가 해당 노선을 제공할 때 평균 운임: 98.3822680412371\n",
      "SW 사가 해당 노선을 제공하지 않을 때 평균 운임: 188.1827927927929\n"
     ]
    }
   ],
   "source": [
    "df1 = df[df['SW']=='Yes']\n",
    "df2 = df[df['SW']=='No']\n",
    "\n",
    "\n",
    "print(\"SW 사가 해당 노선을 제공할 때 평균 운임:\", df1['FARE'].mean())\n",
    "print(\"SW 사가 해당 노선을 제공하지 않을 때 평균 운임:\", df2['FARE'].mean())"
   ]
  },
  {
   "cell_type": "markdown",
   "metadata": {},
   "source": [
    "** SLOT 변수"
   ]
  },
  {
   "cell_type": "code",
   "execution_count": 274,
   "metadata": {},
   "outputs": [
    {
     "name": "stdout",
     "output_type": "stream",
     "text": [
      "슬롯 통제할 때 평균 운임: 186.05939560439566\n",
      "슬롯 통제하지 않을 때 평균 운임: 150.82567982456146\n"
     ]
    }
   ],
   "source": [
    "df1 = df[df['SLOT']=='Controlled']\n",
    "df2 = df[df['SLOT']=='Free']\n",
    "\n",
    "\n",
    "print(\"슬롯 통제할 때 평균 운임:\", df1['FARE'].mean())\n",
    "print(\"슬롯 통제하지 않을 때 평균 운임:\", df2['FARE'].mean())"
   ]
  },
  {
   "cell_type": "markdown",
   "metadata": {},
   "source": [
    "** GATE 변수"
   ]
  },
  {
   "cell_type": "code",
   "execution_count": 277,
   "metadata": {},
   "outputs": [
    {
     "name": "stdout",
     "output_type": "stream",
     "text": [
      "탑승구 제한할 때 평균 운임: 193.1290322580645\n",
      "탑승구 제한하지 않을 때 평균 운임: 153.09595330739313\n"
     ]
    }
   ],
   "source": [
    "df1 = df[df['GATE']=='Constrained']\n",
    "df2 = df[df['GATE']=='Free']\n",
    "\n",
    "\n",
    "print(\"탑승구 제한할 때 평균 운임:\", df1['FARE'].mean())\n",
    "print(\"탑승구 제한하지 않을 때 평균 운임:\", df2['FARE'].mean())"
   ]
  },
  {
   "cell_type": "markdown",
   "metadata": {},
   "source": [
    "SW 변수의 경우 범주에 따라 평균 운임이 크게 달라지므로 운임을 예측하는 데 가장 많은 영향을 미치는 것으로 볼 수 있다.  \n",
    "(가장 좋은 예측 변수이다.)\n",
    "\n",
    "??"
   ]
  },
  {
   "cell_type": "markdown",
   "metadata": {},
   "source": [
    "#### c."
   ]
  },
  {
   "cell_type": "markdown",
   "metadata": {},
   "source": [
    "i."
   ]
  },
  {
   "cell_type": "code",
   "execution_count": 75,
   "metadata": {},
   "outputs": [
    {
     "name": "stdout",
     "output_type": "stream",
     "text": [
      "\n",
      "Regression statistics\n",
      "\n",
      "                      Mean Error (ME) : -1.8231\n",
      "       Root Mean Squared Error (RMSE) : 36.0002\n",
      "            Mean Absolute Error (MAE) : 28.5002\n",
      "          Mean Percentage Error (MPE) : -6.6037\n",
      "Mean Absolute Percentage Error (MAPE) : 21.6048\n"
     ]
    }
   ],
   "source": [
    "predictors = ['COUPON', 'NEW', 'VACATION', 'SW', 'HI', 'S_INCOME','E_INCOME',\n",
    "              'S_POP', 'E_POP', 'SLOT', 'GATE', 'DISTANCE', 'PAX']\n",
    "outcome = 'FARE'\n",
    "\n",
    "# partition data\n",
    "X = pd.get_dummies(df[predictors], drop_first=True)\n",
    "y = df[outcome]\n",
    "train_X, valid_X, train_y, valid_y = train_test_split(X, y, test_size=0.4, random_state=1)\n",
    "\n",
    "lm = LinearRegression()  \n",
    "lm.fit(train_X, train_y)\n",
    "\n",
    "# print performance measures\n",
    "regressionSummary(valid_y, lm.predict(valid_X))"
   ]
  },
  {
   "cell_type": "markdown",
   "metadata": {},
   "source": [
    "ii."
   ]
  },
  {
   "cell_type": "code",
   "execution_count": 76,
   "metadata": {},
   "outputs": [
    {
     "name": "stdout",
     "output_type": "stream",
     "text": [
      "Variables: COUPON, NEW, HI, S_INCOME, E_INCOME, S_POP, E_POP, DISTANCE, PAX, VACATION_Yes, SW_Yes, SLOT_Free, GATE_Free\n",
      "Start: score=4379.42, constant\n",
      "Step: score=4149.88, add DISTANCE\n",
      "Step: score=4025.89, add SW_Yes\n",
      "Step: score=3913.59, add VACATION_Yes\n",
      "Step: score=3890.27, add HI\n",
      "Step: score=3873.33, add GATE_Free\n",
      "Step: score=3852.81, add SLOT_Free\n",
      "Step: score=3850.30, add PAX\n",
      "Step: score=3844.58, add E_POP\n",
      "Step: score=3826.43, add S_POP\n",
      "Step: score=3821.88, add E_INCOME\n",
      "Step: score=3821.88, unchanged None\n",
      "['DISTANCE', 'SW_Yes', 'VACATION_Yes', 'HI', 'GATE_Free', 'SLOT_Free', 'PAX', 'E_POP', 'S_POP', 'E_INCOME']\n"
     ]
    }
   ],
   "source": [
    "def train_model(variables):\n",
    "    if len(variables) == 0:\n",
    "        return None\n",
    "    model = LinearRegression()\n",
    "    model.fit(train_X[variables], train_y)\n",
    "    return model\n",
    "\n",
    "def score_model(model, variables):\n",
    "    if len(variables) == 0:\n",
    "        return AIC_score(train_y, [train_y.mean()] * len(train_y), model, df=1)\n",
    "    return AIC_score(train_y, model.predict(train_X[variables]), model)\n",
    "\n",
    "best_model, best_variables = stepwise_selection(train_X.columns, train_model, score_model, verbose=True)\n",
    "\n",
    "print(best_variables)"
   ]
  },
  {
   "cell_type": "markdown",
   "metadata": {},
   "source": [
    "iii."
   ]
  },
  {
   "cell_type": "code",
   "execution_count": 97,
   "metadata": {},
   "outputs": [
    {
     "name": "stdout",
     "output_type": "stream",
     "text": [
      "     n     r2adj          AIC  DISTANCE  E_INCOME  E_POP  GATE_Free     HI    PAX  SLOT_Free  \\\n",
      "10  11  0.773595  3822.798222      True      True   True       True   True   True       True   \n",
      "9   10  0.773567  3821.876901      True      True   True       True   True   True       True   \n",
      "8    9  0.770266  3826.433471      True     False   True       True   True   True       True   \n",
      "7    8  0.765105  3833.945866      True     False   True       True   True   True      False   \n",
      "6    7  0.758747  3843.170960      True     False   True      False   True   True      False   \n",
      "5    6  0.751947  3852.808698      True     False  False       True   True  False       True   \n",
      "4    5  0.737584  3873.328296      True     False  False       True   True  False      False   \n",
      "3    4  0.724977  3890.268211      True     False  False      False   True  False      False   \n",
      "2    3  0.706909  3913.585125      True     False  False      False  False  False      False   \n",
      "1    2  0.605715  4025.892420      True     False  False      False  False  False      False   \n",
      "0    1  0.453107  4149.881509      True     False  False      False  False  False      False   \n",
      "\n",
      "    SW_Yes  S_INCOME  S_POP  VACATION_Yes  \n",
      "10    True      True   True          True  \n",
      "9     True     False   True          True  \n",
      "8     True     False   True          True  \n",
      "7     True     False   True          True  \n",
      "6     True     False   True          True  \n",
      "5     True     False  False          True  \n",
      "4     True     False  False          True  \n",
      "3     True     False  False          True  \n",
      "2     True     False  False          True  \n",
      "1     True     False  False         False  \n",
      "0    False     False  False         False  \n"
     ]
    }
   ],
   "source": [
    "def train_model(variables):\n",
    "    model = LinearRegression()\n",
    "    model.fit(train_X[variables], train_y)\n",
    "    return model\n",
    "\n",
    "def score_model(model, variables):\n",
    "    pred_y = model.predict(train_X[variables])\n",
    "    return -adjusted_r2_score(train_y, pred_y, model)\n",
    "\n",
    "allVariables = train_X.columns\n",
    "results = exhaustive_search(allVariables, train_model, score_model)\n",
    "\n",
    "data = []\n",
    "for result in results:\n",
    "    model = result['model']\n",
    "    variables = result['variables']\n",
    "    AIC = AIC_score(train_y, model.predict(train_X[variables]), model)\n",
    "    \n",
    "    d = {'n': result['n'], 'r2adj': -result['score'], 'AIC': AIC}\n",
    "    d.update({var: var in result['variables'] for var in allVariables})\n",
    "    data.append(d)\n",
    "pd.set_option('display.width', 100)\n",
    "print(pd.DataFrame(data, columns=('n', 'r2adj', 'AIC') + tuple(sorted(allVariables))).sort_values(by = 'r2adj', ascending=False))\n",
    "pd.reset_option('display.width')"
   ]
  },
  {
   "cell_type": "markdown",
   "metadata": {},
   "source": [
    "단계적 선택방법으로 변수를 선택했을 때와 달리 S_INCOME이 예측변수로 포함된 모형이 최적의 모형으로 제시되었다."
   ]
  },
  {
   "cell_type": "markdown",
   "metadata": {},
   "source": [
    "iv."
   ]
  },
  {
   "cell_type": "markdown",
   "metadata": {},
   "source": [
    "ii.의 모델"
   ]
  },
  {
   "cell_type": "code",
   "execution_count": 78,
   "metadata": {},
   "outputs": [],
   "source": [
    "predictors = ['DISTANCE', 'SW_Yes', 'VACATION_Yes', 'HI', 'GATE_Free', 'SLOT_Free', 'PAX', 'E_POP', 'S_POP', 'E_INCOME']\n",
    "outcome = 'FARE'"
   ]
  },
  {
   "cell_type": "code",
   "execution_count": 79,
   "metadata": {},
   "outputs": [
    {
     "name": "stdout",
     "output_type": "stream",
     "text": [
      "intercept  52.89100013731786\n",
      "      Predictor  coefficient\n",
      "0      DISTANCE     0.075558\n",
      "1        SW_Yes   -43.031272\n",
      "2  VACATION_Yes   -35.865596\n",
      "3            HI     0.007188\n",
      "4     GATE_Free   -21.410803\n",
      "5     SLOT_Free   -13.915304\n",
      "6           PAX    -0.000829\n",
      "7         E_POP     0.000004\n",
      "8         S_POP     0.000004\n",
      "9      E_INCOME     0.001148\n",
      "\n",
      "Regression statistics\n",
      "\n",
      "                      Mean Error (ME) : -1.8591\n",
      "       Root Mean Squared Error (RMSE) : 36.1129\n",
      "            Mean Absolute Error (MAE) : 28.5252\n",
      "          Mean Percentage Error (MPE) : -6.7084\n",
      "Mean Absolute Percentage Error (MAPE) : 21.7198\n"
     ]
    }
   ],
   "source": [
    "df1 = pd.get_dummies(df, drop_first=True)\n",
    "X = df1[predictors]\n",
    "y = df1[outcome]\n",
    "train_X, valid_X, train_y, valid_y = train_test_split(X, y, test_size=0.4, random_state=1)\n",
    "\n",
    "lm = LinearRegression()  \n",
    "lm.fit(train_X, train_y)\n",
    "\n",
    "print('intercept ', lm.intercept_)\n",
    "print(pd.DataFrame({'Predictor': X.columns, 'coefficient': lm.coef_}))\n",
    "\n",
    "# print performance measures\n",
    "regressionSummary(valid_y, lm.predict(valid_X))"
   ]
  },
  {
   "cell_type": "code",
   "execution_count": 104,
   "metadata": {},
   "outputs": [
    {
     "data": {
      "image/png": "[encoded data removed]",
      "text/plain": [
       "<Figure size 432x288 with 2 Axes>"
      ]
     },
     "metadata": {},
     "output_type": "display_data"
    }
   ],
   "source": [
    "pred_y = pd.Series(lm.predict(valid_X)).sort_values(ascending=False)\n",
    "\n",
    "pred_y = pd.Series(lm.predict(valid_X))\n",
    "pred_y = pred_y.sort_values(ascending=False)\n",
    "\n",
    "fig, axes = plt.subplots(nrows=1, ncols=2)\n",
    "ax = gainsChart(pred_y, ax=axes[0])\n",
    "ax.set_ylabel('Cumulative FARE')\n",
    "ax.set_title('Cumulative Gains Chart')\n",
    "\n",
    "ax = liftChart(pred_y, ax=axes[1], labelBars=False)\n",
    "ax.set_ylabel('Lift')\n",
    "\n",
    "plt.tight_layout()\n",
    "plt.show()"
   ]
  },
  {
   "cell_type": "markdown",
   "metadata": {},
   "source": [
    "iii.의 모델"
   ]
  },
  {
   "cell_type": "code",
   "execution_count": 121,
   "metadata": {},
   "outputs": [],
   "source": [
    "predictors = ['DISTANCE', 'E_INCOME', 'E_POP', 'GATE_Free', 'HI', 'PAX', 'SLOT_Free', 'SW_Yes', 'S_INCOME', 'S_POP', 'VACATION_Yes']\n",
    "outcome = 'FARE'"
   ]
  },
  {
   "cell_type": "code",
   "execution_count": 122,
   "metadata": {},
   "outputs": [
    {
     "name": "stdout",
     "output_type": "stream",
     "text": [
      "intercept  31.378580298313977\n",
      "       Predictor  coefficient\n",
      "0       DISTANCE     0.075241\n",
      "1       E_INCOME     0.001229\n",
      "2          E_POP     0.000004\n",
      "3      GATE_Free   -20.964865\n",
      "4             HI     0.007133\n",
      "5            PAX    -0.000857\n",
      "6      SLOT_Free   -13.113731\n",
      "7         SW_Yes   -41.642117\n",
      "8       S_INCOME     0.000662\n",
      "9          S_POP     0.000004\n",
      "10  VACATION_Yes   -34.656294\n",
      "\n",
      "Regression statistics\n",
      "\n",
      "                      Mean Error (ME) : -1.8424\n",
      "       Root Mean Squared Error (RMSE) : 35.9030\n",
      "            Mean Absolute Error (MAE) : 28.3317\n",
      "          Mean Percentage Error (MPE) : -6.6938\n",
      "Mean Absolute Percentage Error (MAPE) : 21.4834\n"
     ]
    }
   ],
   "source": [
    "_ = pd.get_dummies(df, drop_first=True)\n",
    "X = _[predictors]\n",
    "y = df[outcome]\n",
    "train_X, valid_X, train_y, valid_y = train_test_split(X, y, test_size=0.4, random_state=1)\n",
    "\n",
    "lm = LinearRegression()  \n",
    "lm.fit(train_X, train_y)\n",
    "\n",
    "print('intercept ', lm.intercept_)\n",
    "print(pd.DataFrame({'Predictor': X.columns, 'coefficient': lm.coef_}))\n",
    "\n",
    "# print performance measures\n",
    "regressionSummary(valid_y, lm.predict(valid_X))"
   ]
  },
  {
   "cell_type": "code",
   "execution_count": 107,
   "metadata": {},
   "outputs": [
    {
     "data": {
      "image/png": "[encoded data removed]",
      "text/plain": [
       "<Figure size 432x288 with 2 Axes>"
      ]
     },
     "metadata": {},
     "output_type": "display_data"
    }
   ],
   "source": [
    "pred_y = pd.Series(lm.predict(valid_X)).sort_values(ascending=False)\n",
    "\n",
    "pred_y = pd.Series(lm.predict(valid_X))\n",
    "pred_y = pred_y.sort_values(ascending=False)\n",
    "\n",
    "fig, axes = plt.subplots(nrows=1, ncols=2)\n",
    "ax = gainsChart(pred_y, ax=axes[0])\n",
    "ax.set_ylabel('Cumulative FARE')\n",
    "ax.set_title('Cumulative Gains Chart')\n",
    "\n",
    "ax = liftChart(pred_y, ax=axes[1], labelBars=False)\n",
    "ax.set_ylabel('Lift')\n",
    "\n",
    "plt.tight_layout()\n",
    "plt.show()"
   ]
  },
  {
   "cell_type": "markdown",
   "metadata": {},
   "source": [
    "RMSE와 ME 모두 (iii)의 모델이 더 작으므로 예측 정확도는 (iii)의 모델이 더 높다."
   ]
  },
  {
   "cell_type": "markdown",
   "metadata": {},
   "source": [
    "v."
   ]
  },
  {
   "cell_type": "code",
   "execution_count": 123,
   "metadata": {},
   "outputs": [
    {
     "name": "stdout",
     "output_type": "stream",
     "text": [
      "평균 운임의 예측값:  251.6309646108928\n"
     ]
    }
   ],
   "source": [
    "x = pd.DataFrame([[1976, 27664, 3195503, 1, 4442.141, 12782, 1, 0, 28760, 4557004, 0]],\n",
    "                columns=['DISTANCE', 'E_INCOME', 'E_POP', 'GATE_Free', 'HI', 'PAX', 'SLOT_Free',\n",
    "                         'SW_Yes', 'S_INCOME', 'S_POP', 'VACATION_Yes'])\n",
    "\n",
    "print(\"평균 운임의 예측값: \", lm.predict(x)[0])"
   ]
  },
  {
   "cell_type": "markdown",
   "metadata": {},
   "source": [
    "vi."
   ]
  },
  {
   "cell_type": "code",
   "execution_count": 129,
   "metadata": {},
   "outputs": [
    {
     "name": "stdout",
     "output_type": "stream",
     "text": [
      "평균 운임의 예측값:  209.98884735522105\n"
     ]
    }
   ],
   "source": [
    "x = pd.DataFrame([[1976, 27664, 3195503, 1, 4442.141, 12782, 1, 1, 28760, 4557004, 0]],\n",
    "                columns=['DISTANCE', 'E_INCOME', 'E_POP', 'GATE_Free', 'HI', 'PAX', 'SLOT_Free',\n",
    "                         'SW_Yes', 'S_INCOME', 'S_POP', 'VACATION_Yes'])\n",
    "\n",
    "print(\"평균 운임의 예측값: \", lm.predict(x)[0])"
   ]
  },
  {
   "cell_type": "code",
   "execution_count": 128,
   "metadata": {},
   "outputs": [
    {
     "name": "stdout",
     "output_type": "stream",
     "text": [
      "감소율:  16.5489\n"
     ]
    }
   ],
   "source": [
    "감소율 = round(100 * (1- 209.98884735522105 / 251.6309646108928), 4)\n",
    "print(\"감소율: \", 감소율)"
   ]
  },
  {
   "cell_type": "markdown",
   "metadata": {},
   "source": [
    "vii."
   ]
  },
  {
   "cell_type": "markdown",
   "metadata": {},
   "source": [
    "시장점유율, 공항 체증의 정도, 승객 수는 항공편을 운행해야만 생성되는 데이터이므로 HI, SLOT, GATE, PAX는 예측변수에서 제외해야 한다."
   ]
  },
  {
   "cell_type": "markdown",
   "metadata": {},
   "source": [
    "viii."
   ]
  },
  {
   "cell_type": "code",
   "execution_count": 156,
   "metadata": {},
   "outputs": [],
   "source": [
    "#HI, SLOT, GATE, PAX는 예측변수에서 제외\n",
    "predictors = ['COUPON',\n",
    " 'NEW',\n",
    " 'VACATION',\n",
    " 'SW',\n",
    " 'S_INCOME',\n",
    " 'E_INCOME',\n",
    " 'S_POP',\n",
    " 'E_POP',\n",
    " 'DISTANCE']\n",
    "\n",
    "outcome = 'FARE'\n",
    "\n",
    "# partition data\n",
    "X = pd.get_dummies(df[predictors], drop_first=True)\n",
    "y = df[outcome]\n",
    "train_X, valid_X, train_y, valid_y = train_test_split(X, y, test_size=0.4, random_state=1)"
   ]
  },
  {
   "cell_type": "code",
   "execution_count": 159,
   "metadata": {
    "scrolled": false
   },
   "outputs": [
    {
     "name": "stdout",
     "output_type": "stream",
     "text": [
      "   n     r2adj          AIC  COUPON  DISTANCE  E_INCOME  E_POP    NEW  SW_Yes  S_INCOME  S_POP  \\\n",
      "5  6  0.719851  3899.290607   False      True      True   True  False    True     False   True   \n",
      "6  7  0.719412  3900.868554   False      True      True   True  False    True      True   True   \n",
      "7  8  0.718788  3902.694182   False      True      True   True   True    True      True   True   \n",
      "8  9  0.718045  3904.676636    True      True      True   True   True    True      True   True   \n",
      "4  5  0.716405  3902.977542   False      True     False   True  False    True     False   True   \n",
      "3  4  0.712897  3906.688826   False      True      True  False  False    True     False  False   \n",
      "2  3  0.706909  3913.585125   False      True     False  False  False    True     False  False   \n",
      "1  2  0.605715  4025.892420   False      True     False  False  False    True     False  False   \n",
      "0  1  0.453107  4149.881509   False      True     False  False  False   False     False  False   \n",
      "\n",
      "   VACATION_Yes  \n",
      "5          True  \n",
      "6          True  \n",
      "7          True  \n",
      "8          True  \n",
      "4          True  \n",
      "3          True  \n",
      "2          True  \n",
      "1         False  \n",
      "0         False  \n"
     ]
    }
   ],
   "source": [
    "def train_model(variables):\n",
    "    model = LinearRegression()\n",
    "    model.fit(train_X[variables], train_y)\n",
    "    return model\n",
    "\n",
    "def score_model(model, variables):\n",
    "    pred_y = model.predict(train_X[variables])\n",
    "    return -adjusted_r2_score(train_y, pred_y, model)\n",
    "\n",
    "allVariables = train_X.columns\n",
    "results = exhaustive_search(allVariables, train_model, score_model)\n",
    "\n",
    "data = []\n",
    "for result in results:\n",
    "    model = result['model']\n",
    "    variables = result['variables']\n",
    "    AIC = AIC_score(train_y, model.predict(train_X[variables]), model)\n",
    "    \n",
    "    d = {'n': result['n'], 'r2adj': -result['score'], 'AIC': AIC}\n",
    "    d.update({var: var in result['variables'] for var in allVariables})\n",
    "    data.append(d)\n",
    "pd.set_option('display.width', 100)\n",
    "print(pd.DataFrame(data, columns=('n', 'r2adj', 'AIC') + tuple(sorted(allVariables))).sort_values(by = 'r2adj', ascending=False))\n",
    "pd.reset_option('display.width')"
   ]
  },
  {
   "cell_type": "markdown",
   "metadata": {},
   "source": [
    "전역탐색 결과에 따라 DISTANCE, E_INCOME, E_POP, SW_Yes, S_INCOME, S_POP, VACATION_Yes를 예측변수로 포함하는 회귀식을 추정하자."
   ]
  },
  {
   "cell_type": "code",
   "execution_count": 142,
   "metadata": {},
   "outputs": [
    {
     "name": "stdout",
     "output_type": "stream",
     "text": [
      "intercept  60.644249573360725\n",
      "      Predictor  coefficient\n",
      "0      DISTANCE     0.069963\n",
      "1      E_INCOME     0.001177\n",
      "2         E_POP     0.000002\n",
      "3        SW_Yes   -54.481458\n",
      "4      S_INCOME     0.000451\n",
      "5         S_POP     0.000002\n",
      "6  VACATION_Yes   -46.700684\n"
     ]
    }
   ],
   "source": [
    "predictors = ['DISTANCE', 'E_INCOME', 'E_POP', 'SW_Yes', 'S_INCOME', 'S_POP', 'VACATION_Yes']\n",
    "outcome = 'FARE'\n",
    "\n",
    "_ = pd.get_dummies(df, drop_first=True)\n",
    "X = _[predictors]\n",
    "y = df[outcome]\n",
    "train_X, valid_X, train_y, valid_y = train_test_split(X, y, test_size=0.4, random_state=1)\n",
    "\n",
    "lm = LinearRegression()  \n",
    "lm.fit(train_X, train_y)\n",
    "\n",
    "print('intercept ', lm.intercept_)\n",
    "print(pd.DataFrame({'Predictor': X.columns, 'coefficient': lm.coef_}))"
   ]
  },
  {
   "cell_type": "markdown",
   "metadata": {},
   "source": [
    "ix. "
   ]
  },
  {
   "cell_type": "code",
   "execution_count": 141,
   "metadata": {},
   "outputs": [
    {
     "name": "stdout",
     "output_type": "stream",
     "text": [
      "평균 운임의 예측값:  260.6054398746783\n"
     ]
    }
   ],
   "source": [
    "x = pd.DataFrame([[1976, 27664, 3195503, 0, 28760, 4557004, 0]],\n",
    "                columns=['DISTANCE', 'E_INCOME', 'E_POP', \n",
    "                         'SW_Yes', 'S_INCOME', 'S_POP', 'VACATION_Yes'])\n",
    "\n",
    "print(\"평균 운임의 예측값: \", lm.predict(x)[0])"
   ]
  },
  {
   "cell_type": "markdown",
   "metadata": {},
   "source": [
    "x."
   ]
  },
  {
   "cell_type": "code",
   "execution_count": 143,
   "metadata": {},
   "outputs": [
    {
     "name": "stdout",
     "output_type": "stream",
     "text": [
      "\n",
      "Regression statistics\n",
      "\n",
      "                      Mean Error (ME) : -0.6910\n",
      "       Root Mean Squared Error (RMSE) : 41.4199\n",
      "            Mean Absolute Error (MAE) : 33.4703\n",
      "          Mean Percentage Error (MPE) : -7.4514\n",
      "Mean Absolute Percentage Error (MAPE) : 24.5778\n"
     ]
    }
   ],
   "source": [
    "# print performance measures\n",
    "regressionSummary(valid_y, lm.predict(valid_X))"
   ]
  },
  {
   "cell_type": "markdown",
   "metadata": {},
   "source": [
    "(iii)의 모델에 비해 ME는 작고 RMSE는 크다."
   ]
  },
  {
   "cell_type": "code",
   "execution_count": 144,
   "metadata": {},
   "outputs": [
    {
     "data": {
      "image/png": "[encoded data removed]",
      "text/plain": [
       "<Figure size 432x288 with 2 Axes>"
      ]
     },
     "metadata": {
      "needs_background": "light"
     },
     "output_type": "display_data"
    }
   ],
   "source": [
    "pred_y = pd.Series(lm.predict(valid_X)).sort_values(ascending=False)\n",
    "\n",
    "pred_y = pd.Series(lm.predict(valid_X))\n",
    "pred_y = pred_y.sort_values(ascending=False)\n",
    "\n",
    "fig, axes = plt.subplots(nrows=1, ncols=2)\n",
    "ax = gainsChart(pred_y, ax=axes[0])\n",
    "ax.set_ylabel('Cumulative FARE')\n",
    "ax.set_title('Cumulative Gains Chart')\n",
    "\n",
    "ax = liftChart(pred_y, ax=axes[1], labelBars=False)\n",
    "ax.set_ylabel('Lift')\n",
    "\n",
    "plt.tight_layout()\n",
    "plt.show()"
   ]
  },
  {
   "cell_type": "markdown",
   "metadata": {},
   "source": [
    "#### d."
   ]
  },
  {
   "cell_type": "markdown",
   "metadata": {},
   "source": [
    "SW_Yes = 0 일 때와 SW_Yes = 1일 때 운임의 차이 비교에 초점을 맞췄을 것임.  \n",
    "(v), (vi) : 사우스웨스트사가 이 노선을 운행하게 되면(SY_Yes=1), 평균 운임이 약 42달러 감소 \n",
    "* 개념적 측면?"
   ]
  },
  {
   "cell_type": "markdown",
   "metadata": {},
   "source": [
    "## 6.4"
   ]
  },
  {
   "cell_type": "code",
   "execution_count": 172,
   "metadata": {
    "scrolled": false
   },
   "outputs": [
    {
     "data": {
      "text/html": [
       "<div>\n",
       "<style scoped>\n",
       "    .dataframe tbody tr th:only-of-type {\n",
       "        vertical-align: middle;\n",
       "    }\n",
       "\n",
       "    .dataframe tbody tr th {\n",
       "        vertical-align: top;\n",
       "    }\n",
       "\n",
       "    .dataframe thead th {\n",
       "        text-align: right;\n",
       "    }\n",
       "</style>\n",
       "<table border=\"1\" class=\"dataframe\">\n",
       "  <thead>\n",
       "    <tr style=\"text-align: right;\">\n",
       "      <th></th>\n",
       "      <th>Id</th>\n",
       "      <th>Model</th>\n",
       "      <th>Price</th>\n",
       "      <th>Age_08_04</th>\n",
       "      <th>Mfg_Month</th>\n",
       "      <th>Mfg_Year</th>\n",
       "      <th>KM</th>\n",
       "      <th>Fuel_Type</th>\n",
       "      <th>HP</th>\n",
       "      <th>Met_Color</th>\n",
       "      <th>...</th>\n",
       "      <th>Powered_Windows</th>\n",
       "      <th>Power_Steering</th>\n",
       "      <th>Radio</th>\n",
       "      <th>Mistlamps</th>\n",
       "      <th>Sport_Model</th>\n",
       "      <th>Backseat_Divider</th>\n",
       "      <th>Metallic_Rim</th>\n",
       "      <th>Radio_cassette</th>\n",
       "      <th>Parking_Assistant</th>\n",
       "      <th>Tow_Bar</th>\n",
       "    </tr>\n",
       "  </thead>\n",
       "  <tbody>\n",
       "    <tr>\n",
       "      <th>0</th>\n",
       "      <td>1</td>\n",
       "      <td>TOYOTA Corolla 2.0 D4D HATCHB TERRA 2/3-Doors</td>\n",
       "      <td>13500</td>\n",
       "      <td>23</td>\n",
       "      <td>10</td>\n",
       "      <td>2002</td>\n",
       "      <td>46986</td>\n",
       "      <td>Diesel</td>\n",
       "      <td>90</td>\n",
       "      <td>1</td>\n",
       "      <td>...</td>\n",
       "      <td>1</td>\n",
       "      <td>1</td>\n",
       "      <td>0</td>\n",
       "      <td>0</td>\n",
       "      <td>0</td>\n",
       "      <td>1</td>\n",
       "      <td>0</td>\n",
       "      <td>0</td>\n",
       "      <td>0</td>\n",
       "      <td>0</td>\n",
       "    </tr>\n",
       "    <tr>\n",
       "      <th>1</th>\n",
       "      <td>2</td>\n",
       "      <td>TOYOTA Corolla 2.0 D4D HATCHB TERRA 2/3-Doors</td>\n",
       "      <td>13750</td>\n",
       "      <td>23</td>\n",
       "      <td>10</td>\n",
       "      <td>2002</td>\n",
       "      <td>72937</td>\n",
       "      <td>Diesel</td>\n",
       "      <td>90</td>\n",
       "      <td>1</td>\n",
       "      <td>...</td>\n",
       "      <td>0</td>\n",
       "      <td>1</td>\n",
       "      <td>0</td>\n",
       "      <td>0</td>\n",
       "      <td>0</td>\n",
       "      <td>1</td>\n",
       "      <td>0</td>\n",
       "      <td>0</td>\n",
       "      <td>0</td>\n",
       "      <td>0</td>\n",
       "    </tr>\n",
       "    <tr>\n",
       "      <th>2</th>\n",
       "      <td>3</td>\n",
       "      <td>TOYOTA Corolla 2.0 D4D HATCHB TERRA 2/3-Doors</td>\n",
       "      <td>13950</td>\n",
       "      <td>24</td>\n",
       "      <td>9</td>\n",
       "      <td>2002</td>\n",
       "      <td>41711</td>\n",
       "      <td>Diesel</td>\n",
       "      <td>90</td>\n",
       "      <td>1</td>\n",
       "      <td>...</td>\n",
       "      <td>0</td>\n",
       "      <td>1</td>\n",
       "      <td>0</td>\n",
       "      <td>0</td>\n",
       "      <td>0</td>\n",
       "      <td>1</td>\n",
       "      <td>0</td>\n",
       "      <td>0</td>\n",
       "      <td>0</td>\n",
       "      <td>0</td>\n",
       "    </tr>\n",
       "    <tr>\n",
       "      <th>3</th>\n",
       "      <td>4</td>\n",
       "      <td>TOYOTA Corolla 2.0 D4D HATCHB TERRA 2/3-Doors</td>\n",
       "      <td>14950</td>\n",
       "      <td>26</td>\n",
       "      <td>7</td>\n",
       "      <td>2002</td>\n",
       "      <td>48000</td>\n",
       "      <td>Diesel</td>\n",
       "      <td>90</td>\n",
       "      <td>0</td>\n",
       "      <td>...</td>\n",
       "      <td>0</td>\n",
       "      <td>1</td>\n",
       "      <td>0</td>\n",
       "      <td>0</td>\n",
       "      <td>0</td>\n",
       "      <td>1</td>\n",
       "      <td>0</td>\n",
       "      <td>0</td>\n",
       "      <td>0</td>\n",
       "      <td>0</td>\n",
       "    </tr>\n",
       "    <tr>\n",
       "      <th>4</th>\n",
       "      <td>5</td>\n",
       "      <td>TOYOTA Corolla 2.0 D4D HATCHB SOL 2/3-Doors</td>\n",
       "      <td>13750</td>\n",
       "      <td>30</td>\n",
       "      <td>3</td>\n",
       "      <td>2002</td>\n",
       "      <td>38500</td>\n",
       "      <td>Diesel</td>\n",
       "      <td>90</td>\n",
       "      <td>0</td>\n",
       "      <td>...</td>\n",
       "      <td>1</td>\n",
       "      <td>1</td>\n",
       "      <td>0</td>\n",
       "      <td>1</td>\n",
       "      <td>0</td>\n",
       "      <td>1</td>\n",
       "      <td>0</td>\n",
       "      <td>0</td>\n",
       "      <td>0</td>\n",
       "      <td>0</td>\n",
       "    </tr>\n",
       "  </tbody>\n",
       "</table>\n",
       "<p>5 rows × 39 columns</p>\n",
       "</div>"
      ],
      "text/plain": [
       "   Id                                          Model  Price  Age_08_04  \\\n",
       "0   1  TOYOTA Corolla 2.0 D4D HATCHB TERRA 2/3-Doors  13500         23   \n",
       "1   2  TOYOTA Corolla 2.0 D4D HATCHB TERRA 2/3-Doors  13750         23   \n",
       "2   3  TOYOTA Corolla 2.0 D4D HATCHB TERRA 2/3-Doors  13950         24   \n",
       "3   4  TOYOTA Corolla 2.0 D4D HATCHB TERRA 2/3-Doors  14950         26   \n",
       "4   5    TOYOTA Corolla 2.0 D4D HATCHB SOL 2/3-Doors  13750         30   \n",
       "\n",
       "   Mfg_Month  Mfg_Year     KM Fuel_Type  HP  Met_Color  ... Powered_Windows  \\\n",
       "0         10      2002  46986    Diesel  90          1  ...               1   \n",
       "1         10      2002  72937    Diesel  90          1  ...               0   \n",
       "2          9      2002  41711    Diesel  90          1  ...               0   \n",
       "3          7      2002  48000    Diesel  90          0  ...               0   \n",
       "4          3      2002  38500    Diesel  90          0  ...               1   \n",
       "\n",
       "   Power_Steering  Radio  Mistlamps  Sport_Model  Backseat_Divider  \\\n",
       "0               1      0          0            0                 1   \n",
       "1               1      0          0            0                 1   \n",
       "2               1      0          0            0                 1   \n",
       "3               1      0          0            0                 1   \n",
       "4               1      0          1            0                 1   \n",
       "\n",
       "   Metallic_Rim  Radio_cassette  Parking_Assistant  Tow_Bar  \n",
       "0             0               0                  0        0  \n",
       "1             0               0                  0        0  \n",
       "2             0               0                  0        0  \n",
       "3             0               0                  0        0  \n",
       "4             0               0                  0        0  \n",
       "\n",
       "[5 rows x 39 columns]"
      ]
     },
     "execution_count": 172,
     "metadata": {},
     "output_type": "execute_result"
    }
   ],
   "source": [
    "car_df = pd.read_csv('D:\\숙탯 2기\\dmba-datasets\\ToyotaCorolla.csv')\n",
    "car_df.head()"
   ]
  },
  {
   "cell_type": "code",
   "execution_count": 194,
   "metadata": {},
   "outputs": [
    {
     "name": "stdout",
     "output_type": "stream",
     "text": [
      "intercept  9294.415165936436\n",
      "           Predictor  coefficient\n",
      "0          Age_08_04  -110.370535\n",
      "1                 KM    -0.018642\n",
      "2                 HP    36.190093\n",
      "3          Automatic   613.026779\n",
      "4              Doors   127.288903\n",
      "5      Quarterly_Tax    18.091083\n",
      "6      Mfr_Guarantee   165.222134\n",
      "7   Guarantee_Period    78.360435\n",
      "8              Airco   163.648668\n",
      "9    Automatic_airco  3359.056824\n",
      "10         CD_Player   229.944094\n",
      "11   Powered_Windows   433.881347\n",
      "12       Sport_Model   348.570215\n",
      "13           Tow_Bar  -210.146959\n",
      "14  Fuel_Type_Diesel  2092.439468\n",
      "15  Fuel_Type_Petrol  2149.887102\n"
     ]
    }
   ],
   "source": [
    "predictors = ['Age_08_04', 'KM', 'Fuel_Type', 'HP', 'Automatic', 'Doors', \n",
    "              'Quarterly_Tax', 'Mfr_Guarantee', 'Guarantee_Period', 'Airco',\n",
    "             'Automatic_airco', 'CD_Player', 'Powered_Windows', 'Sport_Model', 'Tow_Bar']\n",
    "outcome = 'Price'\n",
    "\n",
    "# partition data\n",
    "X = pd.get_dummies(car_df[predictors], drop_first=True)\n",
    "y = car_df[outcome]\n",
    "train_X, test_X, train_y, test_y = train_test_split(X, y, train_size=0.3, random_state=1)\n",
    "\n",
    "train_X, valid_X, train_y, valid_y = train_test_split(X, y, test_size=0.25)\n",
    "\n",
    "car_lm = LinearRegression()\n",
    "car_lm.fit(train_X, train_y)\n",
    "\n",
    "# print coefficients(계수)\n",
    "print('intercept ', car_lm.intercept_)  #intercept : 절편\n",
    "print(pd.DataFrame({'Predictor': X.columns, 'coefficient': car_lm.coef_}))"
   ]
  },
  {
   "cell_type": "markdown",
   "metadata": {},
   "source": [
    "#### a."
   ]
  },
  {
   "cell_type": "code",
   "execution_count": 195,
   "metadata": {},
   "outputs": [
    {
     "name": "stdout",
     "output_type": "stream",
     "text": [
      "     n     r2adj           AIC  Age_08_04  Airco  Automatic  Automatic_airco  CD_Player  Doors  \\\n",
      "15  16  0.885533  18380.884518       True   True       True             True       True   True   \n",
      "14  15  0.885314  18381.962650       True  False       True             True       True   True   \n",
      "13  14  0.884969  18384.204047       True  False       True             True       True   True   \n",
      "12  13  0.884480  18387.793208       True  False       True             True      False   True   \n",
      "11  12  0.883943  18391.797161       True  False       True             True      False   True   \n",
      "10  11  0.883047  18399.094119       True  False       True             True      False  False   \n",
      "9   10  0.881714  18410.308252       True  False       True             True      False  False   \n",
      "8    9  0.880322  18421.918007       True  False      False             True      False  False   \n",
      "7    8  0.878007  18441.564226       True  False      False             True      False  False   \n",
      "6    7  0.876238  18456.077840       True  False      False             True      False  False   \n",
      "5    6  0.873718  18476.794145       True  False      False             True      False  False   \n",
      "4    5  0.869627  18510.137059       True  False      False             True      False  False   \n",
      "3    4  0.849581  18663.176673       True  False      False             True      False  False   \n",
      "2    3  0.837282  18746.830469       True  False      False             True      False  False   \n",
      "1    2  0.816228  18876.877031       True  False      False             True      False  False   \n",
      "0    1  0.756811  19177.593353       True  False      False            False      False  False   \n",
      "\n",
      "    Fuel_Type_Diesel  Fuel_Type_Petrol  Guarantee_Period     HP     KM  Mfr_Guarantee  \\\n",
      "15              True              True              True   True   True           True   \n",
      "14              True              True              True   True   True           True   \n",
      "13              True              True              True   True   True          False   \n",
      "12              True              True              True   True   True          False   \n",
      "11              True              True              True   True   True          False   \n",
      "10              True              True              True   True   True          False   \n",
      "9               True              True              True   True   True          False   \n",
      "8               True              True              True   True   True          False   \n",
      "7              False             False              True   True   True          False   \n",
      "6              False             False              True   True   True          False   \n",
      "5              False             False             False   True   True          False   \n",
      "4              False             False             False   True   True          False   \n",
      "3              False             False             False  False   True          False   \n",
      "2              False             False             False   True  False          False   \n",
      "1              False             False             False  False  False          False   \n",
      "0              False             False             False  False  False          False   \n",
      "\n",
      "    Powered_Windows  Quarterly_Tax  Sport_Model  Tow_Bar  \n",
      "15             True           True         True     True  \n",
      "14             True           True         True     True  \n",
      "13             True           True         True     True  \n",
      "12             True           True         True     True  \n",
      "11             True           True         True    False  \n",
      "10             True           True         True    False  \n",
      "9              True           True        False    False  \n",
      "8              True           True        False    False  \n",
      "7              True           True         True    False  \n",
      "6              True           True        False    False  \n",
      "5              True           True        False    False  \n",
      "4             False           True        False    False  \n",
      "3             False           True        False    False  \n",
      "2             False          False        False    False  \n",
      "1             False          False        False    False  \n",
      "0             False          False        False    False  \n"
     ]
    }
   ],
   "source": [
    "def train_model(variables):\n",
    "    model = LinearRegression()\n",
    "    model.fit(train_X[variables], train_y)\n",
    "    return model\n",
    "\n",
    "def score_model(model, variables):\n",
    "    pred_y = model.predict(train_X[variables])\n",
    "    return -adjusted_r2_score(train_y, pred_y, model)\n",
    "\n",
    "allVariables = train_X.columns\n",
    "results = exhaustive_search(allVariables, train_model, score_model)\n",
    "\n",
    "data = []\n",
    "for result in results:\n",
    "    model = result['model']\n",
    "    variables = result['variables']\n",
    "    AIC = AIC_score(train_y, model.predict(train_X[variables]), model)\n",
    "    \n",
    "    d = {'n': result['n'], 'r2adj': -result['score'], 'AIC': AIC}\n",
    "    d.update({var: var in result['variables'] for var in allVariables})\n",
    "    data.append(d)\n",
    "pd.set_option('display.width', 100)\n",
    "print(pd.DataFrame(data, columns=('n', 'r2adj', 'AIC') + tuple(sorted(allVariables))).sort_values(by = 'r2adj', ascending=False))\n",
    "pd.reset_option('display.width')"
   ]
  },
  {
   "cell_type": "markdown",
   "metadata": {},
   "source": [
    "#### b."
   ]
  },
  {
   "cell_type": "code",
   "execution_count": 184,
   "metadata": {},
   "outputs": [
    {
     "name": "stdout",
     "output_type": "stream",
     "text": [
      "\n",
      "Regression statistics\n",
      "\n",
      "                      Mean Error (ME) : -0.0000\n",
      "       Root Mean Squared Error (RMSE) : 1225.5361\n",
      "            Mean Absolute Error (MAE) : 913.3999\n",
      "          Mean Percentage Error (MPE) : -0.9837\n",
      "Mean Absolute Percentage Error (MAPE) : 9.0310\n"
     ]
    }
   ],
   "source": [
    "# print performance measures\n",
    "regressionSummary(train_y, car_lm.predict(train_X))"
   ]
  },
  {
   "cell_type": "code",
   "execution_count": 185,
   "metadata": {},
   "outputs": [
    {
     "name": "stdout",
     "output_type": "stream",
     "text": [
      "\n",
      "Regression statistics\n",
      "\n",
      "                      Mean Error (ME) : -34.3015\n",
      "       Root Mean Squared Error (RMSE) : 1154.1800\n",
      "            Mean Absolute Error (MAE) : 896.1363\n",
      "          Mean Percentage Error (MPE) : -1.2820\n",
      "Mean Absolute Percentage Error (MAPE) : 8.9632\n"
     ]
    }
   ],
   "source": [
    "regressionSummary(valid_y, car_lm.predict(valid_X))"
   ]
  },
  {
   "cell_type": "code",
   "execution_count": 186,
   "metadata": {},
   "outputs": [
    {
     "name": "stdout",
     "output_type": "stream",
     "text": [
      "\n",
      "Regression statistics\n",
      "\n",
      "                      Mean Error (ME) : -0.8015\n",
      "       Root Mean Squared Error (RMSE) : 1208.1159\n",
      "            Mean Absolute Error (MAE) : 924.4362\n",
      "          Mean Percentage Error (MPE) : -0.9902\n",
      "Mean Absolute Percentage Error (MAPE) : 9.1920\n"
     ]
    }
   ],
   "source": [
    "regressionSummary(test_y, car_lm.predict(test_X))"
   ]
  }
 ],
 "metadata": {
  "kernelspec": {
   "display_name": "Python 3",
   "language": "python",
   "name": "python3"
  },
  "language_info": {
   "codemirror_mode": {
    "name": "ipython",
    "version": 3
   },
   "file_extension": ".py",
   "mimetype": "text/x-python",
   "name": "python",
   "nbconvert_exporter": "python",
   "pygments_lexer": "ipython3",
   "version": "3.8.5"
  }
 },
 "nbformat": 4,
 "nbformat_minor": 4
}
