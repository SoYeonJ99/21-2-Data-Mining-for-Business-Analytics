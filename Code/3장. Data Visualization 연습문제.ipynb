{
 "cells": [
  {
   "cell_type": "code",
   "execution_count": 1,
   "metadata": {},
   "outputs": [],
   "source": [
    "%matplotlib inline\n",
    "\n",
    "import os\n",
    "import calendar\n",
    "from pathlib import Path\n",
    "import numpy as np\n",
    "import networkx as nx\n",
    "import pandas as pd\n",
    "from pandas.plotting import scatter_matrix, parallel_coordinates\n",
    "import seaborn as sns\n",
    "from sklearn import preprocessing\n",
    "import matplotlib.pylab as plt\n"
   ]
  },
  {
   "cell_type": "markdown",
   "metadata": {},
   "source": [
    "## 3.1"
   ]
  },
  {
   "cell_type": "markdown",
   "metadata": {},
   "source": [
    "### a."
   ]
  },
  {
   "cell_type": "code",
   "execution_count": 3,
   "metadata": {},
   "outputs": [
    {
     "data": {
      "text/html": [
       "<div>\n",
       "<style scoped>\n",
       "    .dataframe tbody tr th:only-of-type {\n",
       "        vertical-align: middle;\n",
       "    }\n",
       "\n",
       "    .dataframe tbody tr th {\n",
       "        vertical-align: top;\n",
       "    }\n",
       "\n",
       "    .dataframe thead th {\n",
       "        text-align: right;\n",
       "    }\n",
       "</style>\n",
       "<table border=\"1\" class=\"dataframe\">\n",
       "  <thead>\n",
       "    <tr style=\"text-align: right;\">\n",
       "      <th></th>\n",
       "      <th>Quarter</th>\n",
       "      <th>Shipments</th>\n",
       "    </tr>\n",
       "  </thead>\n",
       "  <tbody>\n",
       "    <tr>\n",
       "      <th>0</th>\n",
       "      <td>Q1-1985</td>\n",
       "      <td>4009</td>\n",
       "    </tr>\n",
       "    <tr>\n",
       "      <th>1</th>\n",
       "      <td>Q2-1985</td>\n",
       "      <td>4321</td>\n",
       "    </tr>\n",
       "    <tr>\n",
       "      <th>2</th>\n",
       "      <td>Q3-1985</td>\n",
       "      <td>4224</td>\n",
       "    </tr>\n",
       "    <tr>\n",
       "      <th>3</th>\n",
       "      <td>Q4-1985</td>\n",
       "      <td>3944</td>\n",
       "    </tr>\n",
       "    <tr>\n",
       "      <th>4</th>\n",
       "      <td>Q1-1986</td>\n",
       "      <td>4123</td>\n",
       "    </tr>\n",
       "    <tr>\n",
       "      <th>5</th>\n",
       "      <td>Q2-1986</td>\n",
       "      <td>4522</td>\n",
       "    </tr>\n",
       "    <tr>\n",
       "      <th>6</th>\n",
       "      <td>Q3-1986</td>\n",
       "      <td>4657</td>\n",
       "    </tr>\n",
       "    <tr>\n",
       "      <th>7</th>\n",
       "      <td>Q4-1986</td>\n",
       "      <td>4030</td>\n",
       "    </tr>\n",
       "    <tr>\n",
       "      <th>8</th>\n",
       "      <td>Q1-1987</td>\n",
       "      <td>4493</td>\n",
       "    </tr>\n",
       "    <tr>\n",
       "      <th>9</th>\n",
       "      <td>Q2-1987</td>\n",
       "      <td>4806</td>\n",
       "    </tr>\n",
       "    <tr>\n",
       "      <th>10</th>\n",
       "      <td>Q3-1987</td>\n",
       "      <td>4551</td>\n",
       "    </tr>\n",
       "    <tr>\n",
       "      <th>11</th>\n",
       "      <td>Q4-1987</td>\n",
       "      <td>4485</td>\n",
       "    </tr>\n",
       "    <tr>\n",
       "      <th>12</th>\n",
       "      <td>Q1-1988</td>\n",
       "      <td>4595</td>\n",
       "    </tr>\n",
       "    <tr>\n",
       "      <th>13</th>\n",
       "      <td>Q2-1988</td>\n",
       "      <td>4799</td>\n",
       "    </tr>\n",
       "    <tr>\n",
       "      <th>14</th>\n",
       "      <td>Q3-1988</td>\n",
       "      <td>4417</td>\n",
       "    </tr>\n",
       "    <tr>\n",
       "      <th>15</th>\n",
       "      <td>Q4-1988</td>\n",
       "      <td>4258</td>\n",
       "    </tr>\n",
       "    <tr>\n",
       "      <th>16</th>\n",
       "      <td>Q1-1989</td>\n",
       "      <td>4245</td>\n",
       "    </tr>\n",
       "    <tr>\n",
       "      <th>17</th>\n",
       "      <td>Q2-1989</td>\n",
       "      <td>4900</td>\n",
       "    </tr>\n",
       "    <tr>\n",
       "      <th>18</th>\n",
       "      <td>Q3-1989</td>\n",
       "      <td>4585</td>\n",
       "    </tr>\n",
       "    <tr>\n",
       "      <th>19</th>\n",
       "      <td>Q4-1989</td>\n",
       "      <td>4533</td>\n",
       "    </tr>\n",
       "  </tbody>\n",
       "</table>\n",
       "</div>"
      ],
      "text/plain": [
       "    Quarter  Shipments\n",
       "0   Q1-1985       4009\n",
       "1   Q2-1985       4321\n",
       "2   Q3-1985       4224\n",
       "3   Q4-1985       3944\n",
       "4   Q1-1986       4123\n",
       "5   Q2-1986       4522\n",
       "6   Q3-1986       4657\n",
       "7   Q4-1986       4030\n",
       "8   Q1-1987       4493\n",
       "9   Q2-1987       4806\n",
       "10  Q3-1987       4551\n",
       "11  Q4-1987       4485\n",
       "12  Q1-1988       4595\n",
       "13  Q2-1988       4799\n",
       "14  Q3-1988       4417\n",
       "15  Q4-1988       4258\n",
       "16  Q1-1989       4245\n",
       "17  Q2-1989       4900\n",
       "18  Q3-1989       4585\n",
       "19  Q4-1989       4533"
      ]
     },
     "execution_count": 3,
     "metadata": {},
     "output_type": "execute_result"
    }
   ],
   "source": [
    "shipments = pd.read_csv('D:\\숙탯 2기\\dmba-datasets\\ApplianceShipments.csv')\n",
    "shipments"
   ]
  },
  {
   "cell_type": "code",
   "execution_count": 8,
   "metadata": {},
   "outputs": [
    {
     "data": {
      "image/png": "[encoded data removed]",
      "text/plain": [
       "<Figure size 360x216 with 1 Axes>"
      ]
     },
     "metadata": {
      "needs_background": "light"
     },
     "output_type": "display_data"
    }
   ],
   "source": [
    "shipments_ts = pd.Series(shipments['Shipments'].values, index=shipments['Quarter'])\n",
    "shipments_ts.plot(legend=False, figsize=[5, 3])\n",
    "plt.xlabel('Quarter')\n",
    "plt.ylabel('Shipments')\n",
    "plt.tight_layout()\n",
    "plt.show()"
   ]
  },
  {
   "cell_type": "markdown",
   "metadata": {},
   "source": [
    "### b."
   ]
  },
  {
   "cell_type": "code",
   "execution_count": 10,
   "metadata": {
    "scrolled": true
   },
   "outputs": [
    {
     "data": {
      "text/plain": [
       "<AxesSubplot:xlabel='Quarter'>"
      ]
     },
     "execution_count": 10,
     "metadata": {},
     "output_type": "execute_result"
    },
    {
     "data": {
      "image/png": "[encoded data removed]",
      "text/plain": [
       "<Figure size 360x216 with 1 Axes>"
      ]
     },
     "metadata": {
      "needs_background": "light"
     },
     "output_type": "display_data"
    }
   ],
   "source": [
    "shipments_ts.plot(ylim = [3500, 5000], legend=False, figsize=[5, 3])"
   ]
  },
  {
   "cell_type": "markdown",
   "metadata": {},
   "source": [
    "### c."
   ]
  },
  {
   "cell_type": "code",
   "execution_count": 25,
   "metadata": {},
   "outputs": [],
   "source": [
    "shipments['Year'] = shipments['Quarter'].str[3:]"
   ]
  },
  {
   "cell_type": "code",
   "execution_count": 27,
   "metadata": {},
   "outputs": [],
   "source": [
    "shipments_Q1 = shipments[shipments['Quarter'].str.contains('Q1')]\n",
    "shipments_Q2 = shipments[shipments['Quarter'].str.contains('Q2')]\n",
    "shipments_Q3 = shipments[shipments['Quarter'].str.contains('Q3')]\n",
    "shipments_Q4 = shipments[shipments['Quarter'].str.contains('Q4')]"
   ]
  },
  {
   "cell_type": "code",
   "execution_count": 46,
   "metadata": {},
   "outputs": [
    {
     "data": {
      "image/png": "[encoded data removed]",
      "text/plain": [
       "<Figure size 720x504 with 1 Axes>"
      ]
     },
     "metadata": {
      "needs_background": "light"
     },
     "output_type": "display_data"
    }
   ],
   "source": [
    "fig, ax = plt.subplots(figsize=(10, 7))\n",
    "\n",
    "ax.plot(shipments_Q1['Year'], shipments_Q1['Shipments'], label = 'Q1', c = 'C0')\n",
    "ax.plot(shipments_Q2['Year'], shipments_Q2['Shipments'], label = 'Q2', c = 'C1')\n",
    "ax.plot(shipments_Q3['Year'], shipments_Q3['Shipments'], label = 'Q3', c = 'C2')\n",
    "ax.plot(shipments_Q4['Year'], shipments_Q4['Shipments'], label = 'Q4', c = 'C3')\n",
    "\n",
    "ax.legend()\n",
    "\n",
    "ax.set_ylim([3500, 5000])\n",
    "\n",
    "plt.show()"
   ]
  },
  {
   "cell_type": "markdown",
   "metadata": {},
   "source": [
    "### d."
   ]
  },
  {
   "cell_type": "code",
   "execution_count": 89,
   "metadata": {},
   "outputs": [
    {
     "data": {
      "text/plain": [
       "Text(0, 0.5, 'Sum of Shipments')"
      ]
     },
     "execution_count": 89,
     "metadata": {},
     "output_type": "execute_result"
    },
    {
     "data": {
      "image/png": "[encoded data removed]",
      "text/plain": [
       "<Figure size 432x288 with 1 Axes>"
      ]
     },
     "metadata": {
      "needs_background": "light"
     },
     "output_type": "display_data"
    }
   ],
   "source": [
    "shipments.groupby(by = 'Year').sum().plot(legend = False)\n",
    "plt.ylabel('Sum of Shipments')"
   ]
  },
  {
   "cell_type": "markdown",
   "metadata": {},
   "source": [
    "## 3.2 - a"
   ]
  },
  {
   "cell_type": "code",
   "execution_count": 96,
   "metadata": {},
   "outputs": [
    {
     "data": {
      "text/html": [
       "<div>\n",
       "<style scoped>\n",
       "    .dataframe tbody tr th:only-of-type {\n",
       "        vertical-align: middle;\n",
       "    }\n",
       "\n",
       "    .dataframe tbody tr th {\n",
       "        vertical-align: top;\n",
       "    }\n",
       "\n",
       "    .dataframe thead th {\n",
       "        text-align: right;\n",
       "    }\n",
       "</style>\n",
       "<table border=\"1\" class=\"dataframe\">\n",
       "  <thead>\n",
       "    <tr style=\"text-align: right;\">\n",
       "      <th></th>\n",
       "      <th>Income</th>\n",
       "      <th>Lot_Size</th>\n",
       "      <th>Ownership</th>\n",
       "    </tr>\n",
       "  </thead>\n",
       "  <tbody>\n",
       "    <tr>\n",
       "      <th>0</th>\n",
       "      <td>60.0</td>\n",
       "      <td>18.4</td>\n",
       "      <td>Owner</td>\n",
       "    </tr>\n",
       "    <tr>\n",
       "      <th>1</th>\n",
       "      <td>85.5</td>\n",
       "      <td>16.8</td>\n",
       "      <td>Owner</td>\n",
       "    </tr>\n",
       "    <tr>\n",
       "      <th>2</th>\n",
       "      <td>64.8</td>\n",
       "      <td>21.6</td>\n",
       "      <td>Owner</td>\n",
       "    </tr>\n",
       "    <tr>\n",
       "      <th>3</th>\n",
       "      <td>61.5</td>\n",
       "      <td>20.8</td>\n",
       "      <td>Owner</td>\n",
       "    </tr>\n",
       "    <tr>\n",
       "      <th>4</th>\n",
       "      <td>87.0</td>\n",
       "      <td>23.6</td>\n",
       "      <td>Owner</td>\n",
       "    </tr>\n",
       "    <tr>\n",
       "      <th>5</th>\n",
       "      <td>110.1</td>\n",
       "      <td>19.2</td>\n",
       "      <td>Owner</td>\n",
       "    </tr>\n",
       "    <tr>\n",
       "      <th>6</th>\n",
       "      <td>108.0</td>\n",
       "      <td>17.6</td>\n",
       "      <td>Owner</td>\n",
       "    </tr>\n",
       "    <tr>\n",
       "      <th>7</th>\n",
       "      <td>82.8</td>\n",
       "      <td>22.4</td>\n",
       "      <td>Owner</td>\n",
       "    </tr>\n",
       "    <tr>\n",
       "      <th>8</th>\n",
       "      <td>69.0</td>\n",
       "      <td>20.0</td>\n",
       "      <td>Owner</td>\n",
       "    </tr>\n",
       "    <tr>\n",
       "      <th>9</th>\n",
       "      <td>93.0</td>\n",
       "      <td>20.8</td>\n",
       "      <td>Owner</td>\n",
       "    </tr>\n",
       "    <tr>\n",
       "      <th>10</th>\n",
       "      <td>51.0</td>\n",
       "      <td>22.0</td>\n",
       "      <td>Owner</td>\n",
       "    </tr>\n",
       "    <tr>\n",
       "      <th>11</th>\n",
       "      <td>81.0</td>\n",
       "      <td>20.0</td>\n",
       "      <td>Owner</td>\n",
       "    </tr>\n",
       "    <tr>\n",
       "      <th>12</th>\n",
       "      <td>75.0</td>\n",
       "      <td>19.6</td>\n",
       "      <td>Nonowner</td>\n",
       "    </tr>\n",
       "    <tr>\n",
       "      <th>13</th>\n",
       "      <td>52.8</td>\n",
       "      <td>20.8</td>\n",
       "      <td>Nonowner</td>\n",
       "    </tr>\n",
       "    <tr>\n",
       "      <th>14</th>\n",
       "      <td>64.8</td>\n",
       "      <td>17.2</td>\n",
       "      <td>Nonowner</td>\n",
       "    </tr>\n",
       "    <tr>\n",
       "      <th>15</th>\n",
       "      <td>43.2</td>\n",
       "      <td>20.4</td>\n",
       "      <td>Nonowner</td>\n",
       "    </tr>\n",
       "    <tr>\n",
       "      <th>16</th>\n",
       "      <td>84.0</td>\n",
       "      <td>17.6</td>\n",
       "      <td>Nonowner</td>\n",
       "    </tr>\n",
       "    <tr>\n",
       "      <th>17</th>\n",
       "      <td>49.2</td>\n",
       "      <td>17.6</td>\n",
       "      <td>Nonowner</td>\n",
       "    </tr>\n",
       "    <tr>\n",
       "      <th>18</th>\n",
       "      <td>59.4</td>\n",
       "      <td>16.0</td>\n",
       "      <td>Nonowner</td>\n",
       "    </tr>\n",
       "    <tr>\n",
       "      <th>19</th>\n",
       "      <td>66.0</td>\n",
       "      <td>18.4</td>\n",
       "      <td>Nonowner</td>\n",
       "    </tr>\n",
       "    <tr>\n",
       "      <th>20</th>\n",
       "      <td>47.4</td>\n",
       "      <td>16.4</td>\n",
       "      <td>Nonowner</td>\n",
       "    </tr>\n",
       "    <tr>\n",
       "      <th>21</th>\n",
       "      <td>33.0</td>\n",
       "      <td>18.8</td>\n",
       "      <td>Nonowner</td>\n",
       "    </tr>\n",
       "    <tr>\n",
       "      <th>22</th>\n",
       "      <td>51.0</td>\n",
       "      <td>14.0</td>\n",
       "      <td>Nonowner</td>\n",
       "    </tr>\n",
       "    <tr>\n",
       "      <th>23</th>\n",
       "      <td>63.0</td>\n",
       "      <td>14.8</td>\n",
       "      <td>Nonowner</td>\n",
       "    </tr>\n",
       "  </tbody>\n",
       "</table>\n",
       "</div>"
      ],
      "text/plain": [
       "    Income  Lot_Size Ownership\n",
       "0     60.0      18.4     Owner\n",
       "1     85.5      16.8     Owner\n",
       "2     64.8      21.6     Owner\n",
       "3     61.5      20.8     Owner\n",
       "4     87.0      23.6     Owner\n",
       "5    110.1      19.2     Owner\n",
       "6    108.0      17.6     Owner\n",
       "7     82.8      22.4     Owner\n",
       "8     69.0      20.0     Owner\n",
       "9     93.0      20.8     Owner\n",
       "10    51.0      22.0     Owner\n",
       "11    81.0      20.0     Owner\n",
       "12    75.0      19.6  Nonowner\n",
       "13    52.8      20.8  Nonowner\n",
       "14    64.8      17.2  Nonowner\n",
       "15    43.2      20.4  Nonowner\n",
       "16    84.0      17.6  Nonowner\n",
       "17    49.2      17.6  Nonowner\n",
       "18    59.4      16.0  Nonowner\n",
       "19    66.0      18.4  Nonowner\n",
       "20    47.4      16.4  Nonowner\n",
       "21    33.0      18.8  Nonowner\n",
       "22    51.0      14.0  Nonowner\n",
       "23    63.0      14.8  Nonowner"
      ]
     },
     "execution_count": 96,
     "metadata": {},
     "output_type": "execute_result"
    }
   ],
   "source": [
    "Mowers = pd.read_csv('D:\\숙탯 2기\\dmba-datasets\\RidingMowers.csv')\n",
    "Mowers"
   ]
  },
  {
   "cell_type": "code",
   "execution_count": 107,
   "metadata": {},
   "outputs": [
    {
     "data": {
      "image/png": "[encoded data removed]",
      "text/plain": [
       "<Figure size 432x288 with 1 Axes>"
      ]
     },
     "metadata": {
      "needs_background": "light"
     },
     "output_type": "display_data"
    }
   ],
   "source": [
    "Mowers.plot.scatter(x='Lot_Size', y='Income', c=['C0' if c == 'Owner' else 'C1' for c in Mowers.Ownership])\n",
    "\n",
    "plt.legend(['Owner'])\n",
    "plt.show()"
   ]
  },
  {
   "cell_type": "markdown",
   "metadata": {},
   "source": [
    "## 3.3"
   ]
  },
  {
   "cell_type": "markdown",
   "metadata": {},
   "source": [
    "### a."
   ]
  },
  {
   "cell_type": "code",
   "execution_count": 112,
   "metadata": {},
   "outputs": [
    {
     "data": {
      "text/html": [
       "<div>\n",
       "<style scoped>\n",
       "    .dataframe tbody tr th:only-of-type {\n",
       "        vertical-align: middle;\n",
       "    }\n",
       "\n",
       "    .dataframe tbody tr th {\n",
       "        vertical-align: top;\n",
       "    }\n",
       "\n",
       "    .dataframe thead th {\n",
       "        text-align: right;\n",
       "    }\n",
       "</style>\n",
       "<table border=\"1\" class=\"dataframe\">\n",
       "  <thead>\n",
       "    <tr style=\"text-align: right;\">\n",
       "      <th></th>\n",
       "      <th>Date</th>\n",
       "      <th>Configuration</th>\n",
       "      <th>Customer Postcode</th>\n",
       "      <th>Store Postcode</th>\n",
       "      <th>Retail Price</th>\n",
       "      <th>Screen Size (Inches)</th>\n",
       "      <th>Battery Life (Hours)</th>\n",
       "      <th>RAM (GB)</th>\n",
       "      <th>Processor Speeds (GHz)</th>\n",
       "      <th>Integrated Wireless?</th>\n",
       "      <th>HD Size (GB)</th>\n",
       "      <th>Bundled Applications?</th>\n",
       "      <th>OS X Customer</th>\n",
       "      <th>OS Y Customer</th>\n",
       "      <th>OS X Store</th>\n",
       "      <th>OS Y Store</th>\n",
       "      <th>CustomerStoreDistance</th>\n",
       "    </tr>\n",
       "  </thead>\n",
       "  <tbody>\n",
       "    <tr>\n",
       "      <th>0</th>\n",
       "      <td>1/1/2008 0:01</td>\n",
       "      <td>163</td>\n",
       "      <td>EC4V 5BH</td>\n",
       "      <td>SE1 2BN</td>\n",
       "      <td>455</td>\n",
       "      <td>15</td>\n",
       "      <td>5</td>\n",
       "      <td>1</td>\n",
       "      <td>2.0</td>\n",
       "      <td>Yes</td>\n",
       "      <td>80</td>\n",
       "      <td>Yes</td>\n",
       "      <td>532041</td>\n",
       "      <td>180995</td>\n",
       "      <td>534057.0</td>\n",
       "      <td>179682.0</td>\n",
       "      <td>2405.873022</td>\n",
       "    </tr>\n",
       "    <tr>\n",
       "      <th>1</th>\n",
       "      <td>1/1/2008 0:02</td>\n",
       "      <td>320</td>\n",
       "      <td>SW4 0JL</td>\n",
       "      <td>SW12 9HD</td>\n",
       "      <td>545</td>\n",
       "      <td>15</td>\n",
       "      <td>6</td>\n",
       "      <td>1</td>\n",
       "      <td>2.0</td>\n",
       "      <td>No</td>\n",
       "      <td>300</td>\n",
       "      <td>No</td>\n",
       "      <td>529240</td>\n",
       "      <td>175537</td>\n",
       "      <td>528739.0</td>\n",
       "      <td>173080.0</td>\n",
       "      <td>2507.558574</td>\n",
       "    </tr>\n",
       "    <tr>\n",
       "      <th>2</th>\n",
       "      <td>1/1/2008 0:04</td>\n",
       "      <td>23</td>\n",
       "      <td>EC3V 1LR</td>\n",
       "      <td>E2 0RY</td>\n",
       "      <td>515</td>\n",
       "      <td>15</td>\n",
       "      <td>4</td>\n",
       "      <td>1</td>\n",
       "      <td>2.0</td>\n",
       "      <td>Yes</td>\n",
       "      <td>300</td>\n",
       "      <td>Yes</td>\n",
       "      <td>533095</td>\n",
       "      <td>181047</td>\n",
       "      <td>535652.0</td>\n",
       "      <td>182961.0</td>\n",
       "      <td>3194.001409</td>\n",
       "    </tr>\n",
       "    <tr>\n",
       "      <th>3</th>\n",
       "      <td>1/1/2008 0:04</td>\n",
       "      <td>169</td>\n",
       "      <td>SW1P 3AU</td>\n",
       "      <td>SE1 2BN</td>\n",
       "      <td>395</td>\n",
       "      <td>15</td>\n",
       "      <td>5</td>\n",
       "      <td>1</td>\n",
       "      <td>2.0</td>\n",
       "      <td>No</td>\n",
       "      <td>40</td>\n",
       "      <td>Yes</td>\n",
       "      <td>529902</td>\n",
       "      <td>179641</td>\n",
       "      <td>534057.0</td>\n",
       "      <td>179682.0</td>\n",
       "      <td>4155.202281</td>\n",
       "    </tr>\n",
       "    <tr>\n",
       "      <th>4</th>\n",
       "      <td>1/1/2008 0:06</td>\n",
       "      <td>365</td>\n",
       "      <td>EC4V 4EG</td>\n",
       "      <td>SW1V 4QQ</td>\n",
       "      <td>585</td>\n",
       "      <td>15</td>\n",
       "      <td>6</td>\n",
       "      <td>2</td>\n",
       "      <td>2.0</td>\n",
       "      <td>No</td>\n",
       "      <td>120</td>\n",
       "      <td>Yes</td>\n",
       "      <td>531684</td>\n",
       "      <td>180948</td>\n",
       "      <td>528924.0</td>\n",
       "      <td>178440.0</td>\n",
       "      <td>3729.298057</td>\n",
       "    </tr>\n",
       "    <tr>\n",
       "      <th>...</th>\n",
       "      <td>...</td>\n",
       "      <td>...</td>\n",
       "      <td>...</td>\n",
       "      <td>...</td>\n",
       "      <td>...</td>\n",
       "      <td>...</td>\n",
       "      <td>...</td>\n",
       "      <td>...</td>\n",
       "      <td>...</td>\n",
       "      <td>...</td>\n",
       "      <td>...</td>\n",
       "      <td>...</td>\n",
       "      <td>...</td>\n",
       "      <td>...</td>\n",
       "      <td>...</td>\n",
       "      <td>...</td>\n",
       "      <td>...</td>\n",
       "    </tr>\n",
       "    <tr>\n",
       "      <th>7951</th>\n",
       "      <td>1/31/2008 23:30</td>\n",
       "      <td>296</td>\n",
       "      <td>EC4V 6DE</td>\n",
       "      <td>SW1P 3AU</td>\n",
       "      <td>540</td>\n",
       "      <td>15</td>\n",
       "      <td>6</td>\n",
       "      <td>1</td>\n",
       "      <td>1.5</td>\n",
       "      <td>Yes</td>\n",
       "      <td>300</td>\n",
       "      <td>No</td>\n",
       "      <td>531801</td>\n",
       "      <td>181101</td>\n",
       "      <td>529902.0</td>\n",
       "      <td>179641.0</td>\n",
       "      <td>2395.370744</td>\n",
       "    </tr>\n",
       "    <tr>\n",
       "      <th>7952</th>\n",
       "      <td>1/31/2008 23:43</td>\n",
       "      <td>210</td>\n",
       "      <td>SE24 0NJ</td>\n",
       "      <td>SW1P 3AU</td>\n",
       "      <td>415</td>\n",
       "      <td>15</td>\n",
       "      <td>5</td>\n",
       "      <td>2</td>\n",
       "      <td>2.0</td>\n",
       "      <td>Yes</td>\n",
       "      <td>40</td>\n",
       "      <td>No</td>\n",
       "      <td>531580</td>\n",
       "      <td>174507</td>\n",
       "      <td>529902.0</td>\n",
       "      <td>179641.0</td>\n",
       "      <td>5401.262815</td>\n",
       "    </tr>\n",
       "    <tr>\n",
       "      <th>7953</th>\n",
       "      <td>1/31/2008 23:50</td>\n",
       "      <td>222</td>\n",
       "      <td>WC2H 0EA</td>\n",
       "      <td>NW5 2QH</td>\n",
       "      <td>455</td>\n",
       "      <td>15</td>\n",
       "      <td>5</td>\n",
       "      <td>2</td>\n",
       "      <td>2.0</td>\n",
       "      <td>No</td>\n",
       "      <td>120</td>\n",
       "      <td>No</td>\n",
       "      <td>529827</td>\n",
       "      <td>181231</td>\n",
       "      <td>529248.0</td>\n",
       "      <td>185213.0</td>\n",
       "      <td>4023.874377</td>\n",
       "    </tr>\n",
       "    <tr>\n",
       "      <th>7954</th>\n",
       "      <td>1/31/2008 23:57</td>\n",
       "      <td>196</td>\n",
       "      <td>W1D 3SU</td>\n",
       "      <td>SW1P 3AU</td>\n",
       "      <td>430</td>\n",
       "      <td>15</td>\n",
       "      <td>5</td>\n",
       "      <td>2</td>\n",
       "      <td>1.5</td>\n",
       "      <td>Yes</td>\n",
       "      <td>80</td>\n",
       "      <td>No</td>\n",
       "      <td>529614</td>\n",
       "      <td>181198</td>\n",
       "      <td>529902.0</td>\n",
       "      <td>179641.0</td>\n",
       "      <td>1583.411823</td>\n",
       "    </tr>\n",
       "    <tr>\n",
       "      <th>7955</th>\n",
       "      <td>1/31/2008 23:57</td>\n",
       "      <td>57</td>\n",
       "      <td>SE13 5BU</td>\n",
       "      <td>E2 0RY</td>\n",
       "      <td>400</td>\n",
       "      <td>15</td>\n",
       "      <td>4</td>\n",
       "      <td>2</td>\n",
       "      <td>1.5</td>\n",
       "      <td>No</td>\n",
       "      <td>40</td>\n",
       "      <td>Yes</td>\n",
       "      <td>539299</td>\n",
       "      <td>175470</td>\n",
       "      <td>535652.0</td>\n",
       "      <td>182961.0</td>\n",
       "      <td>8331.607888</td>\n",
       "    </tr>\n",
       "  </tbody>\n",
       "</table>\n",
       "<p>7956 rows × 17 columns</p>\n",
       "</div>"
      ],
      "text/plain": [
       "                 Date  Configuration Customer Postcode Store Postcode  \\\n",
       "0       1/1/2008 0:01            163          EC4V 5BH        SE1 2BN   \n",
       "1       1/1/2008 0:02            320           SW4 0JL       SW12 9HD   \n",
       "2       1/1/2008 0:04             23          EC3V 1LR         E2 0RY   \n",
       "3       1/1/2008 0:04            169          SW1P 3AU        SE1 2BN   \n",
       "4       1/1/2008 0:06            365          EC4V 4EG       SW1V 4QQ   \n",
       "...               ...            ...               ...            ...   \n",
       "7951  1/31/2008 23:30            296          EC4V 6DE       SW1P 3AU   \n",
       "7952  1/31/2008 23:43            210          SE24 0NJ       SW1P 3AU   \n",
       "7953  1/31/2008 23:50            222          WC2H 0EA        NW5 2QH   \n",
       "7954  1/31/2008 23:57            196           W1D 3SU       SW1P 3AU   \n",
       "7955  1/31/2008 23:57             57          SE13 5BU         E2 0RY   \n",
       "\n",
       "      Retail Price  Screen Size (Inches)  Battery Life (Hours)  RAM (GB)  \\\n",
       "0              455                    15                     5         1   \n",
       "1              545                    15                     6         1   \n",
       "2              515                    15                     4         1   \n",
       "3              395                    15                     5         1   \n",
       "4              585                    15                     6         2   \n",
       "...            ...                   ...                   ...       ...   \n",
       "7951           540                    15                     6         1   \n",
       "7952           415                    15                     5         2   \n",
       "7953           455                    15                     5         2   \n",
       "7954           430                    15                     5         2   \n",
       "7955           400                    15                     4         2   \n",
       "\n",
       "      Processor Speeds (GHz) Integrated Wireless?  HD Size (GB)  \\\n",
       "0                        2.0                  Yes            80   \n",
       "1                        2.0                   No           300   \n",
       "2                        2.0                  Yes           300   \n",
       "3                        2.0                   No            40   \n",
       "4                        2.0                   No           120   \n",
       "...                      ...                  ...           ...   \n",
       "7951                     1.5                  Yes           300   \n",
       "7952                     2.0                  Yes            40   \n",
       "7953                     2.0                   No           120   \n",
       "7954                     1.5                  Yes            80   \n",
       "7955                     1.5                   No            40   \n",
       "\n",
       "     Bundled Applications?  OS X Customer  OS Y Customer  OS X Store  \\\n",
       "0                      Yes         532041         180995    534057.0   \n",
       "1                       No         529240         175537    528739.0   \n",
       "2                      Yes         533095         181047    535652.0   \n",
       "3                      Yes         529902         179641    534057.0   \n",
       "4                      Yes         531684         180948    528924.0   \n",
       "...                    ...            ...            ...         ...   \n",
       "7951                    No         531801         181101    529902.0   \n",
       "7952                    No         531580         174507    529902.0   \n",
       "7953                    No         529827         181231    529248.0   \n",
       "7954                    No         529614         181198    529902.0   \n",
       "7955                   Yes         539299         175470    535652.0   \n",
       "\n",
       "      OS Y Store  CustomerStoreDistance  \n",
       "0       179682.0            2405.873022  \n",
       "1       173080.0            2507.558574  \n",
       "2       182961.0            3194.001409  \n",
       "3       179682.0            4155.202281  \n",
       "4       178440.0            3729.298057  \n",
       "...          ...                    ...  \n",
       "7951    179641.0            2395.370744  \n",
       "7952    179641.0            5401.262815  \n",
       "7953    185213.0            4023.874377  \n",
       "7954    179641.0            1583.411823  \n",
       "7955    182961.0            8331.607888  \n",
       "\n",
       "[7956 rows x 17 columns]"
      ]
     },
     "execution_count": 112,
     "metadata": {},
     "output_type": "execute_result"
    }
   ],
   "source": [
    "laptop = pd.read_csv('D:\\숙탯 2기\\dmba-datasets\\LaptopSalesJanuary2008.csv')\n",
    "laptop"
   ]
  },
  {
   "cell_type": "code",
   "execution_count": 142,
   "metadata": {},
   "outputs": [
    {
     "data": {
      "text/plain": [
       "Store Postcode\n",
       "N17 6QA     494.634146\n",
       "E7 8NW      494.381443\n",
       "KT2 5AU     493.904762\n",
       "SW18 1NN    493.038922\n",
       "SE8 3JD     492.177778\n",
       "W10 6HQ     489.866667\n",
       "SW1V 4QQ    489.344978\n",
       "CR7 8LE     488.619048\n",
       "SW1P 3AU    488.506858\n",
       "N3 1DH      487.368421\n",
       "SE1 2BN     486.680195\n",
       "NW5 2QH     486.580460\n",
       "S1P 3AU     486.250000\n",
       "SW12 9HD    485.295699\n",
       "E2 0RY      483.171729\n",
       "W4 3PH      481.006289\n",
       "Name: Retail Price, dtype: float64"
      ]
     },
     "execution_count": 142,
     "metadata": {},
     "output_type": "execute_result"
    }
   ],
   "source": [
    "Mean = laptop.groupby('Store Postcode').mean()['Retail Price'].sort_values(ascending = False)\n",
    "Mean"
   ]
  },
  {
   "cell_type": "markdown",
   "metadata": {},
   "source": [
    "* 평균 소매가격 가장 높은 매장 : N17 6QA\n",
    "* 평균 소매가격 가장 낮은 매장 : W4 3PH"
   ]
  },
  {
   "cell_type": "code",
   "execution_count": 125,
   "metadata": {},
   "outputs": [
    {
     "data": {
      "image/png": "[encoded data removed]",
      "text/plain": [
       "<Figure size 1152x648 with 1 Axes>"
      ]
     },
     "metadata": {
      "needs_background": "light"
     },
     "output_type": "display_data"
    }
   ],
   "source": [
    "fig, ax = plt.subplots(figsize = (16, 9))\n",
    "Mean.plot.bar()\n",
    "plt.ylim([0, 600])\n",
    "plt.show()"
   ]
  },
  {
   "cell_type": "markdown",
   "metadata": {},
   "source": [
    "### b."
   ]
  },
  {
   "cell_type": "code",
   "execution_count": 139,
   "metadata": {},
   "outputs": [
    {
     "data": {
      "image/png": "[encoded data removed]",
      "text/plain": [
       "<Figure size 432x288 with 1 Axes>"
      ]
     },
     "metadata": {
      "needs_background": "light"
     },
     "output_type": "display_data"
    }
   ],
   "source": [
    "ax = laptop.boxplot(column='Retail Price', by='Store Postcode')\n",
    "ax.set_ylabel('Retail Price')\n",
    "plt.xticks(rotation = 80)\n",
    "plt.suptitle('')\n",
    "plt.title('')\n",
    "\n",
    "plt.show()"
   ]
  }
 ],
 "metadata": {
  "kernelspec": {
   "display_name": "Python 3",
   "language": "python",
   "name": "python3"
  },
  "language_info": {
   "codemirror_mode": {
    "name": "ipython",
    "version": 3
   },
   "file_extension": ".py",
   "mimetype": "text/x-python",
   "name": "python",
   "nbconvert_exporter": "python",
   "pygments_lexer": "ipython3",
   "version": "3.8.5"
  }
 },
 "nbformat": 4,
 "nbformat_minor": 4
}
